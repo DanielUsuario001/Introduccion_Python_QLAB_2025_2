{
 "cells": [
  {
   "cell_type": "markdown",
   "id": "824abff4-f414-42e1-bb16-02159dc4867a",
   "metadata": {
    "id": "824abff4-f414-42e1-bb16-02159dc4867a"
   },
   "source": [
    "# **TALLER INTRODUCTORIO A PYTHON**\n",
    "\n",
    "# Sesión 5 - \"Introducción a la estadística en Python\"\n",
    "El taller aborda los fundamentos del manejo de estadísticas con Python. El objetivo es proporcionar al estudiante los conocimientos fundamentales para realizar las principales tareas estadísticas en Python. Los códigos en Python serán escritos y ejecutados en Jupyter Notebook. Se proporcionarán a los estudiantes las bases de datos necesarias para poder ejecutar los códigos.\n",
    "\n",
    "En la primera sesión, cubriremos estadísticas descriptivas, proporcionando herramientas para calcular medidas de tendencia central, dispersión y estadísticas resumidas. Luego, profundizaremos en cálculos de probabilidad y técnicas de muestreo, incluyendo tanto con reemplazo como sin reemplazo. Además, introduciremos distribuciones de probabilidad discreta y continua utilizando `scipy.stats`.\n",
    "\n",
    "#### Fecha:\n",
    "13 de marzo\n",
    "#### Duración:\n",
    "10:00am -12:00pm\n",
    "#### Instructor:\n",
    "Fabricio Luna (luna.f@pucp.edu.pe)\n",
    "\n",
    "## **Tabla de Contenidos**\n",
    "- <a href='#t1'>11. Estadísticas Descriptivas en Python</a>\n",
    "     - <a href='#1.1.'>11.1 Medidas de tendencia central</a>\n",
    "        - <a href='#1.1.1'>Media</a>\n",
    "        - <a href='#1.1.2'>Media ponderada</a>\n",
    "        - <a href='#1.1.3'>Media armónica</a>\n",
    "        - <a href='#1.1.4'>Media geométrica</a>\n",
    "        - <a href='#1.1.5'>Mediana</a>\n",
    "        - <a href='#1.1.6'>Moda</a>\n",
    "     - <a href='#1.2.'>11.2 Medidas de dispersión</a>\n",
    "        - <a href='#1.2.1'>Varianza</a>\n",
    "        - <a href='#1.2.2'>Desviación estándar</a>\n",
    "        - <a href='#1.2.3'>Asimetría</a>\n",
    "        - <a href='#1.2.4'>Percentiles</a>\n",
    "     - <a href='#1.3.'>11.3 Resumen de estadísticas descriptivas</a>\n",
    "- <a href='#t2'>12. Probabilidades en Python</a>\n",
    "     - <a href='#2.1.'>12.1 Calcular probabilidades</a>\n",
    "     - <a href='#2.2.'>12.2 Muestreo</a>\n",
    "- <a href='#t3'>13. Distribuciones con scipy.stats</a>\n",
    "     - <a href='#3.1.'>13.1 Distribuciones de probabilidad discretas</a>\n",
    "         - <a href='#3.1.1'>Distribución empírica discreta</a>\n",
    "         - <a href='#3.1.2'>Distribución uniforme discreta</a>  \n",
    "     - <a href='#3.2.'>13.2 Distribuciones de probabilidad continuas</a>\n",
    "         - <a href='#3.2.1'>Distribución uniforme continua</a>\n",
    "         - <a href='#3.2.2'>Distribución binomial</a>\n",
    "         - <a href='#3.2.3'>Distribución normal</a>"
   ]
  },
  {
   "cell_type": "markdown",
   "id": "2e09d6da-1002-4619-a58f-234b12902f14",
   "metadata": {
    "id": "2e09d6da-1002-4619-a58f-234b12902f14"
   },
   "source": [
    "# <a id='t1'> 11. Estadísticas Descriptivas en Python</a>\n",
    "En este taller, nos embarcamos en un viaje al mundo de la estadística utilizando el versátil lenguaje de programación Python. La estadística desempeña un papel fundamental en la extracción de ideas significativas a partir de los datos, y Python proporciona una plataforma poderosa para realizar análisis estadísticos de manera eficiente. Prepárate para explorar los fundamentos del análisis estadístico, aprender bibliotecas esenciales de Python y adquirir las habilidades para tomar decisiones informadas basadas en datos. Para este curso, principalmente utilizaremos las bibliotecas numpy y pandas."
   ]
  },
  {
   "cell_type": "markdown",
   "id": "3695043f-88a5-45a3-977e-573082be3f9a",
   "metadata": {
    "id": "3695043f-88a5-45a3-977e-573082be3f9a"
   },
   "source": [
    "## <a id='1.1.'> 11.1 Medidas de tendencia central </a>\n",
    "En esta sección, nos adentramos en el concepto fundamental de las \"Medidas de Tendencia Central\". En el corazón del análisis estadístico, estas medidas proporcionan un resumen del valor central o promedio dentro de un conjunto de datos, ofreciendo información crucial sobre sus tendencias centrales. Exploraremos tres medidas principales: la **media**, que representa el promedio aritmético; la **mediana**, que identifica el valor central; y la **moda**, que representa el valor más frecuente. Primero utilizaremos **arrays de numpy** para aplicar estas funciones. Luego, utilizaremos una base de datos que contiene datos macroeconómicos de Perú."
   ]
  },
  {
   "cell_type": "code",
   "execution_count": 1,
   "id": "33cba7df-5c09-49e5-95c7-94ddc41340b5",
   "metadata": {
    "id": "33cba7df-5c09-49e5-95c7-94ddc41340b5",
    "tags": []
   },
   "outputs": [],
   "source": [
    ">>> import math\n",
    ">>> import statistics\n",
    ">>> import numpy as np\n",
    ">>> from scipy import stats\n",
    ">>> import scipy\n",
    ">>> import pandas as pd\n",
    ">>> import matplotlib.pyplot as plt"
   ]
  },
  {
   "cell_type": "code",
   "execution_count": 19,
   "id": "c9a3365e-ac10-4577-9ca7-589dcfd4e1ce",
   "metadata": {
    "id": "c9a3365e-ac10-4577-9ca7-589dcfd4e1ce",
    "tags": []
   },
   "outputs": [],
   "source": [
    "# We create an list and the same list with a nan value\n",
    ">>> x = [8.0, 1, 2.5, 4, 28.0]\n",
    ">>> x_nan = [8.0, 1, 2.5, math.nan, 4, 28.0]"
   ]
  },
  {
   "cell_type": "code",
   "execution_count": 21,
   "id": "5c517a1a-706f-4f0a-a556-574895841950",
   "metadata": {
    "id": "5c517a1a-706f-4f0a-a556-574895841950",
    "tags": []
   },
   "outputs": [],
   "source": [
    "# Alternatively\n",
    ">>> x_nan = [8.0, 1, 2.5, np.nan, 4, 28.0]"
   ]
  },
  {
   "cell_type": "code",
   "execution_count": 23,
   "id": "a97b91b2-32bc-495c-9c04-42cd404b30c9",
   "metadata": {
    "id": "a97b91b2-32bc-495c-9c04-42cd404b30c9",
    "tags": []
   },
   "outputs": [
    {
     "data": {
      "text/plain": [
       "0     8.0\n",
       "1     1.0\n",
       "2     2.5\n",
       "3     4.0\n",
       "4    28.0\n",
       "dtype: float64"
      ]
     },
     "execution_count": 23,
     "metadata": {},
     "output_type": "execute_result"
    }
   ],
   "source": [
    "# We create their array and series versions\n",
    ">>> y, y_nan = np.array(x), np.array(x_nan)\n",
    ">>> z, z_nan = pd.Series(x), pd.Series(x_nan)\n",
    "z"
   ]
  },
  {
   "cell_type": "markdown",
   "id": "5db497dd-8bd7-4992-833d-dac0f494bcdc",
   "metadata": {
    "id": "5db497dd-8bd7-4992-833d-dac0f494bcdc"
   },
   "source": [
    "### <a id='1.1.1'> Media </a>\n",
    "Podemos calcular la media dividiendo la suma entre la longitud. Esto no funciona si incluimos el valor NaN. Las funciones ```mean()``` y ```fmean()``` retornan el mismo valor de una manera más elegante. ```fmean()``` siempre devuelve un número flotante y es más rápido que ```mean()```."
   ]
  },
  {
   "cell_type": "code",
   "execution_count": 17,
   "id": "f1d56f7b-2a34-4c93-b104-03e403f1157d",
   "metadata": {
    "id": "f1d56f7b-2a34-4c93-b104-03e403f1157d",
    "outputId": "b7a19fbb-789c-49bf-f245-97bf0eeed98f",
    "tags": []
   },
   "outputs": [
    {
     "name": "stdout",
     "output_type": "stream",
     "text": [
      "8.7\n"
     ]
    }
   ],
   "source": [
    "# We can calculate the mean dividing the sum againts the length\n",
    "mean = sum(x) / len(x)\n",
    "print(mean)"
   ]
  },
  {
   "cell_type": "code",
   "execution_count": 19,
   "id": "a6d5cc8f-7241-4db5-9d2e-e67ad69550fc",
   "metadata": {
    "id": "a6d5cc8f-7241-4db5-9d2e-e67ad69550fc",
    "outputId": "899e6b74-5fdf-40e4-b77d-0f3fd416cf98",
    "tags": []
   },
   "outputs": [
    {
     "name": "stdout",
     "output_type": "stream",
     "text": [
      "nan\n"
     ]
    }
   ],
   "source": [
    "# This does not work if we include the nan value\n",
    "mean = sum(x_nan) / len(x_nan)\n",
    "print(mean)"
   ]
  },
  {
   "cell_type": "code",
   "execution_count": 21,
   "id": "31a0f97e-1a0c-4cc5-9f1d-a0ca758c8196",
   "metadata": {
    "id": "31a0f97e-1a0c-4cc5-9f1d-a0ca758c8196",
    "outputId": "b67baf93-11d0-447b-f86c-8a9d4c5cfee7",
    "tags": []
   },
   "outputs": [
    {
     "name": "stdout",
     "output_type": "stream",
     "text": [
      "8.7\n",
      "8.7\n"
     ]
    }
   ],
   "source": [
    "# We can apply Python built-in functions of the statistics package\n",
    "mean = statistics.mean(x)\n",
    "print(mean)\n",
    "mean = statistics.fmean(x)\n",
    "print(mean)"
   ]
  },
  {
   "cell_type": "code",
   "execution_count": 23,
   "id": "ed9213c6-c8bc-40d7-b9bc-77ebc24ea1ff",
   "metadata": {
    "id": "ed9213c6-c8bc-40d7-b9bc-77ebc24ea1ff",
    "outputId": "fecf8551-628d-4ba6-876e-f1781bae4a76",
    "tags": []
   },
   "outputs": [
    {
     "name": "stdout",
     "output_type": "stream",
     "text": [
      "nan\n",
      "nan\n"
     ]
    }
   ],
   "source": [
    "# But they do not work wit nan values\n",
    "mean = statistics.mean(x_nan)\n",
    "print(mean)\n",
    "mean = statistics.fmean(x_nan)\n",
    "print(mean)"
   ]
  },
  {
   "cell_type": "markdown",
   "id": "1301135e-63bd-478d-9df9-140bb2d5bfdd",
   "metadata": {
    "id": "1301135e-63bd-478d-9df9-140bb2d5bfdd"
   },
   "source": [
    "Numpy también nos ofrece las funciones ```np.mean()``` y ```np.nanmean()```, así como el método ```.mean()```.\n"
   ]
  },
  {
   "cell_type": "code",
   "execution_count": 25,
   "id": "12e9f90d-ab9f-44f3-aeeb-d321cc52f329",
   "metadata": {
    "id": "12e9f90d-ab9f-44f3-aeeb-d321cc52f329",
    "outputId": "58bc4283-6a04-450c-c38c-ec436ea845d4",
    "tags": []
   },
   "outputs": [
    {
     "name": "stdout",
     "output_type": "stream",
     "text": [
      "8.7\n",
      "nan\n"
     ]
    }
   ],
   "source": [
    "# We can also use the numpy function on lists\n",
    "mean = np.mean(x)\n",
    "print(mean)\n",
    "mean = np.mean(x_nan)\n",
    "print(mean)"
   ]
  },
  {
   "cell_type": "code",
   "execution_count": 27,
   "id": "e23dd3f8-266a-4d4b-a729-96cae83cefee",
   "metadata": {
    "id": "e23dd3f8-266a-4d4b-a729-96cae83cefee",
    "outputId": "0fc6d858-a591-4c60-9bf8-407624a5e7d8",
    "tags": []
   },
   "outputs": [
    {
     "name": "stdout",
     "output_type": "stream",
     "text": [
      "8.7\n",
      "nan\n"
     ]
    }
   ],
   "source": [
    "# We can also use numpy method on arrays\n",
    "mean = y.mean()\n",
    "print(mean)\n",
    "mean = y_nan.mean()\n",
    "print(mean)"
   ]
  },
  {
   "cell_type": "code",
   "execution_count": 33,
   "id": "0d65da40-ec03-4c8a-97b9-6849474750b8",
   "metadata": {
    "id": "0d65da40-ec03-4c8a-97b9-6849474750b8",
    "outputId": "3162a8ed-63e4-4a37-bb73-5c836907137d",
    "tags": []
   },
   "outputs": [
    {
     "name": "stdout",
     "output_type": "stream",
     "text": [
      "8.7\n",
      "8.7\n"
     ]
    }
   ],
   "source": [
    "# We can also use numpy method on series. The pandas method authomatically ignores nan values\n",
    "mean = z.mean()\n",
    "print(mean)\n",
    "mean = z_nan.mean()\n",
    "print(mean)"
   ]
  },
  {
   "cell_type": "code",
   "execution_count": 35,
   "id": "dfdbf0cc-a702-4b11-aaf0-46fa4967e0a3",
   "metadata": {
    "id": "dfdbf0cc-a702-4b11-aaf0-46fa4967e0a3",
    "outputId": "0bbfa5c0-e760-4a59-8139-93c1e88d7d3f",
    "tags": []
   },
   "outputs": [
    {
     "name": "stdout",
     "output_type": "stream",
     "text": [
      "8.7\n",
      "8.7\n"
     ]
    }
   ],
   "source": [
    "# We can do the same for lists and arrays for nanmean()\n",
    "print(np.nanmean(y_nan))\n",
    "print(np.nanmean(x_nan))"
   ]
  },
  {
   "cell_type": "markdown",
   "id": "bf690e96-d965-4fa1-983c-7105c0d35aa1",
   "metadata": {
    "id": "bf690e96-d965-4fa1-983c-7105c0d35aa1"
   },
   "source": [
    "### <a id='1.1.2'> Media ponderada </a>\n",
    "La media ponderada, o promedio ponderado, es una extensión de la media regular en estadística. Nos permite asignar diferentes pesos a los puntos de datos individuales, indicando su impacto variable en el resultado general. Puedes calcular la media ponderada con funciones integradas de Python combinando ```sum()``` con ```range()``` o ```zip()```."
   ]
  },
  {
   "cell_type": "code",
   "execution_count": 37,
   "id": "735eb057-6f82-48ac-8c3d-6903522bea71",
   "metadata": {
    "id": "735eb057-6f82-48ac-8c3d-6903522bea71",
    "outputId": "e2dbe659-5e5b-4f7d-f6f3-57d15ad5ceaa",
    "tags": []
   },
   "outputs": [
    {
     "name": "stdout",
     "output_type": "stream",
     "text": [
      "6.95\n"
     ]
    }
   ],
   "source": [
    "# We define the values and their weights\n",
    ">>> x = [8.0, 1, 2.5, 4, 28.0]\n",
    ">>> w = [0.1, 0.2, 0.3, 0.25, 0.15]\n",
    "# We calculate the weighted mean\n",
    "wmean = sum(w[i] * x[i] for i in range(len(x))) / sum(w)\n",
    "print(wmean)"
   ]
  },
  {
   "cell_type": "code",
   "execution_count": 39,
   "id": "2523c576-3e7c-48eb-b85c-a3d0f05a25e6",
   "metadata": {
    "id": "2523c576-3e7c-48eb-b85c-a3d0f05a25e6",
    "outputId": "6b01113e-fa7a-4676-f5c6-31d97eb7c1cc",
    "tags": []
   },
   "outputs": [
    {
     "name": "stdout",
     "output_type": "stream",
     "text": [
      "6.95\n"
     ]
    }
   ],
   "source": [
    "# Alternatively\n",
    "wmean = sum(x_ * w_ for (x_, w_) in zip(x, w)) / sum(w)\n",
    "print(wmean)"
   ]
  },
  {
   "cell_type": "markdown",
   "id": "9f24e2b5-1f39-4e88-9f1b-c32b648778a7",
   "metadata": {
    "id": "9f24e2b5-1f39-4e88-9f1b-c32b648778a7"
   },
   "source": [
    "También puedes usar ```np.average()``` para obtener la media ponderada de arrays de NumPy o Series de pandas."
   ]
  },
  {
   "cell_type": "code",
   "execution_count": 41,
   "id": "3da407ed-42cd-4f04-a758-70d7cc866b41",
   "metadata": {
    "id": "3da407ed-42cd-4f04-a758-70d7cc866b41",
    "outputId": "ce008093-1799-4835-e5f4-b9d7e0c72ef5",
    "tags": []
   },
   "outputs": [
    {
     "name": "stdout",
     "output_type": "stream",
     "text": [
      "6.95\n"
     ]
    }
   ],
   "source": [
    "# We calculate the weighted mean of an array\n",
    "wmean = np.average(y, weights=w)\n",
    "print(wmean)"
   ]
  },
  {
   "cell_type": "code",
   "execution_count": null,
   "id": "015b8065-bd16-4b39-8530-8c53d5428728",
   "metadata": {
    "id": "015b8065-bd16-4b39-8530-8c53d5428728",
    "outputId": "cbe17159-76f5-44f8-8dc3-5a2dc4f3ff55",
    "tags": []
   },
   "outputs": [
    {
     "name": "stdout",
     "output_type": "stream",
     "text": [
      "6.95\n"
     ]
    }
   ],
   "source": [
    "# We calculate the weighted mean of a pandas series\n",
    "wmean = np.average(z, weights=w)\n",
    "print(wmean)"
   ]
  },
  {
   "cell_type": "markdown",
   "id": "aee2ce6c-5552-4ab2-9ede-d423118e4907",
   "metadata": {
    "id": "aee2ce6c-5552-4ab2-9ede-d423118e4907"
   },
   "source": [
    "Un enfoque alternativo implica utilizar el producto elemento a elemento de w * y y luego aplicar ```np.sum()``` o ```.sum()``` de esta forma ```(w * y).sum() / w.sum().```"
   ]
  },
  {
   "cell_type": "code",
   "execution_count": 43,
   "id": "2d58eb60-b36a-4956-a7f8-a49010d5354e",
   "metadata": {
    "id": "2d58eb60-b36a-4956-a7f8-a49010d5354e",
    "outputId": "ed283b83-3655-40ab-cce8-afbdb7abeb10",
    "tags": []
   },
   "outputs": [
    {
     "data": {
      "text/plain": [
       "6.95"
      ]
     },
     "execution_count": 43,
     "metadata": {},
     "output_type": "execute_result"
    }
   ],
   "source": [
    "w = np.array(w)\n",
    "(w * y).sum() / w.sum()"
   ]
  },
  {
   "cell_type": "markdown",
   "id": "c9492251-5838-4e17-ba74-3210685683ff",
   "metadata": {
    "id": "c9492251-5838-4e17-ba74-3210685683ff"
   },
   "source": [
    "Esto no funciona cuando los datos contienen valores NaN.\n"
   ]
  },
  {
   "cell_type": "code",
   "execution_count": 45,
   "id": "0255c9aa-17bd-4422-a819-d3551b35d328",
   "metadata": {
    "id": "0255c9aa-17bd-4422-a819-d3551b35d328",
    "outputId": "6d2e26a8-71aa-4b13-df29-d8ce52e1df14",
    "tags": []
   },
   "outputs": [
    {
     "name": "stdout",
     "output_type": "stream",
     "text": [
      "nan\n",
      "nan\n"
     ]
    }
   ],
   "source": [
    "w = np.array([0.1, 0.2, 0.3, 0.0, 0.2, 0.1])\n",
    "wmean = np.average(y_nan, weights=w)\n",
    "print(wmean)\n",
    "wmean = np.average(z_nan, weights=w)\n",
    "print(wmean)"
   ]
  },
  {
   "cell_type": "markdown",
   "id": "d94ba9be-7082-4e2a-9ca2-1e4e8f144af5",
   "metadata": {
    "id": "d94ba9be-7082-4e2a-9ca2-1e4e8f144af5"
   },
   "source": [
    "### <a id='1.1.3'> Media Armónica </a>\n",
    "La media armónica, a diferencia de la media ponderada, resalta la importancia de los valores más pequeños en un conjunto de datos. La media armónica tiene en cuenta los valores recíprocos, lo que la hace especialmente útil en escenarios donde las tasas o relaciones juegan un papel crucial. Su fórmula se expresa como\n",
    "$$\n",
    "\\frac{n}{\\sum_i \\left(\\frac{1}{x_i}\\right)}, \\text{donde } i = 1, 2, ..., n\n",
    "$$\n",
    "\n",
    "En Python, puedes calcular fácilmente la media armónica utilizando funciones como ```scipy.stats.hmean()``` o ```statistics.harmonic_mean(x)```."
   ]
  },
  {
   "cell_type": "code",
   "execution_count": 47,
   "id": "733699d8-68f7-4afd-8ba6-b9b982897746",
   "metadata": {
    "id": "733699d8-68f7-4afd-8ba6-b9b982897746",
    "outputId": "f15bdb80-f0ca-4806-da8c-15053e4e1878",
    "tags": []
   },
   "outputs": [
    {
     "name": "stdout",
     "output_type": "stream",
     "text": [
      "2.7613412228796843\n"
     ]
    }
   ],
   "source": [
    "x = [8.0, 1, 2.5, 4, 28.0]\n",
    "hmean = len(x) / sum(1 / item for item in x)\n",
    "print(hmean)"
   ]
  },
  {
   "cell_type": "code",
   "execution_count": 49,
   "id": "3dfff181-0737-404a-b822-f41755971c7b",
   "metadata": {
    "id": "3dfff181-0737-404a-b822-f41755971c7b",
    "outputId": "0712ce0f-3add-4fef-ca11-59dc04679379",
    "tags": []
   },
   "outputs": [
    {
     "name": "stdout",
     "output_type": "stream",
     "text": [
      "2.7613412228796843\n"
     ]
    }
   ],
   "source": [
    "# We can use scipy\n",
    "hmean = stats.hmean(x)\n",
    "print(hmean)"
   ]
  },
  {
   "cell_type": "code",
   "execution_count": 51,
   "id": "cc9c68d3-3218-4e2b-acad-5139d23460a8",
   "metadata": {
    "id": "cc9c68d3-3218-4e2b-acad-5139d23460a8",
    "outputId": "67c26d60-b9d1-4de3-b147-a3c69607da74",
    "tags": []
   },
   "outputs": [
    {
     "name": "stdout",
     "output_type": "stream",
     "text": [
      "2.7613412228796843\n"
     ]
    }
   ],
   "source": [
    "# Or we can use the built-in statistics package\n",
    "hmean = statistics.harmonic_mean(x)\n",
    "print(hmean)"
   ]
  },
  {
   "cell_type": "code",
   "execution_count": 53,
   "id": "934eb5d1-26ce-4601-9fa1-379c40666ae6",
   "metadata": {
    "id": "934eb5d1-26ce-4601-9fa1-379c40666ae6",
    "outputId": "bdbbe662-343c-4587-f78c-08420f60c047",
    "tags": []
   },
   "outputs": [
    {
     "data": {
      "text/plain": [
       "nan"
      ]
     },
     "execution_count": 53,
     "metadata": {},
     "output_type": "execute_result"
    }
   ],
   "source": [
    "# If there is a nan value it returns nan\n",
    "statistics.harmonic_mean(x_nan)"
   ]
  },
  {
   "cell_type": "code",
   "execution_count": 55,
   "id": "151bd96a-a52a-4e04-a705-a6c22ef171f8",
   "metadata": {
    "id": "151bd96a-a52a-4e04-a705-a6c22ef171f8",
    "outputId": "456fad8a-2c5a-4706-c65f-6b3e865797ac",
    "tags": []
   },
   "outputs": [
    {
     "data": {
      "text/plain": [
       "0"
      ]
     },
     "execution_count": 55,
     "metadata": {},
     "output_type": "execute_result"
    }
   ],
   "source": [
    "# If there is a 0 it returns 0\n",
    "statistics.harmonic_mean([1, 0, 2])"
   ]
  },
  {
   "cell_type": "code",
   "execution_count": 57,
   "id": "7c24db2e-3949-4062-9171-70390e6cc084",
   "metadata": {
    "id": "7c24db2e-3949-4062-9171-70390e6cc084",
    "tags": []
   },
   "outputs": [
    {
     "ename": "StatisticsError",
     "evalue": "harmonic mean does not support negative values",
     "output_type": "error",
     "traceback": [
      "\u001b[1;31m---------------------------------------------------------------------------\u001b[0m",
      "\u001b[1;31mStatisticsError\u001b[0m                           Traceback (most recent call last)",
      "Cell \u001b[1;32mIn[57], line 2\u001b[0m\n\u001b[0;32m      1\u001b[0m \u001b[38;5;66;03m# If there a negative number, it returns an error\u001b[39;00m\n\u001b[1;32m----> 2\u001b[0m statistics\u001b[38;5;241m.\u001b[39mharmonic_mean([\u001b[38;5;241m1\u001b[39m, \u001b[38;5;241m2\u001b[39m, \u001b[38;5;241m-\u001b[39m\u001b[38;5;241m2\u001b[39m])\n",
      "File \u001b[1;32m~\\anaconda3\\Lib\\statistics.py:541\u001b[0m, in \u001b[0;36mharmonic_mean\u001b[1;34m(data, weights)\u001b[0m\n\u001b[0;32m    539\u001b[0m \u001b[38;5;28;01mtry\u001b[39;00m:\n\u001b[0;32m    540\u001b[0m     data \u001b[38;5;241m=\u001b[39m _fail_neg(data, errmsg)\n\u001b[1;32m--> 541\u001b[0m     T, total, count \u001b[38;5;241m=\u001b[39m _sum(w \u001b[38;5;241m/\u001b[39m x \u001b[38;5;28;01mif\u001b[39;00m w \u001b[38;5;28;01melse\u001b[39;00m \u001b[38;5;241m0\u001b[39m \u001b[38;5;28;01mfor\u001b[39;00m w, x \u001b[38;5;129;01min\u001b[39;00m \u001b[38;5;28mzip\u001b[39m(weights, data))\n\u001b[0;32m    542\u001b[0m \u001b[38;5;28;01mexcept\u001b[39;00m \u001b[38;5;167;01mZeroDivisionError\u001b[39;00m:\n\u001b[0;32m    543\u001b[0m     \u001b[38;5;28;01mreturn\u001b[39;00m \u001b[38;5;241m0\u001b[39m\n",
      "File \u001b[1;32m~\\anaconda3\\Lib\\statistics.py:193\u001b[0m, in \u001b[0;36m_sum\u001b[1;34m(data)\u001b[0m\n\u001b[0;32m    191\u001b[0m \u001b[38;5;28;01mfor\u001b[39;00m typ, values \u001b[38;5;129;01min\u001b[39;00m groupby(data, \u001b[38;5;28mtype\u001b[39m):\n\u001b[0;32m    192\u001b[0m     types_add(typ)\n\u001b[1;32m--> 193\u001b[0m     \u001b[38;5;28;01mfor\u001b[39;00m n, d \u001b[38;5;129;01min\u001b[39;00m \u001b[38;5;28mmap\u001b[39m(_exact_ratio, values):\n\u001b[0;32m    194\u001b[0m         count \u001b[38;5;241m+\u001b[39m\u001b[38;5;241m=\u001b[39m \u001b[38;5;241m1\u001b[39m\n\u001b[0;32m    195\u001b[0m         partials[d] \u001b[38;5;241m=\u001b[39m partials_get(d, \u001b[38;5;241m0\u001b[39m) \u001b[38;5;241m+\u001b[39m n\n",
      "File \u001b[1;32m~\\anaconda3\\Lib\\statistics.py:541\u001b[0m, in \u001b[0;36m<genexpr>\u001b[1;34m(.0)\u001b[0m\n\u001b[0;32m    539\u001b[0m \u001b[38;5;28;01mtry\u001b[39;00m:\n\u001b[0;32m    540\u001b[0m     data \u001b[38;5;241m=\u001b[39m _fail_neg(data, errmsg)\n\u001b[1;32m--> 541\u001b[0m     T, total, count \u001b[38;5;241m=\u001b[39m _sum(w \u001b[38;5;241m/\u001b[39m x \u001b[38;5;28;01mif\u001b[39;00m w \u001b[38;5;28;01melse\u001b[39;00m \u001b[38;5;241m0\u001b[39m \u001b[38;5;28;01mfor\u001b[39;00m w, x \u001b[38;5;129;01min\u001b[39;00m \u001b[38;5;28mzip\u001b[39m(weights, data))\n\u001b[0;32m    542\u001b[0m \u001b[38;5;28;01mexcept\u001b[39;00m \u001b[38;5;167;01mZeroDivisionError\u001b[39;00m:\n\u001b[0;32m    543\u001b[0m     \u001b[38;5;28;01mreturn\u001b[39;00m \u001b[38;5;241m0\u001b[39m\n",
      "File \u001b[1;32m~\\anaconda3\\Lib\\statistics.py:355\u001b[0m, in \u001b[0;36m_fail_neg\u001b[1;34m(values, errmsg)\u001b[0m\n\u001b[0;32m    353\u001b[0m \u001b[38;5;28;01mfor\u001b[39;00m x \u001b[38;5;129;01min\u001b[39;00m values:\n\u001b[0;32m    354\u001b[0m     \u001b[38;5;28;01mif\u001b[39;00m x \u001b[38;5;241m<\u001b[39m \u001b[38;5;241m0\u001b[39m:\n\u001b[1;32m--> 355\u001b[0m         \u001b[38;5;28;01mraise\u001b[39;00m StatisticsError(errmsg)\n\u001b[0;32m    356\u001b[0m     \u001b[38;5;28;01myield\u001b[39;00m x\n",
      "\u001b[1;31mStatisticsError\u001b[0m: harmonic mean does not support negative values"
     ]
    }
   ],
   "source": [
    "# If there a negative number, it returns an error\n",
    "#statistics.harmonic_mean([1, 2, -2])"
   ]
  },
  {
   "cell_type": "code",
   "execution_count": 59,
   "id": "7a6a294f-7a7e-491e-9b4e-d0d6cd277a68",
   "metadata": {
    "id": "7a6a294f-7a7e-491e-9b4e-d0d6cd277a68",
    "outputId": "b89778ba-4399-448c-da85-91c1337013ba",
    "tags": []
   },
   "outputs": [
    {
     "name": "stdout",
     "output_type": "stream",
     "text": [
      "2.7613412228796843\n",
      "2.7613412228796843\n"
     ]
    }
   ],
   "source": [
    "# We can apply it to arrays and pandas series\n",
    "print(stats.hmean(y))\n",
    "print(stats.hmean(z))"
   ]
  },
  {
   "cell_type": "markdown",
   "id": "421e3b6b-64d5-4d67-94d3-1d72336e10fc",
   "metadata": {
    "id": "421e3b6b-64d5-4d67-94d3-1d72336e10fc"
   },
   "source": [
    "### <a id='1.1.4'> Media Geométrica </a>\n",
    "La media geométrica se expresa matemáticamente como la raíz n-ésima del producto de todos los n elementos \\( x_i \\) en un conjunto de datos \\( x \\):\n",
    "\n",
    "$$ \\sqrt[n]{\\prod_{i=1}^{n} x_i}, \\text{donde } (i = 1, 2, \\ldots, n) $$"
   ]
  },
  {
   "cell_type": "markdown",
   "id": "bc132612-92c1-4a5e-90c6-b4aafe056bda",
   "metadata": {
    "id": "bc132612-92c1-4a5e-90c6-b4aafe056bda"
   },
   "source": [
    "Puedes incorporar la media geométrica usando Python puro de la siguiente manera"
   ]
  },
  {
   "cell_type": "code",
   "execution_count": 61,
   "id": "97f2b7d4-acfa-40c5-84f4-2b8f531413d2",
   "metadata": {
    "id": "97f2b7d4-acfa-40c5-84f4-2b8f531413d2",
    "outputId": "69390a9b-0d1a-46e3-9028-429bf45ef110",
    "tags": []
   },
   "outputs": [
    {
     "name": "stdout",
     "output_type": "stream",
     "text": [
      "4.677885674856041\n"
     ]
    }
   ],
   "source": [
    "gmean = 1\n",
    "for item in x:\n",
    "     gmean *= item\n",
    "\n",
    "gmean **= 1 / len(x)\n",
    "print(gmean)"
   ]
  },
  {
   "cell_type": "markdown",
   "id": "2af5294e-b42c-472d-923f-6f2a8af6c841",
   "metadata": {
    "id": "2af5294e-b42c-472d-923f-6f2a8af6c841",
    "tags": []
   },
   "source": [
    "Además, podemos usar ```statistics.geometric_mean()```"
   ]
  },
  {
   "cell_type": "code",
   "execution_count": 63,
   "id": "9a8f7b2c-f2b6-434a-979f-1984e443a61e",
   "metadata": {
    "id": "9a8f7b2c-f2b6-434a-979f-1984e443a61e",
    "outputId": "59c9614f-be64-4f03-9c1d-1486752c7d3d",
    "tags": []
   },
   "outputs": [
    {
     "data": {
      "text/plain": [
       "4.67788567485604"
      ]
     },
     "execution_count": 63,
     "metadata": {},
     "output_type": "execute_result"
    }
   ],
   "source": [
    "# We can also use the statistics built-in function\n",
    "gmean = statistics.geometric_mean(x)\n",
    "gmean"
   ]
  },
  {
   "cell_type": "code",
   "execution_count": 65,
   "id": "08063753-7737-4240-8ca3-17f70af5b3c7",
   "metadata": {
    "id": "08063753-7737-4240-8ca3-17f70af5b3c7",
    "outputId": "328f1bb6-e597-43e3-c2cb-69e13fe124cc",
    "tags": []
   },
   "outputs": [
    {
     "data": {
      "text/plain": [
       "nan"
      ]
     },
     "execution_count": 65,
     "metadata": {},
     "output_type": "execute_result"
    }
   ],
   "source": [
    "# Doesn't work with nan values\n",
    "gmean = statistics.geometric_mean(x_nan)\n",
    "gmean"
   ]
  },
  {
   "cell_type": "markdown",
   "id": "b563a5b7-d4ea-44b5-93f0-29725fade2c8",
   "metadata": {
    "id": "b563a5b7-d4ea-44b5-93f0-29725fade2c8"
   },
   "source": [
    "También puedes obtener la media geométrica usando ```scipy.stats.gmean()``` en arrays y series de pandas."
   ]
  },
  {
   "cell_type": "code",
   "execution_count": 67,
   "id": "78f616ad-f290-49fb-aa10-50aec6c9f7c1",
   "metadata": {
    "id": "78f616ad-f290-49fb-aa10-50aec6c9f7c1",
    "outputId": "8c3077f5-3b02-41ab-a73c-1c98e707563b"
   },
   "outputs": [
    {
     "name": "stdout",
     "output_type": "stream",
     "text": [
      "4.67788567485604\n",
      "nan\n"
     ]
    }
   ],
   "source": [
    "print(stats.gmean(y))\n",
    "\n",
    "print(stats.gmean(y_nan))"
   ]
  },
  {
   "cell_type": "code",
   "execution_count": 69,
   "id": "f8bdd852-d018-456a-946e-9347a9d107fc",
   "metadata": {
    "id": "f8bdd852-d018-456a-946e-9347a9d107fc",
    "outputId": "2d4eff51-615e-4f02-f645-6671f1a21c1b",
    "tags": []
   },
   "outputs": [
    {
     "name": "stdout",
     "output_type": "stream",
     "text": [
      "4.67788567485604\n",
      "nan\n"
     ]
    }
   ],
   "source": [
    "print(stats.gmean(z))\n",
    "\n",
    "print(stats.gmean(z_nan))"
   ]
  },
  {
   "cell_type": "markdown",
   "id": "31f8d07b-0f0b-4014-8358-4db84811cba0",
   "metadata": {
    "id": "31f8d07b-0f0b-4014-8358-4db84811cba0"
   },
   "source": [
    "### <a id='1.1.5'> Mediana </a>\n",
    "La mediana de una muestra corresponde al elemento central del conjunto de datos ordenado, sin importar si la ordenación se realiza en orden ascendente o descendente. Para un número impar de elementos $((n))$, la mediana es el valor en la posición central, específicamente en $0.5((n + 1))$. En el caso de un número par de elementos, la mediana se determina tomando el promedio de los dos valores centrales ubicados en las posiciones $0.5(n)$ y $0.5(n + 1)$."
   ]
  },
  {
   "cell_type": "code",
   "execution_count": 71,
   "id": "a0fa063c-24e0-4c2b-8126-242e78e12024",
   "metadata": {
    "id": "a0fa063c-24e0-4c2b-8126-242e78e12024",
    "tags": []
   },
   "outputs": [],
   "source": [
    "x = [8.0, 1, 2.5, 4, 28.0]\n",
    "x_nan = [8.0, 1, 2.5, math.nan, 4, 28.0]\n",
    "y, y_nan = np.array(x), np.array(x_nan)\n",
    "z, z_nan = pd.Series(x), pd.Series(x_nan)"
   ]
  },
  {
   "cell_type": "markdown",
   "id": "d4384a59-8121-4ca0-bd98-d827d43587f2",
   "metadata": {
    "id": "d4384a59-8121-4ca0-bd98-d827d43587f2"
   },
   "source": [
    "Esta función ```calculate_median()``` toma un conjunto de datos como entrada, lo ordena y calcula la mediana, considerando conjuntos de datos de longitud impar y par."
   ]
  },
  {
   "cell_type": "code",
   "execution_count": 73,
   "id": "7823f8c9-5e04-4d9a-93b3-aefb501f600e",
   "metadata": {
    "id": "7823f8c9-5e04-4d9a-93b3-aefb501f600e",
    "outputId": "d5ceed40-ceb5-4df3-cb3e-9e19de821154",
    "tags": []
   },
   "outputs": [
    {
     "name": "stdout",
     "output_type": "stream",
     "text": [
      "Median: 4\n"
     ]
    }
   ],
   "source": [
    "def calculate_median(data):\n",
    "    n = len(data)\n",
    "    sorted_data = sorted(data)\n",
    "\n",
    "    if n % 2:\n",
    "        median_value = sorted_data[round(0.5 * (n - 1))]\n",
    "    else:\n",
    "        index = round(0.5 * n)\n",
    "        median_value = 0.5 * (sorted_data[index - 1] + sorted_data[index])\n",
    "\n",
    "    return median_value\n",
    "\n",
    "median_ = calculate_median(x)\n",
    "print(\"Median:\", median_)"
   ]
  },
  {
   "cell_type": "markdown",
   "id": "35e82863-c839-4092-8f77-d2aedb1f9b0d",
   "metadata": {
    "id": "35e82863-c839-4092-8f77-d2aedb1f9b0d"
   },
   "source": [
    "También podemos usar la función ```statistics.median()```. La forma ordenada de x, [1, 2.5, 4, 8.0, 28.0], coloca a 4 en la posición central. Al eliminar el último elemento (28.0) de x, la versión ordenada se convierte en [1, 2.5, 4, 8.0]. En este caso, con dos elementos centrales, 2.5 y 4, su promedio es 3.25."
   ]
  },
  {
   "cell_type": "code",
   "execution_count": 75,
   "id": "110a6cab-f016-4d04-92e6-f80c0333ad54",
   "metadata": {
    "id": "110a6cab-f016-4d04-92e6-f80c0333ad54",
    "outputId": "2f8cca2d-f493-4c33-fef4-053bdd04b3f8",
    "tags": []
   },
   "outputs": [
    {
     "data": {
      "text/plain": [
       "4"
      ]
     },
     "execution_count": 75,
     "metadata": {},
     "output_type": "execute_result"
    }
   ],
   "source": [
    "median_ = statistics.median(x)\n",
    "median_"
   ]
  },
  {
   "cell_type": "code",
   "execution_count": null,
   "id": "efade28f-f035-4109-a067-42e62f91575c",
   "metadata": {
    "id": "efade28f-f035-4109-a067-42e62f91575c",
    "outputId": "15fff381-003a-4260-a684-e78611348da3",
    "tags": []
   },
   "outputs": [
    {
     "data": {
      "text/plain": [
       "3.25"
      ]
     },
     "execution_count": 34,
     "metadata": {},
     "output_type": "execute_result"
    }
   ],
   "source": [
    "median_ = statistics.median(x[:-1])\n",
    "median_"
   ]
  },
  {
   "cell_type": "markdown",
   "id": "39b788b4-bfd0-4a3d-853f-d4d0e7d89c25",
   "metadata": {
    "id": "39b788b4-bfd0-4a3d-853f-d4d0e7d89c25"
   },
   "source": [
    "Además, podemos usar ```statistics.median_low()``` y ```statistics.median_high()```. Cuando el número de elementos es impar, estas funciones operan de manera similar a ```median()```, ya que hay un valor central único. Sin embargo, si el conteo es par, ```median_low()``` devuelve el valor central más bajo, mientras que ```median_high()``` proporciona el valor central más alto."
   ]
  },
  {
   "cell_type": "code",
   "execution_count": null,
   "id": "72565711-e5ab-4d59-b725-8a7b82ef7e4c",
   "metadata": {
    "id": "72565711-e5ab-4d59-b725-8a7b82ef7e4c",
    "outputId": "b4585b1c-5fd1-4e97-b542-68f84831c407",
    "tags": []
   },
   "outputs": [
    {
     "data": {
      "text/plain": [
       "2.5"
      ]
     },
     "execution_count": 35,
     "metadata": {},
     "output_type": "execute_result"
    }
   ],
   "source": [
    "# median_low will return 2.5\n",
    "median_ = statistics.median_low(x[:-1])\n",
    "median_"
   ]
  },
  {
   "cell_type": "code",
   "execution_count": null,
   "id": "ea5fcb7a-cb32-4e87-9a55-7557a0caaf45",
   "metadata": {
    "id": "ea5fcb7a-cb32-4e87-9a55-7557a0caaf45",
    "outputId": "d691d735-2dad-4109-9b61-ab4fe2225437",
    "tags": []
   },
   "outputs": [
    {
     "data": {
      "text/plain": [
       "4"
      ]
     },
     "execution_count": 36,
     "metadata": {},
     "output_type": "execute_result"
    }
   ],
   "source": [
    "# median_high will return 4\n",
    "median_ = statistics.median_high(x[:-1])\n",
    "median_"
   ]
  },
  {
   "cell_type": "markdown",
   "id": "954eb729-df96-4048-94dd-081abb7eec33",
   "metadata": {
    "id": "954eb729-df96-4048-94dd-081abb7eec33"
   },
   "source": [
    "Estas funciones funcionan bien con NaN, a diferencia de la mayoría de otras funciones."
   ]
  },
  {
   "cell_type": "code",
   "execution_count": null,
   "id": "e03afc75-300c-4510-a348-202ed38e3d76",
   "metadata": {
    "id": "e03afc75-300c-4510-a348-202ed38e3d76",
    "outputId": "2784965a-21f2-4c0e-f58a-1cbaca178c3f",
    "tags": []
   },
   "outputs": [
    {
     "name": "stdout",
     "output_type": "stream",
     "text": [
      "6.0\n",
      "4\n",
      "8.0\n"
     ]
    }
   ],
   "source": [
    "print(statistics.median(x_nan))\n",
    "print(statistics.median_low(x_nan))\n",
    "print(statistics.median_high(x_nan))"
   ]
  },
  {
   "cell_type": "markdown",
   "id": "5ec47b08-5810-48a4-90c8-801286fd52b9",
   "metadata": {
    "id": "5ec47b08-5810-48a4-90c8-801286fd52b9"
   },
   "source": [
    "Podemos usar Numpy de manera similar con ```np.median()```, obteniendo los mismos resultados para listas, arrays y Series."
   ]
  },
  {
   "cell_type": "code",
   "execution_count": null,
   "id": "1472607a-9731-46ba-b149-d55282da0816",
   "metadata": {
    "id": "1472607a-9731-46ba-b149-d55282da0816",
    "outputId": "75d03be3-7ecf-46cd-e41c-c53680f6428c",
    "tags": []
   },
   "outputs": [
    {
     "name": "stdout",
     "output_type": "stream",
     "text": [
      "4.0\n",
      "3.25\n"
     ]
    }
   ],
   "source": [
    "median_ = np.median(y)\n",
    "print(median_)\n",
    "\n",
    "median_ = np.median(z[:-1])\n",
    "print(median_)"
   ]
  },
  {
   "cell_type": "markdown",
   "id": "a0dcc15a-f970-4ca6-a604-127b6f9ddb04",
   "metadata": {
    "id": "a0dcc15a-f970-4ca6-a604-127b6f9ddb04",
    "tags": []
   },
   "source": [
    "En caso de que queramos incluir valores NaN, entonces utilizamos ```np.nanmedian()```.\n"
   ]
  },
  {
   "cell_type": "code",
   "execution_count": null,
   "id": "5b299fda-cc71-4064-9caa-2a7fd23e3da5",
   "metadata": {
    "id": "5b299fda-cc71-4064-9caa-2a7fd23e3da5",
    "outputId": "77f1e698-13e6-4fd7-d75d-e4b0dddfbb25",
    "tags": []
   },
   "outputs": [
    {
     "name": "stdout",
     "output_type": "stream",
     "text": [
      "4.0\n",
      "3.25\n"
     ]
    }
   ],
   "source": [
    "median_ = np.nanmedian(y_nan)\n",
    "print(median_)\n",
    "\n",
    "median_ = np.nanmedian(z_nan[:-1])\n",
    "print(median_)"
   ]
  },
  {
   "cell_type": "markdown",
   "id": "56929dee-37a7-4aab-92cd-d77c948a6e08",
   "metadata": {
    "id": "56929dee-37a7-4aab-92cd-d77c948a6e08"
   },
   "source": [
    "Finalmente, tenemos el método de pandas Series ```.median()``` que ignora los valores NaN de manera predeterminada."
   ]
  },
  {
   "cell_type": "code",
   "execution_count": null,
   "id": "310160cd-2b9f-4756-b919-adddd99d51c5",
   "metadata": {
    "id": "310160cd-2b9f-4756-b919-adddd99d51c5",
    "outputId": "a233fa50-114a-4489-9b46-19c34bf9b02d",
    "tags": []
   },
   "outputs": [
    {
     "name": "stdout",
     "output_type": "stream",
     "text": [
      "4.0\n",
      "4.0\n"
     ]
    }
   ],
   "source": [
    "print(z.median())\n",
    "print(z_nan.median())"
   ]
  },
  {
   "cell_type": "markdown",
   "id": "5810693c-9727-40ae-9d63-b3c550d8549a",
   "metadata": {
    "id": "5810693c-9727-40ae-9d63-b3c550d8549a"
   },
   "source": [
    "### <a id='1.1.6'> Moda </a>  \n",
    "La moda en una muestra se refiere al valor que aparece con mayor frecuencia en el conjunto de datos. Si no hay un valor único con la frecuencia más alta, el conjunto de datos se considera multimodal, ya que contiene múltiples valores modales. Podemos obtener fácilmente la moda de esta manera:"
   ]
  },
  {
   "cell_type": "code",
   "execution_count": 3,
   "id": "d740f7da-7c8d-4e58-870c-44aa625dcda2",
   "metadata": {
    "id": "d740f7da-7c8d-4e58-870c-44aa625dcda2",
    "outputId": "7a764c88-c500-4266-9bca-6a8ba2f08ab0",
    "tags": []
   },
   "outputs": [
    {
     "data": {
      "text/plain": [
       "6"
      ]
     },
     "execution_count": 3,
     "metadata": {},
     "output_type": "execute_result"
    }
   ],
   "source": [
    "u = [6, 3, 6, 9, 12, 9, 6]\n",
    "mode_ = max((u.count(item), item) for item in set(u))[1]\n",
    "mode_"
   ]
  },
  {
   "cell_type": "markdown",
   "id": "b8a4a992-2781-4e46-a52d-6f14fc5c1df8",
   "metadata": {
    "id": "b8a4a992-2781-4e46-a52d-6f14fc5c1df8"
   },
   "source": [
    "También podemos obtener la moda con ```statistics.mode()``` y ```statistics.multimode()```."
   ]
  },
  {
   "cell_type": "code",
   "execution_count": 5,
   "id": "ab01800f-c175-42a9-a1d5-d28803b5697d",
   "metadata": {
    "id": "ab01800f-c175-42a9-a1d5-d28803b5697d",
    "outputId": "b2b2116a-459d-4b60-ac30-6e621051c1e4",
    "tags": []
   },
   "outputs": [
    {
     "data": {
      "text/plain": [
       "6"
      ]
     },
     "execution_count": 5,
     "metadata": {},
     "output_type": "execute_result"
    }
   ],
   "source": [
    "mode_ = statistics.mode(u)\n",
    "mode_"
   ]
  },
  {
   "cell_type": "code",
   "execution_count": 7,
   "id": "f08c3ad3-a6bc-4eb5-886f-0abe9c6eeca5",
   "metadata": {
    "id": "f08c3ad3-a6bc-4eb5-886f-0abe9c6eeca5",
    "outputId": "7458403f-f6ac-401f-bdc8-c4126d1a4398",
    "tags": []
   },
   "outputs": [
    {
     "data": {
      "text/plain": [
       "[6, 9]"
      ]
     },
     "execution_count": 7,
     "metadata": {},
     "output_type": "execute_result"
    }
   ],
   "source": [
    "u = [6, 3, 6, 9, 12, 9, 6, 9]\n",
    "mode_ = statistics.multimode(u)\n",
    "mode_"
   ]
  },
  {
   "cell_type": "code",
   "execution_count": 9,
   "id": "b152445e-fa52-49c9-a34d-aa8cb7de2283",
   "metadata": {
    "id": "b152445e-fa52-49c9-a34d-aa8cb7de2283",
    "outputId": "7f03e7f9-47c3-4a5d-a3ce-b0c7c5064257",
    "tags": []
   },
   "outputs": [
    {
     "data": {
      "text/plain": [
       "[11, 13]"
      ]
     },
     "execution_count": 9,
     "metadata": {},
     "output_type": "execute_result"
    }
   ],
   "source": [
    "v = [11, 13, 11, 13, 17, 13, 11]\n",
    "mode_ = statistics.multimode(v)\n",
    "mode_"
   ]
  },
  {
   "cell_type": "markdown",
   "id": "cb975b97-8b76-413f-afe3-d83b75b24035",
   "metadata": {
    "id": "cb975b97-8b76-413f-afe3-d83b75b24035"
   },
   "source": [
    "Ambas funciones manejan valores NaN como valores regulares y pueden devolver NaN como el valor modal."
   ]
  },
  {
   "cell_type": "code",
   "execution_count": 11,
   "id": "d8064787-881a-4ab6-bd99-b2b8c5f787a6",
   "metadata": {
    "id": "d8064787-881a-4ab6-bd99-b2b8c5f787a6",
    "outputId": "703118ae-d3c0-4445-8b13-7d5ab5694ca3",
    "tags": []
   },
   "outputs": [
    {
     "data": {
      "text/plain": [
       "[2, nan]"
      ]
     },
     "execution_count": 11,
     "metadata": {},
     "output_type": "execute_result"
    }
   ],
   "source": [
    "statistics.multimode([2, math.nan, 2, math.nan, 5])"
   ]
  },
  {
   "cell_type": "markdown",
   "id": "9704838e-ca6c-49c6-a75d-2ef763418ddb",
   "metadata": {
    "id": "9704838e-ca6c-49c6-a75d-2ef763418ddb"
   },
   "source": [
    "También puedes obtener la moda con ```scipy.stats.mode()```.\n"
   ]
  },
  {
   "cell_type": "code",
   "execution_count": 13,
   "id": "c9e39a0a-5594-4d54-bfa1-0a8afa5d0414",
   "metadata": {
    "id": "c9e39a0a-5594-4d54-bfa1-0a8afa5d0414",
    "outputId": "ce5ec0d4-2d45-4da6-f7dc-2771a3a15b1a",
    "tags": []
   },
   "outputs": [
    {
     "data": {
      "text/plain": [
       "ModeResult(mode=6, count=3)"
      ]
     },
     "execution_count": 13,
     "metadata": {},
     "output_type": "execute_result"
    }
   ],
   "source": [
    "u = np.array(u)\n",
    "mode_ = stats.mode(u)\n",
    "mode_"
   ]
  },
  {
   "cell_type": "markdown",
   "id": "2ad6e435-1f7e-4e0e-b0e1-5ee7083ca1bf",
   "metadata": {
    "id": "2ad6e435-1f7e-4e0e-b0e1-5ee7083ca1bf"
   },
   "source": [
    "Podemos obtener la moda y su número de ocurrencias como arrays de NumPy con notación de punto.\n"
   ]
  },
  {
   "cell_type": "code",
   "execution_count": 15,
   "id": "f06f6ed7-a42b-4128-9a37-54084afa499c",
   "metadata": {
    "id": "f06f6ed7-a42b-4128-9a37-54084afa499c",
    "outputId": "43eb236d-489c-4cec-fa91-3ec1c31f0697",
    "tags": []
   },
   "outputs": [
    {
     "name": "stdout",
     "output_type": "stream",
     "text": [
      "6\n",
      "3\n"
     ]
    }
   ],
   "source": [
    "print(mode_.mode)\n",
    "print(mode_.count)"
   ]
  },
  {
   "cell_type": "markdown",
   "id": "37012fd4-8d03-44ce-802c-592ea2b86e29",
   "metadata": {
    "id": "37012fd4-8d03-44ce-802c-592ea2b86e29"
   },
   "source": [
    "Las Series de pandas tienen el método ```.mode()``` que maneja bien los valores multimodales y por defecto ignora los valores NaN.\n"
   ]
  },
  {
   "cell_type": "code",
   "execution_count": 25,
   "id": "2b221f8e-de75-40dd-9d25-812b592e90a0",
   "metadata": {
    "id": "2b221f8e-de75-40dd-9d25-812b592e90a0",
    "outputId": "652e3746-74ce-4a5a-f231-0b36b6f57ec2",
    "scrolled": true,
    "tags": []
   },
   "outputs": [
    {
     "name": "stdout",
     "output_type": "stream",
     "text": [
      "0    6\n",
      "1    9\n",
      "dtype: int32\n",
      "0    11\n",
      "1    13\n",
      "dtype: int64\n",
      "0    2.0\n",
      "dtype: float64\n"
     ]
    }
   ],
   "source": [
    "u, v, w = pd.Series(u), pd.Series(v), pd.Series([2, 2, math.nan])\n",
    "print(u.mode())\n",
    "print(v.mode())\n",
    "print(w.mode())"
   ]
  },
  {
   "cell_type": "markdown",
   "id": "74347de3-392e-4998-b455-b90b68eb496a",
   "metadata": {
    "id": "74347de3-392e-4998-b455-b90b68eb496a"
   },
   "source": [
    "## <a id='1.1.'> 11.2 Medidas de dispersión </a>\n",
    "En esta sección, exploramos las herramientas esenciales que nos ayudan a entender la variabilidad y dispersión dentro de un conjunto de datos. Medidas como el rango, la varianza y la desviación estándar proporcionan información sobre cómo se distribuyen los puntos de datos alrededor de la tendencia central. Al usar estas medidas de dispersión, obtendrás una comprensión más profunda de la distribución de los datos, lo que te permitirá tomar decisiones informadas y extraer conclusiones significativas de tus análisis estadísticos."
   ]
  },
  {
   "cell_type": "markdown",
   "id": "7a492cbc",
   "metadata": {
    "id": "7a492cbc"
   },
   "source": [
    "### <a id='1.2.1'> Varianza </a>  \n",
    "\n",
    "La varianza muestral mide cómo están dispersos los datos, indicando numéricamente la distancia de los puntos de datos respecto a la media. Matemáticamente, la varianza muestral de un conjunto de datos \\( x \\) con \\( n \\) elementos se expresa como\n",
    "\n",
    "$$ s^2 = \\frac{\\sum_{i}(x_i - \\text{mean}(x))^2}{(n - 1)} $$\n",
    "\n",
    "donde \\( i = 1, 2, ..., n \\) y \\( \\text{mean}(x) \\) representa la media muestral de \\( x \\)."
   ]
  },
  {
   "cell_type": "markdown",
   "id": "85eb53d4",
   "metadata": {
    "id": "85eb53d4"
   },
   "source": [
    "Aquí tienes un método para calcular la varianza muestral usando solo Python sin librerías:"
   ]
  },
  {
   "cell_type": "code",
   "execution_count": 27,
   "id": "8feb925e",
   "metadata": {
    "id": "8feb925e",
    "outputId": "33058c1d-45c4-466f-c1be-7f4c771accd5"
   },
   "outputs": [
    {
     "data": {
      "text/plain": [
       "123.19999999999999"
      ]
     },
     "execution_count": 27,
     "metadata": {},
     "output_type": "execute_result"
    }
   ],
   "source": [
    "n = len(x)\n",
    "mean_ = sum(x) / n\n",
    "var_ = sum((item - mean_)**2 for item in x) / (n - 1)\n",
    "var_"
   ]
  },
  {
   "cell_type": "markdown",
   "id": "c1063792",
   "metadata": {
    "id": "c1063792"
   },
   "source": [
    "Si bien este enfoque es efectivo y calcula con precisión la varianza muestral, una solución más concisa y elegante sería utilizar la función existente `statistics.variance()`.\n"
   ]
  },
  {
   "cell_type": "code",
   "execution_count": 29,
   "id": "3620504b",
   "metadata": {
    "id": "3620504b",
    "outputId": "2df0e270-29c3-49b5-fcf5-4c2b4b2e6c1c"
   },
   "outputs": [
    {
     "data": {
      "text/plain": [
       "123.2"
      ]
     },
     "execution_count": 29,
     "metadata": {},
     "output_type": "execute_result"
    }
   ],
   "source": [
    "var_ = statistics.variance(x)\n",
    "var_"
   ]
  },
  {
   "cell_type": "markdown",
   "id": "26b1cad5",
   "metadata": {
    "id": "26b1cad5"
   },
   "source": [
    "Si tus datos contienen valores NaN, usar `statistics.variance()` hará que la función devuelva NaN. Esto es consistente con `mean()` y la mayoría de otras funciones dentro de la biblioteca de estadísticas de Python."
   ]
  },
  {
   "cell_type": "code",
   "execution_count": 31,
   "id": "57a7c3f5",
   "metadata": {
    "id": "57a7c3f5",
    "outputId": "74660ad5-f578-488b-8321-b67f8d559e14"
   },
   "outputs": [
    {
     "data": {
      "text/plain": [
       "nan"
      ]
     },
     "execution_count": 31,
     "metadata": {},
     "output_type": "execute_result"
    }
   ],
   "source": [
    "statistics.variance(x_nan)"
   ]
  },
  {
   "cell_type": "markdown",
   "id": "fb0bb2a0",
   "metadata": {
    "id": "fb0bb2a0"
   },
   "source": [
    "Otra opción para calcular la varianza muestral es utilizando NumPy. Puedes utilizar tanto la función `np.var()` como su método correspondiente `.var()`. Es crucial especificar el parámetro `ddof=1` para establecer los grados de libertad delta en 1. Este parámetro asegura el cálculo correcto de $s^2$, donde se usa $(n - 1)$ en el denominador en lugar de $n$."
   ]
  },
  {
   "cell_type": "code",
   "execution_count": 33,
   "id": "be77a0ef",
   "metadata": {
    "id": "be77a0ef",
    "outputId": "a2fa197f-e8aa-483a-9103-122de84cc804"
   },
   "outputs": [
    {
     "name": "stdout",
     "output_type": "stream",
     "text": [
      "123.19999999999999\n",
      "123.19999999999999\n"
     ]
    }
   ],
   "source": [
    "var_ = np.var(y, ddof=1)\n",
    "print(var_)\n",
    "\n",
    "var_ = y.var(ddof=1)\n",
    "print(var_)"
   ]
  },
  {
   "cell_type": "markdown",
   "id": "b17dd5f1",
   "metadata": {
    "id": "b17dd5f1"
   },
   "source": [
    "Si tenemos valores NaN en el conjunto de datos, entonces `np.var()` y `.var()` devolverán NaN."
   ]
  },
  {
   "cell_type": "code",
   "execution_count": 35,
   "id": "6337c5af",
   "metadata": {
    "id": "6337c5af",
    "outputId": "848b6223-3128-4ca2-fa4a-ba7664f084bf"
   },
   "outputs": [
    {
     "name": "stdout",
     "output_type": "stream",
     "text": [
      "nan\n",
      "nan\n"
     ]
    }
   ],
   "source": [
    "print(np.var(y_nan, ddof=1))\n",
    "\n",
    "print(y_nan.var(ddof=1))"
   ]
  },
  {
   "cell_type": "markdown",
   "id": "b3b2a4fa",
   "metadata": {
    "id": "b3b2a4fa"
   },
   "source": [
    "La función `np.nanvar()` en NumPy ignora los valores NaN y también requiere que especifiques `ddof=1`.\n",
    "\n",
    "Para los objetos `pd.Series`, el método `.var()` omite los valores NaN por defecto."
   ]
  },
  {
   "cell_type": "code",
   "execution_count": 37,
   "id": "b1e6cc0a",
   "metadata": {
    "id": "b1e6cc0a",
    "outputId": "3839e4b8-3690-4f7e-8cc6-37f4b08b6756",
    "scrolled": true
   },
   "outputs": [
    {
     "name": "stdout",
     "output_type": "stream",
     "text": [
      "123.19999999999999\n",
      "123.19999999999999\n"
     ]
    }
   ],
   "source": [
    "print(z.var(ddof=1))\n",
    "\n",
    "print(z_nan.var(ddof=1))"
   ]
  },
  {
   "cell_type": "markdown",
   "id": "5ac7a5b3",
   "metadata": {
    "id": "5ac7a5b3"
   },
   "source": [
    "El cálculo de la varianza poblacional se asemeja al de la varianza muestral, pero con una ligera diferencia en el denominador:\n",
    "$$\n",
    "\\frac{\\sum_{i}(x_i - \\text{mean}(x))^2}{n}\n",
    "$$\n",
    "donde $n$ representa el número de elementos en toda la población. Para calcular la varianza poblacional:\n",
    "\n",
    "En la implementación en Python puro, reemplaza $(n - 1)$ por $n$.\n",
    "Utiliza `statistics.pvariance()` en lugar de `statistics.variance()` para el módulo de estadísticas de Python.\n",
    "Para NumPy o pandas, especifica el parámetro `ddof=0`. En NumPy, puedes omitir `ddof` porque su valor predeterminado es 0."
   ]
  },
  {
   "cell_type": "markdown",
   "id": "d5e871c1",
   "metadata": {
    "id": "d5e871c1"
   },
   "source": [
    "### <a id='1.2.2'> Desviación estándar </a>  \n",
    "La desviación estándar mide la dispersión o dispersión de los puntos de datos alrededor del valor medio. Proporciona una indicación numérica de cuánto se desvían los puntos de datos individuales de la media. Matemáticamente, la desviación estándar de un conjunto de datos se puede calcular tomando la raíz cuadrada de la varianza. Al igual que la varianza, la desviación estándar ayuda a comprender la distribución de los datos y a evaluar la consistencia o variabilidad dentro del conjunto de datos.\n"
   ]
  },
  {
   "cell_type": "markdown",
   "id": "ecf6da24",
   "metadata": {
    "id": "ecf6da24"
   },
   "source": [
    "Lo puedes calcular en Python"
   ]
  },
  {
   "cell_type": "code",
   "execution_count": 39,
   "id": "faa6b660",
   "metadata": {
    "id": "faa6b660",
    "outputId": "42ff000a-1d4d-46af-c2a0-4d0ed44831fd"
   },
   "outputs": [
    {
     "data": {
      "text/plain": [
       "11.099549540409285"
      ]
     },
     "execution_count": 39,
     "metadata": {},
     "output_type": "execute_result"
    }
   ],
   "source": [
    "std_ = var_ ** 0.5\n",
    "std_"
   ]
  },
  {
   "cell_type": "markdown",
   "id": "8ab863b1",
   "metadata": {
    "id": "8ab863b1"
   },
   "source": [
    "También puedes usar `statistics.stdev()`\n"
   ]
  },
  {
   "cell_type": "code",
   "execution_count": 41,
   "id": "db7c3926",
   "metadata": {
    "id": "db7c3926",
    "outputId": "4f343994-bc9d-4568-b6b2-83e0a4331518"
   },
   "outputs": [
    {
     "data": {
      "text/plain": [
       "11.099549540409287"
      ]
     },
     "execution_count": 41,
     "metadata": {},
     "output_type": "execute_result"
    }
   ],
   "source": [
    "std_ = statistics.stdev(x)\n",
    "std_"
   ]
  },
  {
   "cell_type": "markdown",
   "id": "155349dc",
   "metadata": {
    "id": "155349dc"
   },
   "source": [
    "Puedes calcular la desviación estándar usando NumPy de manera similar. Tanto la función `std()` como su método correspondiente `.std()` pueden emplearse para este propósito. En caso de que haya valores NaN dentro del conjunto de datos, estos resultarán en resultados NaN.\n"
   ]
  },
  {
   "cell_type": "code",
   "execution_count": 43,
   "id": "dc2374ac",
   "metadata": {
    "id": "dc2374ac",
    "outputId": "135e1bb1-2bf6-4c40-9904-441b7c9340b5"
   },
   "outputs": [
    {
     "name": "stdout",
     "output_type": "stream",
     "text": [
      "11.099549540409285\n",
      "11.099549540409285\n",
      "nan\n",
      "nan\n"
     ]
    }
   ],
   "source": [
    "print(np.std(y, ddof=1))\n",
    "\n",
    "print(y.std(ddof=1))\n",
    "\n",
    "print(np.std(y_nan, ddof=1))\n",
    "\n",
    "print(y_nan.std(ddof=1))"
   ]
  },
  {
   "cell_type": "markdown",
   "id": "e43139ec",
   "metadata": {
    "id": "e43139ec"
   },
   "source": [
    "Para ignorar estos valores NaN, puedes utilizar `np.nanstd()`. Esencialmente, el uso de `std()`, `.std()` y `nanstd()` en NumPy es similar al de `var()`, `.var()` y `nanvar()`.\n"
   ]
  },
  {
   "cell_type": "code",
   "execution_count": 45,
   "id": "2d0eeba0",
   "metadata": {
    "id": "2d0eeba0",
    "outputId": "5e06c4bf-1bf4-4fdb-af3a-f34ff8ea95e8"
   },
   "outputs": [
    {
     "name": "stdout",
     "output_type": "stream",
     "text": [
      "11.099549540409285\n"
     ]
    }
   ],
   "source": [
    "print(np.nanstd(y_nan, ddof=1))"
   ]
  },
  {
   "cell_type": "markdown",
   "id": "47920ce2",
   "metadata": {
    "id": "47920ce2"
   },
   "source": [
    "Además, los objetos `pd.Series` ofrecen el método `.std()`, que excluye automáticamente los valores NaN.\n"
   ]
  },
  {
   "cell_type": "code",
   "execution_count": 47,
   "id": "c840e6ec",
   "metadata": {
    "id": "c840e6ec",
    "outputId": "f7c8a7bb-8c2f-4714-edc8-0ca2db14c9a4",
    "scrolled": true
   },
   "outputs": [
    {
     "name": "stdout",
     "output_type": "stream",
     "text": [
      "11.099549540409285\n",
      "11.099549540409285\n"
     ]
    }
   ],
   "source": [
    "print(z.std(ddof=1))\n",
    "\n",
    "print(z_nan.std(ddof=1))"
   ]
  },
  {
   "cell_type": "markdown",
   "id": "f9dd53e4",
   "metadata": {
    "id": "f9dd53e4"
   },
   "source": [
    "La desviación estándar poblacional abarca la totalidad de la población. Representa la raíz cuadrada positiva de la varianza poblacional. Para calcularla, sigue un procedimiento similar al de la desviación estándar muestral, con algunas diferencias:\n",
    "\n",
    "1. Toma la raíz cuadrada de la varianza poblacional en el enfoque de Python puro.\n",
    "2. Utiliza `statistics.pstdev()` en lugar de `statistics.stdev()` para el módulo de estadísticas de Python.\n",
    "3. Al usar NumPy o pandas, especifica `ddof=0`. En NumPy, puedes omitir `ddof` ya que su valor predeterminado es 0.\n"
   ]
  },
  {
   "cell_type": "markdown",
   "id": "3467b71a",
   "metadata": {
    "id": "3467b71a"
   },
   "source": [
    "### <a id='1.2.3'> Asimetría </a>\n",
    "La asimetría muestral mide la asimetría de una muestra de datos. Se mide como\n",
    "$$\n",
    "Skew = \\frac{n}{(n-1)(n-2)} \\times \\sum_{i=1}^{n} \\left( \\frac{X_i - \\text{mean}(X)}{\\text{std}(X)} \\right)^3\n",
    "$$\n",
    "\n"
   ]
  },
  {
   "cell_type": "code",
   "execution_count": 49,
   "id": "07d6853b",
   "metadata": {
    "id": "07d6853b",
    "outputId": "ad69666c-1a19-4231-df57-f0d27ed1ca0e"
   },
   "outputs": [
    {
     "data": {
      "text/plain": [
       "1.9470432273905929"
      ]
     },
     "execution_count": 49,
     "metadata": {},
     "output_type": "execute_result"
    }
   ],
   "source": [
    "x = [8.0, 1, 2.5, 4, 28.0]\n",
    "n = len(x)\n",
    "mean_ = sum(x) / n\n",
    "var_ = sum((item - mean_)**2 for item in x) / (n - 1)\n",
    "std_ = var_ ** 0.5\n",
    "skew_ = (sum((item - mean_)**3 for item in x)\n",
    "         * n / ((n - 1) * (n - 2) * std_**3))\n",
    "skew_"
   ]
  },
  {
   "cell_type": "markdown",
   "id": "8b98c37d",
   "metadata": {
    "id": "8b98c37d"
   },
   "source": [
    "La asimetría positiva indica que hay una cola en el lado derecho de la distribución de $x$."
   ]
  },
  {
   "cell_type": "markdown",
   "id": "3508044b",
   "metadata": {
    "id": "3508044b"
   },
   "source": [
    "También podemos calcular la asimetría muestral con `scipy.stats.skew()`.\n"
   ]
  },
  {
   "cell_type": "code",
   "execution_count": 51,
   "id": "51797423",
   "metadata": {
    "id": "51797423",
    "outputId": "d83d0aac-483c-4900-e2be-50813d0a3520"
   },
   "outputs": [
    {
     "name": "stdout",
     "output_type": "stream",
     "text": [
      "1.9470432273905927\n",
      "nan\n"
     ]
    }
   ],
   "source": [
    "y, y_nan = np.array(x), np.array(x_nan)\n",
    "print(scipy.stats.skew(y, bias=False))\n",
    "\n",
    "print(scipy.stats.skew(y_nan, bias=False))"
   ]
  },
  {
   "cell_type": "markdown",
   "id": "daff52fd",
   "metadata": {
    "id": "daff52fd"
   },
   "source": [
    "El parámetro bias se configura como False para activar los ajustes por sesgo estadístico. El parámetro nan_policy, que es opcional, acepta tres valores: 'propagate', 'raise' u 'omit'. Este parámetro proporciona control sobre el manejo de los valores NaN."
   ]
  },
  {
   "cell_type": "markdown",
   "id": "5e08a1fe",
   "metadata": {
    "id": "5e08a1fe"
   },
   "source": [
    "El método `.skew()` de los objetos Series de pandas también proporciona la asimetría de un conjunto de datos."
   ]
  },
  {
   "cell_type": "code",
   "execution_count": 53,
   "id": "f61b402e",
   "metadata": {
    "id": "f61b402e",
    "outputId": "6479d879-4e6c-4bfb-c01e-a70e3a7c1374"
   },
   "outputs": [
    {
     "name": "stdout",
     "output_type": "stream",
     "text": [
      "1.9470432273905924\n",
      "1.9470432273905924\n"
     ]
    }
   ],
   "source": [
    "z, z_nan = pd.Series(x), pd.Series(x_nan)\n",
    "print(z.skew())\n",
    "\n",
    "print(z_nan.skew())"
   ]
  },
  {
   "cell_type": "markdown",
   "id": "78d98cae",
   "metadata": {
    "id": "78d98cae"
   },
   "source": [
    "### <a id='1.2.4'> Percentiles </a>\n",
    "\n",
    "El percentil $p$ de la muestra indica el elemento dentro del conjunto de datos tal que $p\\%$ de los elementos del conjunto son menores o iguales a ese valor, y $(100 − p)\\%$ de los elementos son mayores o iguales a él. Si existen dos elementos de este tipo en el conjunto de datos, el percentil $p$ de la muestra es su media aritmética. Cada conjunto de datos comprende tres cuartiles, que representan los percentiles que dividen el conjunto de datos en cuatro segmentos:\n",
    "\n",
    "- El primer cuartil corresponde al percentil 25 de la muestra, segregando aproximadamente el 25% de los elementos más pequeños del resto del conjunto de datos.\n",
    "- El segundo cuartil, también conocido como el percentil 50 de la muestra o la mediana, se encuentra entre el primer y segundo cuartil, con aproximadamente el 25% de los elementos entre cada cuartil.\n",
    "- El tercer cuartil indica el percentil 75 de la muestra, dividiendo aproximadamente el 25% de los elementos más grandes del resto del conjunto de datos."
   ]
  },
  {
   "cell_type": "code",
   "execution_count": 55,
   "id": "02f825c9",
   "metadata": {
    "id": "02f825c9",
    "outputId": "872f4cc9-8caa-4bab-87db-226a4843dff4"
   },
   "outputs": [
    {
     "name": "stdout",
     "output_type": "stream",
     "text": [
      "[50.5]\n",
      "[25.75, 50.5, 75.25]\n"
     ]
    }
   ],
   "source": [
    "x = np.arange(1, 101, 1)\n",
    "print(statistics.quantiles(x, n=2))\n",
    "\n",
    "print(statistics.quantiles(x, n=4, method='inclusive'))"
   ]
  },
  {
   "cell_type": "markdown",
   "id": "fc936a68",
   "metadata": {
    "id": "fc936a68"
   },
   "source": [
    "En este ejemplo, 8.0 es la mediana de $x$, mientras que 0.1 y 21.0 son los percentiles 25 y 75 del conjunto de datos, respectivamente. El parámetro $n$ define la cantidad de percentiles de igual probabilidad resultantes, y el método determina cómo calcularlos."
   ]
  },
  {
   "cell_type": "code",
   "execution_count": 57,
   "id": "e1b9411b",
   "metadata": {
    "id": "e1b9411b",
    "outputId": "eef2d073-6748-4263-a5b5-5e56a10e92e5"
   },
   "outputs": [
    {
     "name": "stdout",
     "output_type": "stream",
     "text": [
      "5.95\n",
      "95.05\n"
     ]
    }
   ],
   "source": [
    "y = np.array(x)\n",
    "print(np.percentile(y, 5))\n",
    "\n",
    "print(np.percentile(y, 95))"
   ]
  },
  {
   "cell_type": "markdown",
   "id": "14130cbc",
   "metadata": {
    "id": "14130cbc"
   },
   "source": [
    "La función `percentile()` requiere varios argumentos. El conjunto de datos debe ser proporcionado como el primer argumento, seguido del valor del percentil como el segundo argumento. El conjunto de datos puede estar en formato de array de `NumPy`, lista, tupla o estructura de datos comparable. El valor del percentil puede variar de 0 a 100, como se ilustró en el ejemplo anterior. Sin embargo, también puede ser una secuencia de números."
   ]
  },
  {
   "cell_type": "code",
   "execution_count": 59,
   "id": "aa4bd654",
   "metadata": {
    "id": "aa4bd654",
    "outputId": "4d8297a3-119a-486e-b89c-3025e396d64d"
   },
   "outputs": [
    {
     "data": {
      "text/plain": [
       "array([25.75, 50.5 , 75.25])"
      ]
     },
     "execution_count": 59,
     "metadata": {},
     "output_type": "execute_result"
    }
   ],
   "source": [
    "np.percentile(y, [25, 50, 75])"
   ]
  },
  {
   "cell_type": "markdown",
   "id": "24c3bd86",
   "metadata": {
    "id": "24c3bd86"
   },
   "source": [
    "Este código calcula simultáneamente los percentiles 25, 50 y 75."
   ]
  },
  {
   "cell_type": "markdown",
   "id": "0e7b814b",
   "metadata": {
    "id": "0e7b814b"
   },
   "source": [
    "Si prefieres ignorar los valores NaN, deberías utilizar `np.nanpercentile()` en su lugar."
   ]
  },
  {
   "cell_type": "code",
   "execution_count": 61,
   "id": "d6235c3f",
   "metadata": {
    "id": "d6235c3f",
    "outputId": "77244700-a8ed-4cec-fdd8-704b3d4a2a66"
   },
   "outputs": [
    {
     "name": "stdout",
     "output_type": "stream",
     "text": [
      "[nan nan nan]\n",
      "[2. 3. 4.]\n"
     ]
    }
   ],
   "source": [
    "y_nan = np.array([1, 2, 3, 4, 5, np.nan])\n",
    "\n",
    "print(np.percentile(y_nan, [25, 50, 75]))\n",
    "print(np.nanpercentile(y_nan, [25, 50, 75]))"
   ]
  },
  {
   "cell_type": "markdown",
   "id": "3745f76f",
   "metadata": {
    "id": "3745f76f"
   },
   "source": [
    "NumPy proporciona una funcionalidad similar a través de `quantile()` y `nanquantile()`. Al usar estas funciones, debes especificar los valores de cuantil como números entre 0 y 1, en lugar de como percentiles."
   ]
  },
  {
   "cell_type": "code",
   "execution_count": 63,
   "id": "32e2df84",
   "metadata": {
    "id": "32e2df84",
    "outputId": "9b20a2a1-d4c9-44dd-8eef-985e5ee46c87"
   },
   "outputs": [
    {
     "name": "stdout",
     "output_type": "stream",
     "text": [
      "5.95\n",
      "95.05\n",
      "[25.75 50.5  75.25]\n",
      "[2. 3. 4.]\n"
     ]
    }
   ],
   "source": [
    "print(np.quantile(y, 0.05))\n",
    "\n",
    "print(np.quantile(y, 0.95))\n",
    "\n",
    "print(np.quantile(y, [0.25, 0.5, 0.75]))\n",
    "\n",
    "print(np.nanquantile(y_nan, [0.25, 0.5, 0.75]))"
   ]
  },
  {
   "cell_type": "markdown",
   "id": "75c7ec00",
   "metadata": {
    "id": "75c7ec00"
   },
   "source": [
    "Los objetos Series de Pandas también poseen el método `.quantile()`."
   ]
  },
  {
   "cell_type": "code",
   "execution_count": 65,
   "id": "4417025e",
   "metadata": {
    "id": "4417025e",
    "outputId": "57851ca1-7650-429a-b550-88dfe5fad9b0"
   },
   "outputs": [
    {
     "name": "stdout",
     "output_type": "stream",
     "text": [
      "5.95\n",
      "95.05\n"
     ]
    }
   ],
   "source": [
    "z, z_nan = pd.Series(y), pd.Series(y_nan)\n",
    "\n",
    "print(z.quantile(0.05))\n",
    "\n",
    "print(z.quantile(0.95))"
   ]
  },
  {
   "cell_type": "markdown",
   "id": "ec37cf61",
   "metadata": {
    "id": "ec37cf61"
   },
   "source": [
    "Funciona automáticamente con valores NaN."
   ]
  },
  {
   "cell_type": "code",
   "execution_count": 67,
   "id": "9103a28c",
   "metadata": {
    "id": "9103a28c",
    "outputId": "038d8b19-4d8a-4215-d159-b4467c041c92"
   },
   "outputs": [
    {
     "name": "stdout",
     "output_type": "stream",
     "text": [
      "0.25    25.75\n",
      "0.50    50.50\n",
      "0.75    75.25\n",
      "dtype: float64\n",
      "0.25    2.0\n",
      "0.50    3.0\n",
      "0.75    4.0\n",
      "dtype: float64\n"
     ]
    }
   ],
   "source": [
    "print(z.quantile([0.25, 0.5, 0.75]))\n",
    "\n",
    "print(z_nan.quantile([0.25, 0.5, 0.75]))"
   ]
  },
  {
   "cell_type": "markdown",
   "id": "704a5ea8",
   "metadata": {
    "id": "704a5ea8"
   },
   "source": [
    "## <a id='1.3.'> 11.3 Resumen de estadísticas descriptivas </a>\n",
    "\n",
    "Puedes utilizar SciPy y pandas para obtener estadísticas descriptivas de manera eficiente con una sola llamada a una función o método. Por ejemplo, puedes usar `scipy.stats.describe()` como veremos en esta subsección"
   ]
  },
  {
   "cell_type": "markdown",
   "id": "23eeb52a-af53-439a-a087-1d9f12fcf518",
   "metadata": {
    "id": "23eeb52a-af53-439a-a087-1d9f12fcf518"
   },
   "source": [
    "### Ahora trabajemos con un dataframe con datos de Perú"
   ]
  },
  {
   "cell_type": "code",
   "execution_count": 69,
   "id": "e2469192-c458-45fd-8c9d-a1826be98533",
   "metadata": {
    "id": "e2469192-c458-45fd-8c9d-a1826be98533",
    "tags": []
   },
   "outputs": [],
   "source": [
    "# We read and transform the database\n",
    ">>> peru = pd.read_excel('../Datasets/peru.xlsx', parse_dates=['Year'])\n",
    ">>> peru = peru.drop(columns=['Unnamed: 0', 'Country'])\n",
    ">>> peru.set_index('Year', inplace=True)"
   ]
  },
  {
   "cell_type": "code",
   "execution_count": 71,
   "id": "d4d058fa-cf6a-4e2a-9af1-0c01222f353f",
   "metadata": {
    "id": "d4d058fa-cf6a-4e2a-9af1-0c01222f353f",
    "outputId": "b5f21ff9-a432-4fcc-93f8-a9b4f686f406",
    "tags": []
   },
   "outputs": [
    {
     "data": {
      "text/html": [
       "<div>\n",
       "<style scoped>\n",
       "    .dataframe tbody tr th:only-of-type {\n",
       "        vertical-align: middle;\n",
       "    }\n",
       "\n",
       "    .dataframe tbody tr th {\n",
       "        vertical-align: top;\n",
       "    }\n",
       "\n",
       "    .dataframe thead th {\n",
       "        text-align: right;\n",
       "    }\n",
       "</style>\n",
       "<table border=\"1\" class=\"dataframe\">\n",
       "  <thead>\n",
       "    <tr style=\"text-align: right;\">\n",
       "      <th></th>\n",
       "      <th>Current account balance</th>\n",
       "      <th>General government net debt</th>\n",
       "      <th>General government total expenditure</th>\n",
       "      <th>Unemployment rate</th>\n",
       "      <th>CPI</th>\n",
       "      <th>CBI</th>\n",
       "    </tr>\n",
       "    <tr>\n",
       "      <th>Year</th>\n",
       "      <th></th>\n",
       "      <th></th>\n",
       "      <th></th>\n",
       "      <th></th>\n",
       "      <th></th>\n",
       "      <th></th>\n",
       "    </tr>\n",
       "  </thead>\n",
       "  <tbody>\n",
       "    <tr>\n",
       "      <th>1980-01-01</th>\n",
       "      <td>-5.175</td>\n",
       "      <td>NaN</td>\n",
       "      <td>NaN</td>\n",
       "      <td>7.326</td>\n",
       "      <td>59.145</td>\n",
       "      <td>0.43875</td>\n",
       "    </tr>\n",
       "    <tr>\n",
       "      <th>1981-01-01</th>\n",
       "      <td>-9.673</td>\n",
       "      <td>NaN</td>\n",
       "      <td>NaN</td>\n",
       "      <td>6.800</td>\n",
       "      <td>75.433</td>\n",
       "      <td>0.43875</td>\n",
       "    </tr>\n",
       "    <tr>\n",
       "      <th>1982-01-01</th>\n",
       "      <td>-9.142</td>\n",
       "      <td>NaN</td>\n",
       "      <td>NaN</td>\n",
       "      <td>6.400</td>\n",
       "      <td>64.460</td>\n",
       "      <td>0.43875</td>\n",
       "    </tr>\n",
       "    <tr>\n",
       "      <th>1983-01-01</th>\n",
       "      <td>-6.842</td>\n",
       "      <td>NaN</td>\n",
       "      <td>NaN</td>\n",
       "      <td>9.000</td>\n",
       "      <td>111.149</td>\n",
       "      <td>0.43875</td>\n",
       "    </tr>\n",
       "    <tr>\n",
       "      <th>1984-01-01</th>\n",
       "      <td>-1.381</td>\n",
       "      <td>NaN</td>\n",
       "      <td>NaN</td>\n",
       "      <td>8.900</td>\n",
       "      <td>110.209</td>\n",
       "      <td>0.43875</td>\n",
       "    </tr>\n",
       "  </tbody>\n",
       "</table>\n",
       "</div>"
      ],
      "text/plain": [
       "            Current account balance  General government net debt  \\\n",
       "Year                                                               \n",
       "1980-01-01                   -5.175                          NaN   \n",
       "1981-01-01                   -9.673                          NaN   \n",
       "1982-01-01                   -9.142                          NaN   \n",
       "1983-01-01                   -6.842                          NaN   \n",
       "1984-01-01                   -1.381                          NaN   \n",
       "\n",
       "            General government total expenditure  Unemployment rate      CPI  \\\n",
       "Year                                                                           \n",
       "1980-01-01                                   NaN              7.326   59.145   \n",
       "1981-01-01                                   NaN              6.800   75.433   \n",
       "1982-01-01                                   NaN              6.400   64.460   \n",
       "1983-01-01                                   NaN              9.000  111.149   \n",
       "1984-01-01                                   NaN              8.900  110.209   \n",
       "\n",
       "                CBI  \n",
       "Year                 \n",
       "1980-01-01  0.43875  \n",
       "1981-01-01  0.43875  \n",
       "1982-01-01  0.43875  \n",
       "1983-01-01  0.43875  \n",
       "1984-01-01  0.43875  "
      ]
     },
     "execution_count": 71,
     "metadata": {},
     "output_type": "execute_result"
    }
   ],
   "source": [
    "# We analize it\n",
    "peru.head()"
   ]
  },
  {
   "cell_type": "code",
   "execution_count": 73,
   "id": "7378a0f6-3ba1-4461-80da-d1c69120b090",
   "metadata": {
    "id": "7378a0f6-3ba1-4461-80da-d1c69120b090",
    "outputId": "319cfc7d-c113-447f-c78a-c427c5175728",
    "tags": []
   },
   "outputs": [
    {
     "data": {
      "text/html": [
       "<div>\n",
       "<style scoped>\n",
       "    .dataframe tbody tr th:only-of-type {\n",
       "        vertical-align: middle;\n",
       "    }\n",
       "\n",
       "    .dataframe tbody tr th {\n",
       "        vertical-align: top;\n",
       "    }\n",
       "\n",
       "    .dataframe thead th {\n",
       "        text-align: right;\n",
       "    }\n",
       "</style>\n",
       "<table border=\"1\" class=\"dataframe\">\n",
       "  <thead>\n",
       "    <tr style=\"text-align: right;\">\n",
       "      <th></th>\n",
       "      <th>Current account balance</th>\n",
       "      <th>General government net debt</th>\n",
       "      <th>General government total expenditure</th>\n",
       "      <th>Unemployment rate</th>\n",
       "      <th>CPI</th>\n",
       "      <th>CBI</th>\n",
       "    </tr>\n",
       "  </thead>\n",
       "  <tbody>\n",
       "    <tr>\n",
       "      <th>count</th>\n",
       "      <td>42.000000</td>\n",
       "      <td>22.000000</td>\n",
       "      <td>22.000000</td>\n",
       "      <td>42.000000</td>\n",
       "      <td>41.000000</td>\n",
       "      <td>41.000000</td>\n",
       "    </tr>\n",
       "    <tr>\n",
       "      <th>mean</th>\n",
       "      <td>-3.368333</td>\n",
       "      <td>17.760636</td>\n",
       "      <td>21.070182</td>\n",
       "      <td>7.779119</td>\n",
       "      <td>315.795195</td>\n",
       "      <td>0.702226</td>\n",
       "    </tr>\n",
       "    <tr>\n",
       "      <th>std</th>\n",
       "      <td>3.052220</td>\n",
       "      <td>13.084920</td>\n",
       "      <td>1.740462</td>\n",
       "      <td>1.752538</td>\n",
       "      <td>1266.240395</td>\n",
       "      <td>0.171591</td>\n",
       "    </tr>\n",
       "    <tr>\n",
       "      <th>min</th>\n",
       "      <td>-9.673000</td>\n",
       "      <td>1.499000</td>\n",
       "      <td>18.593000</td>\n",
       "      <td>4.156000</td>\n",
       "      <td>0.192000</td>\n",
       "      <td>0.438750</td>\n",
       "    </tr>\n",
       "    <tr>\n",
       "      <th>25%</th>\n",
       "      <td>-5.428250</td>\n",
       "      <td>7.350000</td>\n",
       "      <td>19.901500</td>\n",
       "      <td>6.710500</td>\n",
       "      <td>2.804000</td>\n",
       "      <td>0.438750</td>\n",
       "    </tr>\n",
       "    <tr>\n",
       "      <th>50%</th>\n",
       "      <td>-2.966000</td>\n",
       "      <td>12.611500</td>\n",
       "      <td>20.948500</td>\n",
       "      <td>7.863500</td>\n",
       "      <td>3.759000</td>\n",
       "      <td>0.811250</td>\n",
       "    </tr>\n",
       "    <tr>\n",
       "      <th>75%</th>\n",
       "      <td>-1.285000</td>\n",
       "      <td>29.997250</td>\n",
       "      <td>21.466000</td>\n",
       "      <td>8.975000</td>\n",
       "      <td>73.529000</td>\n",
       "      <td>0.811250</td>\n",
       "    </tr>\n",
       "    <tr>\n",
       "      <th>max</th>\n",
       "      <td>3.331000</td>\n",
       "      <td>38.672000</td>\n",
       "      <td>26.862000</td>\n",
       "      <td>13.000000</td>\n",
       "      <td>7481.691000</td>\n",
       "      <td>0.811250</td>\n",
       "    </tr>\n",
       "  </tbody>\n",
       "</table>\n",
       "</div>"
      ],
      "text/plain": [
       "       Current account balance  General government net debt  \\\n",
       "count                42.000000                    22.000000   \n",
       "mean                 -3.368333                    17.760636   \n",
       "std                   3.052220                    13.084920   \n",
       "min                  -9.673000                     1.499000   \n",
       "25%                  -5.428250                     7.350000   \n",
       "50%                  -2.966000                    12.611500   \n",
       "75%                  -1.285000                    29.997250   \n",
       "max                   3.331000                    38.672000   \n",
       "\n",
       "       General government total expenditure  Unemployment rate          CPI  \\\n",
       "count                             22.000000          42.000000    41.000000   \n",
       "mean                              21.070182           7.779119   315.795195   \n",
       "std                                1.740462           1.752538  1266.240395   \n",
       "min                               18.593000           4.156000     0.192000   \n",
       "25%                               19.901500           6.710500     2.804000   \n",
       "50%                               20.948500           7.863500     3.759000   \n",
       "75%                               21.466000           8.975000    73.529000   \n",
       "max                               26.862000          13.000000  7481.691000   \n",
       "\n",
       "             CBI  \n",
       "count  41.000000  \n",
       "mean    0.702226  \n",
       "std     0.171591  \n",
       "min     0.438750  \n",
       "25%     0.438750  \n",
       "50%     0.811250  \n",
       "75%     0.811250  \n",
       "max     0.811250  "
      ]
     },
     "execution_count": 73,
     "metadata": {},
     "output_type": "execute_result"
    }
   ],
   "source": [
    "# We further analyse it with the describe() function\n",
    "peru.describe()"
   ]
  },
  {
   "cell_type": "code",
   "execution_count": 75,
   "id": "21fadd8d-17f3-4528-a434-fcbc78af4b06",
   "metadata": {
    "id": "21fadd8d-17f3-4528-a434-fcbc78af4b06",
    "outputId": "41a215b0-c179-41bb-9b73-ffbc155f2bfe",
    "tags": []
   },
   "outputs": [
    {
     "data": {
      "text/plain": [
       "Current account balance                 42\n",
       "General government net debt             22\n",
       "General government total expenditure    22\n",
       "Unemployment rate                       42\n",
       "CPI                                     41\n",
       "CBI                                     41\n",
       "dtype: int64"
      ]
     },
     "execution_count": 75,
     "metadata": {},
     "output_type": "execute_result"
    }
   ],
   "source": [
    "peru.count()"
   ]
  },
  {
   "cell_type": "code",
   "execution_count": null,
   "id": "39264fd4-f138-47f0-b3b9-aa89469abdea",
   "metadata": {
    "id": "39264fd4-f138-47f0-b3b9-aa89469abdea",
    "outputId": "fc184ff6-5f70-468a-cf9c-f990b93501b1",
    "tags": []
   },
   "outputs": [
    {
     "data": {
      "text/plain": [
       "Current account balance                  -3.368333\n",
       "General government net debt              17.760636\n",
       "General government total expenditure     21.070182\n",
       "Unemployment rate                         7.779119\n",
       "CPI                                     315.795195\n",
       "CBI                                       0.702226\n",
       "dtype: float64"
      ]
     },
     "execution_count": 74,
     "metadata": {},
     "output_type": "execute_result"
    }
   ],
   "source": [
    "peru.mean()"
   ]
  },
  {
   "cell_type": "code",
   "execution_count": null,
   "id": "0776044c-362e-45ea-b108-47b8d60de843",
   "metadata": {
    "id": "0776044c-362e-45ea-b108-47b8d60de843",
    "outputId": "7e9fc54a-8ab1-48e0-c6f2-f451bf4eda6a",
    "tags": []
   },
   "outputs": [
    {
     "data": {
      "text/plain": [
       "Current account balance                    3.33100\n",
       "General government net debt               38.67200\n",
       "General government total expenditure      26.86200\n",
       "Unemployment rate                         13.00000\n",
       "CPI                                     7481.69100\n",
       "CBI                                        0.81125\n",
       "dtype: float64"
      ]
     },
     "execution_count": 75,
     "metadata": {},
     "output_type": "execute_result"
    }
   ],
   "source": [
    "peru.max()"
   ]
  },
  {
   "cell_type": "code",
   "execution_count": null,
   "id": "0276d2b6-f054-4903-ac43-ea690e5868ee",
   "metadata": {
    "id": "0276d2b6-f054-4903-ac43-ea690e5868ee",
    "outputId": "c2e200db-b820-470f-f0e9-892fc467d311",
    "tags": []
   },
   "outputs": [
    {
     "data": {
      "text/plain": [
       "Current account balance                 -9.67300\n",
       "General government net debt              1.49900\n",
       "General government total expenditure    18.59300\n",
       "Unemployment rate                        4.15600\n",
       "CPI                                      0.19200\n",
       "CBI                                      0.43875\n",
       "dtype: float64"
      ]
     },
     "execution_count": 76,
     "metadata": {},
     "output_type": "execute_result"
    }
   ],
   "source": [
    "peru.min()"
   ]
  },
  {
   "cell_type": "markdown",
   "id": "7e0f4b27-074d-4ba7-9fc1-39ae330d07e0",
   "metadata": {
    "id": "7e0f4b27-074d-4ba7-9fc1-39ae330d07e0"
   },
   "source": [
    "We can equally inspect it using the numpy library. We can use np.mean(), np.median() and stats.mode()"
   ]
  },
  {
   "cell_type": "code",
   "execution_count": 77,
   "id": "f39eedae-93ac-425f-aded-7509491830f2",
   "metadata": {
    "id": "f39eedae-93ac-425f-aded-7509491830f2",
    "outputId": "0cc01e8c-8054-4eec-906d-f56215a1421f",
    "tags": []
   },
   "outputs": [
    {
     "name": "stdout",
     "output_type": "stream",
     "text": [
      "La media del saldo de cuenta corriente es -3.368333333333333\n",
      "La media de la deuda neta del gobierno general es 17.760636363636365\n",
      "La media del gasto total del gobierno general es 21.07018181818182\n",
      "La media de la tasa de desempleo es 7.779119047619046\n",
      "La media del IPC es 315.7951951219512\n",
      "La media del ICB es 0.7022256097560977\n"
     ]
    }
   ],
   "source": [
    "print(f'La media del saldo de cuenta corriente es {np.mean(peru[\"Current account balance\"])}')\n",
    "print(f'La media de la deuda neta del gobierno general es {np.mean(peru[\"General government net debt\"])}')\n",
    "print(f'La media del gasto total del gobierno general es {np.mean(peru[\"General government total expenditure\"])}')\n",
    "print(f'La media de la tasa de desempleo es {np.mean(peru[\"Unemployment rate\"])}')\n",
    "print(f'La media del IPC es {np.mean(peru[\"CPI\"])}')\n",
    "print(f'La media del ICB es {np.mean(peru[\"CBI\"])}')"
   ]
  },
  {
   "cell_type": "code",
   "execution_count": 79,
   "id": "53229bef-9cae-4cb4-a21e-47beab62ee70",
   "metadata": {
    "id": "53229bef-9cae-4cb4-a21e-47beab62ee70",
    "outputId": "75977bd7-f0d6-4fff-92f8-ab66030c48ba",
    "tags": []
   },
   "outputs": [
    {
     "name": "stdout",
     "output_type": "stream",
     "text": [
      "La mediana del saldo de cuenta corriente es -2.966\n",
      "La mediana de la deuda neta del gobierno general es nan\n",
      "La mediana del gasto total del gobierno general es nan\n",
      "La mediana de la tasa de desempleo es 7.8635\n",
      "La mediana del IPC es nan\n",
      "La mediana del ICB es nan\n"
     ]
    }
   ],
   "source": [
    "print(f'La mediana del saldo de cuenta corriente es {np.median(peru[\"Current account balance\"])}')\n",
    "print(f'La mediana de la deuda neta del gobierno general es {np.median(peru[\"General government net debt\"])}')\n",
    "print(f'La mediana del gasto total del gobierno general es {np.median(peru[\"General government total expenditure\"])}')\n",
    "print(f'La mediana de la tasa de desempleo es {np.median(peru[\"Unemployment rate\"])}')\n",
    "print(f'La mediana del IPC es {np.median(peru[\"CPI\"])}')\n",
    "print(f'La mediana del ICB es {np.median(peru[\"CBI\"])}')"
   ]
  },
  {
   "cell_type": "code",
   "execution_count": 81,
   "id": "a5f27015-805b-4e60-a3b9-0dee43e342da",
   "metadata": {
    "id": "a5f27015-805b-4e60-a3b9-0dee43e342da",
    "outputId": "3d40d98b-46c1-49a8-e214-115692e8bb15",
    "tags": []
   },
   "outputs": [
    {
     "name": "stdout",
     "output_type": "stream",
     "text": [
      "La moda del saldo de cuenta corriente es -9.673\n",
      "La moda de la deuda neta del gobierno general es nan\n",
      "La moda del gasto total del gobierno general es nan\n",
      "La moda de la tasa de desempleo es 9.4\n",
      "La moda del IPC es 0.192\n",
      "La moda del ICB es 0.81125\n"
     ]
    }
   ],
   "source": [
    "import warnings\n",
    "warnings.filterwarnings(\"ignore\")\n",
    "\n",
    "print(f'La moda del saldo de cuenta corriente es {stats.mode(peru[\"Current account balance\"])[0]}')\n",
    "print(f'La moda de la deuda neta del gobierno general es {stats.mode(peru[\"General government net debt\"])[0]}')\n",
    "print(f'La moda del gasto total del gobierno general es {stats.mode(peru[\"General government total expenditure\"])[0]}')\n",
    "print(f'La moda de la tasa de desempleo es {stats.mode(peru[\"Unemployment rate\"])[0]}')\n",
    "print(f'La moda del IPC es {stats.mode(peru[\"CPI\"])[0]}')\n",
    "print(f'La moda del ICB es {stats.mode(peru[\"CBI\"])[0]}')"
   ]
  },
  {
   "cell_type": "markdown",
   "id": "695b83fe-e28f-481f-b8d6-0e2c31b02b3f",
   "metadata": {
    "id": "695b83fe-e28f-481f-b8d6-0e2c31b02b3f"
   },
   "source": [
    "### ¿Qué hacemos con los valores nans ?"
   ]
  },
  {
   "cell_type": "code",
   "execution_count": 83,
   "id": "739be4e7-ff66-41b8-b534-bad38884070c",
   "metadata": {
    "id": "739be4e7-ff66-41b8-b534-bad38884070c",
    "outputId": "9e729119-a8c2-4d09-83dd-c2a56eb35224"
   },
   "outputs": [
    {
     "data": {
      "text/html": [
       "<div>\n",
       "<style scoped>\n",
       "    .dataframe tbody tr th:only-of-type {\n",
       "        vertical-align: middle;\n",
       "    }\n",
       "\n",
       "    .dataframe tbody tr th {\n",
       "        vertical-align: top;\n",
       "    }\n",
       "\n",
       "    .dataframe thead th {\n",
       "        text-align: right;\n",
       "    }\n",
       "</style>\n",
       "<table border=\"1\" class=\"dataframe\">\n",
       "  <thead>\n",
       "    <tr style=\"text-align: right;\">\n",
       "      <th></th>\n",
       "      <th>Current account balance</th>\n",
       "      <th>General government net debt</th>\n",
       "      <th>General government total expenditure</th>\n",
       "      <th>Unemployment rate</th>\n",
       "      <th>CPI</th>\n",
       "      <th>CBI</th>\n",
       "    </tr>\n",
       "    <tr>\n",
       "      <th>Year</th>\n",
       "      <th></th>\n",
       "      <th></th>\n",
       "      <th></th>\n",
       "      <th></th>\n",
       "      <th></th>\n",
       "      <th></th>\n",
       "    </tr>\n",
       "  </thead>\n",
       "  <tbody>\n",
       "    <tr>\n",
       "      <th>1980-01-01</th>\n",
       "      <td>-5.175</td>\n",
       "      <td>0.0</td>\n",
       "      <td>0.0</td>\n",
       "      <td>7.326</td>\n",
       "      <td>59.145</td>\n",
       "      <td>0.43875</td>\n",
       "    </tr>\n",
       "    <tr>\n",
       "      <th>1981-01-01</th>\n",
       "      <td>-9.673</td>\n",
       "      <td>0.0</td>\n",
       "      <td>0.0</td>\n",
       "      <td>6.800</td>\n",
       "      <td>75.433</td>\n",
       "      <td>0.43875</td>\n",
       "    </tr>\n",
       "    <tr>\n",
       "      <th>1982-01-01</th>\n",
       "      <td>-9.142</td>\n",
       "      <td>0.0</td>\n",
       "      <td>0.0</td>\n",
       "      <td>6.400</td>\n",
       "      <td>64.460</td>\n",
       "      <td>0.43875</td>\n",
       "    </tr>\n",
       "    <tr>\n",
       "      <th>1983-01-01</th>\n",
       "      <td>-6.842</td>\n",
       "      <td>0.0</td>\n",
       "      <td>0.0</td>\n",
       "      <td>9.000</td>\n",
       "      <td>111.149</td>\n",
       "      <td>0.43875</td>\n",
       "    </tr>\n",
       "    <tr>\n",
       "      <th>1984-01-01</th>\n",
       "      <td>-1.381</td>\n",
       "      <td>0.0</td>\n",
       "      <td>0.0</td>\n",
       "      <td>8.900</td>\n",
       "      <td>110.209</td>\n",
       "      <td>0.43875</td>\n",
       "    </tr>\n",
       "  </tbody>\n",
       "</table>\n",
       "</div>"
      ],
      "text/plain": [
       "            Current account balance  General government net debt  \\\n",
       "Year                                                               \n",
       "1980-01-01                   -5.175                          0.0   \n",
       "1981-01-01                   -9.673                          0.0   \n",
       "1982-01-01                   -9.142                          0.0   \n",
       "1983-01-01                   -6.842                          0.0   \n",
       "1984-01-01                   -1.381                          0.0   \n",
       "\n",
       "            General government total expenditure  Unemployment rate      CPI  \\\n",
       "Year                                                                           \n",
       "1980-01-01                                   0.0              7.326   59.145   \n",
       "1981-01-01                                   0.0              6.800   75.433   \n",
       "1982-01-01                                   0.0              6.400   64.460   \n",
       "1983-01-01                                   0.0              9.000  111.149   \n",
       "1984-01-01                                   0.0              8.900  110.209   \n",
       "\n",
       "                CBI  \n",
       "Year                 \n",
       "1980-01-01  0.43875  \n",
       "1981-01-01  0.43875  \n",
       "1982-01-01  0.43875  \n",
       "1983-01-01  0.43875  \n",
       "1984-01-01  0.43875  "
      ]
     },
     "execution_count": 83,
     "metadata": {},
     "output_type": "execute_result"
    }
   ],
   "source": [
    "# We can either fill them with 0s\n",
    "peru_filled = peru.fillna(0)\n",
    "peru_filled.head()"
   ]
  },
  {
   "cell_type": "code",
   "execution_count": 85,
   "id": "4cc19b00-af71-4ba0-8b6d-885e9ce51f8b",
   "metadata": {
    "id": "4cc19b00-af71-4ba0-8b6d-885e9ce51f8b",
    "outputId": "cecc7df7-6a37-4462-988c-30cba3dbbbe4",
    "tags": []
   },
   "outputs": [
    {
     "data": {
      "text/html": [
       "<div>\n",
       "<style scoped>\n",
       "    .dataframe tbody tr th:only-of-type {\n",
       "        vertical-align: middle;\n",
       "    }\n",
       "\n",
       "    .dataframe tbody tr th {\n",
       "        vertical-align: top;\n",
       "    }\n",
       "\n",
       "    .dataframe thead th {\n",
       "        text-align: right;\n",
       "    }\n",
       "</style>\n",
       "<table border=\"1\" class=\"dataframe\">\n",
       "  <thead>\n",
       "    <tr style=\"text-align: right;\">\n",
       "      <th></th>\n",
       "      <th>Current account balance</th>\n",
       "      <th>General government net debt</th>\n",
       "      <th>General government total expenditure</th>\n",
       "      <th>Unemployment rate</th>\n",
       "      <th>CPI</th>\n",
       "      <th>CBI</th>\n",
       "    </tr>\n",
       "    <tr>\n",
       "      <th>Year</th>\n",
       "      <th></th>\n",
       "      <th></th>\n",
       "      <th></th>\n",
       "      <th></th>\n",
       "      <th></th>\n",
       "      <th></th>\n",
       "    </tr>\n",
       "  </thead>\n",
       "  <tbody>\n",
       "    <tr>\n",
       "      <th>2000-01-01</th>\n",
       "      <td>-3.064</td>\n",
       "      <td>37.680</td>\n",
       "      <td>21.735</td>\n",
       "      <td>7.847</td>\n",
       "      <td>3.759</td>\n",
       "      <td>0.81125</td>\n",
       "    </tr>\n",
       "    <tr>\n",
       "      <th>2001-01-01</th>\n",
       "      <td>-2.351</td>\n",
       "      <td>37.060</td>\n",
       "      <td>20.934</td>\n",
       "      <td>9.246</td>\n",
       "      <td>1.975</td>\n",
       "      <td>0.81125</td>\n",
       "    </tr>\n",
       "    <tr>\n",
       "      <th>2002-01-01</th>\n",
       "      <td>-2.031</td>\n",
       "      <td>38.128</td>\n",
       "      <td>19.649</td>\n",
       "      <td>9.420</td>\n",
       "      <td>0.192</td>\n",
       "      <td>0.81125</td>\n",
       "    </tr>\n",
       "    <tr>\n",
       "      <th>2003-01-01</th>\n",
       "      <td>-1.592</td>\n",
       "      <td>38.672</td>\n",
       "      <td>20.113</td>\n",
       "      <td>9.424</td>\n",
       "      <td>2.261</td>\n",
       "      <td>0.81125</td>\n",
       "    </tr>\n",
       "    <tr>\n",
       "      <th>2004-01-01</th>\n",
       "      <td>0.094</td>\n",
       "      <td>34.958</td>\n",
       "      <td>19.558</td>\n",
       "      <td>9.436</td>\n",
       "      <td>3.662</td>\n",
       "      <td>0.81125</td>\n",
       "    </tr>\n",
       "  </tbody>\n",
       "</table>\n",
       "</div>"
      ],
      "text/plain": [
       "            Current account balance  General government net debt  \\\n",
       "Year                                                               \n",
       "2000-01-01                   -3.064                       37.680   \n",
       "2001-01-01                   -2.351                       37.060   \n",
       "2002-01-01                   -2.031                       38.128   \n",
       "2003-01-01                   -1.592                       38.672   \n",
       "2004-01-01                    0.094                       34.958   \n",
       "\n",
       "            General government total expenditure  Unemployment rate    CPI  \\\n",
       "Year                                                                         \n",
       "2000-01-01                                21.735              7.847  3.759   \n",
       "2001-01-01                                20.934              9.246  1.975   \n",
       "2002-01-01                                19.649              9.420  0.192   \n",
       "2003-01-01                                20.113              9.424  2.261   \n",
       "2004-01-01                                19.558              9.436  3.662   \n",
       "\n",
       "                CBI  \n",
       "Year                 \n",
       "2000-01-01  0.81125  \n",
       "2001-01-01  0.81125  \n",
       "2002-01-01  0.81125  \n",
       "2003-01-01  0.81125  \n",
       "2004-01-01  0.81125  "
      ]
     },
     "execution_count": 85,
     "metadata": {},
     "output_type": "execute_result"
    }
   ],
   "source": [
    "# Or drop the observations with nans\n",
    "peru_dropped = peru.dropna()\n",
    "peru_dropped.head()"
   ]
  },
  {
   "cell_type": "code",
   "execution_count": 87,
   "id": "b4befeba",
   "metadata": {
    "id": "b4befeba",
    "outputId": "0fc0e3e1-77d6-4015-beb1-a9fdadc6e564"
   },
   "outputs": [
    {
     "data": {
      "text/html": [
       "<div>\n",
       "<style scoped>\n",
       "    .dataframe tbody tr th:only-of-type {\n",
       "        vertical-align: middle;\n",
       "    }\n",
       "\n",
       "    .dataframe tbody tr th {\n",
       "        vertical-align: top;\n",
       "    }\n",
       "\n",
       "    .dataframe thead th {\n",
       "        text-align: right;\n",
       "    }\n",
       "</style>\n",
       "<table border=\"1\" class=\"dataframe\">\n",
       "  <thead>\n",
       "    <tr style=\"text-align: right;\">\n",
       "      <th></th>\n",
       "      <th>Current account balance</th>\n",
       "      <th>General government net debt</th>\n",
       "      <th>General government total expenditure</th>\n",
       "      <th>Unemployment rate</th>\n",
       "      <th>CPI</th>\n",
       "      <th>CBI</th>\n",
       "    </tr>\n",
       "    <tr>\n",
       "      <th>Year</th>\n",
       "      <th></th>\n",
       "      <th></th>\n",
       "      <th></th>\n",
       "      <th></th>\n",
       "      <th></th>\n",
       "      <th></th>\n",
       "    </tr>\n",
       "  </thead>\n",
       "  <tbody>\n",
       "    <tr>\n",
       "      <th>1980-01-01</th>\n",
       "      <td>-5.175</td>\n",
       "      <td>NaN</td>\n",
       "      <td>NaN</td>\n",
       "      <td>7.326</td>\n",
       "      <td>59.145</td>\n",
       "      <td>0.43875</td>\n",
       "    </tr>\n",
       "    <tr>\n",
       "      <th>1981-01-01</th>\n",
       "      <td>-9.673</td>\n",
       "      <td>NaN</td>\n",
       "      <td>NaN</td>\n",
       "      <td>6.800</td>\n",
       "      <td>75.433</td>\n",
       "      <td>0.43875</td>\n",
       "    </tr>\n",
       "    <tr>\n",
       "      <th>1982-01-01</th>\n",
       "      <td>-9.142</td>\n",
       "      <td>NaN</td>\n",
       "      <td>NaN</td>\n",
       "      <td>6.400</td>\n",
       "      <td>64.460</td>\n",
       "      <td>0.43875</td>\n",
       "    </tr>\n",
       "    <tr>\n",
       "      <th>1983-01-01</th>\n",
       "      <td>-6.842</td>\n",
       "      <td>NaN</td>\n",
       "      <td>NaN</td>\n",
       "      <td>9.000</td>\n",
       "      <td>111.149</td>\n",
       "      <td>0.43875</td>\n",
       "    </tr>\n",
       "    <tr>\n",
       "      <th>1984-01-01</th>\n",
       "      <td>-1.381</td>\n",
       "      <td>NaN</td>\n",
       "      <td>NaN</td>\n",
       "      <td>8.900</td>\n",
       "      <td>110.209</td>\n",
       "      <td>0.43875</td>\n",
       "    </tr>\n",
       "  </tbody>\n",
       "</table>\n",
       "</div>"
      ],
      "text/plain": [
       "            Current account balance  General government net debt  \\\n",
       "Year                                                               \n",
       "1980-01-01                   -5.175                          NaN   \n",
       "1981-01-01                   -9.673                          NaN   \n",
       "1982-01-01                   -9.142                          NaN   \n",
       "1983-01-01                   -6.842                          NaN   \n",
       "1984-01-01                   -1.381                          NaN   \n",
       "\n",
       "            General government total expenditure  Unemployment rate      CPI  \\\n",
       "Year                                                                           \n",
       "1980-01-01                                   NaN              7.326   59.145   \n",
       "1981-01-01                                   NaN              6.800   75.433   \n",
       "1982-01-01                                   NaN              6.400   64.460   \n",
       "1983-01-01                                   NaN              9.000  111.149   \n",
       "1984-01-01                                   NaN              8.900  110.209   \n",
       "\n",
       "                CBI  \n",
       "Year                 \n",
       "1980-01-01  0.43875  \n",
       "1981-01-01  0.43875  \n",
       "1982-01-01  0.43875  \n",
       "1983-01-01  0.43875  \n",
       "1984-01-01  0.43875  "
      ]
     },
     "execution_count": 87,
     "metadata": {},
     "output_type": "execute_result"
    }
   ],
   "source": [
    "# We can't use interpolate because of the large number of missing values at the beggining of the dataset\n",
    "peru_interpolated = peru.interpolate(method='nearest').head()\n",
    "peru_interpolated.head()"
   ]
  },
  {
   "cell_type": "code",
   "execution_count": 89,
   "id": "3a2e5a8f-296f-456b-9f08-f1d56ebca141",
   "metadata": {
    "id": "3a2e5a8f-296f-456b-9f08-f1d56ebca141",
    "outputId": "22ba05ce-7124-4474-cc84-e74dfea6e75c",
    "tags": []
   },
   "outputs": [
    {
     "data": {
      "text/html": [
       "<div>\n",
       "<style scoped>\n",
       "    .dataframe tbody tr th:only-of-type {\n",
       "        vertical-align: middle;\n",
       "    }\n",
       "\n",
       "    .dataframe tbody tr th {\n",
       "        vertical-align: top;\n",
       "    }\n",
       "\n",
       "    .dataframe thead th {\n",
       "        text-align: right;\n",
       "    }\n",
       "</style>\n",
       "<table border=\"1\" class=\"dataframe\">\n",
       "  <thead>\n",
       "    <tr style=\"text-align: right;\">\n",
       "      <th></th>\n",
       "      <th>Current account balance</th>\n",
       "      <th>General government net debt</th>\n",
       "      <th>General government total expenditure</th>\n",
       "      <th>Unemployment rate</th>\n",
       "      <th>CPI</th>\n",
       "      <th>CBI</th>\n",
       "    </tr>\n",
       "  </thead>\n",
       "  <tbody>\n",
       "    <tr>\n",
       "      <th>count</th>\n",
       "      <td>21.000000</td>\n",
       "      <td>21.000000</td>\n",
       "      <td>21.000000</td>\n",
       "      <td>21.000000</td>\n",
       "      <td>21.000000</td>\n",
       "      <td>2.100000e+01</td>\n",
       "    </tr>\n",
       "    <tr>\n",
       "      <th>mean</th>\n",
       "      <td>-1.538429</td>\n",
       "      <td>17.664095</td>\n",
       "      <td>20.952190</td>\n",
       "      <td>8.064381</td>\n",
       "      <td>2.657238</td>\n",
       "      <td>8.112500e-01</td>\n",
       "    </tr>\n",
       "    <tr>\n",
       "      <th>std</th>\n",
       "      <td>2.203459</td>\n",
       "      <td>13.400022</td>\n",
       "      <td>1.690879</td>\n",
       "      <td>1.653685</td>\n",
       "      <td>1.197392</td>\n",
       "      <td>2.275280e-16</td>\n",
       "    </tr>\n",
       "    <tr>\n",
       "      <th>min</th>\n",
       "      <td>-4.814000</td>\n",
       "      <td>1.499000</td>\n",
       "      <td>18.593000</td>\n",
       "      <td>5.938000</td>\n",
       "      <td>0.192000</td>\n",
       "      <td>8.112500e-01</td>\n",
       "    </tr>\n",
       "    <tr>\n",
       "      <th>25%</th>\n",
       "      <td>-2.868000</td>\n",
       "      <td>6.912000</td>\n",
       "      <td>19.831000</td>\n",
       "      <td>6.742000</td>\n",
       "      <td>1.827000</td>\n",
       "      <td>8.112500e-01</td>\n",
       "    </tr>\n",
       "    <tr>\n",
       "      <th>50%</th>\n",
       "      <td>-1.975000</td>\n",
       "      <td>12.175000</td>\n",
       "      <td>20.946000</td>\n",
       "      <td>7.880000</td>\n",
       "      <td>2.804000</td>\n",
       "      <td>8.112500e-01</td>\n",
       "    </tr>\n",
       "    <tr>\n",
       "      <th>75%</th>\n",
       "      <td>-0.520000</td>\n",
       "      <td>31.966000</td>\n",
       "      <td>21.352000</td>\n",
       "      <td>9.246000</td>\n",
       "      <td>3.548000</td>\n",
       "      <td>8.112500e-01</td>\n",
       "    </tr>\n",
       "    <tr>\n",
       "      <th>max</th>\n",
       "      <td>3.331000</td>\n",
       "      <td>38.672000</td>\n",
       "      <td>26.862000</td>\n",
       "      <td>13.000000</td>\n",
       "      <td>5.788000</td>\n",
       "      <td>8.112500e-01</td>\n",
       "    </tr>\n",
       "  </tbody>\n",
       "</table>\n",
       "</div>"
      ],
      "text/plain": [
       "       Current account balance  General government net debt  \\\n",
       "count                21.000000                    21.000000   \n",
       "mean                 -1.538429                    17.664095   \n",
       "std                   2.203459                    13.400022   \n",
       "min                  -4.814000                     1.499000   \n",
       "25%                  -2.868000                     6.912000   \n",
       "50%                  -1.975000                    12.175000   \n",
       "75%                  -0.520000                    31.966000   \n",
       "max                   3.331000                    38.672000   \n",
       "\n",
       "       General government total expenditure  Unemployment rate        CPI  \\\n",
       "count                             21.000000          21.000000  21.000000   \n",
       "mean                              20.952190           8.064381   2.657238   \n",
       "std                                1.690879           1.653685   1.197392   \n",
       "min                               18.593000           5.938000   0.192000   \n",
       "25%                               19.831000           6.742000   1.827000   \n",
       "50%                               20.946000           7.880000   2.804000   \n",
       "75%                               21.352000           9.246000   3.548000   \n",
       "max                               26.862000          13.000000   5.788000   \n",
       "\n",
       "                CBI  \n",
       "count  2.100000e+01  \n",
       "mean   8.112500e-01  \n",
       "std    2.275280e-16  \n",
       "min    8.112500e-01  \n",
       "25%    8.112500e-01  \n",
       "50%    8.112500e-01  \n",
       "75%    8.112500e-01  \n",
       "max    8.112500e-01  "
      ]
     },
     "execution_count": 89,
     "metadata": {},
     "output_type": "execute_result"
    }
   ],
   "source": [
    "peru_dropped.describe()"
   ]
  },
  {
   "cell_type": "code",
   "execution_count": 91,
   "id": "1e64273f-2c11-4b63-94f0-4f18213a9832",
   "metadata": {
    "id": "1e64273f-2c11-4b63-94f0-4f18213a9832",
    "outputId": "30c9deef-c19d-4967-82f1-eafc9eb77e19",
    "tags": []
   },
   "outputs": [
    {
     "data": {
      "text/html": [
       "<div>\n",
       "<style scoped>\n",
       "    .dataframe tbody tr th:only-of-type {\n",
       "        vertical-align: middle;\n",
       "    }\n",
       "\n",
       "    .dataframe tbody tr th {\n",
       "        vertical-align: top;\n",
       "    }\n",
       "\n",
       "    .dataframe thead th {\n",
       "        text-align: right;\n",
       "    }\n",
       "</style>\n",
       "<table border=\"1\" class=\"dataframe\">\n",
       "  <thead>\n",
       "    <tr style=\"text-align: right;\">\n",
       "      <th></th>\n",
       "      <th>Current account balance</th>\n",
       "      <th>General government net debt</th>\n",
       "      <th>General government total expenditure</th>\n",
       "      <th>Unemployment rate</th>\n",
       "      <th>CPI</th>\n",
       "      <th>CBI</th>\n",
       "    </tr>\n",
       "  </thead>\n",
       "  <tbody>\n",
       "    <tr>\n",
       "      <th>count</th>\n",
       "      <td>42.000000</td>\n",
       "      <td>42.000000</td>\n",
       "      <td>42.000000</td>\n",
       "      <td>42.000000</td>\n",
       "      <td>42.000000</td>\n",
       "      <td>42.000000</td>\n",
       "    </tr>\n",
       "    <tr>\n",
       "      <th>mean</th>\n",
       "      <td>-3.368333</td>\n",
       "      <td>9.303190</td>\n",
       "      <td>11.036762</td>\n",
       "      <td>7.779119</td>\n",
       "      <td>308.276262</td>\n",
       "      <td>0.685506</td>\n",
       "    </tr>\n",
       "    <tr>\n",
       "      <th>std</th>\n",
       "      <td>3.052220</td>\n",
       "      <td>12.972889</td>\n",
       "      <td>10.723288</td>\n",
       "      <td>1.752538</td>\n",
       "      <td>1251.651998</td>\n",
       "      <td>0.201162</td>\n",
       "    </tr>\n",
       "    <tr>\n",
       "      <th>min</th>\n",
       "      <td>-9.673000</td>\n",
       "      <td>0.000000</td>\n",
       "      <td>0.000000</td>\n",
       "      <td>4.156000</td>\n",
       "      <td>0.000000</td>\n",
       "      <td>0.000000</td>\n",
       "    </tr>\n",
       "    <tr>\n",
       "      <th>25%</th>\n",
       "      <td>-5.428250</td>\n",
       "      <td>0.000000</td>\n",
       "      <td>0.000000</td>\n",
       "      <td>6.710500</td>\n",
       "      <td>2.396750</td>\n",
       "      <td>0.438750</td>\n",
       "    </tr>\n",
       "    <tr>\n",
       "      <th>50%</th>\n",
       "      <td>-2.966000</td>\n",
       "      <td>2.088000</td>\n",
       "      <td>18.877500</td>\n",
       "      <td>7.863500</td>\n",
       "      <td>3.710500</td>\n",
       "      <td>0.811250</td>\n",
       "    </tr>\n",
       "    <tr>\n",
       "      <th>75%</th>\n",
       "      <td>-1.285000</td>\n",
       "      <td>12.829750</td>\n",
       "      <td>20.949750</td>\n",
       "      <td>8.975000</td>\n",
       "      <td>71.261750</td>\n",
       "      <td>0.811250</td>\n",
       "    </tr>\n",
       "    <tr>\n",
       "      <th>max</th>\n",
       "      <td>3.331000</td>\n",
       "      <td>38.672000</td>\n",
       "      <td>26.862000</td>\n",
       "      <td>13.000000</td>\n",
       "      <td>7481.691000</td>\n",
       "      <td>0.811250</td>\n",
       "    </tr>\n",
       "  </tbody>\n",
       "</table>\n",
       "</div>"
      ],
      "text/plain": [
       "       Current account balance  General government net debt  \\\n",
       "count                42.000000                    42.000000   \n",
       "mean                 -3.368333                     9.303190   \n",
       "std                   3.052220                    12.972889   \n",
       "min                  -9.673000                     0.000000   \n",
       "25%                  -5.428250                     0.000000   \n",
       "50%                  -2.966000                     2.088000   \n",
       "75%                  -1.285000                    12.829750   \n",
       "max                   3.331000                    38.672000   \n",
       "\n",
       "       General government total expenditure  Unemployment rate          CPI  \\\n",
       "count                             42.000000          42.000000    42.000000   \n",
       "mean                              11.036762           7.779119   308.276262   \n",
       "std                               10.723288           1.752538  1251.651998   \n",
       "min                                0.000000           4.156000     0.000000   \n",
       "25%                                0.000000           6.710500     2.396750   \n",
       "50%                               18.877500           7.863500     3.710500   \n",
       "75%                               20.949750           8.975000    71.261750   \n",
       "max                               26.862000          13.000000  7481.691000   \n",
       "\n",
       "             CBI  \n",
       "count  42.000000  \n",
       "mean    0.685506  \n",
       "std     0.201162  \n",
       "min     0.000000  \n",
       "25%     0.438750  \n",
       "50%     0.811250  \n",
       "75%     0.811250  \n",
       "max     0.811250  "
      ]
     },
     "execution_count": 91,
     "metadata": {},
     "output_type": "execute_result"
    }
   ],
   "source": [
    "peru_filled.describe()"
   ]
  },
  {
   "cell_type": "markdown",
   "id": "04078b1a",
   "metadata": {
    "id": "04078b1a"
   },
   "source": [
    "# <a href='#t2'>12. Probabilidades</a>"
   ]
  },
  {
   "cell_type": "markdown",
   "id": "9b413c00",
   "metadata": {
    "id": "9b413c00"
   },
   "source": [
    "## <a id='2.1.'> 12.1 Calculando probabilidades </a>\n",
    "Analizamos el dataframe de negocios, que muestra los negocios que un empleado hizo con diferentes clientes durante el último año. Contiene la siguiente información:\n",
    "- producto: producto del negocio\n",
    "- cliente: Nuevo o Actual\n",
    "- estado: Ganado o Perdido\n",
    "- monto: monto del negocio\n",
    "- num_usuarios: número de usuarios del producto\n",
    "\n",
    "Calculemos la probabilidad de seleccionar un negocio para los diferentes tipos de productos.\n"
   ]
  },
  {
   "cell_type": "code",
   "execution_count": 93,
   "id": "3723bb84",
   "metadata": {
    "id": "3723bb84",
    "outputId": "f06b13ef-7d57-4ff9-e407-43f5405cef35"
   },
   "outputs": [
    {
     "data": {
      "text/html": [
       "<div>\n",
       "<style scoped>\n",
       "    .dataframe tbody tr th:only-of-type {\n",
       "        vertical-align: middle;\n",
       "    }\n",
       "\n",
       "    .dataframe tbody tr th {\n",
       "        vertical-align: top;\n",
       "    }\n",
       "\n",
       "    .dataframe thead th {\n",
       "        text-align: right;\n",
       "    }\n",
       "</style>\n",
       "<table border=\"1\" class=\"dataframe\">\n",
       "  <thead>\n",
       "    <tr style=\"text-align: right;\">\n",
       "      <th></th>\n",
       "      <th>product</th>\n",
       "      <th>client</th>\n",
       "      <th>status</th>\n",
       "      <th>amount</th>\n",
       "      <th>num_users</th>\n",
       "    </tr>\n",
       "  </thead>\n",
       "  <tbody>\n",
       "    <tr>\n",
       "      <th>0</th>\n",
       "      <td>Product F</td>\n",
       "      <td>Current</td>\n",
       "      <td>Won</td>\n",
       "      <td>7389.52</td>\n",
       "      <td>19</td>\n",
       "    </tr>\n",
       "    <tr>\n",
       "      <th>1</th>\n",
       "      <td>Product C</td>\n",
       "      <td>New</td>\n",
       "      <td>Won</td>\n",
       "      <td>4493.01</td>\n",
       "      <td>43</td>\n",
       "    </tr>\n",
       "    <tr>\n",
       "      <th>2</th>\n",
       "      <td>Product B</td>\n",
       "      <td>New</td>\n",
       "      <td>Won</td>\n",
       "      <td>5738.09</td>\n",
       "      <td>87</td>\n",
       "    </tr>\n",
       "    <tr>\n",
       "      <th>3</th>\n",
       "      <td>Product I</td>\n",
       "      <td>Current</td>\n",
       "      <td>Won</td>\n",
       "      <td>2591.24</td>\n",
       "      <td>83</td>\n",
       "    </tr>\n",
       "    <tr>\n",
       "      <th>4</th>\n",
       "      <td>Product E</td>\n",
       "      <td>Current</td>\n",
       "      <td>Won</td>\n",
       "      <td>6622.97</td>\n",
       "      <td>17</td>\n",
       "    </tr>\n",
       "  </tbody>\n",
       "</table>\n",
       "</div>"
      ],
      "text/plain": [
       "     product   client status   amount  num_users\n",
       "0  Product F  Current    Won  7389.52         19\n",
       "1  Product C      New    Won  4493.01         43\n",
       "2  Product B      New    Won  5738.09         87\n",
       "3  Product I  Current    Won  2591.24         83\n",
       "4  Product E  Current    Won  6622.97         17"
      ]
     },
     "execution_count": 93,
     "metadata": {},
     "output_type": "execute_result"
    }
   ],
   "source": [
    ">>> deals = pd.read_csv('../Datasets/deals.csv')\n",
    ">>> deals.head()"
   ]
  },
  {
   "cell_type": "code",
   "execution_count": 95,
   "id": "a2bf4068",
   "metadata": {
    "id": "a2bf4068",
    "outputId": "6184903c-b0bd-44cf-d9f6-ba18a0ce176f"
   },
   "outputs": [
    {
     "data": {
      "text/plain": [
       "product\n",
       "Product B    62\n",
       "Product D    40\n",
       "Product A    23\n",
       "Product C    15\n",
       "Product F    11\n",
       "Product H     8\n",
       "Product I     7\n",
       "Product E     5\n",
       "Product N     3\n",
       "Product G     2\n",
       "Product J     2\n",
       "Name: count, dtype: int64"
      ]
     },
     "execution_count": 95,
     "metadata": {},
     "output_type": "execute_result"
    }
   ],
   "source": [
    "# We first count the number of deals with each product\n",
    "counts = deals['product'].value_counts()\n",
    "counts"
   ]
  },
  {
   "cell_type": "code",
   "execution_count": 97,
   "id": "51ae1c2b",
   "metadata": {
    "id": "51ae1c2b",
    "outputId": "ec5f8e64-0579-41a0-dc1b-6f28a90a660f"
   },
   "outputs": [
    {
     "name": "stdout",
     "output_type": "stream",
     "text": [
      "product\n",
      "Product B    0.348315\n",
      "Product D    0.224719\n",
      "Product A    0.129213\n",
      "Product C    0.084270\n",
      "Product F    0.061798\n",
      "Product H    0.044944\n",
      "Product I    0.039326\n",
      "Product E    0.028090\n",
      "Product N    0.016854\n",
      "Product G    0.011236\n",
      "Product J    0.011236\n",
      "Name: count, dtype: float64\n"
     ]
    }
   ],
   "source": [
    "# We calculate probability of picking a deal with each product\n",
    "probs = counts / counts.sum()\n",
    "print(probs)"
   ]
  },
  {
   "cell_type": "code",
   "execution_count": 99,
   "id": "929ab5f4",
   "metadata": {
    "id": "929ab5f4",
    "outputId": "2b8e3d31-a7ed-4f0a-880d-71b8c31caa77"
   },
   "outputs": [
    {
     "data": {
      "text/plain": [
       "1.0"
      ]
     },
     "execution_count": 99,
     "metadata": {},
     "output_type": "execute_result"
    }
   ],
   "source": [
    "# We sum the probabilities and get 1 or 100%\n",
    "round(probs.sum(), 2)"
   ]
  },
  {
   "cell_type": "markdown",
   "id": "f7940151",
   "metadata": {
    "id": "f7940151"
   },
   "source": [
    "## <a id='2.2.'> 12.2 Muestreo </a>\n",
    "Supongamos que queremos seleccionar aleatoriamente diez negocios para poder comunicarnos con cada cliente y preguntarles si estaban satisfechos con el servicio que recibieron. Vamos a realizar un muestreo tanto con reemplazo como sin reemplazo utilizando el método ```sample```."
   ]
  },
  {
   "cell_type": "code",
   "execution_count": 101,
   "id": "07b3f9a5",
   "metadata": {
    "id": "07b3f9a5"
   },
   "outputs": [],
   "source": [
    "# We set a random seed so we can repeat the experiment\n",
    "np.random.seed(42)"
   ]
  },
  {
   "cell_type": "code",
   "execution_count": 103,
   "id": "2b64fcde",
   "metadata": {
    "id": "2b64fcde",
    "outputId": "ec2ca0c0-a7fa-4e0a-be44-cf352fcf2604"
   },
   "outputs": [
    {
     "data": {
      "text/html": [
       "<div>\n",
       "<style scoped>\n",
       "    .dataframe tbody tr th:only-of-type {\n",
       "        vertical-align: middle;\n",
       "    }\n",
       "\n",
       "    .dataframe tbody tr th {\n",
       "        vertical-align: top;\n",
       "    }\n",
       "\n",
       "    .dataframe thead th {\n",
       "        text-align: right;\n",
       "    }\n",
       "</style>\n",
       "<table border=\"1\" class=\"dataframe\">\n",
       "  <thead>\n",
       "    <tr style=\"text-align: right;\">\n",
       "      <th></th>\n",
       "      <th>product</th>\n",
       "      <th>client</th>\n",
       "      <th>status</th>\n",
       "      <th>amount</th>\n",
       "      <th>num_users</th>\n",
       "    </tr>\n",
       "  </thead>\n",
       "  <tbody>\n",
       "    <tr>\n",
       "      <th>19</th>\n",
       "      <td>Product I</td>\n",
       "      <td>Current</td>\n",
       "      <td>Won</td>\n",
       "      <td>3220.45</td>\n",
       "      <td>45</td>\n",
       "    </tr>\n",
       "    <tr>\n",
       "      <th>45</th>\n",
       "      <td>Product B</td>\n",
       "      <td>Current</td>\n",
       "      <td>Won</td>\n",
       "      <td>8614.12</td>\n",
       "      <td>17</td>\n",
       "    </tr>\n",
       "    <tr>\n",
       "      <th>140</th>\n",
       "      <td>Product B</td>\n",
       "      <td>Current</td>\n",
       "      <td>Lost</td>\n",
       "      <td>5856.18</td>\n",
       "      <td>45</td>\n",
       "    </tr>\n",
       "    <tr>\n",
       "      <th>30</th>\n",
       "      <td>Product C</td>\n",
       "      <td>New</td>\n",
       "      <td>Won</td>\n",
       "      <td>6151.14</td>\n",
       "      <td>66</td>\n",
       "    </tr>\n",
       "    <tr>\n",
       "      <th>67</th>\n",
       "      <td>Product B</td>\n",
       "      <td>Current</td>\n",
       "      <td>Won</td>\n",
       "      <td>4571.26</td>\n",
       "      <td>19</td>\n",
       "    </tr>\n",
       "    <tr>\n",
       "      <th>16</th>\n",
       "      <td>Product D</td>\n",
       "      <td>Current</td>\n",
       "      <td>Won</td>\n",
       "      <td>5282.57</td>\n",
       "      <td>58</td>\n",
       "    </tr>\n",
       "    <tr>\n",
       "      <th>119</th>\n",
       "      <td>Product B</td>\n",
       "      <td>Current</td>\n",
       "      <td>Won</td>\n",
       "      <td>1597.44</td>\n",
       "      <td>37</td>\n",
       "    </tr>\n",
       "    <tr>\n",
       "      <th>174</th>\n",
       "      <td>Product D</td>\n",
       "      <td>Current</td>\n",
       "      <td>Won</td>\n",
       "      <td>6377.50</td>\n",
       "      <td>12</td>\n",
       "    </tr>\n",
       "    <tr>\n",
       "      <th>109</th>\n",
       "      <td>Product H</td>\n",
       "      <td>Current</td>\n",
       "      <td>Won</td>\n",
       "      <td>5257.16</td>\n",
       "      <td>22</td>\n",
       "    </tr>\n",
       "    <tr>\n",
       "      <th>141</th>\n",
       "      <td>Product B</td>\n",
       "      <td>Current</td>\n",
       "      <td>Won</td>\n",
       "      <td>4795.64</td>\n",
       "      <td>8</td>\n",
       "    </tr>\n",
       "  </tbody>\n",
       "</table>\n",
       "</div>"
      ],
      "text/plain": [
       "       product   client status   amount  num_users\n",
       "19   Product I  Current    Won  3220.45         45\n",
       "45   Product B  Current    Won  8614.12         17\n",
       "140  Product B  Current   Lost  5856.18         45\n",
       "30   Product C      New    Won  6151.14         66\n",
       "67   Product B  Current    Won  4571.26         19\n",
       "16   Product D  Current    Won  5282.57         58\n",
       "119  Product B  Current    Won  1597.44         37\n",
       "174  Product D  Current    Won  6377.50         12\n",
       "109  Product H  Current    Won  5257.16         22\n",
       "141  Product B  Current    Won  4795.64          8"
      ]
     },
     "execution_count": 103,
     "metadata": {},
     "output_type": "execute_result"
    }
   ],
   "source": [
    "sample_without_replacement = deals.sample(10, replace = False)\n",
    "sample_without_replacement"
   ]
  },
  {
   "cell_type": "code",
   "execution_count": 105,
   "id": "6a230519",
   "metadata": {
    "id": "6a230519",
    "outputId": "0fe87e3c-e90f-4f35-92ef-5e8e98bbd9f7"
   },
   "outputs": [
    {
     "data": {
      "text/html": [
       "<div>\n",
       "<style scoped>\n",
       "    .dataframe tbody tr th:only-of-type {\n",
       "        vertical-align: middle;\n",
       "    }\n",
       "\n",
       "    .dataframe tbody tr th {\n",
       "        vertical-align: top;\n",
       "    }\n",
       "\n",
       "    .dataframe thead th {\n",
       "        text-align: right;\n",
       "    }\n",
       "</style>\n",
       "<table border=\"1\" class=\"dataframe\">\n",
       "  <thead>\n",
       "    <tr style=\"text-align: right;\">\n",
       "      <th></th>\n",
       "      <th>product</th>\n",
       "      <th>client</th>\n",
       "      <th>status</th>\n",
       "      <th>amount</th>\n",
       "      <th>num_users</th>\n",
       "    </tr>\n",
       "  </thead>\n",
       "  <tbody>\n",
       "    <tr>\n",
       "      <th>102</th>\n",
       "      <td>Product D</td>\n",
       "      <td>New</td>\n",
       "      <td>Lost</td>\n",
       "      <td>1196.53</td>\n",
       "      <td>63</td>\n",
       "    </tr>\n",
       "    <tr>\n",
       "      <th>92</th>\n",
       "      <td>Product A</td>\n",
       "      <td>Current</td>\n",
       "      <td>Won</td>\n",
       "      <td>4509.96</td>\n",
       "      <td>92</td>\n",
       "    </tr>\n",
       "    <tr>\n",
       "      <th>14</th>\n",
       "      <td>Product B</td>\n",
       "      <td>Current</td>\n",
       "      <td>Lost</td>\n",
       "      <td>7030.54</td>\n",
       "      <td>41</td>\n",
       "    </tr>\n",
       "    <tr>\n",
       "      <th>106</th>\n",
       "      <td>Product H</td>\n",
       "      <td>Current</td>\n",
       "      <td>Won</td>\n",
       "      <td>4547.97</td>\n",
       "      <td>13</td>\n",
       "    </tr>\n",
       "    <tr>\n",
       "      <th>71</th>\n",
       "      <td>Product A</td>\n",
       "      <td>Current</td>\n",
       "      <td>Won</td>\n",
       "      <td>5945.63</td>\n",
       "      <td>55</td>\n",
       "    </tr>\n",
       "    <tr>\n",
       "      <th>20</th>\n",
       "      <td>Product F</td>\n",
       "      <td>Current</td>\n",
       "      <td>Lost</td>\n",
       "      <td>6849.12</td>\n",
       "      <td>19</td>\n",
       "    </tr>\n",
       "    <tr>\n",
       "      <th>102</th>\n",
       "      <td>Product D</td>\n",
       "      <td>New</td>\n",
       "      <td>Lost</td>\n",
       "      <td>1196.53</td>\n",
       "      <td>63</td>\n",
       "    </tr>\n",
       "    <tr>\n",
       "      <th>121</th>\n",
       "      <td>Product B</td>\n",
       "      <td>Current</td>\n",
       "      <td>Won</td>\n",
       "      <td>4831.73</td>\n",
       "      <td>12</td>\n",
       "    </tr>\n",
       "    <tr>\n",
       "      <th>74</th>\n",
       "      <td>Product D</td>\n",
       "      <td>Current</td>\n",
       "      <td>Lost</td>\n",
       "      <td>4274.80</td>\n",
       "      <td>9</td>\n",
       "    </tr>\n",
       "    <tr>\n",
       "      <th>87</th>\n",
       "      <td>Product C</td>\n",
       "      <td>Current</td>\n",
       "      <td>Won</td>\n",
       "      <td>3579.63</td>\n",
       "      <td>3</td>\n",
       "    </tr>\n",
       "  </tbody>\n",
       "</table>\n",
       "</div>"
      ],
      "text/plain": [
       "       product   client status   amount  num_users\n",
       "102  Product D      New   Lost  1196.53         63\n",
       "92   Product A  Current    Won  4509.96         92\n",
       "14   Product B  Current   Lost  7030.54         41\n",
       "106  Product H  Current    Won  4547.97         13\n",
       "71   Product A  Current    Won  5945.63         55\n",
       "20   Product F  Current   Lost  6849.12         19\n",
       "102  Product D      New   Lost  1196.53         63\n",
       "121  Product B  Current    Won  4831.73         12\n",
       "74   Product D  Current   Lost  4274.80          9\n",
       "87   Product C  Current    Won  3579.63          3"
      ]
     },
     "execution_count": 105,
     "metadata": {},
     "output_type": "execute_result"
    }
   ],
   "source": [
    "# We set a random seed so we can repeat the experiment\n",
    "np.random.seed(42)\n",
    "\n",
    "# We sample 10 deals with replacement\n",
    "sample_with_replacement = deals.sample(10, replace = True)\n",
    "sample_with_replacement"
   ]
  },
  {
   "cell_type": "markdown",
   "id": "b94a896b",
   "metadata": {
    "id": "b94a896b"
   },
   "source": [
    "Dado que queremos obtener el mayor número posible de opiniones variadas, en este ejemplo, sería mejor hacer un muestreo sin reemplazo.\n"
   ]
  },
  {
   "cell_type": "markdown",
   "id": "307106c3",
   "metadata": {
    "id": "307106c3"
   },
   "source": [
    "# <a id='t3'>13. Distribuciones usando scipy.stats</a>\n"
   ]
  },
  {
   "cell_type": "markdown",
   "id": "73e363b9",
   "metadata": {
    "id": "73e363b9"
   },
   "source": [
    "Más información de scipy.stats: https://docs.scipy.org/doc/scipy/reference/stats.html"
   ]
  },
  {
   "cell_type": "markdown",
   "id": "72ef9ff8",
   "metadata": {
    "id": "72ef9ff8"
   },
   "source": [
    "## <a id='3.1.'> 13.1 Distribuciones de probabilidad discretas </a>\n",
    "Una distribución de probabilidad es una función matemática que describe la probabilidad de obtener diferentes resultados posibles en un experimento o proceso aleatorio. Proporciona una forma de modelar la incertidumbre y la aleatoriedad en varios campos como la estadística, la teoría de probabilidades y el aprendizaje automático. Las distribuciones de probabilidad pueden ser discretas o continuas, dependiendo de la naturaleza de la variable aleatoria que describen. Veremos distribuciones discretas. Primero, con un ejemplo de una distribución empírica y luego, una distribución uniforme de dados.\n"
   ]
  },
  {
   "cell_type": "markdown",
   "id": "419f3406",
   "metadata": {
    "id": "419f3406"
   },
   "source": [
    "### <a id='3.1.1'> Distribución empírica discreta </a>  \n"
   ]
  },
  {
   "cell_type": "code",
   "execution_count": 107,
   "id": "b88ee41d",
   "metadata": {
    "id": "b88ee41d"
   },
   "outputs": [],
   "source": [
    "data = {'group_id': ['A', 'B', 'C', 'D', 'E', 'F', 'G', 'H', 'I', 'J', 'K', 'L'],\n",
    "        'group_size': [3, 5, 6, 2, 4, 2, 3, 2, 5, 2, 3, 7]}\n",
    "\n",
    "data = pd.DataFrame(data)"
   ]
  },
  {
   "cell_type": "markdown",
   "id": "4c913e8b",
   "metadata": {
    "id": "4c913e8b"
   },
   "source": [
    "Supongamos que tenemos 12 grupos diferentes y queremos seleccionarlos aleatoriamente. Veamos la distribución de probabilidad de que se elijan grupos de diferentes tamaños.\n",
    "\n",
    "Primero, creamos un histograma de la columna `group_size` para ver cómo está distribuida. Podemos ver que la mayoría de los grupos consisten en solo 2 o 3 personas."
   ]
  },
  {
   "cell_type": "code",
   "execution_count": 115,
   "id": "cdb215a2",
   "metadata": {
    "id": "cdb215a2",
    "outputId": "5434915f-3fcf-4131-ec81-3e3e59b80ecf"
   },
   "outputs": [
    {
     "data": {
      "image/png": "[encoded data removed]",
      "text/plain": [
       "<Figure size 640x480 with 1 Axes>"
      ]
     },
     "metadata": {},
     "output_type": "display_data"
    }
   ],
   "source": [
    "data['group_size'].hist(bins = [2, 3, 4, 5, 6, 7, 8])\n",
    "plt.ylabel('# of Groups')\n",
    "plt.xlabel('Number of people')\n",
    "plt.show()"
   ]
  },
  {
   "cell_type": "markdown",
   "id": "2fa11600",
   "metadata": {
    "id": "2fa11600"
   },
   "source": [
    "Luego, contamos las ocurrencias de cada `group_size` en `restaurant_groups`. Posteriormente, dividimos por el número total de filas en `restaurant_groups` para determinar la probabilidad asociada con seleccionar aleatoriamente un grupo de cada tamaño. Los resultados se almacenan en un DataFrame llamado `size_dist`. Después de esto, restablecemos el índice de `size_dist` y procedemos a renombrar sus columnas a 'group_size' y 'prob'.\n"
   ]
  },
  {
   "cell_type": "code",
   "execution_count": 117,
   "id": "e1a58fb4",
   "metadata": {
    "id": "e1a58fb4",
    "outputId": "bd9544fb-bb7d-4614-ca95-c6df52aa01a6"
   },
   "outputs": [
    {
     "data": {
      "text/html": [
       "<div>\n",
       "<style scoped>\n",
       "    .dataframe tbody tr th:only-of-type {\n",
       "        vertical-align: middle;\n",
       "    }\n",
       "\n",
       "    .dataframe tbody tr th {\n",
       "        vertical-align: top;\n",
       "    }\n",
       "\n",
       "    .dataframe thead th {\n",
       "        text-align: right;\n",
       "    }\n",
       "</style>\n",
       "<table border=\"1\" class=\"dataframe\">\n",
       "  <thead>\n",
       "    <tr style=\"text-align: right;\">\n",
       "      <th></th>\n",
       "      <th>group_size</th>\n",
       "      <th>prob</th>\n",
       "    </tr>\n",
       "  </thead>\n",
       "  <tbody>\n",
       "    <tr>\n",
       "      <th>0</th>\n",
       "      <td>2</td>\n",
       "      <td>0.333333</td>\n",
       "    </tr>\n",
       "    <tr>\n",
       "      <th>1</th>\n",
       "      <td>3</td>\n",
       "      <td>0.250000</td>\n",
       "    </tr>\n",
       "    <tr>\n",
       "      <th>2</th>\n",
       "      <td>4</td>\n",
       "      <td>0.083333</td>\n",
       "    </tr>\n",
       "    <tr>\n",
       "      <th>3</th>\n",
       "      <td>5</td>\n",
       "      <td>0.166667</td>\n",
       "    </tr>\n",
       "    <tr>\n",
       "      <th>4</th>\n",
       "      <td>6</td>\n",
       "      <td>0.083333</td>\n",
       "    </tr>\n",
       "    <tr>\n",
       "      <th>5</th>\n",
       "      <td>7</td>\n",
       "      <td>0.083333</td>\n",
       "    </tr>\n",
       "  </tbody>\n",
       "</table>\n",
       "</div>"
      ],
      "text/plain": [
       "   group_size      prob\n",
       "0           2  0.333333\n",
       "1           3  0.250000\n",
       "2           4  0.083333\n",
       "3           5  0.166667\n",
       "4           6  0.083333\n",
       "5           7  0.083333"
      ]
     },
     "execution_count": 117,
     "metadata": {},
     "output_type": "execute_result"
    }
   ],
   "source": [
    "# We create probability distribution\n",
    "size_dist = data.groupby('group_size').count() / len(data)\n",
    "\n",
    "# We reset index and rename columns\n",
    "size_dist = size_dist.reset_index()\n",
    "size_dist.columns = ['group_size', 'prob']\n",
    "\n",
    "size_dist"
   ]
  },
  {
   "cell_type": "markdown",
   "id": "35aed032",
   "metadata": {
    "id": "35aed032"
   },
   "source": [
    "Observamos que los grupos de 2, 3 y 5 personas son los más propensos a ser elegidos. A continuación, calculamos el valor esperado de la `size_distribution`, que representa el tamaño de grupo anticipado. Esto implica multiplicar cada `group_size` por su probabilidad correspondiente (`prob`) y sumar los resultados.\n"
   ]
  },
  {
   "cell_type": "code",
   "execution_count": 119,
   "id": "a5632d62",
   "metadata": {
    "id": "a5632d62",
    "outputId": "d64ffbd2-eec8-47fa-ccd8-b0f968b4bd63"
   },
   "outputs": [
    {
     "name": "stdout",
     "output_type": "stream",
     "text": [
      "3.67\n"
     ]
    }
   ],
   "source": [
    "# We calculate the expected value\n",
    "expected_value = np.sum(size_dist['group_size'] * size_dist['prob'])\n",
    "print(round(expected_value, 2))"
   ]
  },
  {
   "cell_type": "markdown",
   "id": "36528663",
   "metadata": {
    "id": "36528663"
   },
   "source": [
    "Finalmente, determinamos la probabilidad de seleccionar aleatoriamente un grupo compuesto por 4 o más personas subagrupando esos grupos. Posteriormente, sumamos las probabilidades asociadas con la elección de grupos de este tamaño o más grandes.\n"
   ]
  },
  {
   "cell_type": "code",
   "execution_count": 121,
   "id": "f676099d",
   "metadata": {
    "id": "f676099d",
    "outputId": "2e862cd0-3943-4cfa-d118-0155baa06938"
   },
   "outputs": [
    {
     "name": "stdout",
     "output_type": "stream",
     "text": [
      "0.41666666666666663\n"
     ]
    }
   ],
   "source": [
    "# Subset groups of size 4 or more\n",
    "groups_4_or_more = size_dist[size_dist['group_size'] >= 4]\n",
    "\n",
    "# Sum the probabilities of groups_4_or_more\n",
    "prob_4_or_more = groups_4_or_more['prob'].sum()\n",
    "print(prob_4_or_more)"
   ]
  },
  {
   "cell_type": "markdown",
   "id": "22e0de9e",
   "metadata": {
    "id": "22e0de9e"
   },
   "source": [
    "### <a id='3.1.2'> Distribución Uniforme Discreta </a>  "
   ]
  },
  {
   "cell_type": "code",
   "execution_count": 123,
   "id": "9df8505a",
   "metadata": {
    "id": "9df8505a"
   },
   "outputs": [],
   "source": [
    "dado  = {'number': [1, 2, 3, 4, 5, 6],\n",
    "        'times': [1, 1, 1, 1, 1, 1]}\n",
    "\n",
    "dado  = pd.DataFrame(dado)"
   ]
  },
  {
   "cell_type": "markdown",
   "id": "ddded25e",
   "metadata": {
    "id": "ddded25e"
   },
   "source": [
    "Al trazar el histograma, podemos ver que cada número del dado tiene la misma probabilidad de ser elegido al lanzar el dado.\n"
   ]
  },
  {
   "cell_type": "code",
   "execution_count": 125,
   "id": "94f58e50",
   "metadata": {
    "id": "94f58e50",
    "outputId": "fdf672f5-ed63-46c7-fa1f-17df2f6a138f"
   },
   "outputs": [
    {
     "data": {
      "image/png": "[encoded data removed]",
      "text/plain": [
       "<Figure size 640x480 with 1 Axes>"
      ]
     },
     "metadata": {},
     "output_type": "display_data"
    }
   ],
   "source": [
    "dado['number'].hist(bins = [1, 2, 3, 4, 5, 6, 7])\n",
    "plt.ylabel('number of times')\n",
    "plt.xlabel('die number')\n",
    "plt.show()"
   ]
  },
  {
   "cell_type": "markdown",
   "id": "86a887cf",
   "metadata": {
    "id": "86a887cf"
   },
   "source": [
    "Cada número tiene 1/6 o 17% de probabilidad de ser seleccionado"
   ]
  },
  {
   "cell_type": "code",
   "execution_count": 127,
   "id": "becb47e3",
   "metadata": {
    "id": "becb47e3",
    "outputId": "17774e1c-575b-4e2f-8ac0-e3aa2d6a0fac"
   },
   "outputs": [
    {
     "data": {
      "text/html": [
       "<div>\n",
       "<style scoped>\n",
       "    .dataframe tbody tr th:only-of-type {\n",
       "        vertical-align: middle;\n",
       "    }\n",
       "\n",
       "    .dataframe tbody tr th {\n",
       "        vertical-align: top;\n",
       "    }\n",
       "\n",
       "    .dataframe thead th {\n",
       "        text-align: right;\n",
       "    }\n",
       "</style>\n",
       "<table border=\"1\" class=\"dataframe\">\n",
       "  <thead>\n",
       "    <tr style=\"text-align: right;\">\n",
       "      <th></th>\n",
       "      <th>number</th>\n",
       "      <th>prob</th>\n",
       "    </tr>\n",
       "  </thead>\n",
       "  <tbody>\n",
       "    <tr>\n",
       "      <th>0</th>\n",
       "      <td>1</td>\n",
       "      <td>0.166667</td>\n",
       "    </tr>\n",
       "    <tr>\n",
       "      <th>1</th>\n",
       "      <td>2</td>\n",
       "      <td>0.166667</td>\n",
       "    </tr>\n",
       "    <tr>\n",
       "      <th>2</th>\n",
       "      <td>3</td>\n",
       "      <td>0.166667</td>\n",
       "    </tr>\n",
       "    <tr>\n",
       "      <th>3</th>\n",
       "      <td>4</td>\n",
       "      <td>0.166667</td>\n",
       "    </tr>\n",
       "    <tr>\n",
       "      <th>4</th>\n",
       "      <td>5</td>\n",
       "      <td>0.166667</td>\n",
       "    </tr>\n",
       "    <tr>\n",
       "      <th>5</th>\n",
       "      <td>6</td>\n",
       "      <td>0.166667</td>\n",
       "    </tr>\n",
       "  </tbody>\n",
       "</table>\n",
       "</div>"
      ],
      "text/plain": [
       "   number      prob\n",
       "0       1  0.166667\n",
       "1       2  0.166667\n",
       "2       3  0.166667\n",
       "3       4  0.166667\n",
       "4       5  0.166667\n",
       "5       6  0.166667"
      ]
     },
     "execution_count": 127,
     "metadata": {},
     "output_type": "execute_result"
    }
   ],
   "source": [
    "# We create probability distribution\n",
    "number_dist = dado.groupby('number').count() / len(dado)\n",
    "\n",
    "# We reset index and rename columns\n",
    "number_dist = number_dist.reset_index()\n",
    "number_dist.columns = ['number', 'prob']\n",
    "\n",
    "number_dist"
   ]
  },
  {
   "cell_type": "markdown",
   "id": "2bcdaa35",
   "metadata": {
    "id": "2bcdaa35"
   },
   "source": [
    "El valor esperado del dado es 3.5"
   ]
  },
  {
   "cell_type": "code",
   "execution_count": 129,
   "id": "64ffa752",
   "metadata": {
    "id": "64ffa752",
    "outputId": "189b4214-6536-434f-d12c-4df596a63bf1"
   },
   "outputs": [
    {
     "data": {
      "text/plain": [
       "3.5"
      ]
     },
     "execution_count": 129,
     "metadata": {},
     "output_type": "execute_result"
    }
   ],
   "source": [
    "np.mean(dado['number'])"
   ]
  },
  {
   "cell_type": "markdown",
   "id": "122cf985",
   "metadata": {
    "id": "122cf985"
   },
   "source": [
    "Podemos hacer un muestreo con reemplazo para simular 10 lanzamientos del dado y ver cómo cambia la distribución.\n"
   ]
  },
  {
   "cell_type": "code",
   "execution_count": 131,
   "id": "07f20b9d",
   "metadata": {
    "id": "07f20b9d",
    "outputId": "1c7955a7-5f82-4a4f-e316-89f9681e3a56"
   },
   "outputs": [
    {
     "data": {
      "text/html": [
       "<div>\n",
       "<style scoped>\n",
       "    .dataframe tbody tr th:only-of-type {\n",
       "        vertical-align: middle;\n",
       "    }\n",
       "\n",
       "    .dataframe tbody tr th {\n",
       "        vertical-align: top;\n",
       "    }\n",
       "\n",
       "    .dataframe thead th {\n",
       "        text-align: right;\n",
       "    }\n",
       "</style>\n",
       "<table border=\"1\" class=\"dataframe\">\n",
       "  <thead>\n",
       "    <tr style=\"text-align: right;\">\n",
       "      <th></th>\n",
       "      <th>number</th>\n",
       "      <th>times</th>\n",
       "    </tr>\n",
       "  </thead>\n",
       "  <tbody>\n",
       "    <tr>\n",
       "      <th>4</th>\n",
       "      <td>5</td>\n",
       "      <td>1</td>\n",
       "    </tr>\n",
       "    <tr>\n",
       "      <th>3</th>\n",
       "      <td>4</td>\n",
       "      <td>1</td>\n",
       "    </tr>\n",
       "    <tr>\n",
       "      <th>2</th>\n",
       "      <td>3</td>\n",
       "      <td>1</td>\n",
       "    </tr>\n",
       "    <tr>\n",
       "      <th>5</th>\n",
       "      <td>6</td>\n",
       "      <td>1</td>\n",
       "    </tr>\n",
       "    <tr>\n",
       "      <th>4</th>\n",
       "      <td>5</td>\n",
       "      <td>1</td>\n",
       "    </tr>\n",
       "    <tr>\n",
       "      <th>1</th>\n",
       "      <td>2</td>\n",
       "      <td>1</td>\n",
       "    </tr>\n",
       "    <tr>\n",
       "      <th>3</th>\n",
       "      <td>4</td>\n",
       "      <td>1</td>\n",
       "    </tr>\n",
       "    <tr>\n",
       "      <th>5</th>\n",
       "      <td>6</td>\n",
       "      <td>1</td>\n",
       "    </tr>\n",
       "    <tr>\n",
       "      <th>5</th>\n",
       "      <td>6</td>\n",
       "      <td>1</td>\n",
       "    </tr>\n",
       "    <tr>\n",
       "      <th>1</th>\n",
       "      <td>2</td>\n",
       "      <td>1</td>\n",
       "    </tr>\n",
       "  </tbody>\n",
       "</table>\n",
       "</div>"
      ],
      "text/plain": [
       "   number  times\n",
       "4       5      1\n",
       "3       4      1\n",
       "2       3      1\n",
       "5       6      1\n",
       "4       5      1\n",
       "1       2      1\n",
       "3       4      1\n",
       "5       6      1\n",
       "5       6      1\n",
       "1       2      1"
      ]
     },
     "execution_count": 131,
     "metadata": {},
     "output_type": "execute_result"
    }
   ],
   "source": [
    "rolls_10 = dado.sample(10, replace = True)\n",
    "rolls_10"
   ]
  },
  {
   "cell_type": "markdown",
   "id": "0a23f2cf",
   "metadata": {
    "id": "0a23f2cf"
   },
   "source": [
    "Visualizamos la distribución y calculamos la media de la muestra, observamos que la media de la muestra no es el valor esperado, pero está cerca."
   ]
  },
  {
   "cell_type": "code",
   "execution_count": 133,
   "id": "fbffcf40",
   "metadata": {
    "id": "fbffcf40",
    "outputId": "c56a02fc-520c-4269-da9d-4b6858498e97"
   },
   "outputs": [
    {
     "data": {
      "image/png": "[encoded data removed]",
      "text/plain": [
       "<Figure size 640x480 with 1 Axes>"
      ]
     },
     "metadata": {},
     "output_type": "display_data"
    }
   ],
   "source": [
    "rolls_10['number'].hist(bins = np.linspace(1, 7, 7))\n",
    "plt.ylabel('number of times')\n",
    "plt.xlabel('die number')\n",
    "plt.show()"
   ]
  },
  {
   "cell_type": "code",
   "execution_count": 135,
   "id": "90bd115f",
   "metadata": {
    "id": "90bd115f",
    "outputId": "5cda4b46-6232-4248-d5af-f33808aeac11"
   },
   "outputs": [
    {
     "data": {
      "text/plain": [
       "4.3"
      ]
     },
     "execution_count": 135,
     "metadata": {},
     "output_type": "execute_result"
    }
   ],
   "source": [
    "np.mean(rolls_10['number'])"
   ]
  },
  {
   "cell_type": "markdown",
   "id": "6664cf0d",
   "metadata": {
    "id": "6664cf0d"
   },
   "source": [
    "¿Qué pasaría si tuviéramos 100 lanzamientos en lugar de solo 10? Vamos a ver..."
   ]
  },
  {
   "cell_type": "code",
   "execution_count": 137,
   "id": "474872ca",
   "metadata": {
    "id": "474872ca",
    "outputId": "cc9c6ed5-72fa-4f66-f6f1-14b0457f060c"
   },
   "outputs": [
    {
     "data": {
      "image/png": "[encoded data removed]",
      "text/plain": [
       "<Figure size 640x480 with 1 Axes>"
      ]
     },
     "metadata": {},
     "output_type": "display_data"
    }
   ],
   "source": [
    "rolls_100 = dado.sample(100, replace = True)\n",
    "\n",
    "rolls_100['number'].hist(bins = np.linspace(1, 7, 7))\n",
    "plt.ylabel('number of times')\n",
    "plt.xlabel('die number')\n",
    "plt.show()"
   ]
  },
  {
   "cell_type": "markdown",
   "id": "11562d63",
   "metadata": {
    "id": "11562d63"
   },
   "source": [
    "La distribución se parecería más a una distribución uniforme y la media de la muestra se acercaría más al valor esperado.\n"
   ]
  },
  {
   "cell_type": "code",
   "execution_count": 139,
   "id": "90a22aab",
   "metadata": {
    "id": "90a22aab",
    "outputId": "f57a8cae-e956-43c1-c584-b23a6bb6d524"
   },
   "outputs": [
    {
     "data": {
      "text/plain": [
       "3.38"
      ]
     },
     "execution_count": 139,
     "metadata": {},
     "output_type": "execute_result"
    }
   ],
   "source": [
    "np.mean(rolls_100['number'])"
   ]
  },
  {
   "cell_type": "markdown",
   "id": "bd3fbb0a",
   "metadata": {
    "id": "bd3fbb0a"
   },
   "source": [
    "Que tal si hacemos 1000 lanzamientos?"
   ]
  },
  {
   "cell_type": "code",
   "execution_count": 141,
   "id": "9c74a16a",
   "metadata": {
    "id": "9c74a16a",
    "outputId": "ceafef1e-3802-4c4e-d4bb-f38d59e23cd3"
   },
   "outputs": [
    {
     "data": {
      "image/png": "[encoded data removed]",
      "text/plain": [
       "<Figure size 640x480 with 1 Axes>"
      ]
     },
     "metadata": {},
     "output_type": "display_data"
    }
   ],
   "source": [
    "rolls_1000 = dado.sample(1000, replace = True)\n",
    "\n",
    "rolls_1000['number'].hist(bins = np.linspace(1, 7, 7))\n",
    "plt.ylabel('number of times')\n",
    "plt.xlabel('die number')\n",
    "plt.show()"
   ]
  },
  {
   "cell_type": "code",
   "execution_count": 143,
   "id": "94f0f617",
   "metadata": {
    "id": "94f0f617",
    "outputId": "75dd033a-4fae-4935-df2d-7308d05ac734"
   },
   "outputs": [
    {
     "data": {
      "text/plain": [
       "3.493"
      ]
     },
     "execution_count": 143,
     "metadata": {},
     "output_type": "execute_result"
    }
   ],
   "source": [
    "np.mean(rolls_1000['number'])"
   ]
  },
  {
   "cell_type": "markdown",
   "id": "0d5b3677",
   "metadata": {
    "id": "0d5b3677"
   },
   "source": [
    "Observamos que la media de la muestra ahora está aún más cerca de la media esperada, estamos viendo la **Ley de los Grandes Números** en acción. La **Ley de los Grandes Números** establece que a medida que el tamaño de la muestra de un experimento aleatorio aumenta, el promedio de los valores observados converge a la media esperada (teórica), indicando que las muestras grandes proporcionan estimaciones más precisas de los parámetros de la población. ¿Qué crees que pasaría si muestreamos 10000 veces?"
   ]
  },
  {
   "cell_type": "markdown",
   "id": "cde9c726",
   "metadata": {
    "id": "cde9c726"
   },
   "source": [
    "## <a id='3.2.'> 13.2 Distribuciones de probabilidad continuas </a>\n",
    "\n",
    "Las distribuciones de probabilidad continuas describen la probabilidad de obtener cualquier valor específico dentro de un rango continuo de posibles resultados. A diferencia de las distribuciones discretas, manejan posibilidades infinitas y se caracterizan por las Funciones de Densidad de Probabilidad (PDFs), que representan la densidad de probabilidad en cada punto. La Función de Distribución Acumulativa (CDF) asociada con estas distribuciones da la probabilidad de que una variable aleatoria sea menor o igual a un valor específico. Ejemplos comunes incluyen la distribución normal y la distribución exponencial."
   ]
  },
  {
   "cell_type": "markdown",
   "id": "30e6279c",
   "metadata": {
    "id": "30e6279c"
   },
   "source": [
    "### <a id='3.2.1'> Distribución uniforme continua </a>\n",
    "\n",
    "La distribución uniforme continua representa resultados donde cualquier valor dentro de un rango continuo especificado es igualmente probable. Se define por dos parámetros: los valores mínimo y máximo del rango.\n",
    "\n",
    "\n",
    "[![image.png](attachment:image.png)](https://docs.scipy.org/doc/scipy/reference/generated/scipy.stats.uniform.html#scipy.stats.uniform)"
   ]
  },
  {
   "cell_type": "code",
   "execution_count": 145,
   "id": "832f29ff",
   "metadata": {
    "id": "832f29ff"
   },
   "outputs": [],
   "source": [
    ">>> from scipy.stats import uniform"
   ]
  },
  {
   "cell_type": "markdown",
   "id": "d4666a5e",
   "metadata": {
    "id": "d4666a5e"
   },
   "source": [
    "Supongamos que estamos esperando en la fila para un autobús y tiene la misma probabilidad de llegar en cualquier momento entre las 12:00 pm y las 12:15 pm. Calculemos algunas probabilidades utilizando `cdf` (función de distribución acumulativa).\n",
    "\n",
    "La probabilidad de que el autobús llegue en cualquier momento durante esos 15 minutos siempre será uno, ya que es la suma de todas las probabilidades:\n"
   ]
  },
  {
   "cell_type": "code",
   "execution_count": 147,
   "id": "95075eea",
   "metadata": {
    "id": "95075eea",
    "outputId": "19497d76-be2e-4f39-83aa-111746a00e70"
   },
   "outputs": [
    {
     "data": {
      "text/plain": [
       "1.0"
      ]
     },
     "execution_count": 147,
     "metadata": {},
     "output_type": "execute_result"
    }
   ],
   "source": [
    "uniform.cdf(15, 0, 15)"
   ]
  },
  {
   "cell_type": "markdown",
   "id": "46b14cc1",
   "metadata": {
    "id": "46b14cc1"
   },
   "source": [
    "La probabilidad de que el autobús llegue durante los primeros siete minutos:\n"
   ]
  },
  {
   "cell_type": "code",
   "execution_count": 149,
   "id": "1332a3d6",
   "metadata": {
    "id": "1332a3d6",
    "outputId": "c5db0979-6642-4252-c7de-b2282e96c675"
   },
   "outputs": [
    {
     "data": {
      "text/plain": [
       "0.4666666666666667"
      ]
     },
     "execution_count": 149,
     "metadata": {},
     "output_type": "execute_result"
    }
   ],
   "source": [
    "uniform.cdf(7, 0, 15)"
   ]
  },
  {
   "cell_type": "markdown",
   "id": "8e75920a",
   "metadata": {
    "id": "8e75920a"
   },
   "source": [
    "¿Qué hay de la probabilidad de esperar más de cuatro minutos pero menos de siete?\n"
   ]
  },
  {
   "cell_type": "code",
   "execution_count": 151,
   "id": "afc2e8cd",
   "metadata": {
    "id": "afc2e8cd",
    "outputId": "9d3d6274-beab-455f-bfbc-67d7152802e3"
   },
   "outputs": [
    {
     "data": {
      "text/plain": [
       "0.2"
      ]
     },
     "execution_count": 151,
     "metadata": {},
     "output_type": "execute_result"
    }
   ],
   "source": [
    "uniform.cdf(7, 0, 15) - uniform.cdf(4, 0, 15)"
   ]
  },
  {
   "cell_type": "markdown",
   "id": "69df0608",
   "metadata": {
    "id": "69df0608"
   },
   "source": [
    "Ahora, generemos valores aleatorios usando la distribución uniforme con la función `rvs`. Ponemos como entrada el valor mínimo, el valor máximo y luego el tamaño de la muestra.\n"
   ]
  },
  {
   "cell_type": "code",
   "execution_count": 153,
   "id": "001546e5",
   "metadata": {
    "id": "001546e5",
    "outputId": "53cb92c3-d992-4789-d5ef-90150000f2a9"
   },
   "outputs": [
    {
     "data": {
      "text/plain": [
       "array([ 4.52066811, 11.2141407 ,  7.54080585,  3.48319043, 13.4936186 ,\n",
       "        5.75836832,  8.15329292, 13.59708166,  9.36356994,  1.75347061,\n",
       "       14.09748185,  9.4156208 ,  5.02358422,  2.08908109, 11.91037784])"
      ]
     },
     "execution_count": 153,
     "metadata": {},
     "output_type": "execute_result"
    }
   ],
   "source": [
    "uniform.rvs(0, 15, size = 15)"
   ]
  },
  {
   "cell_type": "markdown",
   "id": "14086d25",
   "metadata": {
    "id": "14086d25"
   },
   "source": [
    "Si quieres que nuestra muestra sea replicable, no olvides añadir una semilla aleatoria.\n"
   ]
  },
  {
   "cell_type": "code",
   "execution_count": 155,
   "id": "c616ba4a",
   "metadata": {
    "id": "c616ba4a",
    "outputId": "5258f57d-df0a-424c-c151-407071b642f0"
   },
   "outputs": [
    {
     "data": {
      "text/plain": [
       "array([ 5.61810178, 14.2607146 , 10.97990913,  8.97987726,  2.34027961,\n",
       "        2.33991781,  0.87125418, 12.99264219,  9.01672518, 10.62108867,\n",
       "        0.30876741, 14.54864778, 12.48663961,  3.18508666,  2.72737451])"
      ]
     },
     "execution_count": 155,
     "metadata": {},
     "output_type": "execute_result"
    }
   ],
   "source": [
    "np.random.seed(42)\n",
    "uniform.rvs(0, 15, size = 15)"
   ]
  },
  {
   "cell_type": "markdown",
   "id": "af6cb257",
   "metadata": {
    "id": "af6cb257"
   },
   "source": [
    "Ahora, otro ejemplo. Tu computadora necesita una actualización y podría reiniciarse en cualquier momento en los próximos 30 minutos. Nuevamente, calculemos algunas probabilidades utilizando `cdf`.\n"
   ]
  },
  {
   "cell_type": "code",
   "execution_count": 157,
   "id": "d456d839",
   "metadata": {
    "id": "d456d839",
    "outputId": "9bda025b-93d0-463d-d47e-81ba7ee88c2d"
   },
   "outputs": [
    {
     "name": "stdout",
     "output_type": "stream",
     "text": [
      "0.16666666666666666\n"
     ]
    }
   ],
   "source": [
    "# What is the probability of waiting less than 5 mins ?\n",
    "prob_less_5 = uniform.cdf(5, 0, 30)\n",
    "print(prob_less_5)"
   ]
  },
  {
   "cell_type": "code",
   "execution_count": 159,
   "id": "c7d2feed",
   "metadata": {
    "id": "c7d2feed",
    "outputId": "7bec686c-25ab-494e-9b9a-1d0de7b336fb"
   },
   "outputs": [
    {
     "name": "stdout",
     "output_type": "stream",
     "text": [
      "0.16666666666666666\n"
     ]
    }
   ],
   "source": [
    "# What is the probability of waiting more than 5 mins ?\n",
    "prob_more_5 = 1 - uniform.cdf(5, 0, 30)\n",
    "print(prob_less_5)"
   ]
  },
  {
   "cell_type": "code",
   "execution_count": 161,
   "id": "23aaf936",
   "metadata": {
    "id": "23aaf936",
    "outputId": "462e3d89-0e18-41a1-bc2d-e9a2984a32f9"
   },
   "outputs": [
    {
     "name": "stdout",
     "output_type": "stream",
     "text": [
      "0.3333333333333333\n"
     ]
    }
   ],
   "source": [
    "# What is the probability of waiting more than 10 mins and less than 20 ?\n",
    "prob_more_10_less_20 = uniform.cdf(20, 0, 30) - uniform.cdf(10, 0, 30)\n",
    "print(prob_more_10_less_20)"
   ]
  },
  {
   "cell_type": "markdown",
   "id": "9f8213c3",
   "metadata": {
    "id": "9f8213c3"
   },
   "source": [
    "Ahora podemos generar 10000 muestras del tiempo de espera. Al trazar las muestras en un histograma, podemos ver fácilmente que sigue una distribución uniforme continua.\n"
   ]
  },
  {
   "cell_type": "code",
   "execution_count": 163,
   "id": "77a3b7b0",
   "metadata": {
    "id": "77a3b7b0"
   },
   "outputs": [],
   "source": [
    "# We generate 1000 wait times between 0 and 30 mins\n",
    "wait_times = uniform.rvs(0, 30, size=10000)"
   ]
  },
  {
   "cell_type": "code",
   "execution_count": 165,
   "id": "a6eb9312",
   "metadata": {
    "id": "a6eb9312",
    "outputId": "a38f833d-305a-4c11-e0a4-319a300083dc"
   },
   "outputs": [
    {
     "data": {
      "image/png": "[encoded data removed]",
      "text/plain": [
       "<Figure size 640x480 with 1 Axes>"
      ]
     },
     "metadata": {},
     "output_type": "display_data"
    }
   ],
   "source": [
    "# We create a histogram of simulated times\n",
    "plt.hist(wait_times)\n",
    "plt.show()"
   ]
  },
  {
   "cell_type": "markdown",
   "id": "62a98a6d",
   "metadata": {
    "id": "62a98a6d"
   },
   "source": [
    "### <a id='3.2.2'> Distribución binomial </a>\n",
    "La distribución binomial modela el número de éxitos en un número fijo de ensayos de Bernoulli independientes, cada uno con la misma probabilidad de éxito. Se caracteriza por dos parámetros: el número de ensayos y la probabilidad de éxito en cada ensayo.\n",
    "\n",
    "\n",
    "[![image.png](attachment:image.png)](https://docs.scipy.org/doc/scipy/reference/generated/scipy.stats.binom.html#scipy.stats.binom)"
   ]
  },
  {
   "cell_type": "code",
   "execution_count": 167,
   "id": "473eaabe",
   "metadata": {
    "id": "473eaabe"
   },
   "outputs": [],
   "source": [
    ">>> from scipy.stats import binom"
   ]
  },
  {
   "cell_type": "markdown",
   "id": "95aa4126",
   "metadata": {
    "id": "95aa4126"
   },
   "source": [
    "Simulemos diferentes lanzamientos de una moneda.\n"
   ]
  },
  {
   "cell_type": "code",
   "execution_count": 169,
   "id": "0d3bba7e",
   "metadata": {
    "id": "0d3bba7e",
    "outputId": "ea3630dc-9747-4b70-d568-894923a75925"
   },
   "outputs": [
    {
     "data": {
      "text/plain": [
       "array([0], dtype=int64)"
      ]
     },
     "execution_count": 169,
     "metadata": {},
     "output_type": "execute_result"
    }
   ],
   "source": [
    "# We flip 1 coin with a 50% chance of success, one time\n",
    "binom.rvs(1, 0.5, size= 1)"
   ]
  },
  {
   "cell_type": "code",
   "execution_count": 171,
   "id": "1d6a3027",
   "metadata": {
    "id": "1d6a3027",
    "outputId": "a311e8b9-767b-404b-f3a3-cb172039d05d"
   },
   "outputs": [
    {
     "data": {
      "text/plain": [
       "array([0, 0, 0, 0, 0, 0, 1, 0, 1, 0], dtype=int64)"
      ]
     },
     "execution_count": 171,
     "metadata": {},
     "output_type": "execute_result"
    }
   ],
   "source": [
    "# We flip 1 coin with a 50% chance of success, ten times\n",
    "binom.rvs(1, 0.5, size= 10)"
   ]
  },
  {
   "cell_type": "markdown",
   "id": "4899f51a",
   "metadata": {
    "id": "4899f51a"
   },
   "source": [
    "Podemos intercambiar el primer y el último argumento. El resultado nos dará la suma de éxitos.\n"
   ]
  },
  {
   "cell_type": "code",
   "execution_count": 173,
   "id": "cd49078f",
   "metadata": {
    "id": "cd49078f",
    "outputId": "2dd172be-1376-43af-d427-452d61fab193"
   },
   "outputs": [
    {
     "data": {
      "text/plain": [
       "array([7], dtype=int64)"
      ]
     },
     "execution_count": 173,
     "metadata": {},
     "output_type": "execute_result"
    }
   ],
   "source": [
    "# We flip 10 coins with a 50% chance of success, one time each coin\n",
    "binom.rvs(10, 0.5, size= 1)"
   ]
  },
  {
   "cell_type": "markdown",
   "id": "1893e018",
   "metadata": {
    "id": "1893e018"
   },
   "source": [
    "Si establecemos 3 como el primer argumento y el tamaño en 5, entonces estamos lanzando 3 monedas, 5 veces cada una. Devuelve 5 números, que representan el número de caras entre las 3 monedas en cada lanzamiento.\n"
   ]
  },
  {
   "cell_type": "code",
   "execution_count": null,
   "id": "afe97cb6",
   "metadata": {
    "id": "afe97cb6",
    "outputId": "cca8354d-6bc8-4005-b52e-861d73b4f353"
   },
   "outputs": [
    {
     "data": {
      "text/plain": [
       "array([3, 2, 2, 0, 3, 3, 3, 2, 1, 3])"
      ]
     },
     "execution_count": 123,
     "metadata": {},
     "output_type": "execute_result"
    }
   ],
   "source": [
    "# We flip 3 coins with a 50% chance of success, ten times each coin\n",
    "binom.rvs(3, 0.5, size= 10)"
   ]
  },
  {
   "cell_type": "markdown",
   "id": "4f8092d8",
   "metadata": {
    "id": "4f8092d8"
   },
   "source": [
    "También podemos hacer que un lado sea más pesado que el otro, lo que significa que un resultado será más probable que el otro. Supongamos que el lado de las caras es más pesado. En lugar de un 50% de probabilidad, ahora tenemos un 75% de probabilidad de obtener caras. El resultado tendrá números más altos, ya que ahora es más probable obtener un éxito (caras).\n"
   ]
  },
  {
   "cell_type": "code",
   "execution_count": 175,
   "id": "7d04808a",
   "metadata": {
    "id": "7d04808a",
    "outputId": "e53a4723-c2ec-439d-fb60-762b6f68742a"
   },
   "outputs": [
    {
     "data": {
      "text/plain": [
       "array([1, 2, 2, 3, 0, 1, 1, 2, 3, 1], dtype=int64)"
      ]
     },
     "execution_count": 175,
     "metadata": {},
     "output_type": "execute_result"
    }
   ],
   "source": [
    "binom.rvs(3, 0.75, size= 10)"
   ]
  },
  {
   "cell_type": "markdown",
   "id": "f17534b8",
   "metadata": {
    "id": "f17534b8"
   },
   "source": [
    "Podemos hacer lo contrario, haciendo que el lado de las cruces sea más probable. En lugar de un 50% de probabilidad, ahora tenemos un 25% de probabilidad de obtener caras. El resultado tendrá números más bajos, ya que ahora es más probable obtener un fallo (cruces)."
   ]
  },
  {
   "cell_type": "code",
   "execution_count": 177,
   "id": "594f25fe",
   "metadata": {
    "id": "594f25fe",
    "outputId": "9cb604b6-2bfb-4b30-b9a2-29dbf6c96bc8"
   },
   "outputs": [
    {
     "data": {
      "text/plain": [
       "array([0, 1, 0, 2, 0, 0, 1, 1, 1, 0], dtype=int64)"
      ]
     },
     "execution_count": 177,
     "metadata": {},
     "output_type": "execute_result"
    }
   ],
   "source": [
    "binom.rvs(3, 0.25, size= 10)"
   ]
  },
  {
   "cell_type": "markdown",
   "id": "1debbfee",
   "metadata": {
    "id": "1debbfee"
   },
   "source": [
    "Podemos ver la distribución de lanzar 10 monedas varias veces con una probabilidad del 50% de obtener caras. La mayoría de los resultados se ubicarán en el medio. El valor esperado en la distribución binomial es $n \\times p$, lo que en este caso significa $10 \\times 0.5 = 5$.\n"
   ]
  },
  {
   "cell_type": "code",
   "execution_count": 179,
   "id": "a4893617",
   "metadata": {
    "id": "a4893617",
    "outputId": "018f85ec-cc60-4e42-b18c-e9b930042d20"
   },
   "outputs": [
    {
     "data": {
      "image/png": "[encoded data removed]",
      "text/plain": [
       "<Figure size 640x480 with 1 Axes>"
      ]
     },
     "metadata": {},
     "output_type": "display_data"
    }
   ],
   "source": [
    "flips = binom.rvs(10, 0.5, size= 100)\n",
    "plt.hist(flips)\n",
    "plt.show()"
   ]
  },
  {
   "cell_type": "markdown",
   "id": "22ce24bd",
   "metadata": {
    "id": "22ce24bd"
   },
   "source": [
    "Para obtener la probabilidad de éxitos dado un número de ensayos, podemos usar `binom.pmf`, que se refiere a la Función de Masa de Probabilidad (PMF) para una distribución binomial con el primer argumento siendo el número de caras, el segundo, el número de ensayos y el tercero, la probabilidad de éxito.\n",
    "\n",
    "Podemos usar `binom.cdf` para calcular la probabilidad de que una variable aleatoria binomial sea menor o igual a un valor especificado.\n"
   ]
  },
  {
   "cell_type": "markdown",
   "id": "bd4a656c",
   "metadata": {
    "id": "bd4a656c"
   },
   "source": [
    "¿Cuál sería la probabilidad de obtener 7 caras en 10 lanzamientos?\n"
   ]
  },
  {
   "cell_type": "code",
   "execution_count": 181,
   "id": "2cd227aa",
   "metadata": {
    "id": "2cd227aa",
    "outputId": "ea76f3a6-ccb3-46ba-b282-38b969060826"
   },
   "outputs": [
    {
     "data": {
      "text/plain": [
       "0.11718749999999999"
      ]
     },
     "execution_count": 181,
     "metadata": {},
     "output_type": "execute_result"
    }
   ],
   "source": [
    "# binom.pmf( # heads, # trials, prob of success)\n",
    "binom.pmf(7, 10, 0.5)"
   ]
  },
  {
   "cell_type": "markdown",
   "id": "20c887f6",
   "metadata": {
    "id": "20c887f6"
   },
   "source": [
    "¿Y la probabilidad de obtener 7 o menos caras en 10 lanzamientos?\n"
   ]
  },
  {
   "cell_type": "code",
   "execution_count": 183,
   "id": "c453bda0",
   "metadata": {
    "id": "c453bda0",
    "outputId": "ee531f4d-e826-4458-a581-636f0cce1076"
   },
   "outputs": [
    {
     "data": {
      "text/plain": [
       "0.9453125"
      ]
     },
     "execution_count": 183,
     "metadata": {},
     "output_type": "execute_result"
    }
   ],
   "source": [
    "# binom.cdf( # heads, # trials, prob of success)\n",
    "binom.cdf(7, 10, 0.5)"
   ]
  },
  {
   "cell_type": "markdown",
   "id": "e88b9ce9",
   "metadata": {
    "id": "e88b9ce9"
   },
   "source": [
    "¿Qué tal la probabilidad de obtener más de 7 caras?"
   ]
  },
  {
   "cell_type": "code",
   "execution_count": 185,
   "id": "589bfe2b",
   "metadata": {
    "id": "589bfe2b",
    "outputId": "d0eb53bc-d19d-45dd-c629-1e6f2c666317"
   },
   "outputs": [
    {
     "data": {
      "text/plain": [
       "0.0546875"
      ]
     },
     "execution_count": 185,
     "metadata": {},
     "output_type": "execute_result"
    }
   ],
   "source": [
    "1 - binom.cdf(7, 10, 0.5)"
   ]
  },
  {
   "cell_type": "markdown",
   "id": "3f14acc9",
   "metadata": {
    "id": "3f14acc9"
   },
   "source": [
    "### <a id='3.2.3'> Distribución normal </a>\n",
    "La distribución normal modela una distribución de probabilidad continua donde los datos tienden a agruparse alrededor de una media central, siguiendo una curva en forma de campana. Se caracteriza por dos parámetros: la media $(\\mu)$ que representa la tendencia central y la desviación estándar $(\\sigma)$ que determina la dispersión o el grado de dispersión de los datos. Aproximadamente el 68% de los datos se encuentran dentro de una desviación estándar de la media, el 95% dentro de dos desviaciones estándar y el 99.7% dentro de tres desviaciones estándar. Las colas de la distribución se extienden infinitamente en ambas direcciones, disminuyendo gradualmente en densidad de probabilidad. El área total bajo la curva es 1, reflejando la probabilidad de que un valor elegido al azar se encuentre dentro de la distribución. Debido al Teorema del Límite Central, muchos fenómenos del mundo real tienden a exhibir una distribución normal, lo que refuerza su amplia aplicabilidad en el análisis estadístico.\n",
    "\n",
    "\n",
    "[![image.png](attachment:image.png)](https://docs.scipy.org/doc/scipy/reference/generated/scipy.stats.norm.html#scipy.stats.norm)"
   ]
  },
  {
   "cell_type": "code",
   "execution_count": 187,
   "id": "d8bdc99e",
   "metadata": {
    "id": "d8bdc99e"
   },
   "outputs": [],
   "source": [
    ">>> from scipy.stats import norm"
   ]
  },
  {
   "cell_type": "markdown",
   "id": "b3b011c8",
   "metadata": {
    "id": "b3b011c8"
   },
   "source": [
    "Volvamos al dataframe `deals`. Dado que cada negocio fue diferente, generaron diferentes cantidades de dinero, las cuales están almacenadas en la columna `amount`. Determinemos la probabilidad de vender diferentes montos, pero primero, veamos qué distribución sigue la columna `amount`.\n"
   ]
  },
  {
   "cell_type": "code",
   "execution_count": 189,
   "id": "9bbfd83b",
   "metadata": {
    "id": "9bbfd83b",
    "outputId": "6f695494-f0b0-4457-d35a-de352f41df66"
   },
   "outputs": [
    {
     "data": {
      "image/png": "[encoded data removed]",
      "text/plain": [
       "<Figure size 640x480 with 1 Axes>"
      ]
     },
     "metadata": {},
     "output_type": "display_data"
    }
   ],
   "source": [
    "# Let's create a histogram of the amount column\n",
    "deals['amount'].hist(bins=10)\n",
    "plt.show()"
   ]
  },
  {
   "cell_type": "code",
   "execution_count": 195,
   "id": "839b4c24",
   "metadata": {
    "id": "839b4c24"
   },
   "outputs": [
    {
     "name": "stdout",
     "output_type": "stream",
     "text": [
      "4812.000337078652 2058.17322535556\n"
     ]
    }
   ],
   "source": [
    "# We define the mean and std\n",
    "mean = deals['amount'].mean()\n",
    "std = deals['amount'].std()\n",
    "print( mean, std)"
   ]
  },
  {
   "cell_type": "markdown",
   "id": "f6368331",
   "metadata": {
    "id": "f6368331"
   },
   "source": [
    "¿Cuál es la probabilidad de que un negocio se cierre con menos de \\$6500?\n"
   ]
  },
  {
   "cell_type": "code",
   "execution_count": 197,
   "id": "37b9a9f3",
   "metadata": {
    "id": "37b9a9f3",
    "outputId": "adbd23d5-4d6d-441f-fac5-444a487b7c2c"
   },
   "outputs": [
    {
     "data": {
      "text/plain": [
       "0.7939331610978384"
      ]
     },
     "execution_count": 197,
     "metadata": {},
     "output_type": "execute_result"
    }
   ],
   "source": [
    "norm.cdf(6500, mean, std)"
   ]
  },
  {
   "cell_type": "markdown",
   "id": "500ab5f4",
   "metadata": {
    "id": "500ab5f4"
   },
   "source": [
    "¿Cuál es la probabilidad de que un negocio se cierre con más de \\$1000?\n"
   ]
  },
  {
   "cell_type": "code",
   "execution_count": 199,
   "id": "f6d6a852",
   "metadata": {
    "id": "f6d6a852",
    "outputId": "a3332d98-1501-4bcd-e0e5-edbb23a7292d"
   },
   "outputs": [
    {
     "data": {
      "text/plain": [
       "0.9679962803797577"
      ]
     },
     "execution_count": 199,
     "metadata": {},
     "output_type": "execute_result"
    }
   ],
   "source": [
    "1 - norm.cdf(1000, mean, std)"
   ]
  },
  {
   "cell_type": "markdown",
   "id": "b74b0553",
   "metadata": {
    "id": "b74b0553"
   },
   "source": [
    "¿Cuál es la probabilidad de que un negocio valga entre 1000 y 6500?\n"
   ]
  },
  {
   "cell_type": "code",
   "execution_count": 201,
   "id": "03f52c6d",
   "metadata": {
    "id": "03f52c6d",
    "outputId": "d3ed8dde-4134-4d17-918d-3dffdaac29cc"
   },
   "outputs": [
    {
     "data": {
      "text/plain": [
       "0.7619294414775961"
      ]
     },
     "execution_count": 201,
     "metadata": {},
     "output_type": "execute_result"
    }
   ],
   "source": [
    "norm.cdf(6500, mean, std) - norm.cdf(1000, mean, std)"
   ]
  },
  {
   "cell_type": "markdown",
   "id": "e3e10fc9",
   "metadata": {
    "id": "e3e10fc9"
   },
   "source": [
    "Calcula el monto por debajo del cual se cerrarán el 50% de los negocios.\n"
   ]
  },
  {
   "cell_type": "code",
   "execution_count": 203,
   "id": "c2833e0a",
   "metadata": {
    "id": "c2833e0a",
    "outputId": "b1418a64-4480-4e3c-af4d-8e805b80dbdb"
   },
   "outputs": [
    {
     "data": {
      "text/plain": [
       "4812.000337078652"
      ]
     },
     "execution_count": 203,
     "metadata": {},
     "output_type": "execute_result"
    }
   ],
   "source": [
    "norm.ppf(0.50, mean, std)"
   ]
  },
  {
   "cell_type": "markdown",
   "id": "258bf64f",
   "metadata": {
    "id": "258bf64f"
   },
   "source": [
    "Ahora podemos generar valores aleatorios con la media y la desviación estándar. Luego, podemos graficarlos para ver su distribución.\n"
   ]
  },
  {
   "cell_type": "code",
   "execution_count": 205,
   "id": "99e6cc0d",
   "metadata": {
    "id": "99e6cc0d",
    "outputId": "7fb83e7a-222c-4b8c-db0f-f031497c8cca"
   },
   "outputs": [
    {
     "data": {
      "image/png": "[encoded data removed]",
      "text/plain": [
       "<Figure size 640x480 with 1 Axes>"
      ]
     },
     "metadata": {},
     "output_type": "display_data"
    }
   ],
   "source": [
    "sales = norm.rvs(mean, std, size= 50)\n",
    "\n",
    "plt.hist(sales)\n",
    "plt.show()"
   ]
  },
  {
   "cell_type": "markdown",
   "id": "125c23c7",
   "metadata": {
    "id": "125c23c7"
   },
   "source": [
    "Para ver más sobre otras distribuciones de probabilidad disponibles en `scipy.stats` puedes ir a:\n",
    "https://docs.scipy.org/doc/scipy/reference/stats.html"
   ]
  },
  {
   "cell_type": "code",
   "execution_count": null,
   "id": "5ceb70f6-c512-4571-9d4f-b8eb343593da",
   "metadata": {
    "id": "5ceb70f6-c512-4571-9d4f-b8eb343593da"
   },
   "outputs": [],
   "source": []
  }
 ],
 "metadata": {
  "colab": {
   "provenance": []
  },
  "kernelspec": {
   "display_name": "Python [conda env:base] *",
   "language": "python",
   "name": "conda-base-py"
  },
  "language_info": {
   "codemirror_mode": {
    "name": "ipython",
    "version": 3
   },
   "file_extension": ".py",
   "mimetype": "text/x-python",
   "name": "python",
   "nbconvert_exporter": "python",
   "pygments_lexer": "ipython3",
   "version": "3.11.7"
  }
 },
 "nbformat": 4,
 "nbformat_minor": 5
}
