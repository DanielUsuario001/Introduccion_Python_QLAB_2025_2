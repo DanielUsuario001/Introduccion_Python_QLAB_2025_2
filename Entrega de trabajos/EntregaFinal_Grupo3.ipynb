{
 "cells": [
  {
   "cell_type": "markdown",
   "id": "OQSezRkDbJt7",
   "metadata": {
    "id": "OQSezRkDbJt7"
   },
   "source": [
    "# Tarea Final del Curso\n",
    "**Introducción a la Ciencia de Datos con Python**"
   ]
  },
  {
   "cell_type": "markdown",
   "id": "XGKFK_A8bJt_",
   "metadata": {
    "id": "XGKFK_A8bJt_"
   },
   "source": [
    "Fecha de entrega: Domingo 10 de agosto, 2025, 11:59pm\n",
    "\n",
    "**Instrucciones Generales:**\n",
    "\n",
    "- Esta es la entrega final y debe realizarse de manera grupal.\n",
    "- Es importante consignar en el correo de entrega, tanto los nombres y codigo de los integrantes del grupo.\n",
    "- Se considera un punto adicional a aquellos grupos que realizen la entrega por GITHUB, para ello deben ponerlo dentro de la carpeta Entregas_1, y nombre de archivo debe tener el formato: TrabajoFinal_GrupoX.ipynb\n",
    "- Asegúrate de seguir las buenas prácticas para nombrar variables y comentar tu código.\n",
    "- Utiliza las librerías vistas en clase: `numpy`, `pandas` y `matplotlib.pyplot`.\n",
    "- Responde a las preguntas teóricas o de interpretación en las celdas de Markdown designadas."
   ]
  },
  {
   "cell_type": "markdown",
   "id": "-knDLkMsbJuA",
   "metadata": {
    "id": "-knDLkMsbJuA"
   },
   "source": [
    "## Sección 1: NumPy - Manipulación Avanzada de Arrays"
   ]
  },
  {
   "cell_type": "markdown",
   "id": "y5tLDLYlbJuA",
   "metadata": {
    "id": "y5tLDLYlbJuA"
   },
   "source": [
    "**1.1.** Crea un array de NumPy llamado `vector_base` que contenga una secuencia de números desde 10 hasta 115 (inclusive), con un paso de 3 entre cada número."
   ]
  },
  {
   "cell_type": "code",
   "execution_count": 10,
   "id": "wvj9SXYtbr3v",
   "metadata": {
    "id": "wvj9SXYtbr3v"
   },
   "outputs": [
    {
     "name": "stdout",
     "output_type": "stream",
     "text": [
      "[ 10  13  16  19  22  25  28  31  34  37  40  43  46  49  52  55  58  61\n",
      "  64  67  70  73  76  79  82  85  88  91  94  97 100 103 106 109 112 115]\n"
     ]
    }
   ],
   "source": [
    "#Usamos la librería numpy\n",
    "import numpy\n",
    "#Secuencia de números\n",
    "numpy.arange(10, 116, 3)\n",
    "#Array en cuestión\n",
    "vector_base = numpy.arange(10, 116, 3)\n",
    "print(vector_base)"
   ]
  },
  {
   "cell_type": "markdown",
   "id": "983F8uePbJuB",
   "metadata": {
    "id": "983F8uePbJuB"
   },
   "source": [
    "**1.2.** A partir del `vector_base` anterior, crea una matriz de 5x7 llamada `matriz_A`."
   ]
  },
  {
   "cell_type": "code",
   "execution_count": 11,
   "id": "dmOA_SNgbJuC",
   "metadata": {
    "id": "dmOA_SNgbJuC"
   },
   "outputs": [
    {
     "name": "stdout",
     "output_type": "stream",
     "text": [
      "36\n",
      "----\n",
      "[[ 10  13  16  19  22  25  28]\n",
      " [ 31  34  37  40  43  46  49]\n",
      " [ 52  55  58  61  64  67  70]\n",
      " [ 73  76  79  82  85  88  91]\n",
      " [ 94  97 100 103 106 109 112]]\n"
     ]
    }
   ],
   "source": [
    "#Comprobar el tamaño del vector\n",
    "print(vector_base.size) #Muestra 36 elementos, por lo que se debe dejar de tomar en cuenta 1 elemento\n",
    "\n",
    "print(\"----\")\n",
    "\n",
    "matriz_A = vector_base[:35].reshape(5, 7) #Tomamos los primeros 35 elementos\n",
    "print(matriz_A)"
   ]
  },
  {
   "cell_type": "markdown",
   "id": "QoWq-H84bJuC",
   "metadata": {
    "id": "QoWq-H84bJuC"
   },
   "source": [
    "**2.1.** Crea una segunda matriz de 5x7 llamada `matriz_B` que contenga números enteros aleatorios entre 1 y 10.\n",
    "\n",
    "**2.2.** Realiza una multiplicación elemento por elemento (element-wise) entre `matriz_A` y `matriz_B` y almacena el resultado en `matriz_C`."
   ]
  },
  {
   "cell_type": "code",
   "execution_count": 12,
   "id": "DDZDd-cfbJuD",
   "metadata": {
    "id": "DDZDd-cfbJuD"
   },
   "outputs": [
    {
     "name": "stdout",
     "output_type": "stream",
     "text": [
      "Parte 2.1\n",
      "Matriz B:\n",
      "[[ 7  5  2  2  4  1  8]\n",
      " [ 3  4  3  4  2  4  9]\n",
      " [ 5  5  7  9 10  1 10]\n",
      " [ 2  7  7  5  4  2  6]\n",
      " [ 6  7  2  5  8  3  2]]\n",
      "---------\n",
      "Parte 2.2\n",
      "Matriz A\n",
      "[[ 10  13  16  19  22  25  28]\n",
      " [ 31  34  37  40  43  46  49]\n",
      " [ 52  55  58  61  64  67  70]\n",
      " [ 73  76  79  82  85  88  91]\n",
      " [ 94  97 100 103 106 109 112]]\n",
      "Matriz B\n",
      "[[ 7  5  2  2  4  1  8]\n",
      " [ 3  4  3  4  2  4  9]\n",
      " [ 5  5  7  9 10  1 10]\n",
      " [ 2  7  7  5  4  2  6]\n",
      " [ 6  7  2  5  8  3  2]]\n",
      "Matriz C\n",
      "[[ 70  65  32  38  88  25 224]\n",
      " [ 93 136 111 160  86 184 441]\n",
      " [260 275 406 549 640  67 700]\n",
      " [146 532 553 410 340 176 546]\n",
      " [564 679 200 515 848 327 224]]\n"
     ]
    }
   ],
   "source": [
    "import numpy\n",
    "#2.1 Para crear una matriz de 5x7 con números aleatorios del 1 al 10:\n",
    "matriz_B = numpy.random.randint(1, 11, size=(5, 7))\n",
    "print(\"Parte 2.1\")\n",
    "print(\"Matriz B:\")\n",
    "print(matriz_B)\n",
    "\n",
    "print(\"---------\")\n",
    "\n",
    "print(\"Parte 2.2\")\n",
    "\n",
    "import numpy\n",
    "\n",
    "#Realizar la multiplicación de de Matriz A y Matriz B\n",
    "matriz_A = vector_base[:35].reshape(5, 7)\n",
    "\n",
    "\n",
    "matriz_C=matriz_A * matriz_B\n",
    "\n",
    "#Resultados\n",
    "print(\"Matriz A\")\n",
    "print(matriz_A)\n",
    "\n",
    "print(\"Matriz B\")\n",
    "print(matriz_B)\n",
    "\n",
    "print(\"Matriz C\")\n",
    "print(matriz_C)"
   ]
  },
  {
   "cell_type": "markdown",
   "id": "HhrCyWatbJuD",
   "metadata": {
    "id": "HhrCyWatbJuD"
   },
   "source": [
    "**3.1.** Utilizando slicing, selecciona una submatriz de 2x2 de la esquina inferior derecha de `matriz_C`.\n",
    "\n",
    "**3.2.** Calcula el promedio de esta submatriz."
   ]
  },
  {
   "cell_type": "code",
   "execution_count": 13,
   "id": "dIlRtUE3bJuD",
   "metadata": {
    "id": "dIlRtUE3bJuD"
   },
   "outputs": [
    {
     "name": "stdout",
     "output_type": "stream",
     "text": [
      "Parte 3.1\n",
      "Matriz C\n",
      "[[ 70  65  32  38  88  25 224]\n",
      " [ 93 136 111 160  86 184 441]\n",
      " [260 275 406 549 640  67 700]\n",
      " [146 532 553 410 340 176 546]\n",
      " [564 679 200 515 848 327 224]]\n",
      "---------\n",
      "Submatriz 2x2 (esquina inferior derecha):\n",
      "[[176 546]\n",
      " [327 224]]\n",
      "---------\n",
      "Parte 3.2\n",
      "Promedio de la submatriz\n",
      "318.25\n"
     ]
    }
   ],
   "source": [
    "#Aplicando slicing para la submatriz de la esquina inferior derecha 2x2, estos serían los elementos (704, 182, 327 y 112)\n",
    "import numpy\n",
    "submatriz=matriz_C[-2:,-2:]\n",
    "\n",
    "print(\"Parte 3.1\")\n",
    "\n",
    "#Resultados\n",
    "print(\"Matriz C\")\n",
    "print(matriz_C)\n",
    "print(\"---------\")\n",
    "\n",
    "print(\"Submatriz 2x2 (esquina inferior derecha):\")\n",
    "print(submatriz)\n",
    "\n",
    "print(\"---------\")\n",
    "print(\"Parte 3.2\")\n",
    "\n",
    "#Cálculo del promedio de la submatriz\n",
    "import numpy\n",
    "promedio=numpy.mean(submatriz)\n",
    "\n",
    "#Resultados\n",
    "print(\"Promedio de la submatriz\")\n",
    "print(promedio)\n"
   ]
  },
  {
   "cell_type": "markdown",
   "id": "gO0WijUnbJuE",
   "metadata": {
    "id": "gO0WijUnbJuE"
   },
   "source": [
    "## Sección 2: Pandas - Análisis Exploratorio de Datos"
   ]
  },
  {
   "cell_type": "markdown",
   "id": "SBXhc1V8bJuE",
   "metadata": {
    "id": "SBXhc1V8bJuE"
   },
   "source": [
    "Para esta sección, trabajaremos con un conjunto de datos ficticio sobre el desarrollo humano. **Ejecuta la siguiente celda para crear el DataFrame.**"
   ]
  },
  {
   "cell_type": "code",
   "execution_count": 4,
   "id": "iVR3JluqbJuE",
   "metadata": {
    "id": "iVR3JluqbJuE"
   },
   "outputs": [],
   "source": [
    "import pandas as pd\n",
    "import numpy as np\n",
    "\n",
    "data = {\n",
    "    'Pais': ['Perú', 'Argentina', 'Chile', 'Colombia', 'Brasil', 'México', 'Uruguay', 'España', 'Canadá', 'Japón'],\n",
    "    'Continente': ['Sudamérica', 'Sudamérica', 'Sudamérica', 'Sudamérica', 'Sudamérica', 'Norteamérica', 'Sudamérica', 'Europa', 'Norteamérica', 'Asia'],\n",
    "    'Poblacion_millones': [33.0, 45.2, 19.5, 51.0, 212.6, 128.9, 3.5, 47.4, 38.0, 125.8],\n",
    "    'PBI_per_capita': [7020, 9912, 15000, 6500, 8717, 9863, 16190, 29600, 46194, 40700],\n",
    "    'Esperanza_de_vida': [76.5, 76.7, 80.5, 77.3, 75.9, 75.0, 77.9, 83.6, 82.3, 84.6],\n",
    "    'Indice_Gini': [41.5, 42.9, 44.4, 51.3, 53.9, 45.4, 39.7, 34.7, 33.3, 32.9],\n",
    "    'Tasa_Alfabetizacion': [94.4, 99.0, 99.4, 95.1, 93.2, 95.4, np.nan, 98.4, 99.0, 99.0],\n",
    "    'Crecimiento_Anual_PBI': [1.1, -2.0, 2.5, 3.0, 1.4, 2.1, 2.0, 2.5, 1.9, 0.8]\n",
    "}\n",
    "\n",
    "df_desarrollo = pd.DataFrame(data)"
   ]
  },
  {
   "cell_type": "markdown",
   "id": "CFYuSgcfbJuF",
   "metadata": {
    "id": "CFYuSgcfbJuF"
   },
   "source": [
    "**4.1.** Muestra las primeras 5 filas del DataFrame `df_desarrollo\n",
    "\n",
    "**4.2.** Muestra un resumen general del DataFrame utilizando `.info()`."
   ]
  },
  {
   "cell_type": "code",
   "execution_count": 7,
   "id": "fiJXvGwgbJuF",
   "metadata": {
    "id": "fiJXvGwgbJuF"
   },
   "outputs": [
    {
     "data": {
      "text/html": [
       "<div>\n",
       "<style scoped>\n",
       "    .dataframe tbody tr th:only-of-type {\n",
       "        vertical-align: middle;\n",
       "    }\n",
       "\n",
       "    .dataframe tbody tr th {\n",
       "        vertical-align: top;\n",
       "    }\n",
       "\n",
       "    .dataframe thead th {\n",
       "        text-align: right;\n",
       "    }\n",
       "</style>\n",
       "<table border=\"1\" class=\"dataframe\">\n",
       "  <thead>\n",
       "    <tr style=\"text-align: right;\">\n",
       "      <th></th>\n",
       "      <th>Pais</th>\n",
       "      <th>Continente</th>\n",
       "      <th>Poblacion_millones</th>\n",
       "      <th>PBI_per_capita</th>\n",
       "      <th>Esperanza_de_vida</th>\n",
       "      <th>Indice_Gini</th>\n",
       "      <th>Tasa_Alfabetizacion</th>\n",
       "      <th>Crecimiento_Anual_PBI</th>\n",
       "    </tr>\n",
       "  </thead>\n",
       "  <tbody>\n",
       "    <tr>\n",
       "      <th>0</th>\n",
       "      <td>Perú</td>\n",
       "      <td>Sudamérica</td>\n",
       "      <td>33.0</td>\n",
       "      <td>7020</td>\n",
       "      <td>76.5</td>\n",
       "      <td>41.5</td>\n",
       "      <td>94.4</td>\n",
       "      <td>1.1</td>\n",
       "    </tr>\n",
       "    <tr>\n",
       "      <th>1</th>\n",
       "      <td>Argentina</td>\n",
       "      <td>Sudamérica</td>\n",
       "      <td>45.2</td>\n",
       "      <td>9912</td>\n",
       "      <td>76.7</td>\n",
       "      <td>42.9</td>\n",
       "      <td>99.0</td>\n",
       "      <td>-2.0</td>\n",
       "    </tr>\n",
       "    <tr>\n",
       "      <th>2</th>\n",
       "      <td>Chile</td>\n",
       "      <td>Sudamérica</td>\n",
       "      <td>19.5</td>\n",
       "      <td>15000</td>\n",
       "      <td>80.5</td>\n",
       "      <td>44.4</td>\n",
       "      <td>99.4</td>\n",
       "      <td>2.5</td>\n",
       "    </tr>\n",
       "    <tr>\n",
       "      <th>3</th>\n",
       "      <td>Colombia</td>\n",
       "      <td>Sudamérica</td>\n",
       "      <td>51.0</td>\n",
       "      <td>6500</td>\n",
       "      <td>77.3</td>\n",
       "      <td>51.3</td>\n",
       "      <td>95.1</td>\n",
       "      <td>3.0</td>\n",
       "    </tr>\n",
       "    <tr>\n",
       "      <th>4</th>\n",
       "      <td>Brasil</td>\n",
       "      <td>Sudamérica</td>\n",
       "      <td>212.6</td>\n",
       "      <td>8717</td>\n",
       "      <td>75.9</td>\n",
       "      <td>53.9</td>\n",
       "      <td>93.2</td>\n",
       "      <td>1.4</td>\n",
       "    </tr>\n",
       "  </tbody>\n",
       "</table>\n",
       "</div>"
      ],
      "text/plain": [
       "        Pais  Continente  Poblacion_millones  PBI_per_capita  \\\n",
       "0       Perú  Sudamérica                33.0            7020   \n",
       "1  Argentina  Sudamérica                45.2            9912   \n",
       "2      Chile  Sudamérica                19.5           15000   \n",
       "3   Colombia  Sudamérica                51.0            6500   \n",
       "4     Brasil  Sudamérica               212.6            8717   \n",
       "\n",
       "   Esperanza_de_vida  Indice_Gini  Tasa_Alfabetizacion  Crecimiento_Anual_PBI  \n",
       "0               76.5         41.5                 94.4                    1.1  \n",
       "1               76.7         42.9                 99.0                   -2.0  \n",
       "2               80.5         44.4                 99.4                    2.5  \n",
       "3               77.3         51.3                 95.1                    3.0  \n",
       "4               75.9         53.9                 93.2                    1.4  "
      ]
     },
     "execution_count": 7,
     "metadata": {},
     "output_type": "execute_result"
    }
   ],
   "source": [
    "df_desarrollo.head()\n"
   ]
  },
  {
   "cell_type": "code",
   "execution_count": 8,
   "id": "9a25ef3a-032e-47cf-b5ab-5d38f82b6e05",
   "metadata": {},
   "outputs": [
    {
     "name": "stdout",
     "output_type": "stream",
     "text": [
      "<class 'pandas.core.frame.DataFrame'>\n",
      "RangeIndex: 10 entries, 0 to 9\n",
      "Data columns (total 8 columns):\n",
      " #   Column                 Non-Null Count  Dtype  \n",
      "---  ------                 --------------  -----  \n",
      " 0   Pais                   10 non-null     object \n",
      " 1   Continente             10 non-null     object \n",
      " 2   Poblacion_millones     10 non-null     float64\n",
      " 3   PBI_per_capita         10 non-null     int64  \n",
      " 4   Esperanza_de_vida      10 non-null     float64\n",
      " 5   Indice_Gini            10 non-null     float64\n",
      " 6   Tasa_Alfabetizacion    9 non-null      float64\n",
      " 7   Crecimiento_Anual_PBI  10 non-null     float64\n",
      "dtypes: float64(5), int64(1), object(2)\n",
      "memory usage: 772.0+ bytes\n"
     ]
    }
   ],
   "source": [
    "df_desarrollo.info()\n"
   ]
  },
  {
   "cell_type": "markdown",
   "id": "mlZeIBfFbJuG",
   "metadata": {
    "id": "mlZeIBfFbJuG"
   },
   "source": [
    "**5.** Hemos notado que hay un valor faltante (`NaN`) en la columna `Tasa_Alfabetizacion`. Imputa este valor faltante utilizando la **mediana** de esa misma columna."
   ]
  },
  {
   "cell_type": "code",
   "execution_count": 5,
   "id": "JPWPLHX8bJuG",
   "metadata": {
    "id": "JPWPLHX8bJuG"
   },
   "outputs": [
    {
     "name": "stdout",
     "output_type": "stream",
     "text": [
      "<class 'pandas.core.frame.DataFrame'>\n",
      "RangeIndex: 10 entries, 0 to 9\n",
      "Data columns (total 8 columns):\n",
      " #   Column                 Non-Null Count  Dtype  \n",
      "---  ------                 --------------  -----  \n",
      " 0   Pais                   10 non-null     object \n",
      " 1   Continente             10 non-null     object \n",
      " 2   Poblacion_millones     10 non-null     float64\n",
      " 3   PBI_per_capita         10 non-null     int64  \n",
      " 4   Esperanza_de_vida      10 non-null     float64\n",
      " 5   Indice_Gini            10 non-null     float64\n",
      " 6   Tasa_Alfabetizacion    10 non-null     float64\n",
      " 7   Crecimiento_Anual_PBI  10 non-null     float64\n",
      "dtypes: float64(5), int64(1), object(2)\n",
      "memory usage: 772.0+ bytes\n"
     ]
    }
   ],
   "source": [
    "mediana = df_desarrollo['Tasa_Alfabetizacion'].median()\n",
    "df_desarrollo['Tasa_Alfabetizacion'].fillna(mediana, inplace=True)\n",
    "df_desarrollo.info()"
   ]
  },
  {
   "cell_type": "markdown",
   "id": "qo0004XubJuG",
   "metadata": {
    "id": "qo0004XubJuG"
   },
   "source": [
    "**6.1.** Crea una nueva columna llamada `PBI_Total_billones` que sea el resultado de multiplicar `PBI_per_capita` por `Poblacion_millones` y dividirlo entre 1000.\n",
    "\n",
    "**6.2.** Muestra el DataFrame con la nueva columna."
   ]
  },
  {
   "cell_type": "code",
   "execution_count": 10,
   "id": "ZVX-OPAybJuG",
   "metadata": {
    "id": "ZVX-OPAybJuG"
   },
   "outputs": [
    {
     "data": {
      "text/html": [
       "<div>\n",
       "<style scoped>\n",
       "    .dataframe tbody tr th:only-of-type {\n",
       "        vertical-align: middle;\n",
       "    }\n",
       "\n",
       "    .dataframe tbody tr th {\n",
       "        vertical-align: top;\n",
       "    }\n",
       "\n",
       "    .dataframe thead th {\n",
       "        text-align: right;\n",
       "    }\n",
       "</style>\n",
       "<table border=\"1\" class=\"dataframe\">\n",
       "  <thead>\n",
       "    <tr style=\"text-align: right;\">\n",
       "      <th></th>\n",
       "      <th>Pais</th>\n",
       "      <th>Continente</th>\n",
       "      <th>Poblacion_millones</th>\n",
       "      <th>PBI_per_capita</th>\n",
       "      <th>Esperanza_de_vida</th>\n",
       "      <th>Indice_Gini</th>\n",
       "      <th>Tasa_Alfabetizacion</th>\n",
       "      <th>Crecimiento_Anual_PBI</th>\n",
       "      <th>PBI_Total_billones</th>\n",
       "    </tr>\n",
       "  </thead>\n",
       "  <tbody>\n",
       "    <tr>\n",
       "      <th>0</th>\n",
       "      <td>Perú</td>\n",
       "      <td>Sudamérica</td>\n",
       "      <td>33.0</td>\n",
       "      <td>7020</td>\n",
       "      <td>76.5</td>\n",
       "      <td>41.5</td>\n",
       "      <td>94.4</td>\n",
       "      <td>1.1</td>\n",
       "      <td>231.6600</td>\n",
       "    </tr>\n",
       "    <tr>\n",
       "      <th>1</th>\n",
       "      <td>Argentina</td>\n",
       "      <td>Sudamérica</td>\n",
       "      <td>45.2</td>\n",
       "      <td>9912</td>\n",
       "      <td>76.7</td>\n",
       "      <td>42.9</td>\n",
       "      <td>99.0</td>\n",
       "      <td>-2.0</td>\n",
       "      <td>448.0224</td>\n",
       "    </tr>\n",
       "    <tr>\n",
       "      <th>2</th>\n",
       "      <td>Chile</td>\n",
       "      <td>Sudamérica</td>\n",
       "      <td>19.5</td>\n",
       "      <td>15000</td>\n",
       "      <td>80.5</td>\n",
       "      <td>44.4</td>\n",
       "      <td>99.4</td>\n",
       "      <td>2.5</td>\n",
       "      <td>292.5000</td>\n",
       "    </tr>\n",
       "    <tr>\n",
       "      <th>3</th>\n",
       "      <td>Colombia</td>\n",
       "      <td>Sudamérica</td>\n",
       "      <td>51.0</td>\n",
       "      <td>6500</td>\n",
       "      <td>77.3</td>\n",
       "      <td>51.3</td>\n",
       "      <td>95.1</td>\n",
       "      <td>3.0</td>\n",
       "      <td>331.5000</td>\n",
       "    </tr>\n",
       "    <tr>\n",
       "      <th>4</th>\n",
       "      <td>Brasil</td>\n",
       "      <td>Sudamérica</td>\n",
       "      <td>212.6</td>\n",
       "      <td>8717</td>\n",
       "      <td>75.9</td>\n",
       "      <td>53.9</td>\n",
       "      <td>93.2</td>\n",
       "      <td>1.4</td>\n",
       "      <td>1853.2342</td>\n",
       "    </tr>\n",
       "    <tr>\n",
       "      <th>5</th>\n",
       "      <td>México</td>\n",
       "      <td>Norteamérica</td>\n",
       "      <td>128.9</td>\n",
       "      <td>9863</td>\n",
       "      <td>75.0</td>\n",
       "      <td>45.4</td>\n",
       "      <td>95.4</td>\n",
       "      <td>2.1</td>\n",
       "      <td>1271.3407</td>\n",
       "    </tr>\n",
       "    <tr>\n",
       "      <th>6</th>\n",
       "      <td>Uruguay</td>\n",
       "      <td>Sudamérica</td>\n",
       "      <td>3.5</td>\n",
       "      <td>16190</td>\n",
       "      <td>77.9</td>\n",
       "      <td>39.7</td>\n",
       "      <td>98.4</td>\n",
       "      <td>2.0</td>\n",
       "      <td>56.6650</td>\n",
       "    </tr>\n",
       "    <tr>\n",
       "      <th>7</th>\n",
       "      <td>España</td>\n",
       "      <td>Europa</td>\n",
       "      <td>47.4</td>\n",
       "      <td>29600</td>\n",
       "      <td>83.6</td>\n",
       "      <td>34.7</td>\n",
       "      <td>98.4</td>\n",
       "      <td>2.5</td>\n",
       "      <td>1403.0400</td>\n",
       "    </tr>\n",
       "    <tr>\n",
       "      <th>8</th>\n",
       "      <td>Canadá</td>\n",
       "      <td>Norteamérica</td>\n",
       "      <td>38.0</td>\n",
       "      <td>46194</td>\n",
       "      <td>82.3</td>\n",
       "      <td>33.3</td>\n",
       "      <td>99.0</td>\n",
       "      <td>1.9</td>\n",
       "      <td>1755.3720</td>\n",
       "    </tr>\n",
       "    <tr>\n",
       "      <th>9</th>\n",
       "      <td>Japón</td>\n",
       "      <td>Asia</td>\n",
       "      <td>125.8</td>\n",
       "      <td>40700</td>\n",
       "      <td>84.6</td>\n",
       "      <td>32.9</td>\n",
       "      <td>99.0</td>\n",
       "      <td>0.8</td>\n",
       "      <td>5120.0600</td>\n",
       "    </tr>\n",
       "  </tbody>\n",
       "</table>\n",
       "</div>"
      ],
      "text/plain": [
       "        Pais    Continente  Poblacion_millones  PBI_per_capita  \\\n",
       "0       Perú    Sudamérica                33.0            7020   \n",
       "1  Argentina    Sudamérica                45.2            9912   \n",
       "2      Chile    Sudamérica                19.5           15000   \n",
       "3   Colombia    Sudamérica                51.0            6500   \n",
       "4     Brasil    Sudamérica               212.6            8717   \n",
       "5     México  Norteamérica               128.9            9863   \n",
       "6    Uruguay    Sudamérica                 3.5           16190   \n",
       "7     España        Europa                47.4           29600   \n",
       "8     Canadá  Norteamérica                38.0           46194   \n",
       "9      Japón          Asia               125.8           40700   \n",
       "\n",
       "   Esperanza_de_vida  Indice_Gini  Tasa_Alfabetizacion  Crecimiento_Anual_PBI  \\\n",
       "0               76.5         41.5                 94.4                    1.1   \n",
       "1               76.7         42.9                 99.0                   -2.0   \n",
       "2               80.5         44.4                 99.4                    2.5   \n",
       "3               77.3         51.3                 95.1                    3.0   \n",
       "4               75.9         53.9                 93.2                    1.4   \n",
       "5               75.0         45.4                 95.4                    2.1   \n",
       "6               77.9         39.7                 98.4                    2.0   \n",
       "7               83.6         34.7                 98.4                    2.5   \n",
       "8               82.3         33.3                 99.0                    1.9   \n",
       "9               84.6         32.9                 99.0                    0.8   \n",
       "\n",
       "   PBI_Total_billones  \n",
       "0            231.6600  \n",
       "1            448.0224  \n",
       "2            292.5000  \n",
       "3            331.5000  \n",
       "4           1853.2342  \n",
       "5           1271.3407  \n",
       "6             56.6650  \n",
       "7           1403.0400  \n",
       "8           1755.3720  \n",
       "9           5120.0600  "
      ]
     },
     "execution_count": 10,
     "metadata": {},
     "output_type": "execute_result"
    }
   ],
   "source": [
    "df_desarrollo['PBI_Total_billones']=df_desarrollo['PBI_per_capita']*df_desarrollo['Poblacion_millones']/1000\n",
    "df_desarrollo"
   ]
  },
  {
   "cell_type": "markdown",
   "id": "t8u-hYwUbJuG",
   "metadata": {
    "id": "t8u-hYwUbJuG"
   },
   "source": [
    "**7.** Crea una nueva columna condicional `Categoria_Desarrollo`. Clasifica a los países según las siguientes reglas:\n",
    "- 'Alto': Si `Esperanza_de_vida` > 80 Y `PBI_per_capita` > 25000.\n",
    "- 'Medio-Alto': Si `Esperanza_de_vida` > 76 Y `PBI_per_capita` > 8000.\n",
    "- 'Medio': Para todos los demás casos."
   ]
  },
  {
   "cell_type": "code",
   "execution_count": 20,
   "id": "VXJB6DAubJuG",
   "metadata": {
    "id": "VXJB6DAubJuG"
   },
   "outputs": [
    {
     "data": {
      "text/html": [
       "<div>\n",
       "<style scoped>\n",
       "    .dataframe tbody tr th:only-of-type {\n",
       "        vertical-align: middle;\n",
       "    }\n",
       "\n",
       "    .dataframe tbody tr th {\n",
       "        vertical-align: top;\n",
       "    }\n",
       "\n",
       "    .dataframe thead th {\n",
       "        text-align: right;\n",
       "    }\n",
       "</style>\n",
       "<table border=\"1\" class=\"dataframe\">\n",
       "  <thead>\n",
       "    <tr style=\"text-align: right;\">\n",
       "      <th></th>\n",
       "      <th>Pais</th>\n",
       "      <th>Continente</th>\n",
       "      <th>Poblacion_millones</th>\n",
       "      <th>PBI_per_capita</th>\n",
       "      <th>Esperanza_de_vida</th>\n",
       "      <th>Indice_Gini</th>\n",
       "      <th>Tasa_Alfabetizacion</th>\n",
       "      <th>Crecimiento_Anual_PBI</th>\n",
       "      <th>Categoria_Desarrollo</th>\n",
       "    </tr>\n",
       "  </thead>\n",
       "  <tbody>\n",
       "    <tr>\n",
       "      <th>0</th>\n",
       "      <td>Perú</td>\n",
       "      <td>Sudamérica</td>\n",
       "      <td>33.0</td>\n",
       "      <td>7020</td>\n",
       "      <td>76.5</td>\n",
       "      <td>41.5</td>\n",
       "      <td>94.4</td>\n",
       "      <td>1.1</td>\n",
       "      <td>Medio</td>\n",
       "    </tr>\n",
       "    <tr>\n",
       "      <th>1</th>\n",
       "      <td>Argentina</td>\n",
       "      <td>Sudamérica</td>\n",
       "      <td>45.2</td>\n",
       "      <td>9912</td>\n",
       "      <td>76.7</td>\n",
       "      <td>42.9</td>\n",
       "      <td>99.0</td>\n",
       "      <td>-2.0</td>\n",
       "      <td>Medio-Alto</td>\n",
       "    </tr>\n",
       "    <tr>\n",
       "      <th>2</th>\n",
       "      <td>Chile</td>\n",
       "      <td>Sudamérica</td>\n",
       "      <td>19.5</td>\n",
       "      <td>15000</td>\n",
       "      <td>80.5</td>\n",
       "      <td>44.4</td>\n",
       "      <td>99.4</td>\n",
       "      <td>2.5</td>\n",
       "      <td>Medio-Alto</td>\n",
       "    </tr>\n",
       "    <tr>\n",
       "      <th>3</th>\n",
       "      <td>Colombia</td>\n",
       "      <td>Sudamérica</td>\n",
       "      <td>51.0</td>\n",
       "      <td>6500</td>\n",
       "      <td>77.3</td>\n",
       "      <td>51.3</td>\n",
       "      <td>95.1</td>\n",
       "      <td>3.0</td>\n",
       "      <td>Medio</td>\n",
       "    </tr>\n",
       "    <tr>\n",
       "      <th>4</th>\n",
       "      <td>Brasil</td>\n",
       "      <td>Sudamérica</td>\n",
       "      <td>212.6</td>\n",
       "      <td>8717</td>\n",
       "      <td>75.9</td>\n",
       "      <td>53.9</td>\n",
       "      <td>93.2</td>\n",
       "      <td>1.4</td>\n",
       "      <td>Medio</td>\n",
       "    </tr>\n",
       "  </tbody>\n",
       "</table>\n",
       "</div>"
      ],
      "text/plain": [
       "        Pais  Continente  Poblacion_millones  PBI_per_capita  \\\n",
       "0       Perú  Sudamérica                33.0            7020   \n",
       "1  Argentina  Sudamérica                45.2            9912   \n",
       "2      Chile  Sudamérica                19.5           15000   \n",
       "3   Colombia  Sudamérica                51.0            6500   \n",
       "4     Brasil  Sudamérica               212.6            8717   \n",
       "\n",
       "   Esperanza_de_vida  Indice_Gini  Tasa_Alfabetizacion  Crecimiento_Anual_PBI  \\\n",
       "0               76.5         41.5                 94.4                    1.1   \n",
       "1               76.7         42.9                 99.0                   -2.0   \n",
       "2               80.5         44.4                 99.4                    2.5   \n",
       "3               77.3         51.3                 95.1                    3.0   \n",
       "4               75.9         53.9                 93.2                    1.4   \n",
       "\n",
       "  Categoria_Desarrollo  \n",
       "0                Medio  \n",
       "1           Medio-Alto  \n",
       "2           Medio-Alto  \n",
       "3                Medio  \n",
       "4                Medio  "
      ]
     },
     "execution_count": 20,
     "metadata": {},
     "output_type": "execute_result"
    }
   ],
   "source": [
    "def clasf(fila):\n",
    "    if fila['Esperanza_de_vida'] > 80 and fila['PBI_per_capita'] > 25000:\n",
    "        return 'Alto'\n",
    "    elif fila['Esperanza_de_vida'] > 76 and fila['PBI_per_capita'] > 8000:\n",
    "        return 'Medio-Alto'\n",
    "    else:\n",
    "        return 'Medio'\n",
    "df_desarrollo['Categoria_Desarrollo'] = df_desarrollo.apply(clasf, axis=1)\n",
    "df_desarrollo.head()"
   ]
  },
  {
   "cell_type": "markdown",
   "id": "2CjwamlPbJuG",
   "metadata": {
    "id": "2CjwamlPbJuG"
   },
   "source": [
    "**8.1.** Filtra el DataFrame para encontrar los países de 'Sudamérica' con un `Indice_Gini` menor a 45.\n",
    "\n",
    "**8.2.** Ordena el resultado del filtro anterior por `PBI_per_capita` de forma descendente."
   ]
  },
  {
   "cell_type": "code",
   "execution_count": 12,
   "id": "KcaeffT-bJuG",
   "metadata": {
    "id": "KcaeffT-bJuG"
   },
   "outputs": [
    {
     "data": {
      "text/html": [
       "<div>\n",
       "<style scoped>\n",
       "    .dataframe tbody tr th:only-of-type {\n",
       "        vertical-align: middle;\n",
       "    }\n",
       "\n",
       "    .dataframe tbody tr th {\n",
       "        vertical-align: top;\n",
       "    }\n",
       "\n",
       "    .dataframe thead th {\n",
       "        text-align: right;\n",
       "    }\n",
       "</style>\n",
       "<table border=\"1\" class=\"dataframe\">\n",
       "  <thead>\n",
       "    <tr style=\"text-align: right;\">\n",
       "      <th></th>\n",
       "      <th>Pais</th>\n",
       "      <th>Continente</th>\n",
       "      <th>Poblacion_millones</th>\n",
       "      <th>PBI_per_capita</th>\n",
       "      <th>Esperanza_de_vida</th>\n",
       "      <th>Indice_Gini</th>\n",
       "      <th>Tasa_Alfabetizacion</th>\n",
       "      <th>Crecimiento_Anual_PBI</th>\n",
       "      <th>PBI_Total_billones</th>\n",
       "      <th>Categoria_Desarrollo</th>\n",
       "    </tr>\n",
       "  </thead>\n",
       "  <tbody>\n",
       "    <tr>\n",
       "      <th>6</th>\n",
       "      <td>Uruguay</td>\n",
       "      <td>Sudamérica</td>\n",
       "      <td>3.5</td>\n",
       "      <td>16190</td>\n",
       "      <td>77.9</td>\n",
       "      <td>39.7</td>\n",
       "      <td>98.4</td>\n",
       "      <td>2.0</td>\n",
       "      <td>56.6650</td>\n",
       "      <td>Medio-Alto</td>\n",
       "    </tr>\n",
       "    <tr>\n",
       "      <th>2</th>\n",
       "      <td>Chile</td>\n",
       "      <td>Sudamérica</td>\n",
       "      <td>19.5</td>\n",
       "      <td>15000</td>\n",
       "      <td>80.5</td>\n",
       "      <td>44.4</td>\n",
       "      <td>99.4</td>\n",
       "      <td>2.5</td>\n",
       "      <td>292.5000</td>\n",
       "      <td>Medio-Alto</td>\n",
       "    </tr>\n",
       "    <tr>\n",
       "      <th>1</th>\n",
       "      <td>Argentina</td>\n",
       "      <td>Sudamérica</td>\n",
       "      <td>45.2</td>\n",
       "      <td>9912</td>\n",
       "      <td>76.7</td>\n",
       "      <td>42.9</td>\n",
       "      <td>99.0</td>\n",
       "      <td>-2.0</td>\n",
       "      <td>448.0224</td>\n",
       "      <td>Medio-Alto</td>\n",
       "    </tr>\n",
       "    <tr>\n",
       "      <th>0</th>\n",
       "      <td>Perú</td>\n",
       "      <td>Sudamérica</td>\n",
       "      <td>33.0</td>\n",
       "      <td>7020</td>\n",
       "      <td>76.5</td>\n",
       "      <td>41.5</td>\n",
       "      <td>94.4</td>\n",
       "      <td>1.1</td>\n",
       "      <td>231.6600</td>\n",
       "      <td>Medio</td>\n",
       "    </tr>\n",
       "  </tbody>\n",
       "</table>\n",
       "</div>"
      ],
      "text/plain": [
       "        Pais  Continente  Poblacion_millones  PBI_per_capita  \\\n",
       "6    Uruguay  Sudamérica                 3.5           16190   \n",
       "2      Chile  Sudamérica                19.5           15000   \n",
       "1  Argentina  Sudamérica                45.2            9912   \n",
       "0       Perú  Sudamérica                33.0            7020   \n",
       "\n",
       "   Esperanza_de_vida  Indice_Gini  Tasa_Alfabetizacion  Crecimiento_Anual_PBI  \\\n",
       "6               77.9         39.7                 98.4                    2.0   \n",
       "2               80.5         44.4                 99.4                    2.5   \n",
       "1               76.7         42.9                 99.0                   -2.0   \n",
       "0               76.5         41.5                 94.4                    1.1   \n",
       "\n",
       "   PBI_Total_billones Categoria_Desarrollo  \n",
       "6             56.6650           Medio-Alto  \n",
       "2            292.5000           Medio-Alto  \n",
       "1            448.0224           Medio-Alto  \n",
       "0            231.6600                Medio  "
      ]
     },
     "execution_count": 12,
     "metadata": {},
     "output_type": "execute_result"
    }
   ],
   "source": [
    "sudamerica_gini=df_desarrollo[(df_desarrollo['Continente']=='Sudamérica') & (df_desarrollo['Indice_Gini']<45)]\n",
    "ordenado=sudamerica_gini.sort_values(by='PBI_per_capita',ascending=False)\n",
    "ordenado"
   ]
  },
  {
   "cell_type": "markdown",
   "id": "5GGM9kLgbJuH",
   "metadata": {
    "id": "5GGM9kLgbJuH"
   },
   "source": [
    "**9.** Utilizando `groupby()`, calcula para cada `Continente`:\n",
    "- La **media** de `Esperanza_de_vida`.\n",
    "- El **máximo** de `Indice_Gini`.\n",
    "- El **conteo** de países."
   ]
  },
  {
   "cell_type": "code",
   "execution_count": 13,
   "id": "SnoAgW2LbJuH",
   "metadata": {
    "id": "SnoAgW2LbJuH"
   },
   "outputs": [
    {
     "data": {
      "text/html": [
       "<div>\n",
       "<style scoped>\n",
       "    .dataframe tbody tr th:only-of-type {\n",
       "        vertical-align: middle;\n",
       "    }\n",
       "\n",
       "    .dataframe tbody tr th {\n",
       "        vertical-align: top;\n",
       "    }\n",
       "\n",
       "    .dataframe thead th {\n",
       "        text-align: right;\n",
       "    }\n",
       "</style>\n",
       "<table border=\"1\" class=\"dataframe\">\n",
       "  <thead>\n",
       "    <tr style=\"text-align: right;\">\n",
       "      <th></th>\n",
       "      <th>Esperanza_de_vida</th>\n",
       "      <th>Indice_Gini</th>\n",
       "      <th>Pais</th>\n",
       "    </tr>\n",
       "    <tr>\n",
       "      <th>Continente</th>\n",
       "      <th></th>\n",
       "      <th></th>\n",
       "      <th></th>\n",
       "    </tr>\n",
       "  </thead>\n",
       "  <tbody>\n",
       "    <tr>\n",
       "      <th>Asia</th>\n",
       "      <td>84.600000</td>\n",
       "      <td>32.9</td>\n",
       "      <td>1</td>\n",
       "    </tr>\n",
       "    <tr>\n",
       "      <th>Europa</th>\n",
       "      <td>83.600000</td>\n",
       "      <td>34.7</td>\n",
       "      <td>1</td>\n",
       "    </tr>\n",
       "    <tr>\n",
       "      <th>Norteamérica</th>\n",
       "      <td>78.650000</td>\n",
       "      <td>45.4</td>\n",
       "      <td>2</td>\n",
       "    </tr>\n",
       "    <tr>\n",
       "      <th>Sudamérica</th>\n",
       "      <td>77.466667</td>\n",
       "      <td>53.9</td>\n",
       "      <td>6</td>\n",
       "    </tr>\n",
       "  </tbody>\n",
       "</table>\n",
       "</div>"
      ],
      "text/plain": [
       "              Esperanza_de_vida  Indice_Gini  Pais\n",
       "Continente                                        \n",
       "Asia                  84.600000         32.9     1\n",
       "Europa                83.600000         34.7     1\n",
       "Norteamérica          78.650000         45.4     2\n",
       "Sudamérica            77.466667         53.9     6"
      ]
     },
     "execution_count": 13,
     "metadata": {},
     "output_type": "execute_result"
    }
   ],
   "source": [
    "df_desarrollo.groupby('Continente').agg({'Esperanza_de_vida': 'mean','Indice_Gini': 'max','Pais': 'count'})\n"
   ]
  },
  {
   "cell_type": "markdown",
   "id": "NJNCKZYxbJuH",
   "metadata": {
    "id": "NJNCKZYxbJuH"
   },
   "source": [
    "## Sección 3: Visualización de Datos"
   ]
  },
  {
   "cell_type": "markdown",
   "id": "oqRrTvFVbJuH",
   "metadata": {
    "id": "oqRrTvFVbJuH"
   },
   "source": [
    "**10.** Crea un gráfico de barras horizontales (`barh`) que muestre el `Indice_Gini` de cada país. Ordena los países de menor a mayor desigualdad (Gini) para una mejor visualización. Asegúrate de que el gráfico tenga un título y etiquetas adecuadas."
   ]
  },
  {
   "cell_type": "code",
   "execution_count": 7,
   "id": "UoyxHvhjbJuH",
   "metadata": {
    "id": "UoyxHvhjbJuH"
   },
   "outputs": [
    {
     "data": {
      "image/png": "[encoded data removed]",
      "text/plain": [
       "<Figure size 800x600 with 1 Axes>"
      ]
     },
     "metadata": {},
     "output_type": "display_data"
    }
   ],
   "source": [
    "import matplotlib.pyplot as plt\n",
    "\n",
    "# Ordenar países de menor a mayor desigualdad\n",
    "df_ordenado = df_desarrollo.sort_values(by='Indice_Gini', ascending=True)\n",
    "\n",
    "# Crear gráfico de barras horizontales\n",
    "plt.figure(figsize=(8, 6))\n",
    "plt.barh(df_ordenado['Pais'], df_ordenado['Indice_Gini'], color='skyblue')\n",
    "\n",
    "# Añadir título y etiquetas\n",
    "plt.title('Índice de Gini por País', fontsize=14)\n",
    "plt.xlabel('Índice de Gini')\n",
    "plt.ylabel('País')\n",
    "\n",
    "# Mostrar gráfico\n",
    "plt.show()\n"
   ]
  },
  {
   "cell_type": "markdown",
   "id": "Ycs_GpmrbJuH",
   "metadata": {
    "id": "Ycs_GpmrbJuH"
   },
   "source": [
    "**11.1.** Genera un gráfico de dispersión (scatter plot) para explorar la relación entre el `PBI_per_capita` (eje X) y la `Esperanza_de_vida` (eje Y).\n",
    "\n",
    "**11.2.** Modifica el gráfico anterior para que el color de cada punto represente su `Continente`. (Pista: puedes crear un diccionario que mapee continentes a colores, por ejemplo: `{'Sudamérica': 'blue', ...}`).\n",
    "\n",
    "**11.3.** **Interpretación:** ¿Qué te dice este gráfico sobre la relación entre PBI y esperanza de vida? ¿Observas alguna agrupación por continentes?"
   ]
  },
  {
   "cell_type": "code",
   "execution_count": 8,
   "id": "ykNgEk1xbJuH",
   "metadata": {
    "id": "ykNgEk1xbJuH"
   },
   "outputs": [
    {
     "data": {
      "image/png": "[encoded data removed]",
      "text/plain": [
       "<Figure size 800x600 with 1 Axes>"
      ]
     },
     "metadata": {},
     "output_type": "display_data"
    },
    {
     "data": {
      "image/png": "[encoded data removed]",
      "text/plain": [
       "<Figure size 800x600 with 1 Axes>"
      ]
     },
     "metadata": {},
     "output_type": "display_data"
    }
   ],
   "source": [
    "import matplotlib.pyplot as plt\n",
    "\n",
    "plt.figure(figsize=(8, 6))\n",
    "plt.scatter(df_desarrollo['PBI_per_capita'], df_desarrollo['Esperanza_de_vida'], color='skyblue')\n",
    "\n",
    "plt.title('Relación entre PBI per cápita y Esperanza de vida')\n",
    "plt.xlabel('PBI per cápita (USD)')\n",
    "plt.ylabel('Esperanza de vida (años)')\n",
    "\n",
    "plt.show()\n",
    "\n",
    "colores_continentes = {\n",
    "    'Sudamérica': 'green',\n",
    "    'Norteamérica': 'blue',\n",
    "    'Europa': 'orange',\n",
    "    'Asia': 'purple'\n",
    "}\n",
    "\n",
    "plt.figure(figsize=(8, 6))\n",
    "\n",
    "colores = df_desarrollo['Continente'].map(colores_continentes)\n",
    "\n",
    "plt.scatter(df_desarrollo['PBI_per_capita'], df_desarrollo['Esperanza_de_vida'],\n",
    "            c=colores, s=100, edgecolors='black')\n",
    "\n",
    "plt.title('PBI per cápita vs Esperanza de vida por Continente')\n",
    "plt.xlabel('PBI per cápita (USD)')\n",
    "plt.ylabel('Esperanza de vida (años)')\n",
    "\n",
    "for cont, color in colores_continentes.items():\n",
    "    plt.scatter([], [], c=color, label=cont, s=100, edgecolors='black')\n",
    "plt.legend(title='Continente')\n",
    "\n",
    "plt.show()\n"
   ]
  },
  {
   "cell_type": "markdown",
   "id": "zyvV_QzDbJuH",
   "metadata": {
    "id": "zyvV_QzDbJuH"
   },
   "source": [
    "*La relación que podemos apreciar es positiva, pues se concluye que la esperanza de vida crece a medida que es mayor el PBI per capita. Asimismo los mas desarrollados se encuentran en la esquina superior derecha (asia, europa y norteamerica), mientras que sudamerica y algunas partes de norteamerica se encuentran bastante bajo.*"
   ]
  },
  {
   "cell_type": "markdown",
   "id": "Wi51SLJWbJuH",
   "metadata": {
    "id": "Wi51SLJWbJuH"
   },
   "source": [
    "**12.** Crea un histograma de la `Tasa_Alfabetizacion`. Añade una línea vertical roja que represente la media de esta tasa."
   ]
  },
  {
   "cell_type": "code",
   "execution_count": 9,
   "id": "kTHwpTlNbJuI",
   "metadata": {
    "id": "kTHwpTlNbJuI"
   },
   "outputs": [
    {
     "data": {
      "image/png": "[encoded data removed]",
      "text/plain": [
       "<Figure size 800x600 with 1 Axes>"
      ]
     },
     "metadata": {},
     "output_type": "display_data"
    }
   ],
   "source": [
    "import matplotlib.pyplot as plt\n",
    "\n",
    "media_alfabetizacion = df_desarrollo['Tasa_Alfabetizacion'].mean()\n",
    "\n",
    "plt.figure(figsize=(8, 6))\n",
    "\n",
    "plt.hist(df_desarrollo['Tasa_Alfabetizacion'].dropna(), bins=5, color='skyblue', edgecolor='black')\n",
    "\n",
    "plt.axvline(media_alfabetizacion, color='red', linestyle='--', linewidth=2, label=f'Media: {media_alfabetizacion:.2f}%')\n",
    "\n",
    "plt.title('Histograma de la Tasa de Alfabetización')\n",
    "plt.xlabel('Tasa de Alfabetización')\n",
    "plt.ylabel('Frecuencia')\n",
    "\n",
    "plt.legend()\n",
    "\n",
    "plt.show()"
   ]
  },
  {
   "cell_type": "markdown",
   "id": "5Rlsc-hNbJuI",
   "metadata": {
    "id": "5Rlsc-hNbJuI"
   },
   "source": [
    "## Sección 4: Estadística y Síntesis"
   ]
  },
  {
   "cell_type": "markdown",
   "id": "4Pd-42lrbJuI",
   "metadata": {
    "id": "4Pd-42lrbJuI"
   },
   "source": [
    "**13.** Muestra un resumen estadístico completo de las columnas numéricas del DataFrame."
   ]
  },
  {
   "cell_type": "code",
   "execution_count": 16,
   "id": "Q3OHpdjgbJuI",
   "metadata": {
    "id": "Q3OHpdjgbJuI"
   },
   "outputs": [
    {
     "name": "stdout",
     "output_type": "stream",
     "text": [
      "       Poblacion_millones  PBI_per_capita  Esperanza_de_vida  Indice_Gini  \\\n",
      "count           10.000000       10.000000          10.000000    10.000000   \n",
      "mean            70.490000    18969.600000          79.030000    42.000000   \n",
      "std             64.779548    14599.229418           3.446431     7.176815   \n",
      "min              3.500000     6500.000000          75.000000    32.900000   \n",
      "25%             34.250000     9003.500000          76.550000    35.950000   \n",
      "50%             46.300000    12456.000000          77.600000    42.200000   \n",
      "75%            107.100000    26247.500000          81.850000    45.150000   \n",
      "max            212.600000    46194.000000          84.600000    53.900000   \n",
      "\n",
      "       Tasa_Alfabetizacion  Crecimiento_Anual_PBI  \n",
      "count             9.000000              10.000000  \n",
      "mean             96.988889               1.530000  \n",
      "std               2.426131               1.411107  \n",
      "min              93.200000              -2.000000  \n",
      "25%              95.100000               1.175000  \n",
      "50%              98.400000               1.950000  \n",
      "75%              99.000000               2.400000  \n",
      "max              99.400000               3.000000  \n"
     ]
    }
   ],
   "source": [
    "print(df_desarrollo.describe())"
   ]
  },
  {
   "cell_type": "markdown",
   "id": "2JNprB4JbJuI",
   "metadata": {
    "id": "2JNprB4JbJuI"
   },
   "source": [
    "**14.1.** Calcula la matriz de correlación para las columnas numéricas del DataFrame.\n",
    "\n",
    "**14.2.** **Interpretación:** Identifica el par de variables con la correlación positiva más fuerte y el par con la correlación negativa más fuerte (excluyendo la correlación de una variable consigo misma). ¿Tienen sentido estos resultados en el mundo real?"
   ]
  },
  {
   "cell_type": "code",
   "execution_count": 17,
   "id": "VWZFMyjwbJuI",
   "metadata": {
    "id": "VWZFMyjwbJuI"
   },
   "outputs": [
    {
     "name": "stdout",
     "output_type": "stream",
     "text": [
      "                       Poblacion_millones  PBI_per_capita  Esperanza_de_vida  \\\n",
      "Poblacion_millones               1.000000       -0.071465          -0.196905   \n",
      "PBI_per_capita                  -0.071465        1.000000           0.878126   \n",
      "Esperanza_de_vida               -0.196905        0.878126           1.000000   \n",
      "Indice_Gini                      0.402474       -0.833999          -0.782716   \n",
      "Tasa_Alfabetizacion             -0.529500        0.645183           0.725987   \n",
      "Crecimiento_Anual_PBI           -0.078008        0.077061           0.167948   \n",
      "\n",
      "                       Indice_Gini  Tasa_Alfabetizacion  Crecimiento_Anual_PBI  \n",
      "Poblacion_millones        0.402474            -0.529500              -0.078008  \n",
      "PBI_per_capita           -0.833999             0.645183               0.077061  \n",
      "Esperanza_de_vida        -0.782716             0.725987               0.167948  \n",
      "Indice_Gini               1.000000            -0.717035               0.095342  \n",
      "Tasa_Alfabetizacion      -0.717035             1.000000              -0.214635  \n",
      "Crecimiento_Anual_PBI     0.095342            -0.214635               1.000000  \n"
     ]
    }
   ],
   "source": [
    "matriz_correlacion = df_desarrollo.corr(numeric_only=True)\n",
    "print(matriz_correlacion)"
   ]
  },
  {
   "cell_type": "markdown",
   "id": "J4p1wHTmbJuR",
   "metadata": {
    "id": "J4p1wHTmbJuR"
   },
   "source": [
    "En la matriz de correlación se observa que la relación positiva más fuerte es entre el PBI per cápita y la esperanza de vida, con un valor cercano a 0.88. Esto significa que, en general, los países con un mayor ingreso per cápita tienden a tener una mayor esperanza de vida, lo cual resulta lógico porque un mayor desarrollo económico suele estar asociado a mejores condiciones de salud, educación y calidad de vida. Por otro lado, la correlación negativa más fuerte aparece entre el PBI per cápita y el índice de Gini, con un valor de aproximadamente -0.83. Este resultado indica que, a medida que aumenta el PBI per cápita, tiende a disminuir la desigualdad económica. Esto también es coherente con la realidad, ya que las economías más desarrolladas suelen contar con políticas de redistribución de ingresos y mejores oportunidades para su población."
   ]
  },
  {
   "cell_type": "markdown",
   "id": "djfvVHMnbJuR",
   "metadata": {
    "id": "djfvVHMnbJuR"
   },
   "source": [
    "**15.** Basado en los datos, calcula la probabilidad de que un país seleccionado al azar sea de 'Sudamérica' Y tenga una `Categoria_Desarrollo` de 'Medio-Alto'."
   ]
  },
  {
   "cell_type": "code",
   "execution_count": 22,
   "id": "Lhog8Pi4bJuR",
   "metadata": {
    "id": "Lhog8Pi4bJuR"
   },
   "outputs": [
    {
     "name": "stdout",
     "output_type": "stream",
     "text": [
      "Probabilidad de que sea de Sudamérica y tenga desarrollo Medio-Alto: 30.00%\n"
     ]
    }
   ],
   "source": [
    "total_paises = len(df_desarrollo)\n",
    "condicion = (df_desarrollo['Continente'] == 'Sudamérica') & (df_desarrollo['Categoria_Desarrollo'] == 'Medio-Alto')\n",
    "paises_filtrados = df_desarrollo[condicion]\n",
    "probabilidad = len(paises_filtrados) / total_paises\n",
    "print(\"Probabilidad de que sea de Sudamérica y tenga desarrollo Medio-Alto:\", f\"{probabilidad*100:.2f}%\")"
   ]
  }
 ],
 "metadata": {
  "colab": {
   "provenance": []
  },
  "kernelspec": {
   "display_name": "Python [conda env:base] *",
   "language": "python",
   "name": "conda-base-py"
  },
  "language_info": {
   "codemirror_mode": {
    "name": "ipython",
    "version": 3
   },
   "file_extension": ".py",
   "mimetype": "text/x-python",
   "name": "python",
   "nbconvert_exporter": "python",
   "pygments_lexer": "ipython3",
   "version": "3.11.5"
  }
 },
 "nbformat": 4,
 "nbformat_minor": 5
}
