{
 "cells": [
  {
   "cell_type": "markdown",
   "id": "OQSezRkDbJt7",
   "metadata": {
    "id": "OQSezRkDbJt7"
   },
   "source": [
    "# Tarea Final del Curso\n",
    "**Introducción a la Ciencia de Datos con Python**"
   ]
  },
  {
   "cell_type": "markdown",
   "id": "XGKFK_A8bJt_",
   "metadata": {
    "id": "XGKFK_A8bJt_"
   },
   "source": [
    "Fecha de entrega: Domingo 10 de agosto, 2025, 11:59pm\n",
    "\n",
    "**Instrucciones Generales:**\n",
    "\n",
    "- Esta es la entrega final y debe realizarse de manera grupal.\n",
    "- Es importante consignar en el correo de entrega, tanto los nombres y codigo de los integrantes del grupo.\n",
    "- Se considera un punto adicional a aquellos grupos que realizen la entrega por GITHUB, para ello deben ponerlo dentro de la carpeta Entregas_1, y nombre de archivo debe tener el formato: TrabajoFinal_GrupoX.ipynb\n",
    "- Asegúrate de seguir las buenas prácticas para nombrar variables y comentar tu código.\n",
    "- Utiliza las librerías vistas en clase: `numpy`, `pandas` y `matplotlib.pyplot`.\n",
    "- Responde a las preguntas teóricas o de interpretación en las celdas de Markdown designadas."
   ]
  },
  {
   "cell_type": "markdown",
   "id": "-knDLkMsbJuA",
   "metadata": {
    "id": "-knDLkMsbJuA"
   },
   "source": [
    "## Sección 1: NumPy - Manipulación Avanzada de Arrays"
   ]
  },
  {
   "cell_type": "markdown",
   "id": "y5tLDLYlbJuA",
   "metadata": {
    "id": "y5tLDLYlbJuA"
   },
   "source": [
    "**1.1.** Crea un array de NumPy llamado `vector_base` que contenga una secuencia de números desde 10 hasta 115 (inclusive), con un paso de 3 entre cada número."
   ]
  },
  {
   "cell_type": "code",
   "execution_count": 40,
   "id": "wvj9SXYtbr3v",
   "metadata": {
    "id": "wvj9SXYtbr3v"
   },
   "outputs": [
    {
     "name": "stdout",
     "output_type": "stream",
     "text": [
      "[ 10  13  16  19  22  25  28  31  34  37  40  43  46  49  52  55  58  61\n",
      "  64  67  70  73  76  79  82  85  88  91  94  97 100 103 106 109 112 115]\n"
     ]
    }
   ],
   "source": [
    "import numpy as np\n",
    "\n",
    "vector_base = np.arange(10, 116, 3)\n",
    "print(vector_base)"
   ]
  },
  {
   "cell_type": "markdown",
   "id": "983F8uePbJuB",
   "metadata": {
    "id": "983F8uePbJuB"
   },
   "source": [
    "**1.2.** A partir del `vector_base` anterior, crea una matriz de 5x7 llamada `matriz_A`."
   ]
  },
  {
   "cell_type": "code",
   "execution_count": 44,
   "id": "dmOA_SNgbJuC",
   "metadata": {
    "id": "dmOA_SNgbJuC"
   },
   "outputs": [
    {
     "name": "stdout",
     "output_type": "stream",
     "text": [
      "[[ 10  13  16  19  22  25  28]\n",
      " [ 31  34  37  40  43  46  49]\n",
      " [ 52  55  58  61  64  67  70]\n",
      " [ 73  76  79  82  85  88  91]\n",
      " [ 94  97 100 103 106 109 112]]\n"
     ]
    }
   ],
   "source": [
    "vector_base = vector_base[:35]\n",
    "\n",
    "matriz_A = vector_base.reshape(5, 7)\n",
    "print(matriz_A)"
   ]
  },
  {
   "cell_type": "markdown",
   "id": "QoWq-H84bJuC",
   "metadata": {
    "id": "QoWq-H84bJuC"
   },
   "source": [
    "**2.1.** Crea una segunda matriz de 5x7 llamada `matriz_B` que contenga números enteros aleatorios entre 1 y 10.\n",
    "\n",
    "**2.2.** Realiza una multiplicación elemento por elemento (element-wise) entre `matriz_A` y `matriz_B` y almacena el resultado en `matriz_C`."
   ]
  },
  {
   "cell_type": "code",
   "execution_count": 45,
   "id": "DDZDd-cfbJuD",
   "metadata": {
    "id": "DDZDd-cfbJuD"
   },
   "outputs": [
    {
     "name": "stdout",
     "output_type": "stream",
     "text": [
      "[[ 3  1  7  1  7  3  5]\n",
      " [ 8 10  5  6  3  2  2]\n",
      " [ 9  3  9  8  8 10  3]\n",
      " [ 1  8  4  8 10  4 10]\n",
      " [ 7  9  4  7  8  1  5]]\n"
     ]
    }
   ],
   "source": [
    "#2.1\n",
    "matriz_B = np.random.randint(1, 11, size=(5, 7))\n",
    "print(matriz_B)"
   ]
  },
  {
   "cell_type": "code",
   "execution_count": 46,
   "id": "5ecfba82",
   "metadata": {},
   "outputs": [
    {
     "name": "stdout",
     "output_type": "stream",
     "text": [
      "[[ 30  13 112  19 154  75 140]\n",
      " [248 340 185 240 129  92  98]\n",
      " [468 165 522 488 512 670 210]\n",
      " [ 73 608 316 656 850 352 910]\n",
      " [658 873 400 721 848 109 560]]\n"
     ]
    }
   ],
   "source": [
    "#2.2\n",
    "matriz_C = matriz_A * matriz_B\n",
    "print(matriz_C)"
   ]
  },
  {
   "cell_type": "markdown",
   "id": "HhrCyWatbJuD",
   "metadata": {
    "id": "HhrCyWatbJuD"
   },
   "source": [
    "**3.1.** Utilizando slicing, selecciona una submatriz de 2x2 de la esquina inferior derecha de `matriz_C`.\n",
    "\n",
    "**3.2.** Calcula el promedio de esta submatriz."
   ]
  },
  {
   "cell_type": "code",
   "execution_count": 48,
   "id": "dIlRtUE3bJuD",
   "metadata": {
    "id": "dIlRtUE3bJuD"
   },
   "outputs": [
    {
     "name": "stdout",
     "output_type": "stream",
     "text": [
      "[[352 910]\n",
      " [109 560]]\n",
      "el promedio de la submatriz es 482.75\n"
     ]
    }
   ],
   "source": [
    "#3.1 y 3.2\n",
    "submatriz = matriz_C[-2:, -2:]\n",
    "print(submatriz)\n",
    "promedio = submatriz.sum() / submatriz.size\n",
    "print(\"el promedio de la submatriz es\",promedio)"
   ]
  },
  {
   "cell_type": "markdown",
   "id": "gO0WijUnbJuE",
   "metadata": {
    "id": "gO0WijUnbJuE"
   },
   "source": [
    "## Sección 2: Pandas - Análisis Exploratorio de Datos"
   ]
  },
  {
   "cell_type": "markdown",
   "id": "SBXhc1V8bJuE",
   "metadata": {
    "id": "SBXhc1V8bJuE"
   },
   "source": [
    "Para esta sección, trabajaremos con un conjunto de datos ficticio sobre el desarrollo humano. **Ejecuta la siguiente celda para crear el DataFrame.**"
   ]
  },
  {
   "cell_type": "code",
   "execution_count": 49,
   "id": "iVR3JluqbJuE",
   "metadata": {
    "id": "iVR3JluqbJuE"
   },
   "outputs": [],
   "source": [
    "import pandas as pd\n",
    "import numpy as np\n",
    "\n",
    "data = {\n",
    "    'Pais': ['Perú', 'Argentina', 'Chile', 'Colombia', 'Brasil', 'México', 'Uruguay', 'España', 'Canadá', 'Japón'],\n",
    "    'Continente': ['Sudamérica', 'Sudamérica', 'Sudamérica', 'Sudamérica', 'Sudamérica', 'Norteamérica', 'Sudamérica', 'Europa', 'Norteamérica', 'Asia'],\n",
    "    'Poblacion_millones': [33.0, 45.2, 19.5, 51.0, 212.6, 128.9, 3.5, 47.4, 38.0, 125.8],\n",
    "    'PBI_per_capita': [7020, 9912, 15000, 6500, 8717, 9863, 16190, 29600, 46194, 40700],\n",
    "    'Esperanza_de_vida': [76.5, 76.7, 80.5, 77.3, 75.9, 75.0, 77.9, 83.6, 82.3, 84.6],\n",
    "    'Indice_Gini': [41.5, 42.9, 44.4, 51.3, 53.9, 45.4, 39.7, 34.7, 33.3, 32.9],\n",
    "    'Tasa_Alfabetizacion': [94.4, 99.0, 99.4, 95.1, 93.2, 95.4, np.nan, 98.4, 99.0, 99.0],\n",
    "    'Crecimiento_Anual_PBI': [1.1, -2.0, 2.5, 3.0, 1.4, 2.1, 2.0, 2.5, 1.9, 0.8]\n",
    "}\n",
    "\n",
    "df_desarrollo = pd.DataFrame(data)"
   ]
  },
  {
   "cell_type": "markdown",
   "id": "CFYuSgcfbJuF",
   "metadata": {
    "id": "CFYuSgcfbJuF"
   },
   "source": [
    "**4.1.** Muestra las primeras 5 filas del DataFrame `df_desarrollo`.\n",
    "\n",
    "**4.2.** Muestra un resumen general del DataFrame utilizando `.info()`."
   ]
  },
  {
   "cell_type": "code",
   "execution_count": 50,
   "id": "fiJXvGwgbJuF",
   "metadata": {
    "id": "fiJXvGwgbJuF"
   },
   "outputs": [
    {
     "data": {
      "text/html": [
       "<div>\n",
       "<style scoped>\n",
       "    .dataframe tbody tr th:only-of-type {\n",
       "        vertical-align: middle;\n",
       "    }\n",
       "\n",
       "    .dataframe tbody tr th {\n",
       "        vertical-align: top;\n",
       "    }\n",
       "\n",
       "    .dataframe thead th {\n",
       "        text-align: right;\n",
       "    }\n",
       "</style>\n",
       "<table border=\"1\" class=\"dataframe\">\n",
       "  <thead>\n",
       "    <tr style=\"text-align: right;\">\n",
       "      <th></th>\n",
       "      <th>Pais</th>\n",
       "      <th>Continente</th>\n",
       "      <th>Poblacion_millones</th>\n",
       "      <th>PBI_per_capita</th>\n",
       "      <th>Esperanza_de_vida</th>\n",
       "      <th>Indice_Gini</th>\n",
       "      <th>Tasa_Alfabetizacion</th>\n",
       "      <th>Crecimiento_Anual_PBI</th>\n",
       "    </tr>\n",
       "  </thead>\n",
       "  <tbody>\n",
       "    <tr>\n",
       "      <th>0</th>\n",
       "      <td>Perú</td>\n",
       "      <td>Sudamérica</td>\n",
       "      <td>33.0</td>\n",
       "      <td>7020</td>\n",
       "      <td>76.5</td>\n",
       "      <td>41.5</td>\n",
       "      <td>94.4</td>\n",
       "      <td>1.1</td>\n",
       "    </tr>\n",
       "    <tr>\n",
       "      <th>1</th>\n",
       "      <td>Argentina</td>\n",
       "      <td>Sudamérica</td>\n",
       "      <td>45.2</td>\n",
       "      <td>9912</td>\n",
       "      <td>76.7</td>\n",
       "      <td>42.9</td>\n",
       "      <td>99.0</td>\n",
       "      <td>-2.0</td>\n",
       "    </tr>\n",
       "    <tr>\n",
       "      <th>2</th>\n",
       "      <td>Chile</td>\n",
       "      <td>Sudamérica</td>\n",
       "      <td>19.5</td>\n",
       "      <td>15000</td>\n",
       "      <td>80.5</td>\n",
       "      <td>44.4</td>\n",
       "      <td>99.4</td>\n",
       "      <td>2.5</td>\n",
       "    </tr>\n",
       "    <tr>\n",
       "      <th>3</th>\n",
       "      <td>Colombia</td>\n",
       "      <td>Sudamérica</td>\n",
       "      <td>51.0</td>\n",
       "      <td>6500</td>\n",
       "      <td>77.3</td>\n",
       "      <td>51.3</td>\n",
       "      <td>95.1</td>\n",
       "      <td>3.0</td>\n",
       "    </tr>\n",
       "    <tr>\n",
       "      <th>4</th>\n",
       "      <td>Brasil</td>\n",
       "      <td>Sudamérica</td>\n",
       "      <td>212.6</td>\n",
       "      <td>8717</td>\n",
       "      <td>75.9</td>\n",
       "      <td>53.9</td>\n",
       "      <td>93.2</td>\n",
       "      <td>1.4</td>\n",
       "    </tr>\n",
       "  </tbody>\n",
       "</table>\n",
       "</div>"
      ],
      "text/plain": [
       "        Pais  Continente  Poblacion_millones  PBI_per_capita  \\\n",
       "0       Perú  Sudamérica                33.0            7020   \n",
       "1  Argentina  Sudamérica                45.2            9912   \n",
       "2      Chile  Sudamérica                19.5           15000   \n",
       "3   Colombia  Sudamérica                51.0            6500   \n",
       "4     Brasil  Sudamérica               212.6            8717   \n",
       "\n",
       "   Esperanza_de_vida  Indice_Gini  Tasa_Alfabetizacion  Crecimiento_Anual_PBI  \n",
       "0               76.5         41.5                 94.4                    1.1  \n",
       "1               76.7         42.9                 99.0                   -2.0  \n",
       "2               80.5         44.4                 99.4                    2.5  \n",
       "3               77.3         51.3                 95.1                    3.0  \n",
       "4               75.9         53.9                 93.2                    1.4  "
      ]
     },
     "execution_count": 50,
     "metadata": {},
     "output_type": "execute_result"
    }
   ],
   "source": [
    "#4.1\n",
    "df_desarrollo.head()"
   ]
  },
  {
   "cell_type": "code",
   "execution_count": 51,
   "id": "78f23657",
   "metadata": {},
   "outputs": [
    {
     "name": "stdout",
     "output_type": "stream",
     "text": [
      "<class 'pandas.core.frame.DataFrame'>\n",
      "RangeIndex: 10 entries, 0 to 9\n",
      "Data columns (total 8 columns):\n",
      " #   Column                 Non-Null Count  Dtype  \n",
      "---  ------                 --------------  -----  \n",
      " 0   Pais                   10 non-null     object \n",
      " 1   Continente             10 non-null     object \n",
      " 2   Poblacion_millones     10 non-null     float64\n",
      " 3   PBI_per_capita         10 non-null     int64  \n",
      " 4   Esperanza_de_vida      10 non-null     float64\n",
      " 5   Indice_Gini            10 non-null     float64\n",
      " 6   Tasa_Alfabetizacion    9 non-null      float64\n",
      " 7   Crecimiento_Anual_PBI  10 non-null     float64\n",
      "dtypes: float64(5), int64(1), object(2)\n",
      "memory usage: 772.0+ bytes\n"
     ]
    }
   ],
   "source": [
    "#4.2\n",
    "df_desarrollo.info()"
   ]
  },
  {
   "cell_type": "markdown",
   "id": "mlZeIBfFbJuG",
   "metadata": {
    "id": "mlZeIBfFbJuG"
   },
   "source": [
    "**5.** Hemos notado que hay un valor faltante (`NaN`) en la columna `Tasa_Alfabetizacion`. Imputa este valor faltante utilizando la **mediana** de esa misma columna."
   ]
  },
  {
   "cell_type": "code",
   "execution_count": 55,
   "id": "JPWPLHX8bJuG",
   "metadata": {
    "id": "JPWPLHX8bJuG"
   },
   "outputs": [
    {
     "name": "stdout",
     "output_type": "stream",
     "text": [
      "La mediana es 98.4\n"
     ]
    },
    {
     "data": {
      "text/html": [
       "<div>\n",
       "<style scoped>\n",
       "    .dataframe tbody tr th:only-of-type {\n",
       "        vertical-align: middle;\n",
       "    }\n",
       "\n",
       "    .dataframe tbody tr th {\n",
       "        vertical-align: top;\n",
       "    }\n",
       "\n",
       "    .dataframe thead th {\n",
       "        text-align: right;\n",
       "    }\n",
       "</style>\n",
       "<table border=\"1\" class=\"dataframe\">\n",
       "  <thead>\n",
       "    <tr style=\"text-align: right;\">\n",
       "      <th></th>\n",
       "      <th>Pais</th>\n",
       "      <th>Continente</th>\n",
       "      <th>Poblacion_millones</th>\n",
       "      <th>PBI_per_capita</th>\n",
       "      <th>Esperanza_de_vida</th>\n",
       "      <th>Indice_Gini</th>\n",
       "      <th>Tasa_Alfabetizacion</th>\n",
       "      <th>Crecimiento_Anual_PBI</th>\n",
       "    </tr>\n",
       "  </thead>\n",
       "  <tbody>\n",
       "    <tr>\n",
       "      <th>0</th>\n",
       "      <td>Perú</td>\n",
       "      <td>Sudamérica</td>\n",
       "      <td>33.0</td>\n",
       "      <td>7020</td>\n",
       "      <td>76.5</td>\n",
       "      <td>41.5</td>\n",
       "      <td>94.4</td>\n",
       "      <td>1.1</td>\n",
       "    </tr>\n",
       "    <tr>\n",
       "      <th>1</th>\n",
       "      <td>Argentina</td>\n",
       "      <td>Sudamérica</td>\n",
       "      <td>45.2</td>\n",
       "      <td>9912</td>\n",
       "      <td>76.7</td>\n",
       "      <td>42.9</td>\n",
       "      <td>99.0</td>\n",
       "      <td>-2.0</td>\n",
       "    </tr>\n",
       "    <tr>\n",
       "      <th>2</th>\n",
       "      <td>Chile</td>\n",
       "      <td>Sudamérica</td>\n",
       "      <td>19.5</td>\n",
       "      <td>15000</td>\n",
       "      <td>80.5</td>\n",
       "      <td>44.4</td>\n",
       "      <td>99.4</td>\n",
       "      <td>2.5</td>\n",
       "    </tr>\n",
       "    <tr>\n",
       "      <th>3</th>\n",
       "      <td>Colombia</td>\n",
       "      <td>Sudamérica</td>\n",
       "      <td>51.0</td>\n",
       "      <td>6500</td>\n",
       "      <td>77.3</td>\n",
       "      <td>51.3</td>\n",
       "      <td>95.1</td>\n",
       "      <td>3.0</td>\n",
       "    </tr>\n",
       "    <tr>\n",
       "      <th>4</th>\n",
       "      <td>Brasil</td>\n",
       "      <td>Sudamérica</td>\n",
       "      <td>212.6</td>\n",
       "      <td>8717</td>\n",
       "      <td>75.9</td>\n",
       "      <td>53.9</td>\n",
       "      <td>93.2</td>\n",
       "      <td>1.4</td>\n",
       "    </tr>\n",
       "    <tr>\n",
       "      <th>5</th>\n",
       "      <td>México</td>\n",
       "      <td>Norteamérica</td>\n",
       "      <td>128.9</td>\n",
       "      <td>9863</td>\n",
       "      <td>75.0</td>\n",
       "      <td>45.4</td>\n",
       "      <td>95.4</td>\n",
       "      <td>2.1</td>\n",
       "    </tr>\n",
       "    <tr>\n",
       "      <th>6</th>\n",
       "      <td>Uruguay</td>\n",
       "      <td>Sudamérica</td>\n",
       "      <td>3.5</td>\n",
       "      <td>16190</td>\n",
       "      <td>77.9</td>\n",
       "      <td>39.7</td>\n",
       "      <td>98.4</td>\n",
       "      <td>2.0</td>\n",
       "    </tr>\n",
       "    <tr>\n",
       "      <th>7</th>\n",
       "      <td>España</td>\n",
       "      <td>Europa</td>\n",
       "      <td>47.4</td>\n",
       "      <td>29600</td>\n",
       "      <td>83.6</td>\n",
       "      <td>34.7</td>\n",
       "      <td>98.4</td>\n",
       "      <td>2.5</td>\n",
       "    </tr>\n",
       "    <tr>\n",
       "      <th>8</th>\n",
       "      <td>Canadá</td>\n",
       "      <td>Norteamérica</td>\n",
       "      <td>38.0</td>\n",
       "      <td>46194</td>\n",
       "      <td>82.3</td>\n",
       "      <td>33.3</td>\n",
       "      <td>99.0</td>\n",
       "      <td>1.9</td>\n",
       "    </tr>\n",
       "    <tr>\n",
       "      <th>9</th>\n",
       "      <td>Japón</td>\n",
       "      <td>Asia</td>\n",
       "      <td>125.8</td>\n",
       "      <td>40700</td>\n",
       "      <td>84.6</td>\n",
       "      <td>32.9</td>\n",
       "      <td>99.0</td>\n",
       "      <td>0.8</td>\n",
       "    </tr>\n",
       "  </tbody>\n",
       "</table>\n",
       "</div>"
      ],
      "text/plain": [
       "        Pais    Continente  Poblacion_millones  PBI_per_capita  \\\n",
       "0       Perú    Sudamérica                33.0            7020   \n",
       "1  Argentina    Sudamérica                45.2            9912   \n",
       "2      Chile    Sudamérica                19.5           15000   \n",
       "3   Colombia    Sudamérica                51.0            6500   \n",
       "4     Brasil    Sudamérica               212.6            8717   \n",
       "5     México  Norteamérica               128.9            9863   \n",
       "6    Uruguay    Sudamérica                 3.5           16190   \n",
       "7     España        Europa                47.4           29600   \n",
       "8     Canadá  Norteamérica                38.0           46194   \n",
       "9      Japón          Asia               125.8           40700   \n",
       "\n",
       "   Esperanza_de_vida  Indice_Gini  Tasa_Alfabetizacion  Crecimiento_Anual_PBI  \n",
       "0               76.5         41.5                 94.4                    1.1  \n",
       "1               76.7         42.9                 99.0                   -2.0  \n",
       "2               80.5         44.4                 99.4                    2.5  \n",
       "3               77.3         51.3                 95.1                    3.0  \n",
       "4               75.9         53.9                 93.2                    1.4  \n",
       "5               75.0         45.4                 95.4                    2.1  \n",
       "6               77.9         39.7                 98.4                    2.0  \n",
       "7               83.6         34.7                 98.4                    2.5  \n",
       "8               82.3         33.3                 99.0                    1.9  \n",
       "9               84.6         32.9                 99.0                    0.8  "
      ]
     },
     "execution_count": 55,
     "metadata": {},
     "output_type": "execute_result"
    }
   ],
   "source": [
    "mediana = df_desarrollo['Tasa_Alfabetizacion'].median()\n",
    "print(\"La mediana es {mediana}\")\n",
    "\n",
    "df_desarrollo.loc[6,'Tasa_Alfabetizacion'] = mediana\n",
    "df_desarrollo"
   ]
  },
  {
   "cell_type": "markdown",
   "id": "qo0004XubJuG",
   "metadata": {
    "id": "qo0004XubJuG"
   },
   "source": [
    "**6.1.** Crea una nueva columna llamada `PBI_Total_billones` que sea el resultado de multiplicar `PBI_per_capita` por `Poblacion_millones` y dividirlo entre 1000.\n",
    "\n",
    "**6.2.** Muestra el DataFrame con la nueva columna."
   ]
  },
  {
   "cell_type": "code",
   "execution_count": 56,
   "id": "ZVX-OPAybJuG",
   "metadata": {
    "id": "ZVX-OPAybJuG"
   },
   "outputs": [
    {
     "data": {
      "text/html": [
       "<div>\n",
       "<style scoped>\n",
       "    .dataframe tbody tr th:only-of-type {\n",
       "        vertical-align: middle;\n",
       "    }\n",
       "\n",
       "    .dataframe tbody tr th {\n",
       "        vertical-align: top;\n",
       "    }\n",
       "\n",
       "    .dataframe thead th {\n",
       "        text-align: right;\n",
       "    }\n",
       "</style>\n",
       "<table border=\"1\" class=\"dataframe\">\n",
       "  <thead>\n",
       "    <tr style=\"text-align: right;\">\n",
       "      <th></th>\n",
       "      <th>Pais</th>\n",
       "      <th>Continente</th>\n",
       "      <th>Poblacion_millones</th>\n",
       "      <th>PBI_per_capita</th>\n",
       "      <th>Esperanza_de_vida</th>\n",
       "      <th>Indice_Gini</th>\n",
       "      <th>Tasa_Alfabetizacion</th>\n",
       "      <th>Crecimiento_Anual_PBI</th>\n",
       "      <th>PBI_Total_billones</th>\n",
       "    </tr>\n",
       "  </thead>\n",
       "  <tbody>\n",
       "    <tr>\n",
       "      <th>0</th>\n",
       "      <td>Perú</td>\n",
       "      <td>Sudamérica</td>\n",
       "      <td>33.0</td>\n",
       "      <td>7020</td>\n",
       "      <td>76.5</td>\n",
       "      <td>41.5</td>\n",
       "      <td>94.4</td>\n",
       "      <td>1.1</td>\n",
       "      <td>231.6600</td>\n",
       "    </tr>\n",
       "    <tr>\n",
       "      <th>1</th>\n",
       "      <td>Argentina</td>\n",
       "      <td>Sudamérica</td>\n",
       "      <td>45.2</td>\n",
       "      <td>9912</td>\n",
       "      <td>76.7</td>\n",
       "      <td>42.9</td>\n",
       "      <td>99.0</td>\n",
       "      <td>-2.0</td>\n",
       "      <td>448.0224</td>\n",
       "    </tr>\n",
       "    <tr>\n",
       "      <th>2</th>\n",
       "      <td>Chile</td>\n",
       "      <td>Sudamérica</td>\n",
       "      <td>19.5</td>\n",
       "      <td>15000</td>\n",
       "      <td>80.5</td>\n",
       "      <td>44.4</td>\n",
       "      <td>99.4</td>\n",
       "      <td>2.5</td>\n",
       "      <td>292.5000</td>\n",
       "    </tr>\n",
       "    <tr>\n",
       "      <th>3</th>\n",
       "      <td>Colombia</td>\n",
       "      <td>Sudamérica</td>\n",
       "      <td>51.0</td>\n",
       "      <td>6500</td>\n",
       "      <td>77.3</td>\n",
       "      <td>51.3</td>\n",
       "      <td>95.1</td>\n",
       "      <td>3.0</td>\n",
       "      <td>331.5000</td>\n",
       "    </tr>\n",
       "    <tr>\n",
       "      <th>4</th>\n",
       "      <td>Brasil</td>\n",
       "      <td>Sudamérica</td>\n",
       "      <td>212.6</td>\n",
       "      <td>8717</td>\n",
       "      <td>75.9</td>\n",
       "      <td>53.9</td>\n",
       "      <td>93.2</td>\n",
       "      <td>1.4</td>\n",
       "      <td>1853.2342</td>\n",
       "    </tr>\n",
       "    <tr>\n",
       "      <th>5</th>\n",
       "      <td>México</td>\n",
       "      <td>Norteamérica</td>\n",
       "      <td>128.9</td>\n",
       "      <td>9863</td>\n",
       "      <td>75.0</td>\n",
       "      <td>45.4</td>\n",
       "      <td>95.4</td>\n",
       "      <td>2.1</td>\n",
       "      <td>1271.3407</td>\n",
       "    </tr>\n",
       "    <tr>\n",
       "      <th>6</th>\n",
       "      <td>Uruguay</td>\n",
       "      <td>Sudamérica</td>\n",
       "      <td>3.5</td>\n",
       "      <td>16190</td>\n",
       "      <td>77.9</td>\n",
       "      <td>39.7</td>\n",
       "      <td>98.4</td>\n",
       "      <td>2.0</td>\n",
       "      <td>56.6650</td>\n",
       "    </tr>\n",
       "    <tr>\n",
       "      <th>7</th>\n",
       "      <td>España</td>\n",
       "      <td>Europa</td>\n",
       "      <td>47.4</td>\n",
       "      <td>29600</td>\n",
       "      <td>83.6</td>\n",
       "      <td>34.7</td>\n",
       "      <td>98.4</td>\n",
       "      <td>2.5</td>\n",
       "      <td>1403.0400</td>\n",
       "    </tr>\n",
       "    <tr>\n",
       "      <th>8</th>\n",
       "      <td>Canadá</td>\n",
       "      <td>Norteamérica</td>\n",
       "      <td>38.0</td>\n",
       "      <td>46194</td>\n",
       "      <td>82.3</td>\n",
       "      <td>33.3</td>\n",
       "      <td>99.0</td>\n",
       "      <td>1.9</td>\n",
       "      <td>1755.3720</td>\n",
       "    </tr>\n",
       "    <tr>\n",
       "      <th>9</th>\n",
       "      <td>Japón</td>\n",
       "      <td>Asia</td>\n",
       "      <td>125.8</td>\n",
       "      <td>40700</td>\n",
       "      <td>84.6</td>\n",
       "      <td>32.9</td>\n",
       "      <td>99.0</td>\n",
       "      <td>0.8</td>\n",
       "      <td>5120.0600</td>\n",
       "    </tr>\n",
       "  </tbody>\n",
       "</table>\n",
       "</div>"
      ],
      "text/plain": [
       "        Pais    Continente  Poblacion_millones  PBI_per_capita  \\\n",
       "0       Perú    Sudamérica                33.0            7020   \n",
       "1  Argentina    Sudamérica                45.2            9912   \n",
       "2      Chile    Sudamérica                19.5           15000   \n",
       "3   Colombia    Sudamérica                51.0            6500   \n",
       "4     Brasil    Sudamérica               212.6            8717   \n",
       "5     México  Norteamérica               128.9            9863   \n",
       "6    Uruguay    Sudamérica                 3.5           16190   \n",
       "7     España        Europa                47.4           29600   \n",
       "8     Canadá  Norteamérica                38.0           46194   \n",
       "9      Japón          Asia               125.8           40700   \n",
       "\n",
       "   Esperanza_de_vida  Indice_Gini  Tasa_Alfabetizacion  Crecimiento_Anual_PBI  \\\n",
       "0               76.5         41.5                 94.4                    1.1   \n",
       "1               76.7         42.9                 99.0                   -2.0   \n",
       "2               80.5         44.4                 99.4                    2.5   \n",
       "3               77.3         51.3                 95.1                    3.0   \n",
       "4               75.9         53.9                 93.2                    1.4   \n",
       "5               75.0         45.4                 95.4                    2.1   \n",
       "6               77.9         39.7                 98.4                    2.0   \n",
       "7               83.6         34.7                 98.4                    2.5   \n",
       "8               82.3         33.3                 99.0                    1.9   \n",
       "9               84.6         32.9                 99.0                    0.8   \n",
       "\n",
       "   PBI_Total_billones  \n",
       "0            231.6600  \n",
       "1            448.0224  \n",
       "2            292.5000  \n",
       "3            331.5000  \n",
       "4           1853.2342  \n",
       "5           1271.3407  \n",
       "6             56.6650  \n",
       "7           1403.0400  \n",
       "8           1755.3720  \n",
       "9           5120.0600  "
      ]
     },
     "execution_count": 56,
     "metadata": {},
     "output_type": "execute_result"
    }
   ],
   "source": [
    "#6.1\n",
    "df_desarrollo[\"PBI_Total_billones\"] = (df_desarrollo[\"PBI_per_capita\"] * df_desarrollo[\"Poblacion_millones\"]) / 1000\n",
    "\n",
    "#6.2\n",
    "df_desarrollo"
   ]
  },
  {
   "cell_type": "markdown",
   "id": "t8u-hYwUbJuG",
   "metadata": {
    "id": "t8u-hYwUbJuG"
   },
   "source": [
    "**7.** Crea una nueva columna condicional `Categoria_Desarrollo`. Clasifica a los países según las siguientes reglas:\n",
    "- 'Alto': Si `Esperanza_de_vida` > 80 Y `PBI_per_capita` > 25000.\n",
    "- 'Medio-Alto': Si `Esperanza_de_vida` > 76 Y `PBI_per_capita` > 8000.\n",
    "- 'Medio': Para todos los demás casos."
   ]
  },
  {
   "cell_type": "code",
   "execution_count": 57,
   "id": "VXJB6DAubJuG",
   "metadata": {
    "id": "VXJB6DAubJuG"
   },
   "outputs": [
    {
     "name": "stdout",
     "output_type": "stream",
     "text": [
      "        Pais  Esperanza_de_vida  PBI_per_capita Categoria_Desarrollo\n",
      "0       Perú               76.5            7020                Medio\n",
      "1  Argentina               76.7            9912           Medio-Alto\n",
      "2      Chile               80.5           15000           Medio-Alto\n",
      "3   Colombia               77.3            6500                Medio\n",
      "4     Brasil               75.9            8717                Medio\n",
      "5     México               75.0            9863                Medio\n",
      "6    Uruguay               77.9           16190           Medio-Alto\n",
      "7     España               83.6           29600                 Alto\n",
      "8     Canadá               82.3           46194                 Alto\n",
      "9      Japón               84.6           40700                 Alto\n"
     ]
    }
   ],
   "source": [
    "df_desarrollo['Categoria_Desarrollo'] = np.where(\n",
    "    (df_desarrollo['Esperanza_de_vida'] > 80) & (df_desarrollo['PBI_per_capita'] > 25000),\n",
    "    'Alto',\n",
    "    np.where(\n",
    "        (df_desarrollo['Esperanza_de_vida'] > 76) & (df_desarrollo['PBI_per_capita'] > 8000),\n",
    "        'Medio-Alto',\n",
    "        'Medio'))\n",
    "\n",
    "print(df_desarrollo[['Pais', 'Esperanza_de_vida', 'PBI_per_capita', 'Categoria_Desarrollo']])"
   ]
  },
  {
   "cell_type": "markdown",
   "id": "2CjwamlPbJuG",
   "metadata": {
    "id": "2CjwamlPbJuG"
   },
   "source": [
    "**8.1.** Filtra el DataFrame para encontrar los países de 'Sudamérica' con un `Indice_Gini` menor a 45.\n",
    "\n",
    "**8.2.** Ordena el resultado del filtro anterior por `PBI_per_capita` de forma descendente."
   ]
  },
  {
   "cell_type": "code",
   "execution_count": 58,
   "id": "KcaeffT-bJuG",
   "metadata": {
    "id": "KcaeffT-bJuG"
   },
   "outputs": [
    {
     "name": "stdout",
     "output_type": "stream",
     "text": [
      "        Pais  Continente  Poblacion_millones  PBI_per_capita  \\\n",
      "6    Uruguay  Sudamérica                 3.5           16190   \n",
      "2      Chile  Sudamérica                19.5           15000   \n",
      "1  Argentina  Sudamérica                45.2            9912   \n",
      "0       Perú  Sudamérica                33.0            7020   \n",
      "\n",
      "   Esperanza_de_vida  Indice_Gini  Tasa_Alfabetizacion  Crecimiento_Anual_PBI  \\\n",
      "6               77.9         39.7                 98.4                    2.0   \n",
      "2               80.5         44.4                 99.4                    2.5   \n",
      "1               76.7         42.9                 99.0                   -2.0   \n",
      "0               76.5         41.5                 94.4                    1.1   \n",
      "\n",
      "   PBI_Total_billones Categoria_Desarrollo  \n",
      "6             56.6650           Medio-Alto  \n",
      "2            292.5000           Medio-Alto  \n",
      "1            448.0224           Medio-Alto  \n",
      "0            231.6600                Medio  \n"
     ]
    }
   ],
   "source": [
    "#8.1 y 8.2\n",
    "resultado = df_desarrollo[\n",
    "    (df_desarrollo['Continente'] == 'Sudamérica') &\n",
    "    (df_desarrollo['Indice_Gini'] < 45)\n",
    "].sort_values(by='PBI_per_capita', ascending=False)\n",
    "\n",
    "print(resultado)"
   ]
  },
  {
   "cell_type": "markdown",
   "id": "5GGM9kLgbJuH",
   "metadata": {
    "id": "5GGM9kLgbJuH"
   },
   "source": [
    "**9.** Utilizando `groupby()`, calcula para cada `Continente`:\n",
    "- La **media** de `Esperanza_de_vida`.\n",
    "- El **máximo** de `Indice_Gini`.\n",
    "- El **conteo** de países."
   ]
  },
  {
   "cell_type": "code",
   "execution_count": 59,
   "id": "SnoAgW2LbJuH",
   "metadata": {
    "id": "SnoAgW2LbJuH"
   },
   "outputs": [
    {
     "name": "stdout",
     "output_type": "stream",
     "text": [
      "              Media_Esperanza_vida  Max_Indice_Gini  Conteo_Paises\n",
      "Continente                                                        \n",
      "Asia                     84.600000             32.9              1\n",
      "Europa                   83.600000             34.7              1\n",
      "Norteamérica             78.650000             45.4              2\n",
      "Sudamérica               77.466667             53.9              6\n"
     ]
    }
   ],
   "source": [
    "resultado = df_desarrollo.groupby('Continente').agg(\n",
    "    Media_Esperanza_vida=('Esperanza_de_vida', 'mean'),\n",
    "    Max_Indice_Gini=('Indice_Gini', 'max'),\n",
    "    Conteo_Paises=('Pais', 'count')\n",
    ")\n",
    "\n",
    "print(resultado)"
   ]
  },
  {
   "cell_type": "markdown",
   "id": "NJNCKZYxbJuH",
   "metadata": {
    "id": "NJNCKZYxbJuH"
   },
   "source": [
    "## Sección 3: Visualización de Datos"
   ]
  },
  {
   "cell_type": "markdown",
   "id": "oqRrTvFVbJuH",
   "metadata": {
    "id": "oqRrTvFVbJuH"
   },
   "source": [
    "**10.** Crea un gráfico de barras horizontales (`barh`) que muestre el `Indice_Gini` de cada país. Ordena los países de menor a mayor desigualdad (Gini) para una mejor visualización. Asegúrate de que el gráfico tenga un título y etiquetas adecuadas."
   ]
  },
  {
   "cell_type": "code",
   "execution_count": 60,
   "id": "UoyxHvhjbJuH",
   "metadata": {
    "id": "UoyxHvhjbJuH"
   },
   "outputs": [
    {
     "data": {
      "text/plain": [
       "Text(0, 0.5, 'País')"
      ]
     },
     "execution_count": 60,
     "metadata": {},
     "output_type": "execute_result"
    },
    {
     "data": {
      "image/png": "[encoded data removed]",
      "text/plain": [
       "<Figure size 700x700 with 1 Axes>"
      ]
     },
     "metadata": {},
     "output_type": "display_data"
    }
   ],
   "source": [
    "import matplotlib.pyplot as plt\n",
    "\n",
    "df_ordenado = df_desarrollo.sort_values(by='Indice_Gini', ascending=True)\n",
    "\n",
    "plt.figure(figsize=(7, 7))\n",
    "plt.barh(df_ordenado['Pais'], df_ordenado['Indice_Gini'], color='darkgreen')\n",
    "\n",
    "plt.title('Índice de Gini por País (menor a mayor desigualdad)')\n",
    "plt.xlabel('Índice de Gini')\n",
    "plt.ylabel('País')"
   ]
  },
  {
   "cell_type": "markdown",
   "id": "Ycs_GpmrbJuH",
   "metadata": {
    "id": "Ycs_GpmrbJuH"
   },
   "source": [
    "**11.1.** Genera un gráfico de dispersión (scatter plot) para explorar la relación entre el `PBI_per_capita` (eje X) y la `Esperanza_de_vida` (eje Y).\n",
    "\n",
    "**11.2.** Modifica el gráfico anterior para que el color de cada punto represente su `Continente`. (Pista: puedes crear un diccionario que mapee continentes a colores, por ejemplo: `{'Sudamérica': 'blue', ...}`).\n",
    "\n",
    "**11.3.** **Interpretación:** ¿Qué te dice este gráfico sobre la relación entre PBI y esperanza de vida? ¿Observas alguna agrupación por continentes?"
   ]
  },
  {
   "cell_type": "code",
   "execution_count": 76,
   "id": "ykNgEk1xbJuH",
   "metadata": {
    "id": "ykNgEk1xbJuH"
   },
   "outputs": [],
   "source": [
    "###Importamos la librería \"matplotlib.pyplot\"\n",
    "import matplotlib.pyplot as plt"
   ]
  },
  {
   "cell_type": "code",
   "execution_count": 62,
   "id": "082607bd",
   "metadata": {},
   "outputs": [
    {
     "data": {
      "image/png": "[encoded data removed]",
      "text/plain": [
       "<Figure size 800x600 with 1 Axes>"
      ]
     },
     "metadata": {},
     "output_type": "display_data"
    }
   ],
   "source": [
    "#11.1\n",
    "##Generamos el gráfico de dispersión\n",
    "plt.figure(figsize=(8, 6))\n",
    "plt.scatter(df_desarrollo[\"PBI_per_capita\"], df_desarrollo[\"Esperanza_de_vida\"])\n",
    "plt.xlabel(\"PBI per cápita\")\n",
    "plt.ylabel(\"Esperanza de vida (años)\")\n",
    "plt.title(\"Relación entre PBI per cápita y Esperanza de vida\")\n",
    "plt.grid(True)\n",
    "plt.show()"
   ]
  },
  {
   "cell_type": "code",
   "execution_count": 63,
   "id": "85a5120d",
   "metadata": {},
   "outputs": [
    {
     "data": {
      "image/png": "[encoded data removed]",
      "text/plain": [
       "<Figure size 800x500 with 1 Axes>"
      ]
     },
     "metadata": {},
     "output_type": "display_data"
    }
   ],
   "source": [
    "#11.2\n",
    "\n",
    "##Creamos un diccionario\n",
    "colores = {\n",
    "    'Sudamérica': 'blue',\n",
    "    'Norteamérica': 'green',\n",
    "    'Europa': 'orange',\n",
    "    'Asia': 'yellow'\n",
    "}\n",
    "\n",
    "##Aplicamos los colores al gráfico\n",
    "plt.figure(figsize=(8, 5))\n",
    "for continente in df_desarrollo[\"Continente\"].unique():\n",
    "    df_cont = df_desarrollo[df_desarrollo[\"Continente\"] == continente]\n",
    "    plt.scatter(df_cont[\"PBI_per_capita\"], df_cont[\"Esperanza_de_vida\"],\n",
    "                color=colores[continente], label=continente)\n",
    "\n",
    "plt.xlabel(\"PBI per cápita (USD)\")\n",
    "plt.ylabel(\"Esperanza de vida (años)\")\n",
    "plt.title(\"Relación entre PBI per cápita y Esperanza de vida por continente\")\n",
    "plt.legend()\n",
    "plt.grid(True)\n",
    "plt.show()"
   ]
  },
  {
   "cell_type": "code",
   "execution_count": 74,
   "id": "eac44fee",
   "metadata": {},
   "outputs": [],
   "source": [
    "#11.3 Aquí está la interpretación"
   ]
  },
  {
   "cell_type": "markdown",
   "id": "zyvV_QzDbJuH",
   "metadata": {
    "id": "zyvV_QzDbJuH"
   },
   "source": [
    "*INTERPRETACIÓN: El gráfico nos muestra que, en general, los países con mayor ingreso por persona (PBI per cápita) también tienden a presentar una esperanza de vida más alta. Gracias a la asignación de colores, sí se pueden notar diferencias claras entre continentes. Por ejemplo, el país europeo y asiático tienen buenos niveles en su esperanzas, los países de Sudamérica se encuentran más dispersos, con una tendencia menor a los otros mencionados, y la diferencia entre ambos países de Norteamérica es  notoria. Aunque existen diferencias entre continentes, hay también diferencias internas que se explican por diferentes políticas o contextos históricos."
   ]
  },
  {
   "cell_type": "markdown",
   "id": "Wi51SLJWbJuH",
   "metadata": {
    "id": "Wi51SLJWbJuH"
   },
   "source": [
    "**12.** Crea un histograma de la `Tasa_Alfabetizacion`. Añade una línea vertical roja que represente la media de esta tasa."
   ]
  },
  {
   "cell_type": "code",
   "execution_count": 75,
   "id": "kTHwpTlNbJuI",
   "metadata": {
    "id": "kTHwpTlNbJuI"
   },
   "outputs": [
    {
     "data": {
      "image/png": "[encoded data removed]",
      "text/plain": [
       "<Figure size 800x600 with 1 Axes>"
      ]
     },
     "metadata": {},
     "output_type": "display_data"
    },
    {
     "name": "stdout",
     "output_type": "stream",
     "text": [
      "La media es 97.13\n"
     ]
    }
   ],
   "source": [
    "media = sum(df_desarrollo['Tasa_Alfabetizacion'])/len(df_desarrollo['Tasa_Alfabetizacion'])\n",
    "fig, ax = plt.subplots(figsize=(8,6)) \n",
    "\n",
    "ax.hist(x=df_desarrollo['Tasa_Alfabetizacion'], bins=15)\n",
    "ax.hist(x=media, color = 'red', bins = 15)\n",
    "ax.grid(True)\n",
    "plt.show()\n",
    "print(f\"La media es {media}\")"
   ]
  },
  {
   "cell_type": "markdown",
   "id": "5Rlsc-hNbJuI",
   "metadata": {
    "id": "5Rlsc-hNbJuI"
   },
   "source": [
    "## Sección 4: Estadística y Síntesis"
   ]
  },
  {
   "cell_type": "markdown",
   "id": "4Pd-42lrbJuI",
   "metadata": {
    "id": "4Pd-42lrbJuI"
   },
   "source": [
    "**13.** Muestra un resumen estadístico completo de las columnas numéricas del DataFrame."
   ]
  },
  {
   "cell_type": "code",
   "execution_count": 69,
   "id": "Q3OHpdjgbJuI",
   "metadata": {
    "id": "Q3OHpdjgbJuI"
   },
   "outputs": [
    {
     "data": {
      "text/html": [
       "<div>\n",
       "<style scoped>\n",
       "    .dataframe tbody tr th:only-of-type {\n",
       "        vertical-align: middle;\n",
       "    }\n",
       "\n",
       "    .dataframe tbody tr th {\n",
       "        vertical-align: top;\n",
       "    }\n",
       "\n",
       "    .dataframe thead th {\n",
       "        text-align: right;\n",
       "    }\n",
       "</style>\n",
       "<table border=\"1\" class=\"dataframe\">\n",
       "  <thead>\n",
       "    <tr style=\"text-align: right;\">\n",
       "      <th></th>\n",
       "      <th>Poblacion_millones</th>\n",
       "      <th>PBI_per_capita</th>\n",
       "      <th>Esperanza_de_vida</th>\n",
       "      <th>Indice_Gini</th>\n",
       "      <th>Tasa_Alfabetizacion</th>\n",
       "      <th>Crecimiento_Anual_PBI</th>\n",
       "      <th>PBI_Total_billones</th>\n",
       "    </tr>\n",
       "  </thead>\n",
       "  <tbody>\n",
       "    <tr>\n",
       "      <th>count</th>\n",
       "      <td>10.000000</td>\n",
       "      <td>10.000000</td>\n",
       "      <td>10.000000</td>\n",
       "      <td>10.000000</td>\n",
       "      <td>10.000000</td>\n",
       "      <td>10.000000</td>\n",
       "      <td>10.000000</td>\n",
       "    </tr>\n",
       "    <tr>\n",
       "      <th>mean</th>\n",
       "      <td>70.490000</td>\n",
       "      <td>18969.600000</td>\n",
       "      <td>79.030000</td>\n",
       "      <td>42.000000</td>\n",
       "      <td>97.130000</td>\n",
       "      <td>1.530000</td>\n",
       "      <td>1276.339430</td>\n",
       "    </tr>\n",
       "    <tr>\n",
       "      <th>std</th>\n",
       "      <td>64.779548</td>\n",
       "      <td>14599.229418</td>\n",
       "      <td>3.446431</td>\n",
       "      <td>7.176815</td>\n",
       "      <td>2.330498</td>\n",
       "      <td>1.411107</td>\n",
       "      <td>1508.431014</td>\n",
       "    </tr>\n",
       "    <tr>\n",
       "      <th>min</th>\n",
       "      <td>3.500000</td>\n",
       "      <td>6500.000000</td>\n",
       "      <td>75.000000</td>\n",
       "      <td>32.900000</td>\n",
       "      <td>93.200000</td>\n",
       "      <td>-2.000000</td>\n",
       "      <td>56.665000</td>\n",
       "    </tr>\n",
       "    <tr>\n",
       "      <th>25%</th>\n",
       "      <td>34.250000</td>\n",
       "      <td>9003.500000</td>\n",
       "      <td>76.550000</td>\n",
       "      <td>35.950000</td>\n",
       "      <td>95.175000</td>\n",
       "      <td>1.175000</td>\n",
       "      <td>302.250000</td>\n",
       "    </tr>\n",
       "    <tr>\n",
       "      <th>50%</th>\n",
       "      <td>46.300000</td>\n",
       "      <td>12456.000000</td>\n",
       "      <td>77.600000</td>\n",
       "      <td>42.200000</td>\n",
       "      <td>98.400000</td>\n",
       "      <td>1.950000</td>\n",
       "      <td>859.681550</td>\n",
       "    </tr>\n",
       "    <tr>\n",
       "      <th>75%</th>\n",
       "      <td>107.100000</td>\n",
       "      <td>26247.500000</td>\n",
       "      <td>81.850000</td>\n",
       "      <td>45.150000</td>\n",
       "      <td>99.000000</td>\n",
       "      <td>2.400000</td>\n",
       "      <td>1667.289000</td>\n",
       "    </tr>\n",
       "    <tr>\n",
       "      <th>max</th>\n",
       "      <td>212.600000</td>\n",
       "      <td>46194.000000</td>\n",
       "      <td>84.600000</td>\n",
       "      <td>53.900000</td>\n",
       "      <td>99.400000</td>\n",
       "      <td>3.000000</td>\n",
       "      <td>5120.060000</td>\n",
       "    </tr>\n",
       "  </tbody>\n",
       "</table>\n",
       "</div>"
      ],
      "text/plain": [
       "       Poblacion_millones  PBI_per_capita  Esperanza_de_vida  Indice_Gini  \\\n",
       "count           10.000000       10.000000          10.000000    10.000000   \n",
       "mean            70.490000    18969.600000          79.030000    42.000000   \n",
       "std             64.779548    14599.229418           3.446431     7.176815   \n",
       "min              3.500000     6500.000000          75.000000    32.900000   \n",
       "25%             34.250000     9003.500000          76.550000    35.950000   \n",
       "50%             46.300000    12456.000000          77.600000    42.200000   \n",
       "75%            107.100000    26247.500000          81.850000    45.150000   \n",
       "max            212.600000    46194.000000          84.600000    53.900000   \n",
       "\n",
       "       Tasa_Alfabetizacion  Crecimiento_Anual_PBI  PBI_Total_billones  \n",
       "count            10.000000              10.000000           10.000000  \n",
       "mean             97.130000               1.530000         1276.339430  \n",
       "std               2.330498               1.411107         1508.431014  \n",
       "min              93.200000              -2.000000           56.665000  \n",
       "25%              95.175000               1.175000          302.250000  \n",
       "50%              98.400000               1.950000          859.681550  \n",
       "75%              99.000000               2.400000         1667.289000  \n",
       "max              99.400000               3.000000         5120.060000  "
      ]
     },
     "execution_count": 69,
     "metadata": {},
     "output_type": "execute_result"
    }
   ],
   "source": [
    "df_desarrollo.describe()"
   ]
  },
  {
   "cell_type": "markdown",
   "id": "2JNprB4JbJuI",
   "metadata": {
    "id": "2JNprB4JbJuI"
   },
   "source": [
    "**14.1.** Calcula la matriz de correlación para las columnas numéricas del DataFrame.\n",
    "\n",
    "**14.2.** **Interpretación:** Identifica el par de variables con la correlación positiva más fuerte y el par con la correlación negativa más fuerte (excluyendo la correlación de una variable consigo misma). ¿Tienen sentido estos resultados en el mundo real?"
   ]
  },
  {
   "cell_type": "code",
   "execution_count": 79,
   "id": "VWZFMyjwbJuI",
   "metadata": {
    "id": "VWZFMyjwbJuI"
   },
   "outputs": [
    {
     "name": "stdout",
     "output_type": "stream",
     "text": [
      "                       Poblacion_millones  PBI_per_capita  Esperanza_de_vida  \\\n",
      "Poblacion_millones                  1.000          -0.071             -0.197   \n",
      "PBI_per_capita                     -0.071           1.000              0.878   \n",
      "Esperanza_de_vida                  -0.197           0.878              1.000   \n",
      "Indice_Gini                         0.402          -0.834             -0.783   \n",
      "Tasa_Alfabetizacion                -0.554           0.619              0.686   \n",
      "Crecimiento_Anual_PBI              -0.078           0.077              0.168   \n",
      "PBI_Total_billones                  0.553           0.662              0.596   \n",
      "\n",
      "                       Indice_Gini  Tasa_Alfabetizacion  \\\n",
      "Poblacion_millones           0.402               -0.554   \n",
      "PBI_per_capita              -0.834                0.619   \n",
      "Esperanza_de_vida           -0.783                0.686   \n",
      "Indice_Gini                  1.000               -0.721   \n",
      "Tasa_Alfabetizacion         -0.721                1.000   \n",
      "Crecimiento_Anual_PBI        0.095               -0.187   \n",
      "PBI_Total_billones          -0.429                0.171   \n",
      "\n",
      "                       Crecimiento_Anual_PBI  PBI_Total_billones  \n",
      "Poblacion_millones                    -0.078               0.553  \n",
      "PBI_per_capita                         0.077               0.662  \n",
      "Esperanza_de_vida                      0.168               0.596  \n",
      "Indice_Gini                            0.095              -0.429  \n",
      "Tasa_Alfabetizacion                   -0.187               0.171  \n",
      "Crecimiento_Anual_PBI                  1.000              -0.111  \n",
      "PBI_Total_billones                    -0.111               1.000  \n"
     ]
    },
    {
     "data": {
      "image/png": "[encoded data removed]",
      "text/plain": [
       "<Figure size 1000x800 with 2 Axes>"
      ]
     },
     "metadata": {},
     "output_type": "display_data"
    }
   ],
   "source": [
    "#14.1\n",
    "import matplotlib.pyplot as plt\n",
    "import seaborn as sns\n",
    "\n",
    "matriz_correlacion = df_desarrollo.corr(numeric_only=True).round(3)\n",
    "print(matriz_correlacion)\n",
    "plt.figure(figsize=(10, 8))\n",
    "sns.heatmap(matriz_correlacion, annot=True, cmap='coolwarm')\n",
    "plt.title(\"Matriz de Correlación\")\n",
    "plt.tight_layout(pad=1.0)\n",
    "plt.show()"
   ]
  },
  {
   "cell_type": "code",
   "execution_count": 71,
   "id": "44920509",
   "metadata": {},
   "outputs": [
    {
     "name": "stdout",
     "output_type": "stream",
     "text": [
      "Correlación positiva más fuerte: PBI_per_capita , Esperanza_de_vida , 0.88\n",
      "Correlación negativa más fuerte: PBI_per_capita , Indice_Gini , -0.83\n"
     ]
    }
   ],
   "source": [
    "#14.2\n",
    "correlaciones = matriz_correlacion.stack()\n",
    "correlaciones_filtradas = correlaciones[correlaciones < 1.0]\n",
    "\n",
    "max_corr = correlaciones_filtradas.max()\n",
    "max_pair = correlaciones_filtradas.idxmax()\n",
    "\n",
    "min_corr = correlaciones_filtradas.min()\n",
    "min_pair = correlaciones_filtradas.idxmin()\n",
    "\n",
    "print(\"Correlación positiva más fuerte:\", max_pair[0], \",\", max_pair[1], \",\", f\"{max_corr:.2f}\")\n",
    "print(\"Correlación negativa más fuerte:\", min_pair[0], \",\", min_pair[1], \",\", f\"{min_corr:.2f}\")"
   ]
  },
  {
   "cell_type": "markdown",
   "id": "J4p1wHTmbJuR",
   "metadata": {
    "id": "J4p1wHTmbJuR"
   },
   "source": [
    "*INTERPRETACION: En el análisis, se observa que el par de variables con la correlación positiva más fuerte es el PBI per cápita con la esperanza de vida. Este resultado indica que, en promedio, a medida que el ingreso por persona en un país aumenta, también tiende a incrementarse la cantidad de años que vive su población. Esto tiene mucho sentido, un mayor PBI per cápita se asocia con mejores condiciones de vida, mayor acceso a servicios de salud, una alimentación más variada y de mayor calidad, así como mayores niveles de educación, siendo todos esos factores que contribuyen directamente a una vida más larga. Por otro lado, la correlación negativa más fuerte se da entre el PBI per cápita y el índice de Gini, lo que indica que, en general, los países con mayores ingresos tienden a mostrar niveles más bajos de desigualdad económica. Esto también suena razonable, ya que las economías más ricas tienen sistemas fiscales y de redistribución de la riqueza más efectivos."
   ]
  },
  {
   "cell_type": "markdown",
   "id": "djfvVHMnbJuR",
   "metadata": {
    "id": "djfvVHMnbJuR"
   },
   "source": [
    "**15.** Basado en los datos, calcula la probabilidad de que un país seleccionado al azar sea de 'Sudamérica' Y tenga una `Categoria_Desarrollo` de 'Medio-Alto'."
   ]
  },
  {
   "cell_type": "code",
   "execution_count": 72,
   "id": "Lhog8Pi4bJuR",
   "metadata": {
    "id": "Lhog8Pi4bJuR"
   },
   "outputs": [
    {
     "name": "stdout",
     "output_type": "stream",
     "text": [
      "Probabilidad: 30.00%\n"
     ]
    }
   ],
   "source": [
    "condicion = (\n",
    "    (df_desarrollo['Continente'] == 'Sudamérica') &\n",
    "    (df_desarrollo['Categoria_Desarrollo'] == 'Medio-Alto')\n",
    ")\n",
    "\n",
    "# Calculamos probabilidad\n",
    "probabilidad = condicion.sum() / len(df_desarrollo)\n",
    "\n",
    "print(f\"Probabilidad: {probabilidad:.2%}\")"
   ]
  }
 ],
 "metadata": {
  "colab": {
   "provenance": []
  },
  "kernelspec": {
   "display_name": "Python 3 (ipykernel)",
   "language": "python",
   "name": "python3"
  },
  "language_info": {
   "codemirror_mode": {
    "name": "ipython",
    "version": 3
   },
   "file_extension": ".py",
   "mimetype": "text/x-python",
   "name": "python",
   "nbconvert_exporter": "python",
   "pygments_lexer": "ipython3",
   "version": "3.11.5"
  }
 },
 "nbformat": 4,
 "nbformat_minor": 5
}
