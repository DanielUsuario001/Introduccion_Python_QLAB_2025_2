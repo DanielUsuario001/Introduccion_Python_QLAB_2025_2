{
 "cells": [
  {
   "cell_type": "markdown",
   "id": "OQSezRkDbJt7",
   "metadata": {
    "id": "OQSezRkDbJt7"
   },
   "source": [
    "# Tarea Final del Curso\n",
    "**Introducción a la Ciencia de Datos con Python**"
   ]
  },
  {
   "cell_type": "markdown",
   "id": "XGKFK_A8bJt_",
   "metadata": {
    "id": "XGKFK_A8bJt_"
   },
   "source": [
    "Fecha de entrega: Domingo 10 de agosto, 2025, 11:59pm\n",
    "\n",
    "**Instrucciones Generales:**\n",
    "\n",
    "- Esta es la entrega final y debe realizarse de manera grupal.\n",
    "- Es importante consignar en el correo de entrega, tanto los nombres y codigo de los integrantes del grupo.\n",
    "- Se considera un punto adicional a aquellos grupos que realizen la entrega por GITHUB, para ello deben ponerlo dentro de la carpeta Entregas_1, y nombre de archivo debe tener el formato: TrabajoFinal_GrupoX.ipynb\n",
    "- Asegúrate de seguir las buenas prácticas para nombrar variables y comentar tu código.\n",
    "- Utiliza las librerías vistas en clase: `numpy`, `pandas` y `matplotlib.pyplot`.\n",
    "- Responde a las preguntas teóricas o de interpretación en las celdas de Markdown designadas."
   ]
  },
  {
   "cell_type": "markdown",
   "id": "-knDLkMsbJuA",
   "metadata": {
    "id": "-knDLkMsbJuA"
   },
   "source": [
    "## Sección 1: NumPy - Manipulación Avanzada de Arrays"
   ]
  },
  {
   "cell_type": "markdown",
   "id": "y5tLDLYlbJuA",
   "metadata": {
    "id": "y5tLDLYlbJuA"
   },
   "source": [
    "**1.1.** Crea un array de NumPy llamado `vector_base` que contenga una secuencia de números desde 10 hasta 115 (inclusive), con un paso de 3 entre cada número."
   ]
  },
  {
   "cell_type": "code",
   "execution_count": 1,
   "id": "wvj9SXYtbr3v",
   "metadata": {
    "id": "wvj9SXYtbr3v"
   },
   "outputs": [],
   "source": [
    "import numpy as np"
   ]
  },
  {
   "cell_type": "code",
   "execution_count": 2,
   "id": "4b03eaae-05de-44e8-87db-589ae7b2f94d",
   "metadata": {},
   "outputs": [
    {
     "name": "stdout",
     "output_type": "stream",
     "text": [
      "[ 10  13  16  19  22  25  28  31  34  37  40  43  46  49  52  55  58  61\n",
      "  64  67  70  73  76  79  82  85  88  91  94  97 100 103 106 109 112]\n",
      "Cantidad de elementos: 35\n"
     ]
    }
   ],
   "source": [
    "vector_base = np.arange(10, 115, 3)\n",
    "print(vector_base)\n",
    "type(vector_base)\n",
    "print(\"Cantidad de elementos:\", len(vector_base)) "
   ]
  },
  {
   "cell_type": "markdown",
   "id": "983F8uePbJuB",
   "metadata": {
    "id": "983F8uePbJuB"
   },
   "source": [
    "**1.2.** A partir del `vector_base` anterior, crea una matriz de 5x7 llamada `matriz_A`."
   ]
  },
  {
   "cell_type": "code",
   "execution_count": 3,
   "id": "dmOA_SNgbJuC",
   "metadata": {
    "id": "dmOA_SNgbJuC"
   },
   "outputs": [
    {
     "data": {
      "text/plain": [
       "array([[ 10,  13,  16,  19,  22,  25,  28],\n",
       "       [ 31,  34,  37,  40,  43,  46,  49],\n",
       "       [ 52,  55,  58,  61,  64,  67,  70],\n",
       "       [ 73,  76,  79,  82,  85,  88,  91],\n",
       "       [ 94,  97, 100, 103, 106, 109, 112]])"
      ]
     },
     "execution_count": 3,
     "metadata": {},
     "output_type": "execute_result"
    }
   ],
   "source": [
    "matriz_A = vector_base.reshape(5, 7)\n",
    "matriz_A"
   ]
  },
  {
   "cell_type": "markdown",
   "id": "QoWq-H84bJuC",
   "metadata": {
    "id": "QoWq-H84bJuC"
   },
   "source": [
    "**2.1.** Crea una segunda matriz de 5x7 llamada `matriz_B` que contenga números enteros aleatorios entre 1 y 10.\n",
    "\n",
    "**2.2.** Realiza una multiplicación elemento por elemento (element-wise) entre `matriz_A` y `matriz_B` y almacena el resultado en `matriz_C`."
   ]
  },
  {
   "cell_type": "code",
   "execution_count": 4,
   "id": "DDZDd-cfbJuD",
   "metadata": {
    "id": "DDZDd-cfbJuD"
   },
   "outputs": [
    {
     "name": "stdout",
     "output_type": "stream",
     "text": [
      "[[ 4  1  3  4  8  9  5]\n",
      " [ 9  8  4 10  4  4  1]\n",
      " [10  4  3  4  9  4  8]\n",
      " [ 8  6  7  5  3  4  8]\n",
      " [ 5  9  5  3  6  8 10]]\n",
      "[[  40   13   48   76  176  225  140]\n",
      " [ 279  272  148  400  172  184   49]\n",
      " [ 520  220  174  244  576  268  560]\n",
      " [ 584  456  553  410  255  352  728]\n",
      " [ 470  873  500  309  636  872 1120]]\n"
     ]
    }
   ],
   "source": [
    "matriz_B = np.random.randint(1, 11, size=(5, 7))\n",
    "print(matriz_B)\n",
    "\n",
    "matriz_C = matriz_A * matriz_B\n",
    "print(matriz_C)"
   ]
  },
  {
   "cell_type": "markdown",
   "id": "HhrCyWatbJuD",
   "metadata": {
    "id": "HhrCyWatbJuD"
   },
   "source": [
    "**3.1.** Utilizando slicing, selecciona una submatriz de 2x2 de la esquina inferior derecha de `matriz_C`.\n",
    "\n",
    "**3.2.** Calcula el promedio de esta submatriz."
   ]
  },
  {
   "cell_type": "code",
   "execution_count": 5,
   "id": "dIlRtUE3bJuD",
   "metadata": {
    "id": "dIlRtUE3bJuD"
   },
   "outputs": [
    {
     "name": "stdout",
     "output_type": "stream",
     "text": [
      "[[ 352  728]\n",
      " [ 872 1120]]\n",
      "768.0\n"
     ]
    }
   ],
   "source": [
    "submatriz = matriz_C[-2:, -2:]\n",
    "print(submatriz)\n",
    "\n",
    "promedio = submatriz.mean()\n",
    "print(promedio)"
   ]
  },
  {
   "cell_type": "markdown",
   "id": "gO0WijUnbJuE",
   "metadata": {
    "id": "gO0WijUnbJuE"
   },
   "source": [
    "## Sección 2: Pandas - Análisis Exploratorio de Datos"
   ]
  },
  {
   "cell_type": "markdown",
   "id": "SBXhc1V8bJuE",
   "metadata": {
    "id": "SBXhc1V8bJuE"
   },
   "source": [
    "Para esta sección, trabajaremos con un conjunto de datos ficticio sobre el desarrollo humano. **Ejecuta la siguiente celda para crear el DataFrame.**"
   ]
  },
  {
   "cell_type": "code",
   "execution_count": 6,
   "id": "iVR3JluqbJuE",
   "metadata": {
    "id": "iVR3JluqbJuE"
   },
   "outputs": [],
   "source": [
    "import pandas as pd\n",
    "import numpy as np\n",
    "\n",
    "data = {\n",
    "    'Pais': ['Perú', 'Argentina', 'Chile', 'Colombia', 'Brasil', 'México', 'Uruguay', 'España', 'Canadá', 'Japón'],\n",
    "    'Continente': ['Sudamérica', 'Sudamérica', 'Sudamérica', 'Sudamérica', 'Sudamérica', 'Norteamérica', 'Sudamérica', 'Europa', 'Norteamérica', 'Asia'],\n",
    "    'Poblacion_millones': [33.0, 45.2, 19.5, 51.0, 212.6, 128.9, 3.5, 47.4, 38.0, 125.8],\n",
    "    'PBI_per_capita': [7020, 9912, 15000, 6500, 8717, 9863, 16190, 29600, 46194, 40700],\n",
    "    'Esperanza_de_vida': [76.5, 76.7, 80.5, 77.3, 75.9, 75.0, 77.9, 83.6, 82.3, 84.6],\n",
    "    'Indice_Gini': [41.5, 42.9, 44.4, 51.3, 53.9, 45.4, 39.7, 34.7, 33.3, 32.9],\n",
    "    'Tasa_Alfabetizacion': [94.4, 99.0, 99.4, 95.1, 93.2, 95.4, np.nan, 98.4, 99.0, 99.0],\n",
    "    'Crecimiento_Anual_PBI': [1.1, -2.0, 2.5, 3.0, 1.4, 2.1, 2.0, 2.5, 1.9, 0.8]\n",
    "}\n",
    "\n",
    "df_desarrollo = pd.DataFrame(data)"
   ]
  },
  {
   "cell_type": "markdown",
   "id": "CFYuSgcfbJuF",
   "metadata": {
    "id": "CFYuSgcfbJuF"
   },
   "source": [
    "**4.1.** Muestra las primeras 5 filas del DataFrame `df_desarrollo`.\n",
    "\n",
    "**4.2.** Muestra un resumen general del DataFrame utilizando `.info()`."
   ]
  },
  {
   "cell_type": "code",
   "execution_count": 7,
   "id": "8a974771-0250-45bf-8b8f-9ab66fb7f7d9",
   "metadata": {},
   "outputs": [
    {
     "data": {
      "text/html": [
       "<div>\n",
       "<style scoped>\n",
       "    .dataframe tbody tr th:only-of-type {\n",
       "        vertical-align: middle;\n",
       "    }\n",
       "\n",
       "    .dataframe tbody tr th {\n",
       "        vertical-align: top;\n",
       "    }\n",
       "\n",
       "    .dataframe thead th {\n",
       "        text-align: right;\n",
       "    }\n",
       "</style>\n",
       "<table border=\"1\" class=\"dataframe\">\n",
       "  <thead>\n",
       "    <tr style=\"text-align: right;\">\n",
       "      <th></th>\n",
       "      <th>Pais</th>\n",
       "      <th>Continente</th>\n",
       "      <th>Poblacion_millones</th>\n",
       "      <th>PBI_per_capita</th>\n",
       "      <th>Esperanza_de_vida</th>\n",
       "      <th>Indice_Gini</th>\n",
       "      <th>Tasa_Alfabetizacion</th>\n",
       "      <th>Crecimiento_Anual_PBI</th>\n",
       "    </tr>\n",
       "  </thead>\n",
       "  <tbody>\n",
       "    <tr>\n",
       "      <th>0</th>\n",
       "      <td>Perú</td>\n",
       "      <td>Sudamérica</td>\n",
       "      <td>33.0</td>\n",
       "      <td>7020</td>\n",
       "      <td>76.5</td>\n",
       "      <td>41.5</td>\n",
       "      <td>94.4</td>\n",
       "      <td>1.1</td>\n",
       "    </tr>\n",
       "    <tr>\n",
       "      <th>1</th>\n",
       "      <td>Argentina</td>\n",
       "      <td>Sudamérica</td>\n",
       "      <td>45.2</td>\n",
       "      <td>9912</td>\n",
       "      <td>76.7</td>\n",
       "      <td>42.9</td>\n",
       "      <td>99.0</td>\n",
       "      <td>-2.0</td>\n",
       "    </tr>\n",
       "    <tr>\n",
       "      <th>2</th>\n",
       "      <td>Chile</td>\n",
       "      <td>Sudamérica</td>\n",
       "      <td>19.5</td>\n",
       "      <td>15000</td>\n",
       "      <td>80.5</td>\n",
       "      <td>44.4</td>\n",
       "      <td>99.4</td>\n",
       "      <td>2.5</td>\n",
       "    </tr>\n",
       "    <tr>\n",
       "      <th>3</th>\n",
       "      <td>Colombia</td>\n",
       "      <td>Sudamérica</td>\n",
       "      <td>51.0</td>\n",
       "      <td>6500</td>\n",
       "      <td>77.3</td>\n",
       "      <td>51.3</td>\n",
       "      <td>95.1</td>\n",
       "      <td>3.0</td>\n",
       "    </tr>\n",
       "    <tr>\n",
       "      <th>4</th>\n",
       "      <td>Brasil</td>\n",
       "      <td>Sudamérica</td>\n",
       "      <td>212.6</td>\n",
       "      <td>8717</td>\n",
       "      <td>75.9</td>\n",
       "      <td>53.9</td>\n",
       "      <td>93.2</td>\n",
       "      <td>1.4</td>\n",
       "    </tr>\n",
       "  </tbody>\n",
       "</table>\n",
       "</div>"
      ],
      "text/plain": [
       "        Pais  Continente  Poblacion_millones  PBI_per_capita  \\\n",
       "0       Perú  Sudamérica                33.0            7020   \n",
       "1  Argentina  Sudamérica                45.2            9912   \n",
       "2      Chile  Sudamérica                19.5           15000   \n",
       "3   Colombia  Sudamérica                51.0            6500   \n",
       "4     Brasil  Sudamérica               212.6            8717   \n",
       "\n",
       "   Esperanza_de_vida  Indice_Gini  Tasa_Alfabetizacion  Crecimiento_Anual_PBI  \n",
       "0               76.5         41.5                 94.4                    1.1  \n",
       "1               76.7         42.9                 99.0                   -2.0  \n",
       "2               80.5         44.4                 99.4                    2.5  \n",
       "3               77.3         51.3                 95.1                    3.0  \n",
       "4               75.9         53.9                 93.2                    1.4  "
      ]
     },
     "execution_count": 7,
     "metadata": {},
     "output_type": "execute_result"
    }
   ],
   "source": [
    "df_desarrollo.head(5)"
   ]
  },
  {
   "cell_type": "code",
   "execution_count": 8,
   "id": "fiJXvGwgbJuF",
   "metadata": {
    "id": "fiJXvGwgbJuF"
   },
   "outputs": [
    {
     "name": "stdout",
     "output_type": "stream",
     "text": [
      "<class 'pandas.core.frame.DataFrame'>\n",
      "RangeIndex: 10 entries, 0 to 9\n",
      "Data columns (total 8 columns):\n",
      " #   Column                 Non-Null Count  Dtype  \n",
      "---  ------                 --------------  -----  \n",
      " 0   Pais                   10 non-null     object \n",
      " 1   Continente             10 non-null     object \n",
      " 2   Poblacion_millones     10 non-null     float64\n",
      " 3   PBI_per_capita         10 non-null     int64  \n",
      " 4   Esperanza_de_vida      10 non-null     float64\n",
      " 5   Indice_Gini            10 non-null     float64\n",
      " 6   Tasa_Alfabetizacion    9 non-null      float64\n",
      " 7   Crecimiento_Anual_PBI  10 non-null     float64\n",
      "dtypes: float64(5), int64(1), object(2)\n",
      "memory usage: 772.0+ bytes\n"
     ]
    }
   ],
   "source": [
    "df_desarrollo.info()"
   ]
  },
  {
   "cell_type": "markdown",
   "id": "mlZeIBfFbJuG",
   "metadata": {
    "id": "mlZeIBfFbJuG"
   },
   "source": [
    "**5.** Hemos notado que hay un valor faltante (`NaN`) en la columna `Tasa_Alfabetizacion`. Imputa este valor faltante utilizando la **mediana** de esa misma columna."
   ]
  },
  {
   "cell_type": "code",
   "execution_count": 9,
   "id": "JPWPLHX8bJuG",
   "metadata": {
    "id": "JPWPLHX8bJuG"
   },
   "outputs": [
    {
     "name": "stdout",
     "output_type": "stream",
     "text": [
      "98.4\n",
      "        Pais    Continente  Poblacion_millones  PBI_per_capita  \\\n",
      "0       Perú    Sudamérica                33.0            7020   \n",
      "1  Argentina    Sudamérica                45.2            9912   \n",
      "2      Chile    Sudamérica                19.5           15000   \n",
      "3   Colombia    Sudamérica                51.0            6500   \n",
      "4     Brasil    Sudamérica               212.6            8717   \n",
      "5     México  Norteamérica               128.9            9863   \n",
      "6    Uruguay    Sudamérica                 3.5           16190   \n",
      "7     España        Europa                47.4           29600   \n",
      "8     Canadá  Norteamérica                38.0           46194   \n",
      "9      Japón          Asia               125.8           40700   \n",
      "\n",
      "   Esperanza_de_vida  Indice_Gini  Tasa_Alfabetizacion  Crecimiento_Anual_PBI  \n",
      "0               76.5         41.5                 94.4                    1.1  \n",
      "1               76.7         42.9                 99.0                   -2.0  \n",
      "2               80.5         44.4                 99.4                    2.5  \n",
      "3               77.3         51.3                 95.1                    3.0  \n",
      "4               75.9         53.9                 93.2                    1.4  \n",
      "5               75.0         45.4                 95.4                    2.1  \n",
      "6               77.9         39.7                 98.4                    2.0  \n",
      "7               83.6         34.7                 98.4                    2.5  \n",
      "8               82.3         33.3                 99.0                    1.9  \n",
      "9               84.6         32.9                 99.0                    0.8  \n"
     ]
    }
   ],
   "source": [
    "mediana = df_desarrollo['Tasa_Alfabetizacion'].median()\n",
    "print(mediana)\n",
    "df_desarrollo['Tasa_Alfabetizacion'].fillna(mediana, inplace=True)\n",
    "print(df_desarrollo)"
   ]
  },
  {
   "cell_type": "markdown",
   "id": "qo0004XubJuG",
   "metadata": {
    "id": "qo0004XubJuG"
   },
   "source": [
    "**6.1.** Crea una nueva columna llamada `PBI_Total_billones` que sea el resultado de multiplicar `PBI_per_capita` por `Poblacion_millones` y dividirlo entre 1000.\n",
    "\n",
    "**6.2.** Muestra el DataFrame con la nueva columna."
   ]
  },
  {
   "cell_type": "code",
   "execution_count": 10,
   "id": "ZVX-OPAybJuG",
   "metadata": {
    "id": "ZVX-OPAybJuG"
   },
   "outputs": [
    {
     "name": "stdout",
     "output_type": "stream",
     "text": [
      "        Pais    Continente  Poblacion_millones  PBI_per_capita  \\\n",
      "0       Perú    Sudamérica                33.0            7020   \n",
      "1  Argentina    Sudamérica                45.2            9912   \n",
      "2      Chile    Sudamérica                19.5           15000   \n",
      "3   Colombia    Sudamérica                51.0            6500   \n",
      "4     Brasil    Sudamérica               212.6            8717   \n",
      "5     México  Norteamérica               128.9            9863   \n",
      "6    Uruguay    Sudamérica                 3.5           16190   \n",
      "7     España        Europa                47.4           29600   \n",
      "8     Canadá  Norteamérica                38.0           46194   \n",
      "9      Japón          Asia               125.8           40700   \n",
      "\n",
      "   Esperanza_de_vida  Indice_Gini  Tasa_Alfabetizacion  Crecimiento_Anual_PBI  \\\n",
      "0               76.5         41.5                 94.4                    1.1   \n",
      "1               76.7         42.9                 99.0                   -2.0   \n",
      "2               80.5         44.4                 99.4                    2.5   \n",
      "3               77.3         51.3                 95.1                    3.0   \n",
      "4               75.9         53.9                 93.2                    1.4   \n",
      "5               75.0         45.4                 95.4                    2.1   \n",
      "6               77.9         39.7                 98.4                    2.0   \n",
      "7               83.6         34.7                 98.4                    2.5   \n",
      "8               82.3         33.3                 99.0                    1.9   \n",
      "9               84.6         32.9                 99.0                    0.8   \n",
      "\n",
      "   PBI_Total_billones  \n",
      "0            231.6600  \n",
      "1            448.0224  \n",
      "2            292.5000  \n",
      "3            331.5000  \n",
      "4           1853.2342  \n",
      "5           1271.3407  \n",
      "6             56.6650  \n",
      "7           1403.0400  \n",
      "8           1755.3720  \n",
      "9           5120.0600  \n"
     ]
    }
   ],
   "source": [
    "df_desarrollo['PBI_Total_billones'] = (df_desarrollo['PBI_per_capita'] * df_desarrollo['Poblacion_millones']) / 1000\n",
    "print(df_desarrollo)"
   ]
  },
  {
   "cell_type": "markdown",
   "id": "t8u-hYwUbJuG",
   "metadata": {
    "id": "t8u-hYwUbJuG"
   },
   "source": [
    "**7.** Crea una nueva columna condicional `Categoria_Desarrollo`. Clasifica a los países según las siguientes reglas:\n",
    "- 'Alto': Si `Esperanza_de_vida` > 80 Y `PBI_per_capita` > 25000.\n",
    "- 'Medio-Alto': Si `Esperanza_de_vida` > 76 Y `PBI_per_capita` > 8000.\n",
    "- 'Medio': Para todos los demás casos."
   ]
  },
  {
   "cell_type": "code",
   "execution_count": 11,
   "id": "VXJB6DAubJuG",
   "metadata": {
    "id": "VXJB6DAubJuG"
   },
   "outputs": [
    {
     "name": "stdout",
     "output_type": "stream",
     "text": [
      "        Pais    Continente  Poblacion_millones  PBI_per_capita  \\\n",
      "0       Perú    Sudamérica                33.0            7020   \n",
      "1  Argentina    Sudamérica                45.2            9912   \n",
      "2      Chile    Sudamérica                19.5           15000   \n",
      "3   Colombia    Sudamérica                51.0            6500   \n",
      "4     Brasil    Sudamérica               212.6            8717   \n",
      "5     México  Norteamérica               128.9            9863   \n",
      "6    Uruguay    Sudamérica                 3.5           16190   \n",
      "7     España        Europa                47.4           29600   \n",
      "8     Canadá  Norteamérica                38.0           46194   \n",
      "9      Japón          Asia               125.8           40700   \n",
      "\n",
      "   Esperanza_de_vida  Indice_Gini  Tasa_Alfabetizacion  Crecimiento_Anual_PBI  \\\n",
      "0               76.5         41.5                 94.4                    1.1   \n",
      "1               76.7         42.9                 99.0                   -2.0   \n",
      "2               80.5         44.4                 99.4                    2.5   \n",
      "3               77.3         51.3                 95.1                    3.0   \n",
      "4               75.9         53.9                 93.2                    1.4   \n",
      "5               75.0         45.4                 95.4                    2.1   \n",
      "6               77.9         39.7                 98.4                    2.0   \n",
      "7               83.6         34.7                 98.4                    2.5   \n",
      "8               82.3         33.3                 99.0                    1.9   \n",
      "9               84.6         32.9                 99.0                    0.8   \n",
      "\n",
      "   PBI_Total_billones Categoria_Desarrollo  \n",
      "0            231.6600                Medio  \n",
      "1            448.0224           Medio-Alto  \n",
      "2            292.5000           Medio-Alto  \n",
      "3            331.5000                Medio  \n",
      "4           1853.2342                Medio  \n",
      "5           1271.3407                Medio  \n",
      "6             56.6650           Medio-Alto  \n",
      "7           1403.0400                 Alto  \n",
      "8           1755.3720                 Alto  \n",
      "9           5120.0600                 Alto  \n"
     ]
    }
   ],
   "source": [
    "reglas = [\n",
    "    (df_desarrollo['Esperanza_de_vida'] > 80) & (df_desarrollo['PBI_per_capita'] > 25000),\n",
    "    (df_desarrollo['Esperanza_de_vida'] > 76) & (df_desarrollo['PBI_per_capita'] > 8000)\n",
    "]\n",
    "categorías = ['Alto', 'Medio-Alto']\n",
    "df_desarrollo['Categoria_Desarrollo'] = np.select(reglas, categorías, default='Medio')\n",
    "print(df_desarrollo)"
   ]
  },
  {
   "cell_type": "markdown",
   "id": "2CjwamlPbJuG",
   "metadata": {
    "id": "2CjwamlPbJuG"
   },
   "source": [
    "**8.1.** Filtra el DataFrame para encontrar los países de 'Sudamérica' con un `Indice_Gini` menor a 45.\n",
    "\n",
    "**8.2.** Ordena el resultado del filtro anterior por `PBI_per_capita` de forma descendente."
   ]
  },
  {
   "cell_type": "code",
   "execution_count": 12,
   "id": "KcaeffT-bJuG",
   "metadata": {
    "id": "KcaeffT-bJuG"
   },
   "outputs": [
    {
     "name": "stdout",
     "output_type": "stream",
     "text": [
      "        Pais  Continente  Poblacion_millones  PBI_per_capita  \\\n",
      "0       Perú  Sudamérica                33.0            7020   \n",
      "1  Argentina  Sudamérica                45.2            9912   \n",
      "2      Chile  Sudamérica                19.5           15000   \n",
      "6    Uruguay  Sudamérica                 3.5           16190   \n",
      "\n",
      "   Esperanza_de_vida  Indice_Gini  Tasa_Alfabetizacion  Crecimiento_Anual_PBI  \\\n",
      "0               76.5         41.5                 94.4                    1.1   \n",
      "1               76.7         42.9                 99.0                   -2.0   \n",
      "2               80.5         44.4                 99.4                    2.5   \n",
      "6               77.9         39.7                 98.4                    2.0   \n",
      "\n",
      "   PBI_Total_billones Categoria_Desarrollo  \n",
      "0            231.6600                Medio  \n",
      "1            448.0224           Medio-Alto  \n",
      "2            292.5000           Medio-Alto  \n",
      "6             56.6650           Medio-Alto  \n"
     ]
    }
   ],
   "source": [
    "sudamerica_filtrado = df_desarrollo[\n",
    "    (df_desarrollo['Continente'] == 'Sudamérica') &\n",
    "    (df_desarrollo['Indice_Gini'] < 45)\n",
    "]\n",
    "print(sudamerica_filtrado) "
   ]
  },
  {
   "cell_type": "code",
   "execution_count": 13,
   "id": "ee50ba4d-5d7f-4a45-a19c-a9293ff717a9",
   "metadata": {},
   "outputs": [
    {
     "name": "stdout",
     "output_type": "stream",
     "text": [
      "        Pais  PBI_per_capita\n",
      "6    Uruguay           16190\n",
      "2      Chile           15000\n",
      "1  Argentina            9912\n",
      "0       Perú            7020\n"
     ]
    }
   ],
   "source": [
    "sudamerica_ordenado = sudamerica_filtrado.sort_values(by='PBI_per_capita', ascending=False)\n",
    "print(sudamerica_ordenado[['Pais', 'PBI_per_capita']])"
   ]
  },
  {
   "cell_type": "markdown",
   "id": "5GGM9kLgbJuH",
   "metadata": {
    "id": "5GGM9kLgbJuH"
   },
   "source": [
    "**9.** Utilizando `groupby()`, calcula para cada `Continente`:\n",
    "- La **media** de `Esperanza_de_vida`.\n",
    "- El **máximo** de `Indice_Gini`.\n",
    "- El **conteo** de países."
   ]
  },
  {
   "cell_type": "code",
   "execution_count": 14,
   "id": "SnoAgW2LbJuH",
   "metadata": {
    "id": "SnoAgW2LbJuH"
   },
   "outputs": [
    {
     "name": "stdout",
     "output_type": "stream",
     "text": [
      "              Media_vida  Max_Gini  Conteo_paises\n",
      "Continente                                       \n",
      "Asia           84.600000      32.9              1\n",
      "Europa         83.600000      34.7              1\n",
      "Norteamérica   78.650000      45.4              2\n",
      "Sudamérica     77.466667      53.9              6\n"
     ]
    }
   ],
   "source": [
    "media_vida = df_desarrollo.groupby('Continente')['Esperanza_de_vida'].mean()\n",
    "max_gini = df_desarrollo.groupby('Continente')['Indice_Gini'].max()\n",
    "conteo_paises = df_desarrollo.groupby('Continente')['Pais'].count()\n",
    "\n",
    "continentes = pd.concat([media_vida, max_gini, conteo_paises], axis=1)\n",
    "continentes.columns = ['Media_vida', 'Max_Gini', 'Conteo_paises']\n",
    "print(continentes)"
   ]
  },
  {
   "cell_type": "markdown",
   "id": "NJNCKZYxbJuH",
   "metadata": {
    "id": "NJNCKZYxbJuH"
   },
   "source": [
    "## Sección 3: Visualización de Datos"
   ]
  },
  {
   "cell_type": "markdown",
   "id": "oqRrTvFVbJuH",
   "metadata": {
    "id": "oqRrTvFVbJuH"
   },
   "source": [
    "**10.** Crea un gráfico de barras horizontales (`barh`) que muestre el `Indice_Gini` de cada país. Ordena los países de menor a mayor desigualdad (Gini) para una mejor visualización. Asegúrate de que el gráfico tenga un título y etiquetas adecuadas."
   ]
  },
  {
   "cell_type": "code",
   "execution_count": 15,
   "id": "ebcde43f-9995-4721-bf6e-76166fd7992c",
   "metadata": {},
   "outputs": [
    {
     "data": {
      "image/png": "[encoded data removed]",
      "text/plain": [
       "<Figure size 1200x800 with 1 Axes>"
      ]
     },
     "metadata": {},
     "output_type": "display_data"
    }
   ],
   "source": [
    "import matplotlib.pyplot as plt\n",
    "\n",
    "data_gini = df_desarrollo.set_index('Pais')['Indice_Gini'].copy()\n",
    "data_gini = data_gini.sort_values(ascending=True)\n",
    "fig, ax = plt.subplots(figsize=(12, 8))\n",
    "ax.barh(data_gini.index, data_gini, color='darkblue')\n",
    "ax.set_xlabel('Índice de Gini')\n",
    "ax.set_title('Índice de Gini por País (menor a mayor desigualdad)')\n",
    "plt.show()"
   ]
  },
  {
   "cell_type": "markdown",
   "id": "Ycs_GpmrbJuH",
   "metadata": {
    "id": "Ycs_GpmrbJuH"
   },
   "source": [
    "**11.1.** Genera un gráfico de dispersión (scatter plot) para explorar la relación entre el `PBI_per_capita` (eje X) y la `Esperanza_de_vida` (eje Y).\n",
    "\n",
    "**11.2.** Modifica el gráfico anterior para que el color de cada punto represente su `Continente`. (Pista: puedes crear un diccionario que mapee continentes a colores, por ejemplo: `{'Sudamérica': 'blue', ...}`).\n",
    "\n",
    "**11.3.** **Interpretación:** ¿Qué te dice este gráfico sobre la relación entre PBI y esperanza de vida? ¿Observas alguna agrupación por continentes?"
   ]
  },
  {
   "cell_type": "code",
   "execution_count": 16,
   "id": "ykNgEk1xbJuH",
   "metadata": {
    "id": "ykNgEk1xbJuH"
   },
   "outputs": [
    {
     "data": {
      "image/png": "[encoded data removed]",
      "text/plain": [
       "<Figure size 1000x600 with 1 Axes>"
      ]
     },
     "metadata": {},
     "output_type": "display_data"
    }
   ],
   "source": [
    "colores = {\n",
    "    'Sudamérica': 'green',\n",
    "    'Norteamérica': 'darkblue',\n",
    "    'Europa': 'orange',\n",
    "    'Asia': 'red'\n",
    "}\n",
    "colores_puntos = df_desarrollo['Continente'].map(colores)\n",
    "fig, ax = plt.subplots(figsize=(10, 6))\n",
    "scatter = ax.scatter(df_desarrollo['PBI_per_capita'], df_desarrollo['Esperanza_de_vida'], c=colores_puntos)\n",
    "ax.set_title('Relación entre PBI per cápita y Esperanza de vida por Continente')\n",
    "ax.set_xlabel('PBI per cápita')\n",
    "ax.set_ylabel('Esperanza de vida')\n",
    "ax.grid(True)\n",
    "plt.show()"
   ]
  },
  {
   "cell_type": "markdown",
   "id": "zyvV_QzDbJuH",
   "metadata": {
    "id": "zyvV_QzDbJuH"
   },
   "source": [
    "Se observa una relación positiva entre la esperanza de vida y el PBI per cápita. Asia tiene la mejor combinación de ambos indicadores. Sudamérica se mantiene con un PBI bajo o medio-bajo, y en Norteamérica hay países en los dos extremos, México se asemeja más a Sudamérica, mientrCanadá se parece más a Asia."
   ]
  },
  {
   "cell_type": "markdown",
   "id": "Wi51SLJWbJuH",
   "metadata": {
    "id": "Wi51SLJWbJuH"
   },
   "source": [
    "**12.** Crea un histograma de la `Tasa_Alfabetizacion`. Añade una línea vertical roja que represente la media de esta tasa."
   ]
  },
  {
   "cell_type": "code",
   "execution_count": 17,
   "id": "kTHwpTlNbJuI",
   "metadata": {
    "id": "kTHwpTlNbJuI"
   },
   "outputs": [
    {
     "data": {
      "image/png": "[encoded data removed]",
      "text/plain": [
       "<Figure size 1000x600 with 1 Axes>"
      ]
     },
     "metadata": {},
     "output_type": "display_data"
    }
   ],
   "source": [
    "ax = df_desarrollo['Tasa_Alfabetizacion'].dropna().plot(kind='hist', bins=9, figsize=(10,6), edgecolor='white', color='skyblue')\n",
    "media = df_desarrollo['Tasa_Alfabetizacion'].mean()\n",
    "plt.axvline(media, color='red', linestyle='-', linewidth=2, label=f'Media: {media:.2f}')\n",
    "plt.title('Tasa de Alfabetización')\n",
    "plt.xlabel('Tasa de Alfabetización (%)')\n",
    "plt.ylabel('Frecuencia')\n",
    "plt.legend()\n",
    "plt.show()"
   ]
  },
  {
   "cell_type": "markdown",
   "id": "5Rlsc-hNbJuI",
   "metadata": {
    "id": "5Rlsc-hNbJuI"
   },
   "source": [
    "## Sección 4: Estadística y Síntesis"
   ]
  },
  {
   "cell_type": "markdown",
   "id": "4Pd-42lrbJuI",
   "metadata": {
    "id": "4Pd-42lrbJuI"
   },
   "source": [
    "**13.** Muestra un resumen estadístico completo de las columnas numéricas del DataFrame."
   ]
  },
  {
   "cell_type": "code",
   "execution_count": 18,
   "id": "Q3OHpdjgbJuI",
   "metadata": {
    "id": "Q3OHpdjgbJuI"
   },
   "outputs": [
    {
     "data": {
      "text/html": [
       "<div>\n",
       "<style scoped>\n",
       "    .dataframe tbody tr th:only-of-type {\n",
       "        vertical-align: middle;\n",
       "    }\n",
       "\n",
       "    .dataframe tbody tr th {\n",
       "        vertical-align: top;\n",
       "    }\n",
       "\n",
       "    .dataframe thead th {\n",
       "        text-align: right;\n",
       "    }\n",
       "</style>\n",
       "<table border=\"1\" class=\"dataframe\">\n",
       "  <thead>\n",
       "    <tr style=\"text-align: right;\">\n",
       "      <th></th>\n",
       "      <th>Poblacion_millones</th>\n",
       "      <th>PBI_per_capita</th>\n",
       "      <th>Esperanza_de_vida</th>\n",
       "      <th>Indice_Gini</th>\n",
       "      <th>Tasa_Alfabetizacion</th>\n",
       "      <th>Crecimiento_Anual_PBI</th>\n",
       "      <th>PBI_Total_billones</th>\n",
       "    </tr>\n",
       "  </thead>\n",
       "  <tbody>\n",
       "    <tr>\n",
       "      <th>count</th>\n",
       "      <td>10.000000</td>\n",
       "      <td>10.000000</td>\n",
       "      <td>10.000000</td>\n",
       "      <td>10.000000</td>\n",
       "      <td>10.000000</td>\n",
       "      <td>10.000000</td>\n",
       "      <td>10.000000</td>\n",
       "    </tr>\n",
       "    <tr>\n",
       "      <th>mean</th>\n",
       "      <td>70.490000</td>\n",
       "      <td>18969.600000</td>\n",
       "      <td>79.030000</td>\n",
       "      <td>42.000000</td>\n",
       "      <td>97.130000</td>\n",
       "      <td>1.530000</td>\n",
       "      <td>1276.339430</td>\n",
       "    </tr>\n",
       "    <tr>\n",
       "      <th>std</th>\n",
       "      <td>64.779548</td>\n",
       "      <td>14599.229418</td>\n",
       "      <td>3.446431</td>\n",
       "      <td>7.176815</td>\n",
       "      <td>2.330498</td>\n",
       "      <td>1.411107</td>\n",
       "      <td>1508.431014</td>\n",
       "    </tr>\n",
       "    <tr>\n",
       "      <th>min</th>\n",
       "      <td>3.500000</td>\n",
       "      <td>6500.000000</td>\n",
       "      <td>75.000000</td>\n",
       "      <td>32.900000</td>\n",
       "      <td>93.200000</td>\n",
       "      <td>-2.000000</td>\n",
       "      <td>56.665000</td>\n",
       "    </tr>\n",
       "    <tr>\n",
       "      <th>25%</th>\n",
       "      <td>34.250000</td>\n",
       "      <td>9003.500000</td>\n",
       "      <td>76.550000</td>\n",
       "      <td>35.950000</td>\n",
       "      <td>95.175000</td>\n",
       "      <td>1.175000</td>\n",
       "      <td>302.250000</td>\n",
       "    </tr>\n",
       "    <tr>\n",
       "      <th>50%</th>\n",
       "      <td>46.300000</td>\n",
       "      <td>12456.000000</td>\n",
       "      <td>77.600000</td>\n",
       "      <td>42.200000</td>\n",
       "      <td>98.400000</td>\n",
       "      <td>1.950000</td>\n",
       "      <td>859.681550</td>\n",
       "    </tr>\n",
       "    <tr>\n",
       "      <th>75%</th>\n",
       "      <td>107.100000</td>\n",
       "      <td>26247.500000</td>\n",
       "      <td>81.850000</td>\n",
       "      <td>45.150000</td>\n",
       "      <td>99.000000</td>\n",
       "      <td>2.400000</td>\n",
       "      <td>1667.289000</td>\n",
       "    </tr>\n",
       "    <tr>\n",
       "      <th>max</th>\n",
       "      <td>212.600000</td>\n",
       "      <td>46194.000000</td>\n",
       "      <td>84.600000</td>\n",
       "      <td>53.900000</td>\n",
       "      <td>99.400000</td>\n",
       "      <td>3.000000</td>\n",
       "      <td>5120.060000</td>\n",
       "    </tr>\n",
       "  </tbody>\n",
       "</table>\n",
       "</div>"
      ],
      "text/plain": [
       "       Poblacion_millones  PBI_per_capita  Esperanza_de_vida  Indice_Gini  \\\n",
       "count           10.000000       10.000000          10.000000    10.000000   \n",
       "mean            70.490000    18969.600000          79.030000    42.000000   \n",
       "std             64.779548    14599.229418           3.446431     7.176815   \n",
       "min              3.500000     6500.000000          75.000000    32.900000   \n",
       "25%             34.250000     9003.500000          76.550000    35.950000   \n",
       "50%             46.300000    12456.000000          77.600000    42.200000   \n",
       "75%            107.100000    26247.500000          81.850000    45.150000   \n",
       "max            212.600000    46194.000000          84.600000    53.900000   \n",
       "\n",
       "       Tasa_Alfabetizacion  Crecimiento_Anual_PBI  PBI_Total_billones  \n",
       "count            10.000000              10.000000           10.000000  \n",
       "mean             97.130000               1.530000         1276.339430  \n",
       "std               2.330498               1.411107         1508.431014  \n",
       "min              93.200000              -2.000000           56.665000  \n",
       "25%              95.175000               1.175000          302.250000  \n",
       "50%              98.400000               1.950000          859.681550  \n",
       "75%              99.000000               2.400000         1667.289000  \n",
       "max              99.400000               3.000000         5120.060000  "
      ]
     },
     "execution_count": 18,
     "metadata": {},
     "output_type": "execute_result"
    }
   ],
   "source": [
    "df_desarrollo.describe()"
   ]
  },
  {
   "cell_type": "markdown",
   "id": "2JNprB4JbJuI",
   "metadata": {
    "id": "2JNprB4JbJuI"
   },
   "source": [
    "**14.1.** Calcula la matriz de correlación para las columnas numéricas del DataFrame.\n",
    "\n",
    "**14.2.** **Interpretación:** Identifica el par de variables con la correlación positiva más fuerte y el par con la correlación negativa más fuerte (excluyendo la correlación de una variable consigo misma). ¿Tienen sentido estos resultados en el mundo real?"
   ]
  },
  {
   "cell_type": "code",
   "execution_count": 19,
   "id": "VWZFMyjwbJuI",
   "metadata": {
    "id": "VWZFMyjwbJuI"
   },
   "outputs": [
    {
     "data": {
      "text/html": [
       "<div>\n",
       "<style scoped>\n",
       "    .dataframe tbody tr th:only-of-type {\n",
       "        vertical-align: middle;\n",
       "    }\n",
       "\n",
       "    .dataframe tbody tr th {\n",
       "        vertical-align: top;\n",
       "    }\n",
       "\n",
       "    .dataframe thead th {\n",
       "        text-align: right;\n",
       "    }\n",
       "</style>\n",
       "<table border=\"1\" class=\"dataframe\">\n",
       "  <thead>\n",
       "    <tr style=\"text-align: right;\">\n",
       "      <th></th>\n",
       "      <th>Poblacion_millones</th>\n",
       "      <th>PBI_per_capita</th>\n",
       "      <th>Esperanza_de_vida</th>\n",
       "      <th>Indice_Gini</th>\n",
       "      <th>Tasa_Alfabetizacion</th>\n",
       "      <th>Crecimiento_Anual_PBI</th>\n",
       "      <th>PBI_Total_billones</th>\n",
       "    </tr>\n",
       "  </thead>\n",
       "  <tbody>\n",
       "    <tr>\n",
       "      <th>Poblacion_millones</th>\n",
       "      <td>1.00</td>\n",
       "      <td>-0.07</td>\n",
       "      <td>-0.20</td>\n",
       "      <td>0.40</td>\n",
       "      <td>-0.55</td>\n",
       "      <td>-0.08</td>\n",
       "      <td>0.55</td>\n",
       "    </tr>\n",
       "    <tr>\n",
       "      <th>PBI_per_capita</th>\n",
       "      <td>-0.07</td>\n",
       "      <td>1.00</td>\n",
       "      <td>0.88</td>\n",
       "      <td>-0.83</td>\n",
       "      <td>0.62</td>\n",
       "      <td>0.08</td>\n",
       "      <td>0.66</td>\n",
       "    </tr>\n",
       "    <tr>\n",
       "      <th>Esperanza_de_vida</th>\n",
       "      <td>-0.20</td>\n",
       "      <td>0.88</td>\n",
       "      <td>1.00</td>\n",
       "      <td>-0.78</td>\n",
       "      <td>0.69</td>\n",
       "      <td>0.17</td>\n",
       "      <td>0.60</td>\n",
       "    </tr>\n",
       "    <tr>\n",
       "      <th>Indice_Gini</th>\n",
       "      <td>0.40</td>\n",
       "      <td>-0.83</td>\n",
       "      <td>-0.78</td>\n",
       "      <td>1.00</td>\n",
       "      <td>-0.72</td>\n",
       "      <td>0.10</td>\n",
       "      <td>-0.43</td>\n",
       "    </tr>\n",
       "    <tr>\n",
       "      <th>Tasa_Alfabetizacion</th>\n",
       "      <td>-0.55</td>\n",
       "      <td>0.62</td>\n",
       "      <td>0.69</td>\n",
       "      <td>-0.72</td>\n",
       "      <td>1.00</td>\n",
       "      <td>-0.19</td>\n",
       "      <td>0.17</td>\n",
       "    </tr>\n",
       "    <tr>\n",
       "      <th>Crecimiento_Anual_PBI</th>\n",
       "      <td>-0.08</td>\n",
       "      <td>0.08</td>\n",
       "      <td>0.17</td>\n",
       "      <td>0.10</td>\n",
       "      <td>-0.19</td>\n",
       "      <td>1.00</td>\n",
       "      <td>-0.11</td>\n",
       "    </tr>\n",
       "    <tr>\n",
       "      <th>PBI_Total_billones</th>\n",
       "      <td>0.55</td>\n",
       "      <td>0.66</td>\n",
       "      <td>0.60</td>\n",
       "      <td>-0.43</td>\n",
       "      <td>0.17</td>\n",
       "      <td>-0.11</td>\n",
       "      <td>1.00</td>\n",
       "    </tr>\n",
       "  </tbody>\n",
       "</table>\n",
       "</div>"
      ],
      "text/plain": [
       "                       Poblacion_millones  PBI_per_capita  Esperanza_de_vida  \\\n",
       "Poblacion_millones                   1.00           -0.07              -0.20   \n",
       "PBI_per_capita                      -0.07            1.00               0.88   \n",
       "Esperanza_de_vida                   -0.20            0.88               1.00   \n",
       "Indice_Gini                          0.40           -0.83              -0.78   \n",
       "Tasa_Alfabetizacion                 -0.55            0.62               0.69   \n",
       "Crecimiento_Anual_PBI               -0.08            0.08               0.17   \n",
       "PBI_Total_billones                   0.55            0.66               0.60   \n",
       "\n",
       "                       Indice_Gini  Tasa_Alfabetizacion  \\\n",
       "Poblacion_millones            0.40                -0.55   \n",
       "PBI_per_capita               -0.83                 0.62   \n",
       "Esperanza_de_vida            -0.78                 0.69   \n",
       "Indice_Gini                   1.00                -0.72   \n",
       "Tasa_Alfabetizacion          -0.72                 1.00   \n",
       "Crecimiento_Anual_PBI         0.10                -0.19   \n",
       "PBI_Total_billones           -0.43                 0.17   \n",
       "\n",
       "                       Crecimiento_Anual_PBI  PBI_Total_billones  \n",
       "Poblacion_millones                     -0.08                0.55  \n",
       "PBI_per_capita                          0.08                0.66  \n",
       "Esperanza_de_vida                       0.17                0.60  \n",
       "Indice_Gini                             0.10               -0.43  \n",
       "Tasa_Alfabetizacion                    -0.19                0.17  \n",
       "Crecimiento_Anual_PBI                   1.00               -0.11  \n",
       "PBI_Total_billones                     -0.11                1.00  "
      ]
     },
     "execution_count": 19,
     "metadata": {},
     "output_type": "execute_result"
    }
   ],
   "source": [
    "df_numerico = df_desarrollo.select_dtypes(include=['number'])\n",
    "matriz_correlacion = df_numerico.corr().round(2)\n",
    "matriz_correlacion"
   ]
  },
  {
   "cell_type": "markdown",
   "id": "J4p1wHTmbJuR",
   "metadata": {
    "id": "J4p1wHTmbJuR"
   },
   "source": [
    "La mayor correlación positiva se encuentra entre el PBI per cápita y la esperanza de vida. Esto tiene sentido en el mundo real, ya que los países con economías más desarrolladas suelen tener mejores condiciones de vida que contribuyen a una mayor longevidad.\n",
    "La mayor correlación negativa se observa entre el PBI per cápita y el índice de Gini, lo cual es coherente con la realidad porque, generalmente, a mayor riqueza de un país, existen mayores oportunidades para disminuir la desigualdad; sin embargo, también existen excepciones."
   ]
  },
  {
   "cell_type": "markdown",
   "id": "djfvVHMnbJuR",
   "metadata": {
    "id": "djfvVHMnbJuR"
   },
   "source": [
    "**15.** Basado en los datos, calcula la probabilidad de que un país seleccionado al azar sea de 'Sudamérica' Y tenga una `Categoria_Desarrollo` de 'Medio-Alto'."
   ]
  },
  {
   "cell_type": "code",
   "execution_count": 21,
   "id": "Lhog8Pi4bJuR",
   "metadata": {
    "id": "Lhog8Pi4bJuR"
   },
   "outputs": [
    {
     "name": "stdout",
     "output_type": "stream",
     "text": [
      "0.3\n",
      "La probabilidad es: 30.00%\n"
     ]
    }
   ],
   "source": [
    "counts = df_desarrollo[(df_desarrollo['Continente'] == 'Sudamérica') & \n",
    "                       (df_desarrollo['Categoria_Desarrollo'] == 'Medio-Alto')].shape[0]\n",
    "total_paises = df_desarrollo.shape[0]\n",
    "probabilidad = counts / total_paises\n",
    "print(probabilidad)\n",
    "porcentaje = probabilidad * 100\n",
    "print(f'La probabilidad es: {porcentaje:.2f}%')"
   ]
  }
 ],
 "metadata": {
  "colab": {
   "provenance": []
  },
  "kernelspec": {
   "display_name": "Python [conda env:base] *",
   "language": "python",
   "name": "conda-base-py"
  },
  "language_info": {
   "codemirror_mode": {
    "name": "ipython",
    "version": 3
   },
   "file_extension": ".py",
   "mimetype": "text/x-python",
   "name": "python",
   "nbconvert_exporter": "python",
   "pygments_lexer": "ipython3",
   "version": "3.11.5"
  }
 },
 "nbformat": 4,
 "nbformat_minor": 5
}
