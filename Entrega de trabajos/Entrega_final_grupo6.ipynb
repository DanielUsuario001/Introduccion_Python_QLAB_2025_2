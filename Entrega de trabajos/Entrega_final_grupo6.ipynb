{
 "cells": [
  {
   "cell_type": "markdown",
   "id": "OQSezRkDbJt7",
   "metadata": {
    "id": "OQSezRkDbJt7"
   },
   "source": [
    "# Tarea Final del Curso\n",
    "**Introducción a la Ciencia de Datos con Python**"
   ]
  },
  {
   "cell_type": "markdown",
   "id": "XGKFK_A8bJt_",
   "metadata": {
    "id": "XGKFK_A8bJt_"
   },
   "source": [
    "Fecha de entrega: Domingo 10 de agosto, 2025, 11:59pm\n",
    "\n",
    "**Instrucciones Generales:**\n",
    "\n",
    "- Esta es la entrega final y debe realizarse de manera grupal.\n",
    "- Es importante consignar en el correo de entrega, tanto los nombres y codigo de los integrantes del grupo.\n",
    "- Se considera un punto adicional a aquellos grupos que realizen la entrega por GITHUB, para ello deben ponerlo dentro de la carpeta Entregas_1, y nombre de archivo debe tener el formato: TrabajoFinal_GrupoX.ipynb\n",
    "- Asegúrate de seguir las buenas prácticas para nombrar variables y comentar tu código.\n",
    "- Utiliza las librerías vistas en clase: `numpy`, `pandas` y `matplotlib.pyplot`.\n",
    "- Responde a las preguntas teóricas o de interpretación en las celdas de Markdown designadas."
   ]
  },
  {
   "cell_type": "code",
   "execution_count": null,
   "id": "7904999b-9ee7-407a-a337-70c7d1f779fd",
   "metadata": {},
   "outputs": [],
   "source": [
    "*INTEGRANTES:\n",
    "    *Lesly Guzmán\n",
    "    *Tania Rufino\n",
    "    *Karol Aguilar\n",
    "    *Celia Tarazona"
   ]
  },
  {
   "cell_type": "markdown",
   "id": "-knDLkMsbJuA",
   "metadata": {
    "id": "-knDLkMsbJuA"
   },
   "source": [
    "## Sección 1: NumPy - Manipulación Avanzada de Arrays"
   ]
  },
  {
   "cell_type": "markdown",
   "id": "y5tLDLYlbJuA",
   "metadata": {
    "id": "y5tLDLYlbJuA"
   },
   "source": [
    "**1.1.** Crea un array de NumPy llamado `vector_base` que contenga una secuencia de números desde 10 hasta 115 (inclusive), con un paso de 3 entre cada número."
   ]
  },
  {
   "cell_type": "code",
   "execution_count": 1,
   "id": "516e3337-0a81-4026-988f-f649970393e8",
   "metadata": {
    "colab": {
     "base_uri": "https://localhost:8080/"
    },
    "id": "wvj9SXYtbr3v",
    "outputId": "52f6402a-be98-4058-c520-0932d38c64df",
    "tags": []
   },
   "outputs": [
    {
     "name": "stdout",
     "output_type": "stream",
     "text": [
      "[ 10  13  16  19  22  25  28  31  34  37  40  43  46  49  52  55  58  61\n",
      "  64  67  70  73  76  79  82  85  88  91  94  97 100 103 106 109 112 115]\n"
     ]
    }
   ],
   "source": [
    "import numpy as np\n",
    "# Como sabemos el step y pide hasta el 115 (inclusive), usamos:\n",
    "vector_base = np.arange(10, 116, 3)\n",
    "print(vector_base)"
   ]
  },
  {
   "cell_type": "markdown",
   "id": "983F8uePbJuB",
   "metadata": {
    "id": "983F8uePbJuB"
   },
   "source": [
    "**1.2.** A partir del `vector_base` anterior, crea una matriz de 5x7 llamada `matriz_A`."
   ]
  },
  {
   "cell_type": "code",
   "execution_count": 2,
   "id": "dmOA_SNgbJuC",
   "metadata": {
    "colab": {
     "base_uri": "https://localhost:8080/"
    },
    "id": "dmOA_SNgbJuC",
    "outputId": "5490829b-4d8c-4ec7-bcef-15ab089f4255",
    "tags": []
   },
   "outputs": [
    {
     "name": "stdout",
     "output_type": "stream",
     "text": [
      "[[ 10  13  16  19  22  25  28]\n",
      " [ 31  34  37  40  43  46  49]\n",
      " [ 52  55  58  61  64  67  70]\n",
      " [ 73  76  79  82  85  88  91]\n",
      " [ 94  97 100 103 106 109 112]]\n"
     ]
    }
   ],
   "source": [
    "# El vector base anterior tiene 36 elementos, por lo que lo arreglamos para que tenga 35 y se cumpla con lo pedido:\n",
    "vector_base = np.arange(10, 115, 3)\n",
    "\n",
    "matriz_A = vector_base.reshape(5, 7)\n",
    "print(matriz_A)"
   ]
  },
  {
   "cell_type": "markdown",
   "id": "QoWq-H84bJuC",
   "metadata": {
    "id": "QoWq-H84bJuC"
   },
   "source": [
    "**2.1.** Crea una segunda matriz de 5x7 llamada `matriz_B` que contenga números enteros aleatorios entre 1 y 10.\n",
    "\n",
    "**2.2.** Realiza una multiplicación elemento por elemento (element-wise) entre `matriz_A` y `matriz_B` y almacena el resultado en `matriz_C`."
   ]
  },
  {
   "cell_type": "code",
   "execution_count": 3,
   "id": "DDZDd-cfbJuD",
   "metadata": {
    "colab": {
     "base_uri": "https://localhost:8080/"
    },
    "id": "DDZDd-cfbJuD",
    "outputId": "ec3a9529-15df-4293-8eff-890ed8c1d907",
    "tags": []
   },
   "outputs": [
    {
     "name": "stdout",
     "output_type": "stream",
     "text": [
      "[[ 7  9  3  1  7  4  8]\n",
      " [10  1  6  4  3  8  2]\n",
      " [ 8  9  2  2  1  4  8]\n",
      " [ 3 10  1  9  4  7  8]\n",
      " [ 1  9  2  2 10  5  8]]\n"
     ]
    }
   ],
   "source": [
    "# 2.1\n",
    "matriz_B = np.random.randint(1, 11, (5, 7))\n",
    "print(matriz_B)"
   ]
  },
  {
   "cell_type": "code",
   "execution_count": 5,
   "id": "AzX-I1CNVxqy",
   "metadata": {
    "colab": {
     "base_uri": "https://localhost:8080/"
    },
    "id": "AzX-I1CNVxqy",
    "outputId": "f8f293c7-3c21-4479-89fa-1934a180bb25",
    "tags": []
   },
   "outputs": [
    {
     "name": "stdout",
     "output_type": "stream",
     "text": [
      "[[  70  117   48   19  154  100  224]\n",
      " [ 310   34  222  160  129  368   98]\n",
      " [ 416  495  116  122   64  268  560]\n",
      " [ 219  760   79  738  340  616  728]\n",
      " [  94  873  200  206 1060  545  896]]\n"
     ]
    }
   ],
   "source": [
    "# 2.2: Multiplicación element-wise (no es multiplicación matricial, sino se usa el @)\n",
    "matriz_C = matriz_A*matriz_B\n",
    "print(matriz_C)"
   ]
  },
  {
   "cell_type": "markdown",
   "id": "HhrCyWatbJuD",
   "metadata": {
    "id": "HhrCyWatbJuD"
   },
   "source": [
    "**3.1.** Utilizando slicing, selecciona una submatriz de 2x2 de la esquina inferior derecha de `matriz_C`.\n",
    "\n",
    "**3.2.** Calcula el promedio de esta submatriz."
   ]
  },
  {
   "cell_type": "code",
   "execution_count": 8,
   "id": "dIlRtUE3bJuD",
   "metadata": {
    "colab": {
     "base_uri": "https://localhost:8080/"
    },
    "id": "dIlRtUE3bJuD",
    "outputId": "10dc9a27-4b70-4518-9532-b957f61af1c1",
    "tags": []
   },
   "outputs": [
    {
     "name": "stdout",
     "output_type": "stream",
     "text": [
      "[[616 728]\n",
      " [545 896]]\n"
     ]
    }
   ],
   "source": [
    "# Submatriz 2x2\n",
    "submatriz = matriz_C[-2:,-2:]\n",
    "print (submatriz)"
   ]
  },
  {
   "cell_type": "code",
   "execution_count": 9,
   "id": "hpdZv5q3YmJC",
   "metadata": {
    "colab": {
     "base_uri": "https://localhost:8080/"
    },
    "id": "hpdZv5q3YmJC",
    "outputId": "51483b15-ff7b-460b-dbe9-ad0fd30a1ef8",
    "tags": []
   },
   "outputs": [
    {
     "name": "stdout",
     "output_type": "stream",
     "text": [
      "696.25\n"
     ]
    }
   ],
   "source": [
    "# Promedio de la subamtriz\n",
    "promedio = np.average(submatriz)\n",
    "print(promedio)"
   ]
  },
  {
   "cell_type": "markdown",
   "id": "gO0WijUnbJuE",
   "metadata": {
    "id": "gO0WijUnbJuE"
   },
   "source": [
    "## Sección 2: Pandas - Análisis Exploratorio de Datos"
   ]
  },
  {
   "cell_type": "markdown",
   "id": "SBXhc1V8bJuE",
   "metadata": {
    "id": "SBXhc1V8bJuE"
   },
   "source": [
    "Para esta sección, trabajaremos con un conjunto de datos ficticio sobre el desarrollo humano. **Ejecuta la siguiente celda para crear el DataFrame.**"
   ]
  },
  {
   "cell_type": "code",
   "execution_count": 10,
   "id": "iVR3JluqbJuE",
   "metadata": {
    "id": "iVR3JluqbJuE",
    "tags": []
   },
   "outputs": [],
   "source": [
    "import pandas as pd\n",
    "import numpy as np\n",
    "\n",
    "data = {\n",
    "    'Pais': ['Perú', 'Argentina', 'Chile', 'Colombia', 'Brasil', 'México', 'Uruguay', 'España', 'Canadá', 'Japón'],\n",
    "    'Continente': ['Sudamérica', 'Sudamérica', 'Sudamérica', 'Sudamérica', 'Sudamérica', 'Norteamérica', 'Sudamérica', 'Europa', 'Norteamérica', 'Asia'],\n",
    "    'Poblacion_millones': [33.0, 45.2, 19.5, 51.0, 212.6, 128.9, 3.5, 47.4, 38.0, 125.8],\n",
    "    'PBI_per_capita': [7020, 9912, 15000, 6500, 8717, 9863, 16190, 29600, 46194, 40700],\n",
    "    'Esperanza_de_vida': [76.5, 76.7, 80.5, 77.3, 75.9, 75.0, 77.9, 83.6, 82.3, 84.6],\n",
    "    'Indice_Gini': [41.5, 42.9, 44.4, 51.3, 53.9, 45.4, 39.7, 34.7, 33.3, 32.9],\n",
    "    'Tasa_Alfabetizacion': [94.4, 99.0, 99.4, 95.1, 93.2, 95.4, np.nan, 98.4, 99.0, 99.0],\n",
    "    'Crecimiento_Anual_PBI': [1.1, -2.0, 2.5, 3.0, 1.4, 2.1, 2.0, 2.5, 1.9, 0.8]\n",
    "}\n",
    "\n",
    "df_desarrollo = pd.DataFrame(data)"
   ]
  },
  {
   "cell_type": "code",
   "execution_count": 11,
   "id": "fiJXvGwgbJuF",
   "metadata": {
    "colab": {
     "base_uri": "https://localhost:8080/",
     "height": 363
    },
    "id": "fiJXvGwgbJuF",
    "outputId": "8b9d31f5-7fdb-4820-c0b0-af633afc05d1",
    "tags": []
   },
   "outputs": [
    {
     "data": {
      "text/html": [
       "<div>\n",
       "<style scoped>\n",
       "    .dataframe tbody tr th:only-of-type {\n",
       "        vertical-align: middle;\n",
       "    }\n",
       "\n",
       "    .dataframe tbody tr th {\n",
       "        vertical-align: top;\n",
       "    }\n",
       "\n",
       "    .dataframe thead th {\n",
       "        text-align: right;\n",
       "    }\n",
       "</style>\n",
       "<table border=\"1\" class=\"dataframe\">\n",
       "  <thead>\n",
       "    <tr style=\"text-align: right;\">\n",
       "      <th></th>\n",
       "      <th>Pais</th>\n",
       "      <th>Continente</th>\n",
       "      <th>Poblacion_millones</th>\n",
       "      <th>PBI_per_capita</th>\n",
       "      <th>Esperanza_de_vida</th>\n",
       "      <th>Indice_Gini</th>\n",
       "      <th>Tasa_Alfabetizacion</th>\n",
       "      <th>Crecimiento_Anual_PBI</th>\n",
       "    </tr>\n",
       "  </thead>\n",
       "  <tbody>\n",
       "    <tr>\n",
       "      <th>0</th>\n",
       "      <td>Perú</td>\n",
       "      <td>Sudamérica</td>\n",
       "      <td>33.0</td>\n",
       "      <td>7020</td>\n",
       "      <td>76.5</td>\n",
       "      <td>41.5</td>\n",
       "      <td>94.4</td>\n",
       "      <td>1.1</td>\n",
       "    </tr>\n",
       "    <tr>\n",
       "      <th>1</th>\n",
       "      <td>Argentina</td>\n",
       "      <td>Sudamérica</td>\n",
       "      <td>45.2</td>\n",
       "      <td>9912</td>\n",
       "      <td>76.7</td>\n",
       "      <td>42.9</td>\n",
       "      <td>99.0</td>\n",
       "      <td>-2.0</td>\n",
       "    </tr>\n",
       "    <tr>\n",
       "      <th>2</th>\n",
       "      <td>Chile</td>\n",
       "      <td>Sudamérica</td>\n",
       "      <td>19.5</td>\n",
       "      <td>15000</td>\n",
       "      <td>80.5</td>\n",
       "      <td>44.4</td>\n",
       "      <td>99.4</td>\n",
       "      <td>2.5</td>\n",
       "    </tr>\n",
       "    <tr>\n",
       "      <th>3</th>\n",
       "      <td>Colombia</td>\n",
       "      <td>Sudamérica</td>\n",
       "      <td>51.0</td>\n",
       "      <td>6500</td>\n",
       "      <td>77.3</td>\n",
       "      <td>51.3</td>\n",
       "      <td>95.1</td>\n",
       "      <td>3.0</td>\n",
       "    </tr>\n",
       "    <tr>\n",
       "      <th>4</th>\n",
       "      <td>Brasil</td>\n",
       "      <td>Sudamérica</td>\n",
       "      <td>212.6</td>\n",
       "      <td>8717</td>\n",
       "      <td>75.9</td>\n",
       "      <td>53.9</td>\n",
       "      <td>93.2</td>\n",
       "      <td>1.4</td>\n",
       "    </tr>\n",
       "    <tr>\n",
       "      <th>5</th>\n",
       "      <td>México</td>\n",
       "      <td>Norteamérica</td>\n",
       "      <td>128.9</td>\n",
       "      <td>9863</td>\n",
       "      <td>75.0</td>\n",
       "      <td>45.4</td>\n",
       "      <td>95.4</td>\n",
       "      <td>2.1</td>\n",
       "    </tr>\n",
       "    <tr>\n",
       "      <th>6</th>\n",
       "      <td>Uruguay</td>\n",
       "      <td>Sudamérica</td>\n",
       "      <td>3.5</td>\n",
       "      <td>16190</td>\n",
       "      <td>77.9</td>\n",
       "      <td>39.7</td>\n",
       "      <td>NaN</td>\n",
       "      <td>2.0</td>\n",
       "    </tr>\n",
       "    <tr>\n",
       "      <th>7</th>\n",
       "      <td>España</td>\n",
       "      <td>Europa</td>\n",
       "      <td>47.4</td>\n",
       "      <td>29600</td>\n",
       "      <td>83.6</td>\n",
       "      <td>34.7</td>\n",
       "      <td>98.4</td>\n",
       "      <td>2.5</td>\n",
       "    </tr>\n",
       "    <tr>\n",
       "      <th>8</th>\n",
       "      <td>Canadá</td>\n",
       "      <td>Norteamérica</td>\n",
       "      <td>38.0</td>\n",
       "      <td>46194</td>\n",
       "      <td>82.3</td>\n",
       "      <td>33.3</td>\n",
       "      <td>99.0</td>\n",
       "      <td>1.9</td>\n",
       "    </tr>\n",
       "    <tr>\n",
       "      <th>9</th>\n",
       "      <td>Japón</td>\n",
       "      <td>Asia</td>\n",
       "      <td>125.8</td>\n",
       "      <td>40700</td>\n",
       "      <td>84.6</td>\n",
       "      <td>32.9</td>\n",
       "      <td>99.0</td>\n",
       "      <td>0.8</td>\n",
       "    </tr>\n",
       "  </tbody>\n",
       "</table>\n",
       "</div>"
      ],
      "text/plain": [
       "        Pais    Continente  Poblacion_millones  PBI_per_capita  \\\n",
       "0       Perú    Sudamérica                33.0            7020   \n",
       "1  Argentina    Sudamérica                45.2            9912   \n",
       "2      Chile    Sudamérica                19.5           15000   \n",
       "3   Colombia    Sudamérica                51.0            6500   \n",
       "4     Brasil    Sudamérica               212.6            8717   \n",
       "5     México  Norteamérica               128.9            9863   \n",
       "6    Uruguay    Sudamérica                 3.5           16190   \n",
       "7     España        Europa                47.4           29600   \n",
       "8     Canadá  Norteamérica                38.0           46194   \n",
       "9      Japón          Asia               125.8           40700   \n",
       "\n",
       "   Esperanza_de_vida  Indice_Gini  Tasa_Alfabetizacion  Crecimiento_Anual_PBI  \n",
       "0               76.5         41.5                 94.4                    1.1  \n",
       "1               76.7         42.9                 99.0                   -2.0  \n",
       "2               80.5         44.4                 99.4                    2.5  \n",
       "3               77.3         51.3                 95.1                    3.0  \n",
       "4               75.9         53.9                 93.2                    1.4  \n",
       "5               75.0         45.4                 95.4                    2.1  \n",
       "6               77.9         39.7                  NaN                    2.0  \n",
       "7               83.6         34.7                 98.4                    2.5  \n",
       "8               82.3         33.3                 99.0                    1.9  \n",
       "9               84.6         32.9                 99.0                    0.8  "
      ]
     },
     "execution_count": 11,
     "metadata": {},
     "output_type": "execute_result"
    }
   ],
   "source": [
    "df_desarrollo = pd.DataFrame(data)\n",
    "df_desarrollo"
   ]
  },
  {
   "cell_type": "markdown",
   "id": "CFYuSgcfbJuF",
   "metadata": {
    "id": "CFYuSgcfbJuF"
   },
   "source": [
    "**4.1.** Muestra las primeras 5 filas del DataFrame `df_desarrollo`.\n",
    "\n",
    "**4.2.** Muestra un resumen general del DataFrame utilizando `.info()`."
   ]
  },
  {
   "cell_type": "code",
   "execution_count": 12,
   "id": "PW4NShSJbLJN",
   "metadata": {
    "colab": {
     "base_uri": "https://localhost:8080/"
    },
    "id": "PW4NShSJbLJN",
    "outputId": "db9659e8-f517-4e2d-960a-bfc586746909",
    "tags": []
   },
   "outputs": [
    {
     "name": "stdout",
     "output_type": "stream",
     "text": [
      "        Pais  Continente  Poblacion_millones  PBI_per_capita  \\\n",
      "0       Perú  Sudamérica                33.0            7020   \n",
      "1  Argentina  Sudamérica                45.2            9912   \n",
      "2      Chile  Sudamérica                19.5           15000   \n",
      "3   Colombia  Sudamérica                51.0            6500   \n",
      "4     Brasil  Sudamérica               212.6            8717   \n",
      "\n",
      "   Esperanza_de_vida  Indice_Gini  Tasa_Alfabetizacion  Crecimiento_Anual_PBI  \n",
      "0               76.5         41.5                 94.4                    1.1  \n",
      "1               76.7         42.9                 99.0                   -2.0  \n",
      "2               80.5         44.4                 99.4                    2.5  \n",
      "3               77.3         51.3                 95.1                    3.0  \n",
      "4               75.9         53.9                 93.2                    1.4  \n"
     ]
    }
   ],
   "source": [
    "# 4.1: Mostrar las primeras 5 filas\n",
    "print(df_desarrollo.head(5))"
   ]
  },
  {
   "cell_type": "code",
   "execution_count": 13,
   "id": "m-thYUthbdSU",
   "metadata": {
    "colab": {
     "base_uri": "https://localhost:8080/"
    },
    "id": "m-thYUthbdSU",
    "outputId": "62e601b8-02c7-4336-db50-1078b11765f9",
    "tags": []
   },
   "outputs": [
    {
     "name": "stdout",
     "output_type": "stream",
     "text": [
      "<class 'pandas.core.frame.DataFrame'>\n",
      "RangeIndex: 10 entries, 0 to 9\n",
      "Data columns (total 8 columns):\n",
      " #   Column                 Non-Null Count  Dtype  \n",
      "---  ------                 --------------  -----  \n",
      " 0   Pais                   10 non-null     object \n",
      " 1   Continente             10 non-null     object \n",
      " 2   Poblacion_millones     10 non-null     float64\n",
      " 3   PBI_per_capita         10 non-null     int64  \n",
      " 4   Esperanza_de_vida      10 non-null     float64\n",
      " 5   Indice_Gini            10 non-null     float64\n",
      " 6   Tasa_Alfabetizacion    9 non-null      float64\n",
      " 7   Crecimiento_Anual_PBI  10 non-null     float64\n",
      "dtypes: float64(5), int64(1), object(2)\n",
      "memory usage: 772.0+ bytes\n",
      "None\n"
     ]
    }
   ],
   "source": [
    "# 4.2: Resumen general\n",
    "print(df_desarrollo.info())"
   ]
  },
  {
   "cell_type": "markdown",
   "id": "mlZeIBfFbJuG",
   "metadata": {
    "id": "mlZeIBfFbJuG"
   },
   "source": [
    "**5.** Hemos notado que hay un valor faltante (`NaN`) en la columna `Tasa_Alfabetizacion`. Imputa este valor faltante utilizando la **mediana** de esa misma columna."
   ]
  },
  {
   "cell_type": "code",
   "execution_count": 14,
   "id": "JPWPLHX8bJuG",
   "metadata": {
    "colab": {
     "base_uri": "https://localhost:8080/"
    },
    "id": "JPWPLHX8bJuG",
    "outputId": "854581c0-4846-475d-eb88-f31aa57bd4d4",
    "tags": []
   },
   "outputs": [
    {
     "data": {
      "text/html": [
       "<div>\n",
       "<style scoped>\n",
       "    .dataframe tbody tr th:only-of-type {\n",
       "        vertical-align: middle;\n",
       "    }\n",
       "\n",
       "    .dataframe tbody tr th {\n",
       "        vertical-align: top;\n",
       "    }\n",
       "\n",
       "    .dataframe thead th {\n",
       "        text-align: right;\n",
       "    }\n",
       "</style>\n",
       "<table border=\"1\" class=\"dataframe\">\n",
       "  <thead>\n",
       "    <tr style=\"text-align: right;\">\n",
       "      <th></th>\n",
       "      <th>Pais</th>\n",
       "      <th>Continente</th>\n",
       "      <th>Poblacion_millones</th>\n",
       "      <th>PBI_per_capita</th>\n",
       "      <th>Esperanza_de_vida</th>\n",
       "      <th>Indice_Gini</th>\n",
       "      <th>Tasa_Alfabetizacion</th>\n",
       "      <th>Crecimiento_Anual_PBI</th>\n",
       "    </tr>\n",
       "  </thead>\n",
       "  <tbody>\n",
       "    <tr>\n",
       "      <th>0</th>\n",
       "      <td>Perú</td>\n",
       "      <td>Sudamérica</td>\n",
       "      <td>33.0</td>\n",
       "      <td>7020</td>\n",
       "      <td>76.5</td>\n",
       "      <td>41.5</td>\n",
       "      <td>94.4</td>\n",
       "      <td>1.1</td>\n",
       "    </tr>\n",
       "    <tr>\n",
       "      <th>1</th>\n",
       "      <td>Argentina</td>\n",
       "      <td>Sudamérica</td>\n",
       "      <td>45.2</td>\n",
       "      <td>9912</td>\n",
       "      <td>76.7</td>\n",
       "      <td>42.9</td>\n",
       "      <td>99.0</td>\n",
       "      <td>-2.0</td>\n",
       "    </tr>\n",
       "    <tr>\n",
       "      <th>2</th>\n",
       "      <td>Chile</td>\n",
       "      <td>Sudamérica</td>\n",
       "      <td>19.5</td>\n",
       "      <td>15000</td>\n",
       "      <td>80.5</td>\n",
       "      <td>44.4</td>\n",
       "      <td>99.4</td>\n",
       "      <td>2.5</td>\n",
       "    </tr>\n",
       "    <tr>\n",
       "      <th>3</th>\n",
       "      <td>Colombia</td>\n",
       "      <td>Sudamérica</td>\n",
       "      <td>51.0</td>\n",
       "      <td>6500</td>\n",
       "      <td>77.3</td>\n",
       "      <td>51.3</td>\n",
       "      <td>95.1</td>\n",
       "      <td>3.0</td>\n",
       "    </tr>\n",
       "    <tr>\n",
       "      <th>4</th>\n",
       "      <td>Brasil</td>\n",
       "      <td>Sudamérica</td>\n",
       "      <td>212.6</td>\n",
       "      <td>8717</td>\n",
       "      <td>75.9</td>\n",
       "      <td>53.9</td>\n",
       "      <td>93.2</td>\n",
       "      <td>1.4</td>\n",
       "    </tr>\n",
       "    <tr>\n",
       "      <th>5</th>\n",
       "      <td>México</td>\n",
       "      <td>Norteamérica</td>\n",
       "      <td>128.9</td>\n",
       "      <td>9863</td>\n",
       "      <td>75.0</td>\n",
       "      <td>45.4</td>\n",
       "      <td>95.4</td>\n",
       "      <td>2.1</td>\n",
       "    </tr>\n",
       "    <tr>\n",
       "      <th>6</th>\n",
       "      <td>Uruguay</td>\n",
       "      <td>Sudamérica</td>\n",
       "      <td>3.5</td>\n",
       "      <td>16190</td>\n",
       "      <td>77.9</td>\n",
       "      <td>39.7</td>\n",
       "      <td>98.4</td>\n",
       "      <td>2.0</td>\n",
       "    </tr>\n",
       "    <tr>\n",
       "      <th>7</th>\n",
       "      <td>España</td>\n",
       "      <td>Europa</td>\n",
       "      <td>47.4</td>\n",
       "      <td>29600</td>\n",
       "      <td>83.6</td>\n",
       "      <td>34.7</td>\n",
       "      <td>98.4</td>\n",
       "      <td>2.5</td>\n",
       "    </tr>\n",
       "    <tr>\n",
       "      <th>8</th>\n",
       "      <td>Canadá</td>\n",
       "      <td>Norteamérica</td>\n",
       "      <td>38.0</td>\n",
       "      <td>46194</td>\n",
       "      <td>82.3</td>\n",
       "      <td>33.3</td>\n",
       "      <td>99.0</td>\n",
       "      <td>1.9</td>\n",
       "    </tr>\n",
       "    <tr>\n",
       "      <th>9</th>\n",
       "      <td>Japón</td>\n",
       "      <td>Asia</td>\n",
       "      <td>125.8</td>\n",
       "      <td>40700</td>\n",
       "      <td>84.6</td>\n",
       "      <td>32.9</td>\n",
       "      <td>99.0</td>\n",
       "      <td>0.8</td>\n",
       "    </tr>\n",
       "  </tbody>\n",
       "</table>\n",
       "</div>"
      ],
      "text/plain": [
       "        Pais    Continente  Poblacion_millones  PBI_per_capita  \\\n",
       "0       Perú    Sudamérica                33.0            7020   \n",
       "1  Argentina    Sudamérica                45.2            9912   \n",
       "2      Chile    Sudamérica                19.5           15000   \n",
       "3   Colombia    Sudamérica                51.0            6500   \n",
       "4     Brasil    Sudamérica               212.6            8717   \n",
       "5     México  Norteamérica               128.9            9863   \n",
       "6    Uruguay    Sudamérica                 3.5           16190   \n",
       "7     España        Europa                47.4           29600   \n",
       "8     Canadá  Norteamérica                38.0           46194   \n",
       "9      Japón          Asia               125.8           40700   \n",
       "\n",
       "   Esperanza_de_vida  Indice_Gini  Tasa_Alfabetizacion  Crecimiento_Anual_PBI  \n",
       "0               76.5         41.5                 94.4                    1.1  \n",
       "1               76.7         42.9                 99.0                   -2.0  \n",
       "2               80.5         44.4                 99.4                    2.5  \n",
       "3               77.3         51.3                 95.1                    3.0  \n",
       "4               75.9         53.9                 93.2                    1.4  \n",
       "5               75.0         45.4                 95.4                    2.1  \n",
       "6               77.9         39.7                 98.4                    2.0  \n",
       "7               83.6         34.7                 98.4                    2.5  \n",
       "8               82.3         33.3                 99.0                    1.9  \n",
       "9               84.6         32.9                 99.0                    0.8  "
      ]
     },
     "execution_count": 14,
     "metadata": {},
     "output_type": "execute_result"
    }
   ],
   "source": [
    "# Calculamos la mediana de la columna\n",
    "mediana_tasa = df_desarrollo['Tasa_Alfabetizacion'].median()\n",
    "\n",
    "# Reemplazamos NaN por la mediana\n",
    "df_desarrollo['Tasa_Alfabetizacion'] = df_desarrollo['Tasa_Alfabetizacion'].fillna(mediana_tasa)\n",
    "\n",
    "df_desarrollo  #vemos que todos los elementos de la columna Tasa_Alfabetizacion son no nulos"
   ]
  },
  {
   "cell_type": "markdown",
   "id": "qo0004XubJuG",
   "metadata": {
    "id": "qo0004XubJuG"
   },
   "source": [
    "**6.1.** Crea una nueva columna llamada `PBI_Total_billones` que sea el resultado de multiplicar `PBI_per_capita` por `Poblacion_millones` y dividirlo entre 1000.\n",
    "\n",
    "**6.2.** Muestra el DataFrame con la nueva columna."
   ]
  },
  {
   "cell_type": "code",
   "execution_count": 15,
   "id": "ZVX-OPAybJuG",
   "metadata": {
    "colab": {
     "base_uri": "https://localhost:8080/",
     "height": 363
    },
    "id": "ZVX-OPAybJuG",
    "outputId": "773eea18-d02a-4a53-881e-6f876e8825dd",
    "tags": []
   },
   "outputs": [
    {
     "data": {
      "text/html": [
       "<div>\n",
       "<style scoped>\n",
       "    .dataframe tbody tr th:only-of-type {\n",
       "        vertical-align: middle;\n",
       "    }\n",
       "\n",
       "    .dataframe tbody tr th {\n",
       "        vertical-align: top;\n",
       "    }\n",
       "\n",
       "    .dataframe thead th {\n",
       "        text-align: right;\n",
       "    }\n",
       "</style>\n",
       "<table border=\"1\" class=\"dataframe\">\n",
       "  <thead>\n",
       "    <tr style=\"text-align: right;\">\n",
       "      <th></th>\n",
       "      <th>Pais</th>\n",
       "      <th>Continente</th>\n",
       "      <th>Poblacion_millones</th>\n",
       "      <th>PBI_per_capita</th>\n",
       "      <th>Esperanza_de_vida</th>\n",
       "      <th>Indice_Gini</th>\n",
       "      <th>Tasa_Alfabetizacion</th>\n",
       "      <th>Crecimiento_Anual_PBI</th>\n",
       "      <th>PBI_Total_billones</th>\n",
       "    </tr>\n",
       "  </thead>\n",
       "  <tbody>\n",
       "    <tr>\n",
       "      <th>0</th>\n",
       "      <td>Perú</td>\n",
       "      <td>Sudamérica</td>\n",
       "      <td>33.0</td>\n",
       "      <td>7020</td>\n",
       "      <td>76.5</td>\n",
       "      <td>41.5</td>\n",
       "      <td>94.4</td>\n",
       "      <td>1.1</td>\n",
       "      <td>2316.600</td>\n",
       "    </tr>\n",
       "    <tr>\n",
       "      <th>1</th>\n",
       "      <td>Argentina</td>\n",
       "      <td>Sudamérica</td>\n",
       "      <td>45.2</td>\n",
       "      <td>9912</td>\n",
       "      <td>76.7</td>\n",
       "      <td>42.9</td>\n",
       "      <td>99.0</td>\n",
       "      <td>-2.0</td>\n",
       "      <td>4480.224</td>\n",
       "    </tr>\n",
       "    <tr>\n",
       "      <th>2</th>\n",
       "      <td>Chile</td>\n",
       "      <td>Sudamérica</td>\n",
       "      <td>19.5</td>\n",
       "      <td>15000</td>\n",
       "      <td>80.5</td>\n",
       "      <td>44.4</td>\n",
       "      <td>99.4</td>\n",
       "      <td>2.5</td>\n",
       "      <td>2925.000</td>\n",
       "    </tr>\n",
       "    <tr>\n",
       "      <th>3</th>\n",
       "      <td>Colombia</td>\n",
       "      <td>Sudamérica</td>\n",
       "      <td>51.0</td>\n",
       "      <td>6500</td>\n",
       "      <td>77.3</td>\n",
       "      <td>51.3</td>\n",
       "      <td>95.1</td>\n",
       "      <td>3.0</td>\n",
       "      <td>3315.000</td>\n",
       "    </tr>\n",
       "    <tr>\n",
       "      <th>4</th>\n",
       "      <td>Brasil</td>\n",
       "      <td>Sudamérica</td>\n",
       "      <td>212.6</td>\n",
       "      <td>8717</td>\n",
       "      <td>75.9</td>\n",
       "      <td>53.9</td>\n",
       "      <td>93.2</td>\n",
       "      <td>1.4</td>\n",
       "      <td>18532.342</td>\n",
       "    </tr>\n",
       "    <tr>\n",
       "      <th>5</th>\n",
       "      <td>México</td>\n",
       "      <td>Norteamérica</td>\n",
       "      <td>128.9</td>\n",
       "      <td>9863</td>\n",
       "      <td>75.0</td>\n",
       "      <td>45.4</td>\n",
       "      <td>95.4</td>\n",
       "      <td>2.1</td>\n",
       "      <td>12713.407</td>\n",
       "    </tr>\n",
       "    <tr>\n",
       "      <th>6</th>\n",
       "      <td>Uruguay</td>\n",
       "      <td>Sudamérica</td>\n",
       "      <td>3.5</td>\n",
       "      <td>16190</td>\n",
       "      <td>77.9</td>\n",
       "      <td>39.7</td>\n",
       "      <td>98.4</td>\n",
       "      <td>2.0</td>\n",
       "      <td>566.650</td>\n",
       "    </tr>\n",
       "    <tr>\n",
       "      <th>7</th>\n",
       "      <td>España</td>\n",
       "      <td>Europa</td>\n",
       "      <td>47.4</td>\n",
       "      <td>29600</td>\n",
       "      <td>83.6</td>\n",
       "      <td>34.7</td>\n",
       "      <td>98.4</td>\n",
       "      <td>2.5</td>\n",
       "      <td>14030.400</td>\n",
       "    </tr>\n",
       "    <tr>\n",
       "      <th>8</th>\n",
       "      <td>Canadá</td>\n",
       "      <td>Norteamérica</td>\n",
       "      <td>38.0</td>\n",
       "      <td>46194</td>\n",
       "      <td>82.3</td>\n",
       "      <td>33.3</td>\n",
       "      <td>99.0</td>\n",
       "      <td>1.9</td>\n",
       "      <td>17553.720</td>\n",
       "    </tr>\n",
       "    <tr>\n",
       "      <th>9</th>\n",
       "      <td>Japón</td>\n",
       "      <td>Asia</td>\n",
       "      <td>125.8</td>\n",
       "      <td>40700</td>\n",
       "      <td>84.6</td>\n",
       "      <td>32.9</td>\n",
       "      <td>99.0</td>\n",
       "      <td>0.8</td>\n",
       "      <td>51200.600</td>\n",
       "    </tr>\n",
       "  </tbody>\n",
       "</table>\n",
       "</div>"
      ],
      "text/plain": [
       "        Pais    Continente  Poblacion_millones  PBI_per_capita  \\\n",
       "0       Perú    Sudamérica                33.0            7020   \n",
       "1  Argentina    Sudamérica                45.2            9912   \n",
       "2      Chile    Sudamérica                19.5           15000   \n",
       "3   Colombia    Sudamérica                51.0            6500   \n",
       "4     Brasil    Sudamérica               212.6            8717   \n",
       "5     México  Norteamérica               128.9            9863   \n",
       "6    Uruguay    Sudamérica                 3.5           16190   \n",
       "7     España        Europa                47.4           29600   \n",
       "8     Canadá  Norteamérica                38.0           46194   \n",
       "9      Japón          Asia               125.8           40700   \n",
       "\n",
       "   Esperanza_de_vida  Indice_Gini  Tasa_Alfabetizacion  Crecimiento_Anual_PBI  \\\n",
       "0               76.5         41.5                 94.4                    1.1   \n",
       "1               76.7         42.9                 99.0                   -2.0   \n",
       "2               80.5         44.4                 99.4                    2.5   \n",
       "3               77.3         51.3                 95.1                    3.0   \n",
       "4               75.9         53.9                 93.2                    1.4   \n",
       "5               75.0         45.4                 95.4                    2.1   \n",
       "6               77.9         39.7                 98.4                    2.0   \n",
       "7               83.6         34.7                 98.4                    2.5   \n",
       "8               82.3         33.3                 99.0                    1.9   \n",
       "9               84.6         32.9                 99.0                    0.8   \n",
       "\n",
       "   PBI_Total_billones  \n",
       "0            2316.600  \n",
       "1            4480.224  \n",
       "2            2925.000  \n",
       "3            3315.000  \n",
       "4           18532.342  \n",
       "5           12713.407  \n",
       "6             566.650  \n",
       "7           14030.400  \n",
       "8           17553.720  \n",
       "9           51200.600  "
      ]
     },
     "execution_count": 15,
     "metadata": {},
     "output_type": "execute_result"
    }
   ],
   "source": [
    "# 6.1: Creamos la nueva columna\n",
    "df_desarrollo[ 'PBI_Total_billones' ] = (df_desarrollo[ 'PBI_per_capita' ]*df_desarrollo[ 'Poblacion_millones' ])/100\n",
    "\n",
    "# 6.2: Nuevo DataFrame:\n",
    "df_desarrollo"
   ]
  },
  {
   "cell_type": "markdown",
   "id": "t8u-hYwUbJuG",
   "metadata": {
    "id": "t8u-hYwUbJuG"
   },
   "source": [
    "**7.** Crea una nueva columna condicional `Categoria_Desarrollo`. Clasifica a los países según las siguientes reglas:\n",
    "- 'Alto': Si `Esperanza_de_vida` > 80 Y `PBI_per_capita` > 25000.\n",
    "- 'Medio-Alto': Si `Esperanza_de_vida` > 76 Y `PBI_per_capita` > 8000.\n",
    "- 'Medio': Para todos los demás casos."
   ]
  },
  {
   "cell_type": "code",
   "execution_count": 16,
   "id": "VXJB6DAubJuG",
   "metadata": {
    "id": "VXJB6DAubJuG",
    "tags": []
   },
   "outputs": [
    {
     "name": "stdout",
     "output_type": "stream",
     "text": [
      "        Pais  Esperanza_de_vida  PBI_per_capita Categoria_Desarrollo\n",
      "0       Perú               76.5            7020                Medio\n",
      "1  Argentina               76.7            9912           Medio-Alto\n",
      "2      Chile               80.5           15000           Medio-Alto\n",
      "3   Colombia               77.3            6500                Medio\n",
      "4     Brasil               75.9            8717                Medio\n",
      "5     México               75.0            9863                Medio\n",
      "6    Uruguay               77.9           16190           Medio-Alto\n",
      "7     España               83.6           29600                 Alto\n",
      "8     Canadá               82.3           46194                 Alto\n",
      "9      Japón               84.6           40700                 Alto\n"
     ]
    }
   ],
   "source": [
    "#Definimos las reglas para la nueva columna\n",
    "reglas = [\n",
    "    (df_desarrollo['Esperanza_de_vida'] > 80) & (df_desarrollo['PBI_per_capita'] > 25000),\n",
    "    (df_desarrollo['Esperanza_de_vida'] > 76) & (df_desarrollo['PBI_per_capita'] > 8000)\n",
    "]\n",
    "\n",
    "#Definimos los resultados para cada condición\n",
    "categorias = ['Alto', 'Medio-Alto']\n",
    "\n",
    "#Creamos la nueva columna con np.select\n",
    "df_desarrollo['Categoria_Desarrollo'] = np.select(reglas, categorias, default='Medio')\n",
    "\n",
    "#Vemos los resultados\n",
    "print(df_desarrollo[['Pais', 'Esperanza_de_vida', 'PBI_per_capita', 'Categoria_Desarrollo']])"
   ]
  },
  {
   "cell_type": "markdown",
   "id": "2CjwamlPbJuG",
   "metadata": {
    "id": "2CjwamlPbJuG"
   },
   "source": [
    "**8.1.** Filtra el DataFrame para encontrar los países de 'Sudamérica' con un `Indice_Gini` menor a 45.\n",
    "\n",
    "**8.2.** Ordena el resultado del filtro anterior por `PBI_per_capita` de forma descendente."
   ]
  },
  {
   "cell_type": "code",
   "execution_count": 17,
   "id": "KcaeffT-bJuG",
   "metadata": {
    "id": "KcaeffT-bJuG",
    "tags": []
   },
   "outputs": [
    {
     "data": {
      "text/html": [
       "<div>\n",
       "<style scoped>\n",
       "    .dataframe tbody tr th:only-of-type {\n",
       "        vertical-align: middle;\n",
       "    }\n",
       "\n",
       "    .dataframe tbody tr th {\n",
       "        vertical-align: top;\n",
       "    }\n",
       "\n",
       "    .dataframe thead th {\n",
       "        text-align: right;\n",
       "    }\n",
       "</style>\n",
       "<table border=\"1\" class=\"dataframe\">\n",
       "  <thead>\n",
       "    <tr style=\"text-align: right;\">\n",
       "      <th></th>\n",
       "      <th>Pais</th>\n",
       "      <th>Continente</th>\n",
       "      <th>Poblacion_millones</th>\n",
       "      <th>PBI_per_capita</th>\n",
       "      <th>Esperanza_de_vida</th>\n",
       "      <th>Indice_Gini</th>\n",
       "      <th>Tasa_Alfabetizacion</th>\n",
       "      <th>Crecimiento_Anual_PBI</th>\n",
       "      <th>PBI_Total_billones</th>\n",
       "      <th>Categoria_Desarrollo</th>\n",
       "    </tr>\n",
       "  </thead>\n",
       "  <tbody>\n",
       "    <tr>\n",
       "      <th>0</th>\n",
       "      <td>Perú</td>\n",
       "      <td>Sudamérica</td>\n",
       "      <td>33.0</td>\n",
       "      <td>7020</td>\n",
       "      <td>76.5</td>\n",
       "      <td>41.5</td>\n",
       "      <td>94.4</td>\n",
       "      <td>1.1</td>\n",
       "      <td>2316.600</td>\n",
       "      <td>Medio</td>\n",
       "    </tr>\n",
       "    <tr>\n",
       "      <th>1</th>\n",
       "      <td>Argentina</td>\n",
       "      <td>Sudamérica</td>\n",
       "      <td>45.2</td>\n",
       "      <td>9912</td>\n",
       "      <td>76.7</td>\n",
       "      <td>42.9</td>\n",
       "      <td>99.0</td>\n",
       "      <td>-2.0</td>\n",
       "      <td>4480.224</td>\n",
       "      <td>Medio-Alto</td>\n",
       "    </tr>\n",
       "    <tr>\n",
       "      <th>2</th>\n",
       "      <td>Chile</td>\n",
       "      <td>Sudamérica</td>\n",
       "      <td>19.5</td>\n",
       "      <td>15000</td>\n",
       "      <td>80.5</td>\n",
       "      <td>44.4</td>\n",
       "      <td>99.4</td>\n",
       "      <td>2.5</td>\n",
       "      <td>2925.000</td>\n",
       "      <td>Medio-Alto</td>\n",
       "    </tr>\n",
       "    <tr>\n",
       "      <th>6</th>\n",
       "      <td>Uruguay</td>\n",
       "      <td>Sudamérica</td>\n",
       "      <td>3.5</td>\n",
       "      <td>16190</td>\n",
       "      <td>77.9</td>\n",
       "      <td>39.7</td>\n",
       "      <td>98.4</td>\n",
       "      <td>2.0</td>\n",
       "      <td>566.650</td>\n",
       "      <td>Medio-Alto</td>\n",
       "    </tr>\n",
       "  </tbody>\n",
       "</table>\n",
       "</div>"
      ],
      "text/plain": [
       "        Pais  Continente  Poblacion_millones  PBI_per_capita  \\\n",
       "0       Perú  Sudamérica                33.0            7020   \n",
       "1  Argentina  Sudamérica                45.2            9912   \n",
       "2      Chile  Sudamérica                19.5           15000   \n",
       "6    Uruguay  Sudamérica                 3.5           16190   \n",
       "\n",
       "   Esperanza_de_vida  Indice_Gini  Tasa_Alfabetizacion  Crecimiento_Anual_PBI  \\\n",
       "0               76.5         41.5                 94.4                    1.1   \n",
       "1               76.7         42.9                 99.0                   -2.0   \n",
       "2               80.5         44.4                 99.4                    2.5   \n",
       "6               77.9         39.7                 98.4                    2.0   \n",
       "\n",
       "   PBI_Total_billones Categoria_Desarrollo  \n",
       "0            2316.600                Medio  \n",
       "1            4480.224           Medio-Alto  \n",
       "2            2925.000           Medio-Alto  \n",
       "6             566.650           Medio-Alto  "
      ]
     },
     "execution_count": 17,
     "metadata": {},
     "output_type": "execute_result"
    }
   ],
   "source": [
    "# 8.1.Filtramos los países de Sudamérica con Indice_Gini < 45\n",
    "filtro = (df_desarrollo['Continente'] == 'Sudamérica') & (df_desarrollo['Indice_Gini'] < 45)\n",
    "\n",
    "sudamerica_filtrada = df_desarrollo[filtro]\n",
    "\n",
    "sudamerica_filtrada"
   ]
  },
  {
   "cell_type": "code",
   "execution_count": 18,
   "id": "737e04de-437b-49dd-94d5-d34cebc10ec7",
   "metadata": {
    "tags": []
   },
   "outputs": [
    {
     "data": {
      "text/html": [
       "<div>\n",
       "<style scoped>\n",
       "    .dataframe tbody tr th:only-of-type {\n",
       "        vertical-align: middle;\n",
       "    }\n",
       "\n",
       "    .dataframe tbody tr th {\n",
       "        vertical-align: top;\n",
       "    }\n",
       "\n",
       "    .dataframe thead th {\n",
       "        text-align: right;\n",
       "    }\n",
       "</style>\n",
       "<table border=\"1\" class=\"dataframe\">\n",
       "  <thead>\n",
       "    <tr style=\"text-align: right;\">\n",
       "      <th></th>\n",
       "      <th>Pais</th>\n",
       "      <th>Continente</th>\n",
       "      <th>Poblacion_millones</th>\n",
       "      <th>PBI_per_capita</th>\n",
       "      <th>Esperanza_de_vida</th>\n",
       "      <th>Indice_Gini</th>\n",
       "      <th>Tasa_Alfabetizacion</th>\n",
       "      <th>Crecimiento_Anual_PBI</th>\n",
       "      <th>PBI_Total_billones</th>\n",
       "      <th>Categoria_Desarrollo</th>\n",
       "    </tr>\n",
       "  </thead>\n",
       "  <tbody>\n",
       "    <tr>\n",
       "      <th>6</th>\n",
       "      <td>Uruguay</td>\n",
       "      <td>Sudamérica</td>\n",
       "      <td>3.5</td>\n",
       "      <td>16190</td>\n",
       "      <td>77.9</td>\n",
       "      <td>39.7</td>\n",
       "      <td>98.4</td>\n",
       "      <td>2.0</td>\n",
       "      <td>566.650</td>\n",
       "      <td>Medio-Alto</td>\n",
       "    </tr>\n",
       "    <tr>\n",
       "      <th>2</th>\n",
       "      <td>Chile</td>\n",
       "      <td>Sudamérica</td>\n",
       "      <td>19.5</td>\n",
       "      <td>15000</td>\n",
       "      <td>80.5</td>\n",
       "      <td>44.4</td>\n",
       "      <td>99.4</td>\n",
       "      <td>2.5</td>\n",
       "      <td>2925.000</td>\n",
       "      <td>Medio-Alto</td>\n",
       "    </tr>\n",
       "    <tr>\n",
       "      <th>1</th>\n",
       "      <td>Argentina</td>\n",
       "      <td>Sudamérica</td>\n",
       "      <td>45.2</td>\n",
       "      <td>9912</td>\n",
       "      <td>76.7</td>\n",
       "      <td>42.9</td>\n",
       "      <td>99.0</td>\n",
       "      <td>-2.0</td>\n",
       "      <td>4480.224</td>\n",
       "      <td>Medio-Alto</td>\n",
       "    </tr>\n",
       "    <tr>\n",
       "      <th>0</th>\n",
       "      <td>Perú</td>\n",
       "      <td>Sudamérica</td>\n",
       "      <td>33.0</td>\n",
       "      <td>7020</td>\n",
       "      <td>76.5</td>\n",
       "      <td>41.5</td>\n",
       "      <td>94.4</td>\n",
       "      <td>1.1</td>\n",
       "      <td>2316.600</td>\n",
       "      <td>Medio</td>\n",
       "    </tr>\n",
       "  </tbody>\n",
       "</table>\n",
       "</div>"
      ],
      "text/plain": [
       "        Pais  Continente  Poblacion_millones  PBI_per_capita  \\\n",
       "6    Uruguay  Sudamérica                 3.5           16190   \n",
       "2      Chile  Sudamérica                19.5           15000   \n",
       "1  Argentina  Sudamérica                45.2            9912   \n",
       "0       Perú  Sudamérica                33.0            7020   \n",
       "\n",
       "   Esperanza_de_vida  Indice_Gini  Tasa_Alfabetizacion  Crecimiento_Anual_PBI  \\\n",
       "6               77.9         39.7                 98.4                    2.0   \n",
       "2               80.5         44.4                 99.4                    2.5   \n",
       "1               76.7         42.9                 99.0                   -2.0   \n",
       "0               76.5         41.5                 94.4                    1.1   \n",
       "\n",
       "   PBI_Total_billones Categoria_Desarrollo  \n",
       "6             566.650           Medio-Alto  \n",
       "2            2925.000           Medio-Alto  \n",
       "1            4480.224           Medio-Alto  \n",
       "0            2316.600                Medio  "
      ]
     },
     "execution_count": 18,
     "metadata": {},
     "output_type": "execute_result"
    }
   ],
   "source": [
    "# 8.2.Ordenamos lo anterior por PBI_per_capita de forma descendente\n",
    "sudamerica_ordenada = sudamerica_filtrada.sort_values(by='PBI_per_capita', ascending=False)\n",
    "\n",
    "sudamerica_ordenada"
   ]
  },
  {
   "cell_type": "markdown",
   "id": "5GGM9kLgbJuH",
   "metadata": {
    "id": "5GGM9kLgbJuH"
   },
   "source": [
    "**9.** Utilizando `groupby()`, calcula para cada `Continente`:\n",
    "- La **media** de `Esperanza_de_vida`.\n",
    "- El **máximo** de `Indice_Gini`.\n",
    "- El **conteo** de países."
   ]
  },
  {
   "cell_type": "code",
   "execution_count": 19,
   "id": "SnoAgW2LbJuH",
   "metadata": {
    "id": "SnoAgW2LbJuH",
    "tags": []
   },
   "outputs": [
    {
     "name": "stdout",
     "output_type": "stream",
     "text": [
      "medias\n",
      "              Esperanza_de_vida  PBI_per_capita  Indice_Gini\n",
      "Continente                                                  \n",
      "Asia                  84.600000         40700.0    32.900000\n",
      "Europa                83.600000         29600.0    34.700000\n",
      "Norteamérica          78.650000         28028.5    39.350000\n",
      "Sudamérica            77.466667         10556.5    45.616667\n"
     ]
    }
   ],
   "source": [
    "# Agrupamos por continente y calculamos la media de algunas columnas\n",
    "resumen_continente = df_desarrollo.groupby(\"Continente\").agg({\n",
    "    \"Esperanza_de_vida\": \"mean\",\n",
    "    \"PBI_per_capita\": \"mean\",\n",
    "    \"Indice_Gini\": \"mean\"\n",
    "})\n",
    "\n",
    "print(\"medias\")\n",
    "print(resumen_continente)"
   ]
  },
  {
   "cell_type": "markdown",
   "id": "NJNCKZYxbJuH",
   "metadata": {
    "id": "NJNCKZYxbJuH"
   },
   "source": [
    "## Sección 3: Visualización de Datos"
   ]
  },
  {
   "cell_type": "markdown",
   "id": "oqRrTvFVbJuH",
   "metadata": {
    "id": "oqRrTvFVbJuH"
   },
   "source": [
    "**10.** Crea un gráfico de barras horizontales (`barh`) que muestre el `Indice_Gini` de cada país. Ordena los países de menor a mayor desigualdad (Gini) para una mejor visualización. Asegúrate de que el gráfico tenga un título y etiquetas adecuadas."
   ]
  },
  {
   "cell_type": "code",
   "execution_count": 20,
   "id": "UoyxHvhjbJuH",
   "metadata": {
    "colab": {
     "base_uri": "https://localhost:8080/",
     "height": 567
    },
    "id": "UoyxHvhjbJuH",
    "outputId": "dba4d9ae-e52c-40d5-f2fe-2d82402f3ee7",
    "tags": []
   },
   "outputs": [
    {
     "data": {
      "image/png": "[encoded data removed]",
      "text/plain": [
       "<Figure size 1000x600 with 1 Axes>"
      ]
     },
     "metadata": {},
     "output_type": "display_data"
    }
   ],
   "source": [
    "import matplotlib.pyplot as plt\n",
    "\n",
    "df_1 = df_desarrollo.sort_values(by='Indice_Gini', ascending=True)\n",
    "fig, ax = plt.subplots(figsize=(10, 6))\n",
    "ax.barh(df_1['Pais'], df_1['Indice_Gini'], color='darkblue')\n",
    "ax.set_xlabel('Índice de Gini')\n",
    "ax.set_ylabel('País')\n",
    "ax.set_title('Índice de Gini por país (menor a mayor desigualdad)')\n",
    "plt.show()"
   ]
  },
  {
   "cell_type": "markdown",
   "id": "Ycs_GpmrbJuH",
   "metadata": {
    "id": "Ycs_GpmrbJuH"
   },
   "source": [
    "**11.1.** Genera un gráfico de dispersión (scatter plot) para explorar la relación entre el `PBI_per_capita` (eje X) y la `Esperanza_de_vida` (eje Y).\n",
    "\n",
    "**11.2.** Modifica el gráfico anterior para que el color de cada punto represente su `Continente`. (Pista: puedes crear un diccionario que mapee continentes a colores, por ejemplo: `{'Sudamérica': 'blue', ...}`).\n",
    "\n",
    "**11.3.** **Interpretación:** ¿Qué te dice este gráfico sobre la relación entre PBI y esperanza de vida? ¿Observas alguna agrupación por continentes?"
   ]
  },
  {
   "cell_type": "code",
   "execution_count": 21,
   "id": "ykNgEk1xbJuH",
   "metadata": {
    "colab": {
     "base_uri": "https://localhost:8080/",
     "height": 565
    },
    "id": "ykNgEk1xbJuH",
    "outputId": "be97edbc-d0f8-4fe6-bd4c-c3b1fe5e4f7c",
    "tags": []
   },
   "outputs": [
    {
     "data": {
      "image/png": "[encoded data removed]",
      "text/plain": [
       "<Figure size 1000x600 with 1 Axes>"
      ]
     },
     "metadata": {},
     "output_type": "display_data"
    }
   ],
   "source": [
    "# 11.1: Gráfico de dispersión\n",
    "fig, ax = plt.subplots(figsize=(10, 6))\n",
    "ax.scatter(df_desarrollo['PBI_per_capita'], df_desarrollo['Esperanza_de_vida'], color='darkblue')\n",
    "ax.set_title('Relación entre PBI per capita y la esperanza de vida')\n",
    "ax.set_xlabel('PBI per capita')\n",
    "ax.set_ylabel('Esperanza de vida')\n",
    "plt.show()"
   ]
  },
  {
   "cell_type": "code",
   "execution_count": 22,
   "id": "3CJnMV8zmRuP",
   "metadata": {
    "colab": {
     "base_uri": "https://localhost:8080/",
     "height": 565
    },
    "id": "3CJnMV8zmRuP",
    "outputId": "ece9ccd3-b919-447f-fe41-807b26857595",
    "tags": []
   },
   "outputs": [
    {
     "data": {
      "image/png": "[encoded data removed]",
      "text/plain": [
       "<Figure size 1000x600 with 1 Axes>"
      ]
     },
     "metadata": {},
     "output_type": "display_data"
    }
   ],
   "source": [
    "# 11.2:\n",
    "# Diccionario\n",
    "colores_mapa = { \"Sudamérica\": \"blue\", \"Europa\": \"green\", \"Asia\": \"orange\", \"Norteamérica\": \"red\"}\n",
    "# Modificación del gráfico\n",
    "fig, ax = plt.subplots(figsize=(10, 6))\n",
    "ax.scatter(df_desarrollo['PBI_per_capita'], df_desarrollo['Esperanza_de_vida'], color=df_desarrollo[\"Continente\"].map(colores_mapa))\n",
    "ax.set_title('Relación entre PBI per capita y la esperanza de vida')\n",
    "ax.set_xlabel('PBI per capita')\n",
    "ax.set_ylabel('Esperanza de vida')\n",
    "plt.show()"
   ]
  },
  {
   "cell_type": "markdown",
   "id": "185bbc38-aa1e-4af7-9978-2994ef85e7aa",
   "metadata": {
    "id": "zyvV_QzDbJuH"
   },
   "source": [
    "**11.3.¿Qué te dice este gráfico sobre la relación entre PBI y esperanza de vida? ¿Observas alguna agrupación por continentes?**\n",
    "\n",
    "El gráfico de disperción nos dice que a mayor PBI per cápita, mayor esperanza de vida (existe una relación positiva).\n",
    "En cuanto a la agrupación de continentes, se puede apreciar que en su mayoría los países sudamericanos se concentran en la zona baja de ambos ejes"
   ]
  },
  {
   "cell_type": "markdown",
   "id": "Wi51SLJWbJuH",
   "metadata": {
    "id": "Wi51SLJWbJuH"
   },
   "source": [
    "**12.** Crea un histograma de la `Tasa_Alfabetizacion`. Añade una línea vertical roja que represente la media de esta tasa."
   ]
  },
  {
   "cell_type": "code",
   "execution_count": 23,
   "id": "kTHwpTlNbJuI",
   "metadata": {
    "colab": {
     "base_uri": "https://localhost:8080/",
     "height": 565
    },
    "id": "kTHwpTlNbJuI",
    "outputId": "e56cd8e2-fe3e-4aaa-f2e4-9e5c88fe2590",
    "tags": []
   },
   "outputs": [
    {
     "data": {
      "image/png": "[encoded data removed]",
      "text/plain": [
       "<Figure size 800x600 with 1 Axes>"
      ]
     },
     "metadata": {},
     "output_type": "display_data"
    }
   ],
   "source": [
    "# Crear histograma\n",
    "fig, ax = plt.subplots(figsize=(8, 6))\n",
    "ax.hist(x=df_desarrollo['Tasa_Alfabetizacion'], bins=10, color='darkblue')\n",
    "ax.set_title('Distribución de la tasa de Alfabetización')\n",
    "ax.set_xlabel('Tasa de Alfabetización en porcentaje')\n",
    "ax.set_ylabel('Frecuencia')\n",
    "\n",
    "# Media y línea roja\n",
    "ax.axvline(df_desarrollo['Tasa_Alfabetizacion'].mean(), color='red')\n",
    "plt.show()"
   ]
  },
  {
   "cell_type": "markdown",
   "id": "5Rlsc-hNbJuI",
   "metadata": {
    "id": "5Rlsc-hNbJuI"
   },
   "source": [
    "## Sección 4: Estadística y Síntesis"
   ]
  },
  {
   "cell_type": "markdown",
   "id": "4Pd-42lrbJuI",
   "metadata": {
    "id": "4Pd-42lrbJuI"
   },
   "source": [
    "**13.** Muestra un resumen estadístico completo de las columnas numéricas del DataFrame."
   ]
  },
  {
   "cell_type": "code",
   "execution_count": 24,
   "id": "Q3OHpdjgbJuI",
   "metadata": {
    "colab": {
     "base_uri": "https://localhost:8080/",
     "height": 300
    },
    "id": "Q3OHpdjgbJuI",
    "outputId": "bda3082f-c234-45cc-941f-94177dd18400",
    "tags": []
   },
   "outputs": [
    {
     "data": {
      "text/html": [
       "<div>\n",
       "<style scoped>\n",
       "    .dataframe tbody tr th:only-of-type {\n",
       "        vertical-align: middle;\n",
       "    }\n",
       "\n",
       "    .dataframe tbody tr th {\n",
       "        vertical-align: top;\n",
       "    }\n",
       "\n",
       "    .dataframe thead th {\n",
       "        text-align: right;\n",
       "    }\n",
       "</style>\n",
       "<table border=\"1\" class=\"dataframe\">\n",
       "  <thead>\n",
       "    <tr style=\"text-align: right;\">\n",
       "      <th></th>\n",
       "      <th>Poblacion_millones</th>\n",
       "      <th>PBI_per_capita</th>\n",
       "      <th>Esperanza_de_vida</th>\n",
       "      <th>Indice_Gini</th>\n",
       "      <th>Tasa_Alfabetizacion</th>\n",
       "      <th>Crecimiento_Anual_PBI</th>\n",
       "      <th>PBI_Total_billones</th>\n",
       "    </tr>\n",
       "  </thead>\n",
       "  <tbody>\n",
       "    <tr>\n",
       "      <th>count</th>\n",
       "      <td>10.000000</td>\n",
       "      <td>10.000000</td>\n",
       "      <td>10.000000</td>\n",
       "      <td>10.000000</td>\n",
       "      <td>10.000000</td>\n",
       "      <td>10.000000</td>\n",
       "      <td>10.000000</td>\n",
       "    </tr>\n",
       "    <tr>\n",
       "      <th>mean</th>\n",
       "      <td>70.490000</td>\n",
       "      <td>18969.600000</td>\n",
       "      <td>79.030000</td>\n",
       "      <td>42.000000</td>\n",
       "      <td>97.130000</td>\n",
       "      <td>1.530000</td>\n",
       "      <td>12763.394300</td>\n",
       "    </tr>\n",
       "    <tr>\n",
       "      <th>std</th>\n",
       "      <td>64.779548</td>\n",
       "      <td>14599.229418</td>\n",
       "      <td>3.446431</td>\n",
       "      <td>7.176815</td>\n",
       "      <td>2.330498</td>\n",
       "      <td>1.411107</td>\n",
       "      <td>15084.310142</td>\n",
       "    </tr>\n",
       "    <tr>\n",
       "      <th>min</th>\n",
       "      <td>3.500000</td>\n",
       "      <td>6500.000000</td>\n",
       "      <td>75.000000</td>\n",
       "      <td>32.900000</td>\n",
       "      <td>93.200000</td>\n",
       "      <td>-2.000000</td>\n",
       "      <td>566.650000</td>\n",
       "    </tr>\n",
       "    <tr>\n",
       "      <th>25%</th>\n",
       "      <td>34.250000</td>\n",
       "      <td>9003.500000</td>\n",
       "      <td>76.550000</td>\n",
       "      <td>35.950000</td>\n",
       "      <td>95.175000</td>\n",
       "      <td>1.175000</td>\n",
       "      <td>3022.500000</td>\n",
       "    </tr>\n",
       "    <tr>\n",
       "      <th>50%</th>\n",
       "      <td>46.300000</td>\n",
       "      <td>12456.000000</td>\n",
       "      <td>77.600000</td>\n",
       "      <td>42.200000</td>\n",
       "      <td>98.400000</td>\n",
       "      <td>1.950000</td>\n",
       "      <td>8596.815500</td>\n",
       "    </tr>\n",
       "    <tr>\n",
       "      <th>75%</th>\n",
       "      <td>107.100000</td>\n",
       "      <td>26247.500000</td>\n",
       "      <td>81.850000</td>\n",
       "      <td>45.150000</td>\n",
       "      <td>99.000000</td>\n",
       "      <td>2.400000</td>\n",
       "      <td>16672.890000</td>\n",
       "    </tr>\n",
       "    <tr>\n",
       "      <th>max</th>\n",
       "      <td>212.600000</td>\n",
       "      <td>46194.000000</td>\n",
       "      <td>84.600000</td>\n",
       "      <td>53.900000</td>\n",
       "      <td>99.400000</td>\n",
       "      <td>3.000000</td>\n",
       "      <td>51200.600000</td>\n",
       "    </tr>\n",
       "  </tbody>\n",
       "</table>\n",
       "</div>"
      ],
      "text/plain": [
       "       Poblacion_millones  PBI_per_capita  Esperanza_de_vida  Indice_Gini  \\\n",
       "count           10.000000       10.000000          10.000000    10.000000   \n",
       "mean            70.490000    18969.600000          79.030000    42.000000   \n",
       "std             64.779548    14599.229418           3.446431     7.176815   \n",
       "min              3.500000     6500.000000          75.000000    32.900000   \n",
       "25%             34.250000     9003.500000          76.550000    35.950000   \n",
       "50%             46.300000    12456.000000          77.600000    42.200000   \n",
       "75%            107.100000    26247.500000          81.850000    45.150000   \n",
       "max            212.600000    46194.000000          84.600000    53.900000   \n",
       "\n",
       "       Tasa_Alfabetizacion  Crecimiento_Anual_PBI  PBI_Total_billones  \n",
       "count            10.000000              10.000000           10.000000  \n",
       "mean             97.130000               1.530000        12763.394300  \n",
       "std               2.330498               1.411107        15084.310142  \n",
       "min              93.200000              -2.000000          566.650000  \n",
       "25%              95.175000               1.175000         3022.500000  \n",
       "50%              98.400000               1.950000         8596.815500  \n",
       "75%              99.000000               2.400000        16672.890000  \n",
       "max              99.400000               3.000000        51200.600000  "
      ]
     },
     "execution_count": 24,
     "metadata": {},
     "output_type": "execute_result"
    }
   ],
   "source": [
    "df_desarrollo.describe()"
   ]
  },
  {
   "cell_type": "markdown",
   "id": "2JNprB4JbJuI",
   "metadata": {
    "id": "2JNprB4JbJuI"
   },
   "source": [
    "**14.1.** Calcula la matriz de correlación para las columnas numéricas del DataFrame.\n",
    "\n",
    "**14.2.** **Interpretación:** Identifica el par de variables con la correlación positiva más fuerte y el par con la correlación negativa más fuerte (excluyendo la correlación de una variable consigo misma). ¿Tienen sentido estos resultados en el mundo real?"
   ]
  },
  {
   "cell_type": "code",
   "execution_count": 25,
   "id": "VWZFMyjwbJuI",
   "metadata": {
    "id": "VWZFMyjwbJuI",
    "tags": []
   },
   "outputs": [
    {
     "name": "stdout",
     "output_type": "stream",
     "text": [
      "Matriz de correlación:\n",
      "                       Poblacion_millones  PBI_per_capita  Esperanza_de_vida  \\\n",
      "Poblacion_millones               1.000000       -0.071465          -0.196905   \n",
      "PBI_per_capita                  -0.071465        1.000000           0.878126   \n",
      "Esperanza_de_vida               -0.196905        0.878126           1.000000   \n",
      "Indice_Gini                      0.402474       -0.833999          -0.782716   \n",
      "Tasa_Alfabetizacion             -0.553755        0.619017           0.685751   \n",
      "Crecimiento_Anual_PBI           -0.078008        0.077061           0.167948   \n",
      "PBI_Total_billones               0.552849        0.661503           0.596495   \n",
      "\n",
      "                       Indice_Gini  Tasa_Alfabetizacion  \\\n",
      "Poblacion_millones        0.402474            -0.553755   \n",
      "PBI_per_capita           -0.833999             0.619017   \n",
      "Esperanza_de_vida        -0.782716             0.685751   \n",
      "Indice_Gini               1.000000            -0.720853   \n",
      "Tasa_Alfabetizacion      -0.720853             1.000000   \n",
      "Crecimiento_Anual_PBI     0.095342            -0.186808   \n",
      "PBI_Total_billones       -0.428900             0.171457   \n",
      "\n",
      "                       Crecimiento_Anual_PBI  PBI_Total_billones  \n",
      "Poblacion_millones                 -0.078008            0.552849  \n",
      "PBI_per_capita                      0.077061            0.661503  \n",
      "Esperanza_de_vida                   0.167948            0.596495  \n",
      "Indice_Gini                         0.095342           -0.428900  \n",
      "Tasa_Alfabetizacion                -0.186808            0.171457  \n",
      "Crecimiento_Anual_PBI               1.000000           -0.111026  \n",
      "PBI_Total_billones                 -0.111026            1.000000  \n"
     ]
    }
   ],
   "source": [
    "#14.1:\n",
    "matriz_correlacion = df_desarrollo.corr(numeric_only=True)\n",
    "print(\"Matriz de correlación:\")\n",
    "print(matriz_correlacion)"
   ]
  },
  {
   "cell_type": "code",
   "execution_count": 26,
   "id": "3467dd54-a815-470c-baac-96c5f622388f",
   "metadata": {
    "id": "VWZFMyjwbJuI",
    "tags": []
   },
   "outputs": [
    {
     "name": "stdout",
     "output_type": "stream",
     "text": [
      "\n",
      "Par con correlación positiva más fuerte:\n",
      "Variable_1        PBI_per_capita\n",
      "Variable_2     Esperanza_de_vida\n",
      "Correlacion             0.878126\n",
      "Name: 9, dtype: object\n",
      "\n",
      "Par con correlación negativa más fuerte:\n",
      "Variable_1     PBI_per_capita\n",
      "Variable_2        Indice_Gini\n",
      "Correlacion         -0.833999\n",
      "Name: 10, dtype: object\n"
     ]
    }
   ],
   "source": [
    "# 14.2\n",
    "correlaciones = matriz_correlacion.unstack().reset_index()\n",
    "correlaciones.columns = [\"Variable_1\", \"Variable_2\", \"Correlacion\"]\n",
    "\n",
    "# Eliminamos duplicados y hacemos las correlaciones\n",
    "correlaciones = correlaciones[correlaciones[\"Variable_1\"] != correlaciones[\"Variable_2\"]]\n",
    "correlaciones = correlaciones.drop_duplicates(subset=[\"Correlacion\"])\n",
    "\n",
    "# Mayor correlación positiva\n",
    "max_corr = correlaciones.loc[correlaciones[\"Correlacion\"].idxmax()]\n",
    "# Mayor correlación negativa\n",
    "min_corr = correlaciones.loc[correlaciones[\"Correlacion\"].idxmin()]\n",
    "\n",
    "print(\"\\nPar con correlación positiva más fuerte:\")\n",
    "print(max_corr)\n",
    "\n",
    "print(\"\\nPar con correlación negativa más fuerte:\")\n",
    "print(min_corr)"
   ]
  },
  {
   "cell_type": "markdown",
   "id": "J4p1wHTmbJuR",
   "metadata": {
    "id": "J4p1wHTmbJuR"
   },
   "source": [
    "*La correlación positiva más fuerte probablemente se dé entre PBI_per_capita y Esperanza_de_vida, lo que tiene sentido ya que, en general los países con mayor ingreso por habitante suelen invertir más en salud y calidad de vida.\n",
    "La correlación negativa más fuerte podría ser entre Indice_Gini y Esperanza_de_vida o entre Indice_Gini y PBI_per_capita, reflejando que una mayor desigualdad suele asociarse a peores indicadores sociales.*"
   ]
  },
  {
   "cell_type": "markdown",
   "id": "djfvVHMnbJuR",
   "metadata": {
    "id": "djfvVHMnbJuR"
   },
   "source": [
    "**15.** Basado en los datos, calcula la probabilidad de que un país seleccionado al azar sea de 'Sudamérica' Y tenga una `Categoria_Desarrollo` de 'Medio-Alto'."
   ]
  },
  {
   "cell_type": "code",
   "execution_count": 24,
   "id": "Lhog8Pi4bJuR",
   "metadata": {
    "id": "Lhog8Pi4bJuR",
    "tags": []
   },
   "outputs": [
    {
     "name": "stdout",
     "output_type": "stream",
     "text": [
      "0.3\n"
     ]
    }
   ],
   "source": [
    "# Filtramos las condiciones:\n",
    "condicion = (df_desarrollo[\"Continente\"] == \"Sudamérica\") & \\\n",
    "            (df_desarrollo[\"Categoria_Desarrollo\"] == \"Medio-Alto\")\n",
    "\n",
    "# Contamos cuántos cumplen:\n",
    "cumplen = df_desarrollo[condicion].shape[0]\n",
    "\n",
    "# Total de países en el DataFrame:\n",
    "total = df_desarrollo.shape[0]\n",
    "\n",
    "# Probabilidad:\n",
    "probabilidad = cumplen / total\n",
    "print(probabilidad)\n"
   ]
  }
 ],
 "metadata": {
  "colab": {
   "provenance": []
  },
  "kernelspec": {
   "display_name": "Python 3 (ipykernel)",
   "language": "python",
   "name": "python3"
  },
  "language_info": {
   "codemirror_mode": {
    "name": "ipython",
    "version": 3
   },
   "file_extension": ".py",
   "mimetype": "text/x-python",
   "name": "python",
   "nbconvert_exporter": "python",
   "pygments_lexer": "ipython3",
   "version": "3.11.5"
  }
 },
 "nbformat": 4,
 "nbformat_minor": 5
}
